{
  "cells": [
    {
      "cell_type": "markdown",
      "metadata": {
        "id": "9g-q03SxIv0h"
      },
      "source": [
        "# Importing packages"
      ]
    },
    {
      "cell_type": "code",
      "execution_count": 1,
      "metadata": {
        "id": "doQu9X6MIv0k"
      },
      "outputs": [],
      "source": [
        "import torch\n",
        "from torch_geometric.data import Data\n",
        "from torch_geometric.loader import DataLoader\n",
        "from torch_geometric.nn import radius_graph\n",
        "import enum\n",
        "import torch\n",
        "import torch.nn as nn\n",
        "import torch.nn.functional as F\n",
        "from torch_scatter import scatter_add\n",
        "from torch_geometric.utils import to_networkx\n",
        "import networkx as nx\n",
        "import matplotlib.pyplot as plt\n",
        "import numpy as np\n",
        "import os"
      ]
    },
    {
      "cell_type": "markdown",
      "metadata": {
        "id": "BRjUfEp8Iv0l"
      },
      "source": [
        "## Helper Functions"
      ]
    },
    {
      "cell_type": "code",
      "execution_count": 2,
      "metadata": {
        "id": "WiVhFr9rIv0m"
      },
      "outputs": [],
      "source": [
        "def decompose_graph(graph):\n",
        "    # graph: torch_geometric.data.data.Data\n",
        "    # TODO: make it more robust\n",
        "    x, edge_index, edge_attr, global_attr = None, None, None, None\n",
        "    for key in graph.keys():\n",
        "        if key==\"x\":\n",
        "            x = graph.x\n",
        "        elif key==\"edge_index\":\n",
        "            edge_index = graph.edge_index\n",
        "        elif key==\"edge_attr\":\n",
        "            edge_attr = graph.edge_attr\n",
        "        elif key==\"global_attr\":\n",
        "            global_attr = graph.global_attr\n",
        "        else:\n",
        "            pass\n",
        "    return (x, edge_index, edge_attr, global_attr)\n",
        "\n",
        "def copy_geometric_data(graph):\n",
        "    \"\"\"return a copy of torch_geometric.data.data.Data\n",
        "    This function should be carefully used based on\n",
        "    which keys in a given graph.\n",
        "    \"\"\"\n",
        "    node_attr, edge_index, edge_attr, global_attr = decompose_graph(graph)\n",
        "\n",
        "    ret = Data(x=node_attr, edge_index=edge_index, edge_attr=edge_attr)\n",
        "    ret.global_attr = global_attr\n",
        "\n",
        "    return ret"
      ]
    },
    {
      "cell_type": "code",
      "execution_count": 3,
      "metadata": {
        "id": "GZdfG_EbIv0m"
      },
      "outputs": [],
      "source": [
        "def build_mlp(in_size, hidden_size, out_size, lay_norm=True):\n",
        "\n",
        "    module = nn.Sequential(nn.Linear(in_size, hidden_size), nn.ReLU(), nn.Linear(hidden_size, hidden_size), nn.ReLU(), nn.Linear(hidden_size, hidden_size), nn.ReLU(), nn.Linear(hidden_size, out_size))\n",
        "    if lay_norm: return nn.Sequential(module,  nn.LayerNorm(normalized_shape=out_size))\n",
        "    return module"
      ]
    },
    {
      "cell_type": "markdown",
      "metadata": {
        "id": "YiWSJ42nIv0m"
      },
      "source": [
        "# Blocks"
      ]
    },
    {
      "cell_type": "code",
      "execution_count": 4,
      "metadata": {
        "id": "10hpLzj7Iv0n"
      },
      "outputs": [],
      "source": [
        "class EdgeBlock(nn.Module):\n",
        "    \"\"\" EdgeBlock, a block that updates edge attributes\n",
        "\n",
        "    Args:\n",
        "        custom_func: nn.Module, a custom function that updates edge attributes\n",
        "    \"\"\"\n",
        "\n",
        "    def __init__(self, custom_func=None):\n",
        "        super(EdgeBlock, self).__init__()\n",
        "        self.net = custom_func\n",
        "\n",
        "    def forward(self, graph):\n",
        "        node_attr, edge_index, edge_attr, _ = decompose_graph(graph)\n",
        "        senders_idx, receivers_idx = edge_index\n",
        "        edges_to_collect = []\n",
        "\n",
        "        senders_attr = node_attr[senders_idx]\n",
        "        receivers_attr = node_attr[receivers_idx]\n",
        "\n",
        "        edges_to_collect.append(senders_attr)\n",
        "        edges_to_collect.append(receivers_attr)\n",
        "        edges_to_collect.append(edge_attr)\n",
        "\n",
        "        collected_edges = torch.cat(edges_to_collect, dim=1)\n",
        "\n",
        "        edge_attr_ = self.net(collected_edges)   # Update\n",
        "\n",
        "        return Data(x=node_attr, edge_attr=edge_attr_, edge_index=edge_index)\n",
        "\n",
        "class NodeBlock(nn.Module):\n",
        "    \"\"\" NodeBlock, a block that updates node attributes\n",
        "\n",
        "    Args:\n",
        "        custom_func: nn.Module, a custom function that updates node attributes\n",
        "    \"\"\"\n",
        "\n",
        "    def __init__(self, custom_func=None):\n",
        "        super(NodeBlock, self).__init__()\n",
        "        self.net = custom_func\n",
        "\n",
        "    def forward(self, graph):\n",
        "        # Decompose graph\n",
        "        edge_attr = graph.edge_attr\n",
        "        nodes_to_collect = []\n",
        "\n",
        "        _, receivers_idx = graph.edge_index\n",
        "        num_nodes = graph.num_nodes\n",
        "        agg_received_edges = scatter_add(edge_attr, receivers_idx, dim=0, dim_size=num_nodes)\n",
        "\n",
        "        nodes_to_collect.append(graph.x)\n",
        "        nodes_to_collect.append(agg_received_edges)\n",
        "        collected_nodes = torch.cat(nodes_to_collect, dim=-1)\n",
        "        x = self.net(collected_nodes)\n",
        "        return Data(x=x, edge_attr=edge_attr, edge_index=graph.edge_index)"
      ]
    },
    {
      "cell_type": "markdown",
      "metadata": {
        "id": "R9iIhVmRIv0n"
      },
      "source": [
        "# Data"
      ]
    },
    {
      "cell_type": "code",
      "execution_count": 5,
      "metadata": {
        "id": "1E9g0UOZIv0n"
      },
      "outputs": [],
      "source": [
        "def create_gnn_graph(coordinates, displacement_vector, metadata):\n",
        "    \"\"\"\n",
        "    Create a graph data object for a GNN model.\n",
        "\n",
        "    Args:\n",
        "    - coordinates (list of tuples): A list of 2D coordinates for each node.\n",
        "    - target (list of floats): A list of target values for each node.\n",
        "\n",
        "    Returns:\n",
        "    - data (Data): A PyG Data object representing the graph.\n",
        "    \"\"\"\n",
        "\n",
        "    # Convert coordinates to tensor\n",
        "    pos = torch.tensor(coordinates, dtype=torch.float)\n",
        "    displacement_vector = torch.tensor(displacement_vector, dtype=torch.float).unsqueeze(1)\n",
        "\n",
        "    # Add the load as a node attribute\n",
        "    load = torch.rand(pos.size(0), 1) * metadata[\"P_initial\"]\n",
        "\n",
        "    # Create edges\n",
        "    num_nodes = len(coordinates)\n",
        "    edge_index = radius_graph(pos, r=metadata[\"default_connectivity_radius\"], loop=False)\n",
        "\n",
        "    # Calculate edge attributes (e.g., Euclidean distance)\n",
        "    distance = torch.norm(pos[edge_index[0]] - pos[edge_index[1]], dim=1).unsqueeze(1)\n",
        "    # Calculate displacement as vector at each edge\n",
        "    displacement = (pos[edge_index[1]] - pos[edge_index[0]])\n",
        "\n",
        "    # Convert E_initial to a PyTorch tensor\n",
        "    E_initial = torch.tensor(metadata[\"E_initial\"], dtype=torch.float)\n",
        "    # Correctly generate a tensor with random values uniformly distributed between 0 and 1, then scale by E_initial\n",
        "    E_edge = torch.rand(edge_index.size(1), 1) * E_initial\n",
        "\n",
        "    # Now, both tensors have shape [number_of_edges, 1] and can be concatenated\n",
        "    edge_attr = torch.cat([distance, displacement, E_edge], dim=1)\n",
        "\n",
        "    # Concat node features and load\n",
        "    node_features = torch.cat([pos], dim=1)\n",
        "\n",
        "    # Create a graph data object\n",
        "    data = Data(x=node_features, edge_index=edge_index, edge_attr=edge_attr, y=displacement_vector)\n",
        "\n",
        "    return data"
      ]
    },
    {
      "cell_type": "code",
      "execution_count": 6,
      "metadata": {
        "colab": {
          "base_uri": "https://localhost:8080/",
          "height": 516
        },
        "id": "X_1ZVIADIv0o",
        "outputId": "7112c213-43e7-4b44-877f-01f4d2932363"
      },
      "outputs": [
        {
          "data": {
            "image/png": "[encoded data removed]",
            "text/plain": [
              "<Figure size 640x480 with 1 Axes>"
            ]
          },
          "metadata": {},
          "output_type": "display_data"
        }
      ],
      "source": [
        "# Example usage\n",
        "metadata = {\"default_connectivity_radius\": 1.6, \"E_initial\": 10, \"P_initial\": 0.5,\n",
        "\"node_features\": [\"x\", \"y\", \"load\"], \"edge_features\": [\"distance\", \"displacement\", \"E_edge\"],\n",
        "\"node_input_size\": 2, \"edge_input_size\": 4}\n",
        "coordinates = [(0.5, 0), (1.5, 0), (2.5, 0), (3.5, 0), (4.5, 0)]\n",
        "displacement = [0, 0.4, 0.5, 0.1]\n",
        "graph_data = create_gnn_graph(coordinates, displacement_vector=displacement, metadata=metadata)\n",
        "\n",
        "graph = to_networkx(graph_data)\n",
        "nx.draw(graph, with_labels=True)\n",
        "plt.show()\n"
      ]
    },
    {
      "cell_type": "markdown",
      "metadata": {
        "id": "MK8Z0gNmIv0o"
      },
      "source": [
        "# Encoder"
      ]
    },
    {
      "cell_type": "code",
      "execution_count": 7,
      "metadata": {
        "id": "aSY2vcsfIv0p"
      },
      "outputs": [],
      "source": [
        "class Encoder(nn.Module):\n",
        "    \"\"\" Encoder for the graph neural network. \"\"\"\n",
        "\n",
        "    def __init__(self,\n",
        "                edge_input_size=4,\n",
        "                node_input_size=2,\n",
        "                hidden_size=128):\n",
        "        super(Encoder, self).__init__()\n",
        "\n",
        "        self.nb_encoder = build_mlp(node_input_size, hidden_size, hidden_size)\n",
        "        self.eb_encoder = build_mlp(edge_input_size, hidden_size, hidden_size)\n",
        "\n",
        "    def forward(self, graph):\n",
        "\n",
        "        node_attr, _, edge_attr, _ = decompose_graph(graph)\n",
        "        node_ = self.nb_encoder(node_attr)\n",
        "        edge_ = self.eb_encoder(edge_attr)\n",
        "\n",
        "        return Data(x=node_, edge_attr=edge_, edge_index=graph.edge_index)"
      ]
    },
    {
      "cell_type": "code",
      "execution_count": 8,
      "metadata": {
        "colab": {
          "base_uri": "https://localhost:8080/"
        },
        "id": "NXs96akeIv0p",
        "outputId": "8aaf0614-559d-4fe8-f522-a51010d6f4f4"
      },
      "outputs": [
        {
          "data": {
            "text/plain": [
              "(tensor([[0.5000, 0.0000],\n",
              "         [1.5000, 0.0000],\n",
              "         [2.5000, 0.0000],\n",
              "         [3.5000, 0.0000],\n",
              "         [4.5000, 0.0000]]),\n",
              " tensor([[1, 0, 2, 1, 3, 2, 4, 3],\n",
              "         [0, 1, 1, 2, 2, 3, 3, 4]]),\n",
              " tensor([[ 1.0000, -1.0000,  0.0000,  3.6884],\n",
              "         [ 1.0000,  1.0000,  0.0000,  8.7237],\n",
              "         [ 1.0000, -1.0000,  0.0000,  7.2176],\n",
              "         [ 1.0000,  1.0000,  0.0000,  6.0512],\n",
              "         [ 1.0000, -1.0000,  0.0000,  7.7445],\n",
              "         [ 1.0000,  1.0000,  0.0000,  2.0115],\n",
              "         [ 1.0000, -1.0000,  0.0000,  0.2984],\n",
              "         [ 1.0000,  1.0000,  0.0000,  5.6113]]),\n",
              " None)"
            ]
          },
          "execution_count": 8,
          "metadata": {},
          "output_type": "execute_result"
        }
      ],
      "source": [
        "decompose_graph(graph_data)"
      ]
    },
    {
      "cell_type": "code",
      "execution_count": 9,
      "metadata": {
        "id": "N20Op6vpIv0p"
      },
      "outputs": [],
      "source": [
        "model = Encoder(edge_input_size=4, node_input_size=2, hidden_size=128)\n",
        "out1 = model(graph_data)"
      ]
    },
    {
      "cell_type": "markdown",
      "metadata": {
        "id": "GjsPFGjIIv0p"
      },
      "source": [
        "# Decode"
      ]
    },
    {
      "cell_type": "code",
      "execution_count": 10,
      "metadata": {
        "id": "OFWpaUinIv0p"
      },
      "outputs": [],
      "source": [
        "class Decoder(nn.Module):\n",
        "    \"\"\" Decoder for the GNN model. \"\"\"\n",
        "\n",
        "    def __init__(self, hidden_size=128, output_size=2):\n",
        "        super(Decoder, self).__init__()\n",
        "        self.decode_module = build_mlp(hidden_size, hidden_size, output_size, lay_norm=False)\n",
        "\n",
        "    def forward(self, graph):\n",
        "        return self.decode_module(graph.x)"
      ]
    },
    {
      "cell_type": "code",
      "execution_count": 11,
      "metadata": {
        "colab": {
          "base_uri": "https://localhost:8080/"
        },
        "id": "qwKGows2Iv0p",
        "outputId": "0b6cfabd-2dba-44b0-d7aa-a2153a3dd9ad"
      },
      "outputs": [
        {
          "data": {
            "text/plain": [
              "tensor([[-0.0047, -0.0119],\n",
              "        [ 0.0063, -0.0116],\n",
              "        [ 0.0054, -0.0038],\n",
              "        [ 0.0112,  0.0010],\n",
              "        [ 0.0123,  0.0091]], grad_fn=<AddmmBackward0>)"
            ]
          },
          "execution_count": 11,
          "metadata": {},
          "output_type": "execute_result"
        }
      ],
      "source": [
        "model = Decoder(hidden_size=128, output_size=2)\n",
        "model(out1)"
      ]
    },
    {
      "cell_type": "markdown",
      "metadata": {
        "id": "ntvu9TPtIv0q"
      },
      "source": [
        "# GN Block"
      ]
    },
    {
      "cell_type": "code",
      "execution_count": 12,
      "metadata": {
        "id": "ORx7hfBwIv0q"
      },
      "outputs": [],
      "source": [
        "class GnBlock(nn.Module):\n",
        "    \"\"\" Graph Neural Network Block \"\"\"\n",
        "\n",
        "    def __init__(self, hidden_size=128):\n",
        "\n",
        "        super(GnBlock, self).__init__()\n",
        "        eb_input_dim = 3 * hidden_size\n",
        "        nb_input_dim = 2 * hidden_size\n",
        "        nb_custom_func = build_mlp(nb_input_dim, hidden_size, hidden_size)\n",
        "        eb_custom_func = build_mlp(eb_input_dim, hidden_size, hidden_size)\n",
        "\n",
        "        self.eb_module = EdgeBlock(custom_func=eb_custom_func)\n",
        "        self.nb_module = NodeBlock(custom_func=nb_custom_func)\n",
        "\n",
        "    def forward(self, graph):\n",
        "\n",
        "        graph_last = copy_geometric_data(graph)\n",
        "        graph = self.eb_module(graph)\n",
        "        graph = self.nb_module(graph)\n",
        "        edge_attr = graph_last.edge_attr + graph.edge_attr\n",
        "        x = graph_last.x + graph.x\n",
        "        return Data(x=x, edge_attr=edge_attr, edge_index=graph.edge_index)"
      ]
    },
    {
      "cell_type": "code",
      "execution_count": 13,
      "metadata": {
        "colab": {
          "base_uri": "https://localhost:8080/"
        },
        "id": "ihRvQvvqIv0q",
        "outputId": "ca5d7c5b-2215-4300-f851-8f3ebc3a5d67"
      },
      "outputs": [
        {
          "data": {
            "text/plain": [
              "Data(x=[5, 128], edge_index=[2, 8], edge_attr=[8, 128])"
            ]
          },
          "execution_count": 13,
          "metadata": {},
          "output_type": "execute_result"
        }
      ],
      "source": [
        "model = GnBlock(hidden_size=128)\n",
        "model(out1)"
      ]
    },
    {
      "cell_type": "markdown",
      "metadata": {
        "id": "SNYM9WaFIv0q"
      },
      "source": [
        "# Model"
      ]
    },
    {
      "cell_type": "code",
      "execution_count": 14,
      "metadata": {
        "id": "8uyeXMcYIv0q"
      },
      "outputs": [],
      "source": [
        "class EncoderProcesserDecoder(nn.Module):\n",
        "    \"\"\" Encoder-Processer-Decoder model for GNN\n",
        "    \"\"\"\n",
        "\n",
        "    def __init__(self, message_passing_num, node_input_size, edge_input_size, hidden_size=128):\n",
        "        super(EncoderProcesserDecoder, self).__init__()\n",
        "        self.encoder = Encoder(edge_input_size=edge_input_size, node_input_size=node_input_size, hidden_size=hidden_size)\n",
        "        processer_list = []\n",
        "        for _ in range(message_passing_num):\n",
        "            processer_list.append(GnBlock(hidden_size=hidden_size))\n",
        "        self.processer_list = nn.ModuleList(processer_list)\n",
        "\n",
        "        self.decoder = Decoder(hidden_size=hidden_size, output_size=2)\n",
        "\n",
        "    def forward(self, graph):\n",
        "\n",
        "        graph= self.encoder(graph)\n",
        "        for model in self.processer_list:\n",
        "            graph = model(graph)\n",
        "        decoded = self.decoder(graph)\n",
        "\n",
        "        return decoded"
      ]
    },
    {
      "cell_type": "code",
      "execution_count": 15,
      "metadata": {
        "colab": {
          "base_uri": "https://localhost:8080/"
        },
        "id": "_2KW9l-KIv0q",
        "outputId": "69e65200-de55-4f6c-f19c-37d479f1a09c"
      },
      "outputs": [
        {
          "data": {
            "text/plain": [
              "tensor([[-0.0092,  0.0018],\n",
              "        [-0.0008,  0.0248],\n",
              "        [ 0.0043,  0.0280],\n",
              "        [ 0.0070,  0.0347],\n",
              "        [-0.0122,  0.0289]], grad_fn=<AddmmBackward0>)"
            ]
          },
          "execution_count": 15,
          "metadata": {},
          "output_type": "execute_result"
        }
      ],
      "source": [
        "model = EncoderProcesserDecoder(message_passing_num=3, node_input_size=2, edge_input_size=4, hidden_size=128)\n",
        "model(graph_data)"
      ]
    },
    {
      "cell_type": "markdown",
      "metadata": {
        "id": "HQ5mbx6KIv0q"
      },
      "source": [
        "# Simulator"
      ]
    },
    {
      "cell_type": "code",
      "execution_count": 16,
      "metadata": {
        "id": "BKqLIfY-Iv0q"
      },
      "outputs": [],
      "source": [
        "class Simulator(nn.Module):\n",
        "    \"\"\" Simulator model for the GNN\n",
        "\n",
        "    Args:\n",
        "        message_passing_num: int, number of message passing iterations\n",
        "        node_input_size: int, size of the node input\n",
        "        edge_input_size: int, size of the edge input\n",
        "        device: torch.device, device to run the model\n",
        "        model_dir: str, path to the model checkpoint\n",
        "    \"\"\"\n",
        "\n",
        "    def __init__(self, message_passing_num, node_input_size, edge_input_size, device, model_dir='checkpoint/simulator.pth') -> None:\n",
        "        super(Simulator, self).__init__()\n",
        "\n",
        "        self.node_input_size =  node_input_size\n",
        "        self.edge_input_size = edge_input_size\n",
        "        self.model_dir = model_dir\n",
        "        self.model = EncoderProcesserDecoder(message_passing_num=message_passing_num, node_input_size=node_input_size, edge_input_size=edge_input_size).to(device)\n",
        "\n",
        "        print('Simulator model initialized')\n",
        "\n",
        "\n",
        "    def forward(self, graph:Data):\n",
        "\n",
        "        predicted = self.model(graph)\n",
        "        target = graph.y\n",
        "\n",
        "        return predicted, target\n",
        "\n",
        "    def save(self):\n",
        "        if self.model_dir is not None:\n",
        "            os.makedirs(os.path.dirname(self.model_dir), exist_ok=True)\n",
        "\n",
        "        torch.save(self.model.state_dict(), self.model_dir)\n",
        "\n",
        "    def load(self):\n",
        "        if self.model_dir is not None:\n",
        "            self.model.load_state_dict(torch.load(self.model_dir))\n"
      ]
    },
    {
      "cell_type": "code",
      "execution_count": 17,
      "metadata": {
        "colab": {
          "base_uri": "https://localhost:8080/"
        },
        "id": "IEV-nRwHIv0q",
        "outputId": "5727a5a4-0689-4605-9126-82f6303a57c9"
      },
      "outputs": [
        {
          "name": "stdout",
          "output_type": "stream",
          "text": [
            "Simulator model initialized\n"
          ]
        }
      ],
      "source": [
        "model = Simulator(message_passing_num=3, node_input_size=2, edge_input_size=4, device=torch.device('cpu'))\n",
        "A,B = model.forward(graph_data)"
      ]
    },
    {
      "cell_type": "markdown",
      "metadata": {
        "id": "csNw79z1Iv0r"
      },
      "source": [
        "# Training"
      ]
    },
    {
      "cell_type": "code",
      "execution_count": 19,
      "metadata": {
        "colab": {
          "base_uri": "https://localhost:8080/"
        },
        "id": "n2ezBN0PIv0r",
        "outputId": "8515123a-db89-48f5-d67b-3f5323ab78ca"
      },
      "outputs": [
        {
          "name": "stdout",
          "output_type": "stream",
          "text": [
            "Simulator model initialized\n",
            "Optimizer initialized\n"
          ]
        }
      ],
      "source": [
        "import torch\n",
        "from torch.optim.lr_scheduler import StepLR  # Import StepLR\n",
        "\n",
        "dataset_dir = 'dataset'\n",
        "batch_size = 20\n",
        "noise_std=2e-2\n",
        "\n",
        "print_batch = 10\n",
        "save_batch = 200\n",
        "\n",
        "\n",
        "device = torch.device('cuda' if torch.cuda.is_available() else 'cpu')\n",
        "simulator = Simulator(message_passing_num=3, node_input_size=2, edge_input_size=4, device=device)\n",
        "optimizer = torch.optim.Adam(simulator.model.parameters(), lr=1e-3)\n",
        "scheduler = StepLR(optimizer, step_size=10, gamma=0.1)\n",
        "\n",
        "print('Optimizer initialized')"
      ]
    },
    {
      "cell_type": "code",
      "execution_count": 20,
      "metadata": {
        "id": "N-A3Ib9vIv0r"
      },
      "outputs": [],
      "source": [
        "import torch_geometric.transforms as T\n",
        "transformer = T.Compose([T.FaceToEdge(), T.Cartesian(norm=False), T.Distance(norm=False)])"
      ]
    },
    {
      "cell_type": "code",
      "execution_count": 21,
      "metadata": {
        "id": "k3tdvLMmJJ4N"
      },
      "outputs": [],
      "source": [
        "def loss_data(pred, target):\n",
        "    return F.mse_loss(pred[:,0].unsqueeze(1), target)\n"
      ]
    },
    {
      "cell_type": "code",
      "execution_count": 184,
      "metadata": {
        "id": "y1r9nr1YIv0r"
      },
      "outputs": [],
      "source": [
        "import tqdm\n",
        "from torch.optim.lr_scheduler import StepLR\n",
        "\n",
        "scheduler = StepLR(optimizer, step_size=10, gamma=0.1)\n",
        "\n",
        "def train(model: Simulator, dataloader, optimizer, scheduler, loss_fn, epochs=100, print_epoch=5, save_epoch=10):\n",
        "    model.to(device)\n",
        "    for batch_index, graph in enumerate(tqdm.tqdm(dataloader, desc=\"Batches\")):\n",
        "        for epoch in tqdm.tqdm(range(epochs), desc=\"Epochs\", leave=False):\n",
        "            epoch_loss = 0.0\n",
        "        \n",
        "            graph = graph.to(device)\n",
        "            model.train()  # Ensure the model is in training mode\n",
        "            pred, target = model(graph)\n",
        "            loss = loss_fn(pred, target)\n",
        "\n",
        "            optimizer.zero_grad()\n",
        "            loss.backward()\n",
        "            optimizer.step()\n",
        "\n",
        "            epoch_loss += loss.item()\n",
        "\n",
        "            # Print average loss for the epoch\n",
        "            avg_loss = epoch_loss / len(dataloader)\n",
        "            if epoch % print_epoch == 0:\n",
        "                print(f'Epoch {epoch}, Average Loss: {avg_loss:.4f}')\n",
        "\n",
        "            # Save the model at the end of each epoch\n",
        "            if epoch % save_epoch == 0:\n",
        "                model.save()\n",
        "                print('Model saved')\n",
        "\n",
        "            # Stop training if the loss is not decreasing\n",
        "            if avg_loss < 1e-5:\n",
        "                print('Stopping early due to low loss')\n",
        "                break\n",
        "\n",
        "        # Update the learning rate scheduler\n",
        "        scheduler.step()\n",
        "\n",
        "    print('Training complete')\n",
        "\n",
        "\n",
        "\n",
        "\n"
      ]
    },
    {
      "cell_type": "markdown",
      "metadata": {
        "id": "_DL45og4Iv0r"
      },
      "source": [
        "# Dataloader"
      ]
    },
    {
      "cell_type": "code",
      "execution_count": 185,
      "metadata": {
        "id": "dxlsFXsaIv0r"
      },
      "outputs": [],
      "source": [
        "import pandas as pd\n",
        "\n",
        "train_dataset_dir = 'data.json'\n",
        "test_dataset_dir = r\"data\\JSON_Data_Updated\\n=100_p=2_varying_l_vectors.json\"\n"
      ]
    },
    {
      "cell_type": "code",
      "execution_count": 190,
      "metadata": {
        "id": "yOl2qNIqIv0r"
      },
      "outputs": [],
      "source": [
        "import pandas as pd\n",
        "import numpy as np\n",
        "from torch_geometric.data import Dataset\n",
        "from torch_geometric.data import DataLoader\n",
        "\n",
        "class GraphDataset(Dataset):\n",
        "    def __init__(self, dataset_dir, metadata):\n",
        "        self.df = pd.read_json(dataset_dir)\n",
        "        #self.df = self.df.applymap(lambda x: np.array(x))\n",
        "        self.metadata = metadata\n",
        "\n",
        "    def __len__(self):\n",
        "        return len(self.df)\n",
        "\n",
        "    def __getitem__(self, idx):\n",
        "        displacement_y = self.df[\"Displacement\"].iloc[idx]\n",
        "        coordinates = self.df[\"Coord\"].iloc[idx]\n",
        "        EI = self.df[\"EI\"].iloc[idx]\n",
        "        self.metadata[\"default_connectivity_radius\"] = np.hypot(*np.diff(coordinates, axis=0).T).mean() * 1.05\n",
        "        #print(self.metadata[\"default_connectivity_radius\"])\n",
        "        graph_data = create_gnn_graph(coordinates, displacement_y, self.metadata)\n",
        "        return graph_data\n"
      ]
    },
    {
      "cell_type": "code",
      "execution_count": 191,
      "metadata": {
        "id": "tMWagXZhIv0r"
      },
      "outputs": [
        {
          "name": "stderr",
          "output_type": "stream",
          "text": [
            "C:\\Users\\kurt-\\AppData\\Roaming\\Python\\Python312\\site-packages\\torch_geometric\\deprecation.py:26: UserWarning: 'data.DataLoader' is deprecated, use 'loader.DataLoader' instead\n",
            "  warnings.warn(out)\n",
            "C:\\Users\\kurt-\\AppData\\Roaming\\Python\\Python312\\site-packages\\torch_geometric\\deprecation.py:26: UserWarning: 'data.DataLoader' is deprecated, use 'loader.DataLoader' instead\n",
            "  warnings.warn(out)\n"
          ]
        }
      ],
      "source": [
        "train_dataloader = DataLoader(GraphDataset(train_dataset_dir, metadata), batch_size=20, shuffle=True)\n",
        "test_dataloader = DataLoader(GraphDataset(test_dataset_dir, metadata), batch_size=20, shuffle=True)"
      ]
    },
    {
      "cell_type": "markdown",
      "metadata": {
        "id": "vh9CJn_LIv0s"
      },
      "source": [
        "# Train test"
      ]
    },
    {
      "cell_type": "code",
      "execution_count": 192,
      "metadata": {
        "colab": {
          "base_uri": "https://localhost:8080/"
        },
        "id": "egCpX_XfIv0s",
        "outputId": "011fa219-2903-40e1-a6e0-6f7f43f61b50"
      },
      "outputs": [
        {
          "name": "stdout",
          "output_type": "stream",
          "text": [
            "cpu\n",
            "Simulator model initialized\n"
          ]
        }
      ],
      "source": [
        "device = torch.device('cuda' if torch.cuda.is_available() else 'cpu')\n",
        "print(device)\n",
        "simulator = Simulator(message_passing_num=3, node_input_size=2, edge_input_size=4, device=device)\n",
        "optimizer = torch.optim.Adam(simulator.model.parameters(), lr=1e-4)\n",
        "scheduler = StepLR(optimizer, step_size=10, gamma=0.1)"
      ]
    },
    {
      "cell_type": "code",
      "execution_count": 193,
      "metadata": {
        "colab": {
          "base_uri": "https://localhost:8080/"
        },
        "id": "LPNKj80LIv0s",
        "outputId": "466d96fa-5d5c-42a7-d772-1eaba0629ba6"
      },
      "outputs": [
        {
          "name": "stderr",
          "output_type": "stream",
          "text": [
            "Batches:   0%|          | 0/2500 [00:00<?, ?it/s]\n"
          ]
        },
        {
          "name": "stdout",
          "output_type": "stream",
          "text": [
            "Epoch 0, Average Loss: 0.0156\n",
            "Model saved\n"
          ]
        },
        {
          "name": "stderr",
          "output_type": "stream",
          "text": [
            "Epochs:  30%|███       | 3/10 [00:00<00:00,  8.04it/s]\u001b[A"
          ]
        },
        {
          "name": "stdout",
          "output_type": "stream",
          "text": [
            "Epoch 5, Average Loss: 0.0151\n"
          ]
        },
        {
          "name": "stderr",
          "output_type": "stream",
          "text": [
            "Batches:   0%|          | 1/2500 [00:01<43:49,  1.05s/it]"
          ]
        },
        {
          "name": "stdout",
          "output_type": "stream",
          "text": [
            "Epoch 0, Average Loss: 0.2624\n",
            "Model saved\n"
          ]
        },
        {
          "name": "stderr",
          "output_type": "stream",
          "text": []
        },
        {
          "name": "stdout",
          "output_type": "stream",
          "text": [
            "Epoch 5, Average Loss: 0.2609\n"
          ]
        },
        {
          "name": "stderr",
          "output_type": "stream",
          "text": [
            "Batches:   0%|          | 2/2500 [00:01<39:17,  1.06it/s]"
          ]
        },
        {
          "name": "stdout",
          "output_type": "stream",
          "text": [
            "Epoch 0, Average Loss: 0.0914\n",
            "Model saved\n"
          ]
        },
        {
          "name": "stderr",
          "output_type": "stream",
          "text": []
        },
        {
          "name": "stdout",
          "output_type": "stream",
          "text": [
            "Epoch 5, Average Loss: 0.0901\n"
          ]
        },
        {
          "name": "stderr",
          "output_type": "stream",
          "text": [
            "Batches:   0%|          | 3/2500 [00:02<37:59,  1.10it/s]"
          ]
        },
        {
          "name": "stdout",
          "output_type": "stream",
          "text": [
            "Epoch 0, Average Loss: 0.0174\n",
            "Model saved\n"
          ]
        },
        {
          "name": "stderr",
          "output_type": "stream",
          "text": []
        },
        {
          "name": "stdout",
          "output_type": "stream",
          "text": [
            "Epoch 5, Average Loss: 0.0170\n"
          ]
        },
        {
          "name": "stderr",
          "output_type": "stream",
          "text": [
            "Batches:   0%|          | 4/2500 [00:03<36:46,  1.13it/s]"
          ]
        },
        {
          "name": "stdout",
          "output_type": "stream",
          "text": [
            "Epoch 0, Average Loss: 0.0022\n",
            "Model saved\n"
          ]
        },
        {
          "name": "stderr",
          "output_type": "stream",
          "text": []
        },
        {
          "name": "stdout",
          "output_type": "stream",
          "text": [
            "Epoch 5, Average Loss: 0.0018\n"
          ]
        },
        {
          "name": "stderr",
          "output_type": "stream",
          "text": [
            "Batches:   0%|          | 5/2500 [00:04<36:01,  1.15it/s]\n"
          ]
        },
        {
          "name": "stdout",
          "output_type": "stream",
          "text": [
            "Epoch 0, Average Loss: 0.0006\n",
            "Model saved\n"
          ]
        },
        {
          "name": "stderr",
          "output_type": "stream",
          "text": [
            "Epochs:  30%|███       | 3/10 [00:00<00:00, 11.49it/s]\u001b[A"
          ]
        },
        {
          "name": "stdout",
          "output_type": "stream",
          "text": [
            "Epoch 5, Average Loss: 0.0006\n"
          ]
        },
        {
          "name": "stderr",
          "output_type": "stream",
          "text": [
            "Batches:   0%|          | 6/2500 [00:05<36:49,  1.13it/s]"
          ]
        },
        {
          "name": "stdout",
          "output_type": "stream",
          "text": [
            "Epoch 0, Average Loss: 0.0086\n",
            "Model saved\n"
          ]
        },
        {
          "name": "stderr",
          "output_type": "stream",
          "text": []
        },
        {
          "name": "stdout",
          "output_type": "stream",
          "text": [
            "Epoch 5, Average Loss: 0.0081\n"
          ]
        },
        {
          "name": "stderr",
          "output_type": "stream",
          "text": [
            "Batches:   0%|          | 7/2500 [00:06<36:04,  1.15it/s]"
          ]
        },
        {
          "name": "stdout",
          "output_type": "stream",
          "text": [
            "Epoch 0, Average Loss: 0.0380\n",
            "Model saved\n"
          ]
        },
        {
          "name": "stderr",
          "output_type": "stream",
          "text": []
        },
        {
          "name": "stdout",
          "output_type": "stream",
          "text": [
            "Epoch 5, Average Loss: 0.0360\n"
          ]
        },
        {
          "name": "stderr",
          "output_type": "stream",
          "text": [
            "Batches:   0%|          | 8/2500 [00:07<35:33,  1.17it/s]"
          ]
        },
        {
          "name": "stdout",
          "output_type": "stream",
          "text": [
            "Epoch 0, Average Loss: 2.6395\n",
            "Model saved\n"
          ]
        },
        {
          "name": "stderr",
          "output_type": "stream",
          "text": []
        },
        {
          "name": "stdout",
          "output_type": "stream",
          "text": [
            "Epoch 5, Average Loss: 2.6181\n"
          ]
        },
        {
          "name": "stderr",
          "output_type": "stream",
          "text": [
            "Batches:   0%|          | 9/2500 [00:07<35:50,  1.16it/s]"
          ]
        },
        {
          "name": "stdout",
          "output_type": "stream",
          "text": [
            "Epoch 0, Average Loss: 0.0091\n",
            "Model saved\n"
          ]
        },
        {
          "name": "stderr",
          "output_type": "stream",
          "text": []
        },
        {
          "name": "stdout",
          "output_type": "stream",
          "text": [
            "Epoch 5, Average Loss: 0.0021\n"
          ]
        },
        {
          "name": "stderr",
          "output_type": "stream",
          "text": [
            "Batches:   0%|          | 10/2500 [00:08<35:53,  1.16it/s]"
          ]
        },
        {
          "name": "stdout",
          "output_type": "stream",
          "text": [
            "Epoch 0, Average Loss: 0.0062\n",
            "Model saved\n"
          ]
        },
        {
          "name": "stderr",
          "output_type": "stream",
          "text": []
        },
        {
          "name": "stdout",
          "output_type": "stream",
          "text": [
            "Epoch 5, Average Loss: 0.0059\n"
          ]
        },
        {
          "name": "stderr",
          "output_type": "stream",
          "text": [
            "Batches:   0%|          | 11/2500 [00:09<36:58,  1.12it/s]"
          ]
        },
        {
          "name": "stdout",
          "output_type": "stream",
          "text": [
            "Epoch 0, Average Loss: 0.0112\n",
            "Model saved\n"
          ]
        },
        {
          "name": "stderr",
          "output_type": "stream",
          "text": []
        },
        {
          "name": "stdout",
          "output_type": "stream",
          "text": [
            "Epoch 5, Average Loss: 0.0109\n"
          ]
        },
        {
          "name": "stderr",
          "output_type": "stream",
          "text": [
            "Batches:   0%|          | 12/2500 [00:10<36:42,  1.13it/s]\n"
          ]
        },
        {
          "name": "stdout",
          "output_type": "stream",
          "text": [
            "Epoch 0, Average Loss: 0.0109\n",
            "Model saved\n"
          ]
        },
        {
          "name": "stderr",
          "output_type": "stream",
          "text": [
            "Epochs:  30%|███       | 3/10 [00:00<00:00, 11.11it/s]\u001b[A"
          ]
        },
        {
          "name": "stdout",
          "output_type": "stream",
          "text": [
            "Epoch 5, Average Loss: 0.0107\n"
          ]
        },
        {
          "name": "stderr",
          "output_type": "stream",
          "text": [
            "Batches:   1%|          | 13/2500 [00:11<36:29,  1.14it/s]\n"
          ]
        },
        {
          "name": "stdout",
          "output_type": "stream",
          "text": [
            "Epoch 0, Average Loss: 0.0699\n",
            "Model saved\n"
          ]
        },
        {
          "name": "stderr",
          "output_type": "stream",
          "text": [
            "Epochs:  30%|███       | 3/10 [00:00<00:00, 11.17it/s]\u001b[A"
          ]
        },
        {
          "name": "stdout",
          "output_type": "stream",
          "text": [
            "Epoch 5, Average Loss: 0.0693\n"
          ]
        },
        {
          "name": "stderr",
          "output_type": "stream",
          "text": [
            "Batches:   1%|          | 14/2500 [00:12<36:13,  1.14it/s]"
          ]
        },
        {
          "name": "stdout",
          "output_type": "stream",
          "text": [
            "Epoch 0, Average Loss: 0.0067\n",
            "Model saved\n"
          ]
        },
        {
          "name": "stderr",
          "output_type": "stream",
          "text": []
        },
        {
          "name": "stdout",
          "output_type": "stream",
          "text": [
            "Epoch 5, Average Loss: 0.0065\n"
          ]
        },
        {
          "name": "stderr",
          "output_type": "stream",
          "text": [
            "Batches:   1%|          | 15/2500 [00:13<36:25,  1.14it/s]"
          ]
        },
        {
          "name": "stdout",
          "output_type": "stream",
          "text": [
            "Epoch 0, Average Loss: 0.0127\n",
            "Model saved\n"
          ]
        },
        {
          "name": "stderr",
          "output_type": "stream",
          "text": []
        },
        {
          "name": "stdout",
          "output_type": "stream",
          "text": [
            "Epoch 5, Average Loss: 0.0125\n"
          ]
        },
        {
          "name": "stderr",
          "output_type": "stream",
          "text": [
            "Batches:   1%|          | 16/2500 [00:14<36:22,  1.14it/s]"
          ]
        },
        {
          "name": "stdout",
          "output_type": "stream",
          "text": [
            "Epoch 0, Average Loss: 0.0018\n",
            "Model saved\n"
          ]
        },
        {
          "name": "stderr",
          "output_type": "stream",
          "text": []
        },
        {
          "name": "stdout",
          "output_type": "stream",
          "text": [
            "Epoch 5, Average Loss: 0.0015\n"
          ]
        },
        {
          "name": "stderr",
          "output_type": "stream",
          "text": [
            "Batches:   1%|          | 17/2500 [00:15<37:15,  1.11it/s]"
          ]
        },
        {
          "name": "stdout",
          "output_type": "stream",
          "text": [
            "Epoch 0, Average Loss: 0.1860\n",
            "Model saved\n"
          ]
        },
        {
          "name": "stderr",
          "output_type": "stream",
          "text": []
        },
        {
          "name": "stdout",
          "output_type": "stream",
          "text": [
            "Epoch 5, Average Loss: 0.1844\n"
          ]
        },
        {
          "name": "stderr",
          "output_type": "stream",
          "text": [
            "Batches:   1%|          | 18/2500 [00:15<36:45,  1.13it/s]"
          ]
        },
        {
          "name": "stdout",
          "output_type": "stream",
          "text": [
            "Epoch 0, Average Loss: 0.0020\n",
            "Model saved\n"
          ]
        },
        {
          "name": "stderr",
          "output_type": "stream",
          "text": []
        },
        {
          "name": "stdout",
          "output_type": "stream",
          "text": [
            "Epoch 5, Average Loss: 0.0025\n"
          ]
        },
        {
          "name": "stderr",
          "output_type": "stream",
          "text": [
            "Batches:   1%|          | 19/2500 [00:16<36:32,  1.13it/s]"
          ]
        },
        {
          "name": "stdout",
          "output_type": "stream",
          "text": [
            "Epoch 0, Average Loss: 0.0134\n",
            "Model saved\n"
          ]
        },
        {
          "name": "stderr",
          "output_type": "stream",
          "text": []
        },
        {
          "name": "stdout",
          "output_type": "stream",
          "text": [
            "Epoch 5, Average Loss: 0.0133\n"
          ]
        },
        {
          "name": "stderr",
          "output_type": "stream",
          "text": [
            "Batches:   1%|          | 20/2500 [00:17<35:53,  1.15it/s]"
          ]
        },
        {
          "name": "stdout",
          "output_type": "stream",
          "text": [
            "Epoch 0, Average Loss: 0.0099\n",
            "Model saved\n"
          ]
        },
        {
          "name": "stderr",
          "output_type": "stream",
          "text": []
        },
        {
          "name": "stdout",
          "output_type": "stream",
          "text": [
            "Epoch 5, Average Loss: 0.0099\n"
          ]
        },
        {
          "name": "stderr",
          "output_type": "stream",
          "text": [
            "Batches:   1%|          | 21/2500 [00:18<35:39,  1.16it/s]"
          ]
        },
        {
          "name": "stdout",
          "output_type": "stream",
          "text": [
            "Epoch 0, Average Loss: 0.2226\n",
            "Model saved\n"
          ]
        },
        {
          "name": "stderr",
          "output_type": "stream",
          "text": []
        },
        {
          "name": "stdout",
          "output_type": "stream",
          "text": [
            "Epoch 5, Average Loss: 0.2225\n"
          ]
        },
        {
          "name": "stderr",
          "output_type": "stream",
          "text": [
            "Batches:   1%|          | 22/2500 [00:19<35:57,  1.15it/s]"
          ]
        },
        {
          "name": "stdout",
          "output_type": "stream",
          "text": [
            "Epoch 0, Average Loss: 0.0015\n",
            "Model saved\n"
          ]
        },
        {
          "name": "stderr",
          "output_type": "stream",
          "text": []
        },
        {
          "name": "stdout",
          "output_type": "stream",
          "text": [
            "Epoch 5, Average Loss: 0.0015\n"
          ]
        },
        {
          "name": "stderr",
          "output_type": "stream",
          "text": [
            "Batches:   1%|          | 23/2500 [00:20<36:11,  1.14it/s]"
          ]
        },
        {
          "name": "stdout",
          "output_type": "stream",
          "text": [
            "Epoch 0, Average Loss: 1.3638\n",
            "Model saved\n"
          ]
        },
        {
          "name": "stderr",
          "output_type": "stream",
          "text": []
        },
        {
          "name": "stdout",
          "output_type": "stream",
          "text": [
            "Epoch 5, Average Loss: 1.3622\n"
          ]
        },
        {
          "name": "stderr",
          "output_type": "stream",
          "text": [
            "Batches:   1%|          | 24/2500 [00:21<35:51,  1.15it/s]"
          ]
        },
        {
          "name": "stdout",
          "output_type": "stream",
          "text": [
            "Epoch 0, Average Loss: 0.0059\n",
            "Model saved\n"
          ]
        },
        {
          "name": "stderr",
          "output_type": "stream",
          "text": []
        },
        {
          "name": "stdout",
          "output_type": "stream",
          "text": [
            "Epoch 5, Average Loss: 0.0060\n"
          ]
        },
        {
          "name": "stderr",
          "output_type": "stream",
          "text": [
            "Batches:   1%|          | 25/2500 [00:21<35:42,  1.16it/s]\n",
            "Epochs:  30%|███       | 3/10 [00:00<00:00,  9.74it/s]"
          ]
        },
        {
          "name": "stdout",
          "output_type": "stream",
          "text": [
            "Epoch 0, Average Loss: 0.0054\n",
            "Model saved\n"
          ]
        },
        {
          "name": "stderr",
          "output_type": "stream",
          "text": [
            "\u001b[A"
          ]
        },
        {
          "name": "stdout",
          "output_type": "stream",
          "text": [
            "Epoch 5, Average Loss: 0.0055\n"
          ]
        },
        {
          "name": "stderr",
          "output_type": "stream",
          "text": [
            "Batches:   1%|          | 26/2500 [00:22<36:33,  1.13it/s]"
          ]
        },
        {
          "name": "stdout",
          "output_type": "stream",
          "text": [
            "Epoch 0, Average Loss: 0.0277\n",
            "Model saved\n"
          ]
        },
        {
          "name": "stderr",
          "output_type": "stream",
          "text": []
        },
        {
          "name": "stdout",
          "output_type": "stream",
          "text": [
            "Epoch 5, Average Loss: 0.0277\n"
          ]
        },
        {
          "name": "stderr",
          "output_type": "stream",
          "text": [
            "Batches:   1%|          | 27/2500 [00:23<36:15,  1.14it/s]"
          ]
        },
        {
          "name": "stdout",
          "output_type": "stream",
          "text": [
            "Epoch 0, Average Loss: 0.3179\n",
            "Model saved\n"
          ]
        },
        {
          "name": "stderr",
          "output_type": "stream",
          "text": []
        },
        {
          "name": "stdout",
          "output_type": "stream",
          "text": [
            "Epoch 5, Average Loss: 0.3178\n"
          ]
        },
        {
          "name": "stderr",
          "output_type": "stream",
          "text": [
            "Batches:   1%|          | 28/2500 [00:24<36:24,  1.13it/s]"
          ]
        },
        {
          "name": "stdout",
          "output_type": "stream",
          "text": [
            "Epoch 0, Average Loss: 0.0498\n",
            "Model saved\n"
          ]
        },
        {
          "name": "stderr",
          "output_type": "stream",
          "text": [
            "\n"
          ]
        },
        {
          "name": "stdout",
          "output_type": "stream",
          "text": [
            "Epoch 5, Average Loss: 0.0498\n"
          ]
        },
        {
          "name": "stderr",
          "output_type": "stream",
          "text": [
            "Batches:   1%|          | 29/2500 [00:25<37:02,  1.11it/s]"
          ]
        },
        {
          "name": "stdout",
          "output_type": "stream",
          "text": [
            "Epoch 0, Average Loss: 0.0097\n",
            "Model saved\n"
          ]
        },
        {
          "name": "stderr",
          "output_type": "stream",
          "text": []
        },
        {
          "name": "stdout",
          "output_type": "stream",
          "text": [
            "Epoch 5, Average Loss: 0.0097\n"
          ]
        },
        {
          "name": "stderr",
          "output_type": "stream",
          "text": [
            "Batches:   1%|          | 30/2500 [00:26<37:17,  1.10it/s]"
          ]
        },
        {
          "name": "stdout",
          "output_type": "stream",
          "text": [
            "Epoch 0, Average Loss: 0.0045\n",
            "Model saved\n"
          ]
        },
        {
          "name": "stderr",
          "output_type": "stream",
          "text": []
        },
        {
          "name": "stdout",
          "output_type": "stream",
          "text": [
            "Epoch 5, Average Loss: 0.0045\n"
          ]
        },
        {
          "name": "stderr",
          "output_type": "stream",
          "text": [
            "Batches:   1%|          | 31/2500 [00:27<37:09,  1.11it/s]"
          ]
        },
        {
          "name": "stdout",
          "output_type": "stream",
          "text": [
            "Epoch 0, Average Loss: 0.0040\n",
            "Model saved\n"
          ]
        },
        {
          "name": "stderr",
          "output_type": "stream",
          "text": []
        },
        {
          "name": "stdout",
          "output_type": "stream",
          "text": [
            "Epoch 5, Average Loss: 0.0040\n"
          ]
        },
        {
          "name": "stderr",
          "output_type": "stream",
          "text": [
            "Batches:   1%|▏         | 32/2500 [00:28<36:23,  1.13it/s]\n"
          ]
        },
        {
          "name": "stdout",
          "output_type": "stream",
          "text": [
            "Epoch 0, Average Loss: 0.0522\n",
            "Model saved\n"
          ]
        },
        {
          "name": "stderr",
          "output_type": "stream",
          "text": [
            "Epochs:  30%|███       | 3/10 [00:00<00:00, 11.14it/s]\u001b[A"
          ]
        },
        {
          "name": "stdout",
          "output_type": "stream",
          "text": [
            "Epoch 5, Average Loss: 0.0522\n"
          ]
        },
        {
          "name": "stderr",
          "output_type": "stream",
          "text": [
            "Batches:   1%|▏         | 33/2500 [00:29<36:01,  1.14it/s]"
          ]
        },
        {
          "name": "stdout",
          "output_type": "stream",
          "text": [
            "Epoch 0, Average Loss: 0.0081\n",
            "Model saved\n"
          ]
        },
        {
          "name": "stderr",
          "output_type": "stream",
          "text": []
        },
        {
          "name": "stdout",
          "output_type": "stream",
          "text": [
            "Epoch 5, Average Loss: 0.0081\n"
          ]
        },
        {
          "name": "stderr",
          "output_type": "stream",
          "text": [
            "Batches:   1%|▏         | 34/2500 [00:30<36:36,  1.12it/s]"
          ]
        },
        {
          "name": "stdout",
          "output_type": "stream",
          "text": [
            "Epoch 0, Average Loss: 0.0027\n",
            "Model saved\n"
          ]
        },
        {
          "name": "stderr",
          "output_type": "stream",
          "text": []
        },
        {
          "name": "stdout",
          "output_type": "stream",
          "text": [
            "Epoch 5, Average Loss: 0.0027\n"
          ]
        },
        {
          "name": "stderr",
          "output_type": "stream",
          "text": [
            "Batches:   1%|▏         | 35/2500 [00:30<36:05,  1.14it/s]"
          ]
        },
        {
          "name": "stdout",
          "output_type": "stream",
          "text": [
            "Epoch 0, Average Loss: 0.0451\n",
            "Model saved\n"
          ]
        },
        {
          "name": "stderr",
          "output_type": "stream",
          "text": []
        },
        {
          "name": "stdout",
          "output_type": "stream",
          "text": [
            "Epoch 5, Average Loss: 0.0451\n"
          ]
        },
        {
          "name": "stderr",
          "output_type": "stream",
          "text": [
            "Batches:   1%|▏         | 36/2500 [00:31<35:43,  1.15it/s]"
          ]
        },
        {
          "name": "stdout",
          "output_type": "stream",
          "text": [
            "Epoch 0, Average Loss: 0.0403\n",
            "Model saved\n"
          ]
        },
        {
          "name": "stderr",
          "output_type": "stream",
          "text": []
        },
        {
          "name": "stdout",
          "output_type": "stream",
          "text": [
            "Epoch 5, Average Loss: 0.0403\n"
          ]
        },
        {
          "name": "stderr",
          "output_type": "stream",
          "text": [
            "Batches:   1%|▏         | 37/2500 [00:32<35:20,  1.16it/s]"
          ]
        },
        {
          "name": "stdout",
          "output_type": "stream",
          "text": [
            "Epoch 0, Average Loss: 0.0034\n",
            "Model saved\n"
          ]
        },
        {
          "name": "stderr",
          "output_type": "stream",
          "text": []
        },
        {
          "name": "stdout",
          "output_type": "stream",
          "text": [
            "Epoch 5, Average Loss: 0.0034\n"
          ]
        },
        {
          "name": "stderr",
          "output_type": "stream",
          "text": [
            "Batches:   2%|▏         | 38/2500 [00:33<35:17,  1.16it/s]\n"
          ]
        },
        {
          "name": "stdout",
          "output_type": "stream",
          "text": [
            "Epoch 0, Average Loss: 4.3632\n",
            "Model saved\n"
          ]
        },
        {
          "name": "stderr",
          "output_type": "stream",
          "text": [
            "Epochs:  30%|███       | 3/10 [00:00<00:00, 10.17it/s]\u001b[A"
          ]
        },
        {
          "name": "stdout",
          "output_type": "stream",
          "text": [
            "Epoch 5, Average Loss: 4.3631\n"
          ]
        },
        {
          "name": "stderr",
          "output_type": "stream",
          "text": [
            "Batches:   2%|▏         | 39/2500 [00:34<36:07,  1.14it/s]"
          ]
        },
        {
          "name": "stdout",
          "output_type": "stream",
          "text": [
            "Epoch 0, Average Loss: 0.4544\n",
            "Model saved\n"
          ]
        },
        {
          "name": "stderr",
          "output_type": "stream",
          "text": []
        },
        {
          "name": "stdout",
          "output_type": "stream",
          "text": [
            "Epoch 5, Average Loss: 0.4543\n"
          ]
        },
        {
          "name": "stderr",
          "output_type": "stream",
          "text": [
            "Batches:   2%|▏         | 40/2500 [00:35<35:44,  1.15it/s]\n"
          ]
        },
        {
          "name": "stdout",
          "output_type": "stream",
          "text": [
            "Epoch 0, Average Loss: 0.0038\n",
            "Model saved\n"
          ]
        },
        {
          "name": "stderr",
          "output_type": "stream",
          "text": [
            "Epochs:  30%|███       | 3/10 [00:00<00:00, 11.13it/s]\u001b[A"
          ]
        },
        {
          "name": "stdout",
          "output_type": "stream",
          "text": [
            "Epoch 5, Average Loss: 0.0038\n"
          ]
        },
        {
          "name": "stderr",
          "output_type": "stream",
          "text": [
            "Batches:   2%|▏         | 41/2500 [00:36<35:33,  1.15it/s]"
          ]
        },
        {
          "name": "stdout",
          "output_type": "stream",
          "text": [
            "Epoch 0, Average Loss: 0.0034\n",
            "Model saved\n"
          ]
        },
        {
          "name": "stderr",
          "output_type": "stream",
          "text": []
        },
        {
          "name": "stdout",
          "output_type": "stream",
          "text": [
            "Epoch 5, Average Loss: 0.0034\n"
          ]
        },
        {
          "name": "stderr",
          "output_type": "stream",
          "text": [
            "Batches:   2%|▏         | 42/2500 [00:37<36:14,  1.13it/s]\n"
          ]
        },
        {
          "name": "stdout",
          "output_type": "stream",
          "text": [
            "Epoch 0, Average Loss: 0.0389\n",
            "Model saved\n"
          ]
        },
        {
          "name": "stderr",
          "output_type": "stream",
          "text": [
            "Epochs:  30%|███       | 3/10 [00:00<00:00, 10.92it/s]\u001b[A"
          ]
        },
        {
          "name": "stdout",
          "output_type": "stream",
          "text": [
            "Epoch 5, Average Loss: 0.0389\n"
          ]
        },
        {
          "name": "stderr",
          "output_type": "stream",
          "text": [
            "Batches:   2%|▏         | 43/2500 [00:37<36:06,  1.13it/s]"
          ]
        },
        {
          "name": "stdout",
          "output_type": "stream",
          "text": [
            "Epoch 0, Average Loss: 0.0670\n",
            "Model saved\n"
          ]
        },
        {
          "name": "stderr",
          "output_type": "stream",
          "text": []
        },
        {
          "name": "stdout",
          "output_type": "stream",
          "text": [
            "Epoch 5, Average Loss: 0.0670\n"
          ]
        },
        {
          "name": "stderr",
          "output_type": "stream",
          "text": [
            "Batches:   2%|▏         | 44/2500 [00:38<35:41,  1.15it/s]"
          ]
        },
        {
          "name": "stdout",
          "output_type": "stream",
          "text": [
            "Epoch 0, Average Loss: 0.0084\n",
            "Model saved\n"
          ]
        },
        {
          "name": "stderr",
          "output_type": "stream",
          "text": []
        },
        {
          "name": "stdout",
          "output_type": "stream",
          "text": [
            "Epoch 5, Average Loss: 0.0084\n"
          ]
        },
        {
          "name": "stderr",
          "output_type": "stream",
          "text": [
            "Batches:   2%|▏         | 45/2500 [00:39<36:09,  1.13it/s]"
          ]
        },
        {
          "name": "stdout",
          "output_type": "stream",
          "text": [
            "Epoch 0, Average Loss: 0.1901\n",
            "Model saved\n"
          ]
        },
        {
          "name": "stderr",
          "output_type": "stream",
          "text": []
        },
        {
          "name": "stdout",
          "output_type": "stream",
          "text": [
            "Epoch 5, Average Loss: 0.1901\n"
          ]
        },
        {
          "name": "stderr",
          "output_type": "stream",
          "text": [
            "Batches:   2%|▏         | 46/2500 [00:40<36:20,  1.13it/s]"
          ]
        },
        {
          "name": "stdout",
          "output_type": "stream",
          "text": [
            "Epoch 0, Average Loss: 0.0390\n",
            "Model saved\n"
          ]
        },
        {
          "name": "stderr",
          "output_type": "stream",
          "text": []
        },
        {
          "name": "stdout",
          "output_type": "stream",
          "text": [
            "Epoch 5, Average Loss: 0.0390\n"
          ]
        },
        {
          "name": "stderr",
          "output_type": "stream",
          "text": [
            "Batches:   2%|▏         | 47/2500 [00:41<39:05,  1.05it/s]"
          ]
        },
        {
          "name": "stdout",
          "output_type": "stream",
          "text": [
            "Epoch 0, Average Loss: 0.0223\n",
            "Model saved\n"
          ]
        },
        {
          "name": "stderr",
          "output_type": "stream",
          "text": [
            "\n"
          ]
        },
        {
          "name": "stdout",
          "output_type": "stream",
          "text": [
            "Epoch 5, Average Loss: 0.0223\n"
          ]
        },
        {
          "name": "stderr",
          "output_type": "stream",
          "text": [
            "Batches:   2%|▏         | 48/2500 [00:42<38:49,  1.05it/s]"
          ]
        },
        {
          "name": "stdout",
          "output_type": "stream",
          "text": [
            "Epoch 0, Average Loss: 0.0025\n",
            "Model saved\n"
          ]
        },
        {
          "name": "stderr",
          "output_type": "stream",
          "text": []
        },
        {
          "name": "stdout",
          "output_type": "stream",
          "text": [
            "Epoch 5, Average Loss: 0.0025\n"
          ]
        },
        {
          "name": "stderr",
          "output_type": "stream",
          "text": [
            "Batches:   2%|▏         | 49/2500 [00:43<37:46,  1.08it/s]"
          ]
        },
        {
          "name": "stdout",
          "output_type": "stream",
          "text": [
            "Epoch 0, Average Loss: 0.0061\n",
            "Model saved\n"
          ]
        },
        {
          "name": "stderr",
          "output_type": "stream",
          "text": []
        },
        {
          "name": "stdout",
          "output_type": "stream",
          "text": [
            "Epoch 5, Average Loss: 0.0061\n"
          ]
        },
        {
          "name": "stderr",
          "output_type": "stream",
          "text": [
            "Batches:   2%|▏         | 50/2500 [00:44<37:15,  1.10it/s]"
          ]
        },
        {
          "name": "stdout",
          "output_type": "stream",
          "text": [
            "Epoch 0, Average Loss: 0.0032\n",
            "Model saved\n"
          ]
        },
        {
          "name": "stderr",
          "output_type": "stream",
          "text": []
        },
        {
          "name": "stdout",
          "output_type": "stream",
          "text": [
            "Epoch 5, Average Loss: 0.0032\n"
          ]
        },
        {
          "name": "stderr",
          "output_type": "stream",
          "text": [
            "Batches:   2%|▏         | 51/2500 [00:45<36:52,  1.11it/s]"
          ]
        },
        {
          "name": "stdout",
          "output_type": "stream",
          "text": [
            "Epoch 0, Average Loss: 0.0384\n",
            "Model saved\n"
          ]
        },
        {
          "name": "stderr",
          "output_type": "stream",
          "text": []
        },
        {
          "name": "stdout",
          "output_type": "stream",
          "text": [
            "Epoch 5, Average Loss: 0.0384\n"
          ]
        },
        {
          "name": "stderr",
          "output_type": "stream",
          "text": [
            "Batches:   2%|▏         | 52/2500 [00:46<36:56,  1.10it/s]\n"
          ]
        },
        {
          "name": "stdout",
          "output_type": "stream",
          "text": [
            "Epoch 0, Average Loss: 0.0049\n",
            "Model saved\n"
          ]
        },
        {
          "name": "stderr",
          "output_type": "stream",
          "text": [
            "Epochs:  30%|███       | 3/10 [00:00<00:00, 10.77it/s]\u001b[A"
          ]
        },
        {
          "name": "stdout",
          "output_type": "stream",
          "text": [
            "Epoch 5, Average Loss: 0.0049\n"
          ]
        },
        {
          "name": "stderr",
          "output_type": "stream",
          "text": [
            "Batches:   2%|▏         | 53/2500 [00:47<37:01,  1.10it/s]"
          ]
        },
        {
          "name": "stdout",
          "output_type": "stream",
          "text": [
            "Epoch 0, Average Loss: 0.0059\n",
            "Model saved\n"
          ]
        },
        {
          "name": "stderr",
          "output_type": "stream",
          "text": []
        },
        {
          "name": "stdout",
          "output_type": "stream",
          "text": [
            "Epoch 5, Average Loss: 0.0059\n"
          ]
        },
        {
          "name": "stderr",
          "output_type": "stream",
          "text": [
            "Batches:   2%|▏         | 54/2500 [00:47<36:49,  1.11it/s]"
          ]
        },
        {
          "name": "stdout",
          "output_type": "stream",
          "text": [
            "Epoch 0, Average Loss: 0.1159\n",
            "Model saved\n"
          ]
        },
        {
          "name": "stderr",
          "output_type": "stream",
          "text": []
        },
        {
          "name": "stdout",
          "output_type": "stream",
          "text": [
            "Epoch 5, Average Loss: 0.1159\n"
          ]
        },
        {
          "name": "stderr",
          "output_type": "stream",
          "text": [
            "Batches:   2%|▏         | 55/2500 [00:48<36:20,  1.12it/s]"
          ]
        },
        {
          "name": "stdout",
          "output_type": "stream",
          "text": [
            "Epoch 0, Average Loss: 0.0136\n",
            "Model saved\n"
          ]
        },
        {
          "name": "stderr",
          "output_type": "stream",
          "text": []
        },
        {
          "name": "stdout",
          "output_type": "stream",
          "text": [
            "Epoch 5, Average Loss: 0.0136\n"
          ]
        },
        {
          "name": "stderr",
          "output_type": "stream",
          "text": [
            "Batches:   2%|▏         | 56/2500 [00:49<36:34,  1.11it/s]"
          ]
        },
        {
          "name": "stdout",
          "output_type": "stream",
          "text": [
            "Epoch 0, Average Loss: 1.4226\n",
            "Model saved\n"
          ]
        },
        {
          "name": "stderr",
          "output_type": "stream",
          "text": []
        },
        {
          "name": "stdout",
          "output_type": "stream",
          "text": [
            "Epoch 5, Average Loss: 1.4226\n"
          ]
        },
        {
          "name": "stderr",
          "output_type": "stream",
          "text": [
            "Batches:   2%|▏         | 57/2500 [00:50<36:36,  1.11it/s]"
          ]
        },
        {
          "name": "stdout",
          "output_type": "stream",
          "text": [
            "Epoch 0, Average Loss: 0.0970\n",
            "Model saved\n"
          ]
        },
        {
          "name": "stderr",
          "output_type": "stream",
          "text": []
        },
        {
          "name": "stdout",
          "output_type": "stream",
          "text": [
            "Epoch 5, Average Loss: 0.0970\n"
          ]
        },
        {
          "name": "stderr",
          "output_type": "stream",
          "text": [
            "Batches:   2%|▏         | 58/2500 [01:07<3:46:41,  5.57s/it]"
          ]
        },
        {
          "name": "stdout",
          "output_type": "stream",
          "text": [
            "Epoch 0, Average Loss: 0.0036\n",
            "Model saved\n"
          ]
        },
        {
          "name": "stderr",
          "output_type": "stream",
          "text": []
        },
        {
          "name": "stdout",
          "output_type": "stream",
          "text": [
            "Epoch 5, Average Loss: 0.0036\n"
          ]
        },
        {
          "name": "stderr",
          "output_type": "stream",
          "text": [
            "Batches:   2%|▏         | 59/2500 [01:08<2:50:08,  4.18s/it]"
          ]
        },
        {
          "name": "stdout",
          "output_type": "stream",
          "text": [
            "Epoch 0, Average Loss: 0.0219\n",
            "Model saved\n"
          ]
        },
        {
          "name": "stderr",
          "output_type": "stream",
          "text": []
        },
        {
          "name": "stdout",
          "output_type": "stream",
          "text": [
            "Epoch 5, Average Loss: 0.0219\n"
          ]
        },
        {
          "name": "stderr",
          "output_type": "stream",
          "text": [
            "Batches:   2%|▏         | 60/2500 [01:09<2:11:16,  3.23s/it]"
          ]
        },
        {
          "name": "stdout",
          "output_type": "stream",
          "text": [
            "Epoch 0, Average Loss: 0.0040\n",
            "Model saved\n"
          ]
        },
        {
          "name": "stderr",
          "output_type": "stream",
          "text": []
        },
        {
          "name": "stdout",
          "output_type": "stream",
          "text": [
            "Epoch 5, Average Loss: 0.0040\n"
          ]
        },
        {
          "name": "stderr",
          "output_type": "stream",
          "text": [
            "Batches:   2%|▏         | 61/2500 [01:09<1:42:59,  2.53s/it]"
          ]
        },
        {
          "name": "stdout",
          "output_type": "stream",
          "text": [
            "Epoch 0, Average Loss: 0.0226\n",
            "Model saved\n"
          ]
        },
        {
          "name": "stderr",
          "output_type": "stream",
          "text": []
        },
        {
          "name": "stdout",
          "output_type": "stream",
          "text": [
            "Epoch 5, Average Loss: 0.0226\n"
          ]
        },
        {
          "name": "stderr",
          "output_type": "stream",
          "text": [
            "Batches:   2%|▏         | 62/2500 [01:10<1:24:26,  2.08s/it]"
          ]
        },
        {
          "name": "stdout",
          "output_type": "stream",
          "text": [
            "Epoch 0, Average Loss: 0.0207\n",
            "Model saved\n"
          ]
        },
        {
          "name": "stderr",
          "output_type": "stream",
          "text": [
            "\n"
          ]
        },
        {
          "name": "stdout",
          "output_type": "stream",
          "text": [
            "Epoch 5, Average Loss: 0.0207\n"
          ]
        },
        {
          "name": "stderr",
          "output_type": "stream",
          "text": [
            "Batches:   3%|▎         | 63/2500 [01:11<1:10:30,  1.74s/it]"
          ]
        },
        {
          "name": "stdout",
          "output_type": "stream",
          "text": [
            "Epoch 0, Average Loss: 0.0043\n",
            "Model saved\n"
          ]
        },
        {
          "name": "stderr",
          "output_type": "stream",
          "text": []
        },
        {
          "name": "stdout",
          "output_type": "stream",
          "text": [
            "Epoch 5, Average Loss: 0.0043\n"
          ]
        },
        {
          "name": "stderr",
          "output_type": "stream",
          "text": [
            "Batches:   3%|▎         | 64/2500 [01:12<1:01:38,  1.52s/it]"
          ]
        },
        {
          "name": "stdout",
          "output_type": "stream",
          "text": [
            "Epoch 0, Average Loss: 0.0037\n",
            "Model saved\n"
          ]
        },
        {
          "name": "stderr",
          "output_type": "stream",
          "text": []
        },
        {
          "name": "stdout",
          "output_type": "stream",
          "text": [
            "Epoch 5, Average Loss: 0.0037\n"
          ]
        },
        {
          "name": "stderr",
          "output_type": "stream",
          "text": [
            "Batches:   3%|▎         | 65/2500 [01:13<55:01,  1.36s/it]  \n",
            "Epochs:  30%|███       | 3/10 [00:00<00:00, 10.83it/s]"
          ]
        },
        {
          "name": "stdout",
          "output_type": "stream",
          "text": [
            "Epoch 0, Average Loss: 0.1016\n",
            "Model saved\n"
          ]
        },
        {
          "name": "stderr",
          "output_type": "stream",
          "text": [
            "\u001b[A"
          ]
        },
        {
          "name": "stdout",
          "output_type": "stream",
          "text": [
            "Epoch 5, Average Loss: 0.1016\n"
          ]
        },
        {
          "name": "stderr",
          "output_type": "stream",
          "text": [
            "Batches:   3%|▎         | 66/2500 [01:14<50:38,  1.25s/it]"
          ]
        },
        {
          "name": "stdout",
          "output_type": "stream",
          "text": [
            "Epoch 0, Average Loss: 0.0443\n",
            "Model saved\n"
          ]
        },
        {
          "name": "stderr",
          "output_type": "stream",
          "text": []
        },
        {
          "name": "stdout",
          "output_type": "stream",
          "text": [
            "Epoch 5, Average Loss: 0.0443\n"
          ]
        },
        {
          "name": "stderr",
          "output_type": "stream",
          "text": [
            "Batches:   3%|▎         | 67/2500 [01:16<49:25,  1.22s/it]"
          ]
        },
        {
          "name": "stdout",
          "output_type": "stream",
          "text": [
            "Epoch 0, Average Loss: 0.0023\n",
            "Model saved\n"
          ]
        },
        {
          "name": "stderr",
          "output_type": "stream",
          "text": []
        },
        {
          "name": "stdout",
          "output_type": "stream",
          "text": [
            "Epoch 5, Average Loss: 0.0023\n"
          ]
        },
        {
          "name": "stderr",
          "output_type": "stream",
          "text": [
            "Batches:   3%|▎         | 68/2500 [01:17<47:11,  1.16s/it]"
          ]
        },
        {
          "name": "stdout",
          "output_type": "stream",
          "text": [
            "Epoch 0, Average Loss: 0.0044\n",
            "Model saved\n"
          ]
        },
        {
          "name": "stderr",
          "output_type": "stream",
          "text": []
        },
        {
          "name": "stdout",
          "output_type": "stream",
          "text": [
            "Epoch 5, Average Loss: 0.0044\n"
          ]
        },
        {
          "name": "stderr",
          "output_type": "stream",
          "text": [
            "Batches:   3%|▎         | 69/2500 [01:18<46:55,  1.16s/it]"
          ]
        },
        {
          "name": "stdout",
          "output_type": "stream",
          "text": [
            "Epoch 0, Average Loss: 0.0132\n",
            "Model saved\n"
          ]
        },
        {
          "name": "stderr",
          "output_type": "stream",
          "text": []
        },
        {
          "name": "stdout",
          "output_type": "stream",
          "text": [
            "Epoch 5, Average Loss: 0.0132\n"
          ]
        },
        {
          "name": "stderr",
          "output_type": "stream",
          "text": [
            "Batches:   3%|▎         | 70/2500 [01:19<44:22,  1.10s/it]"
          ]
        },
        {
          "name": "stdout",
          "output_type": "stream",
          "text": [
            "Epoch 0, Average Loss: 0.0022\n",
            "Model saved\n"
          ]
        },
        {
          "name": "stderr",
          "output_type": "stream",
          "text": []
        },
        {
          "name": "stdout",
          "output_type": "stream",
          "text": [
            "Epoch 5, Average Loss: 0.0022\n"
          ]
        },
        {
          "name": "stderr",
          "output_type": "stream",
          "text": [
            "Batches:   3%|▎         | 71/2500 [01:20<42:56,  1.06s/it]\n"
          ]
        },
        {
          "name": "stdout",
          "output_type": "stream",
          "text": [
            "Epoch 0, Average Loss: 2.1394\n",
            "Model saved\n"
          ]
        },
        {
          "name": "stderr",
          "output_type": "stream",
          "text": [
            "Epochs:  30%|███       | 3/10 [00:00<00:00, 10.35it/s]\u001b[A"
          ]
        },
        {
          "name": "stdout",
          "output_type": "stream",
          "text": [
            "Epoch 5, Average Loss: 2.1394\n"
          ]
        },
        {
          "name": "stderr",
          "output_type": "stream",
          "text": [
            "Batches:   3%|▎         | 72/2500 [01:21<43:24,  1.07s/it]"
          ]
        },
        {
          "name": "stdout",
          "output_type": "stream",
          "text": [
            "Epoch 0, Average Loss: 0.0149\n",
            "Model saved\n"
          ]
        },
        {
          "name": "stderr",
          "output_type": "stream",
          "text": []
        },
        {
          "name": "stdout",
          "output_type": "stream",
          "text": [
            "Epoch 5, Average Loss: 0.0149\n"
          ]
        },
        {
          "name": "stderr",
          "output_type": "stream",
          "text": [
            "Batches:   3%|▎         | 73/2500 [01:22<43:15,  1.07s/it]"
          ]
        },
        {
          "name": "stdout",
          "output_type": "stream",
          "text": [
            "Epoch 0, Average Loss: 0.0363\n",
            "Model saved\n"
          ]
        },
        {
          "name": "stderr",
          "output_type": "stream",
          "text": []
        },
        {
          "name": "stdout",
          "output_type": "stream",
          "text": [
            "Epoch 5, Average Loss: 0.0363\n"
          ]
        },
        {
          "name": "stderr",
          "output_type": "stream",
          "text": [
            "Batches:   3%|▎         | 74/2500 [01:23<43:16,  1.07s/it]\n"
          ]
        },
        {
          "name": "stdout",
          "output_type": "stream",
          "text": [
            "Epoch 0, Average Loss: 0.4249\n",
            "Model saved\n"
          ]
        },
        {
          "name": "stderr",
          "output_type": "stream",
          "text": [
            "Epochs:  30%|███       | 3/10 [00:00<00:00, 10.90it/s]\u001b[A"
          ]
        },
        {
          "name": "stdout",
          "output_type": "stream",
          "text": [
            "Epoch 5, Average Loss: 0.4249\n"
          ]
        },
        {
          "name": "stderr",
          "output_type": "stream",
          "text": [
            "Batches:   3%|▎         | 75/2500 [01:24<43:24,  1.07s/it]"
          ]
        },
        {
          "name": "stdout",
          "output_type": "stream",
          "text": [
            "Epoch 0, Average Loss: 0.0166\n",
            "Model saved\n"
          ]
        },
        {
          "name": "stderr",
          "output_type": "stream",
          "text": []
        },
        {
          "name": "stdout",
          "output_type": "stream",
          "text": [
            "Epoch 5, Average Loss: 0.0166\n"
          ]
        },
        {
          "name": "stderr",
          "output_type": "stream",
          "text": [
            "Batches:   3%|▎         | 76/2500 [01:25<42:08,  1.04s/it]"
          ]
        },
        {
          "name": "stdout",
          "output_type": "stream",
          "text": [
            "Epoch 0, Average Loss: 0.0842\n",
            "Model saved\n"
          ]
        },
        {
          "name": "stderr",
          "output_type": "stream",
          "text": []
        },
        {
          "name": "stdout",
          "output_type": "stream",
          "text": [
            "Epoch 5, Average Loss: 0.0842\n"
          ]
        },
        {
          "name": "stderr",
          "output_type": "stream",
          "text": [
            "Batches:   3%|▎         | 77/2500 [01:26<42:56,  1.06s/it]"
          ]
        },
        {
          "name": "stdout",
          "output_type": "stream",
          "text": [
            "Epoch 0, Average Loss: 0.0250\n",
            "Model saved\n"
          ]
        },
        {
          "name": "stderr",
          "output_type": "stream",
          "text": []
        },
        {
          "name": "stdout",
          "output_type": "stream",
          "text": [
            "Epoch 5, Average Loss: 0.0250\n"
          ]
        },
        {
          "name": "stderr",
          "output_type": "stream",
          "text": [
            "Batches:   3%|▎         | 78/2500 [01:27<42:13,  1.05s/it]"
          ]
        },
        {
          "name": "stdout",
          "output_type": "stream",
          "text": [
            "Epoch 0, Average Loss: 0.1309\n",
            "Model saved\n"
          ]
        },
        {
          "name": "stderr",
          "output_type": "stream",
          "text": []
        },
        {
          "name": "stdout",
          "output_type": "stream",
          "text": [
            "Epoch 5, Average Loss: 0.1309\n"
          ]
        },
        {
          "name": "stderr",
          "output_type": "stream",
          "text": [
            "Batches:   3%|▎         | 79/2500 [01:28<41:48,  1.04s/it]"
          ]
        },
        {
          "name": "stdout",
          "output_type": "stream",
          "text": [
            "Epoch 0, Average Loss: 0.0030\n",
            "Model saved\n"
          ]
        },
        {
          "name": "stderr",
          "output_type": "stream",
          "text": []
        },
        {
          "name": "stdout",
          "output_type": "stream",
          "text": [
            "Epoch 5, Average Loss: 0.0030\n"
          ]
        },
        {
          "name": "stderr",
          "output_type": "stream",
          "text": [
            "Batches:   3%|▎         | 80/2500 [01:29<41:00,  1.02s/it]"
          ]
        },
        {
          "name": "stdout",
          "output_type": "stream",
          "text": [
            "Epoch 0, Average Loss: 0.3250\n",
            "Model saved\n"
          ]
        },
        {
          "name": "stderr",
          "output_type": "stream",
          "text": []
        },
        {
          "name": "stdout",
          "output_type": "stream",
          "text": [
            "Epoch 5, Average Loss: 0.3250\n"
          ]
        },
        {
          "name": "stderr",
          "output_type": "stream",
          "text": [
            "Batches:   3%|▎         | 81/2500 [01:30<39:48,  1.01it/s]"
          ]
        },
        {
          "name": "stdout",
          "output_type": "stream",
          "text": [
            "Epoch 0, Average Loss: 0.0054\n",
            "Model saved\n"
          ]
        },
        {
          "name": "stderr",
          "output_type": "stream",
          "text": []
        },
        {
          "name": "stdout",
          "output_type": "stream",
          "text": [
            "Epoch 5, Average Loss: 0.0054\n"
          ]
        },
        {
          "name": "stderr",
          "output_type": "stream",
          "text": [
            "Batches:   3%|▎         | 82/2500 [01:31<41:29,  1.03s/it]"
          ]
        },
        {
          "name": "stdout",
          "output_type": "stream",
          "text": [
            "Epoch 0, Average Loss: 0.0632\n",
            "Model saved\n"
          ]
        },
        {
          "name": "stderr",
          "output_type": "stream",
          "text": []
        },
        {
          "name": "stdout",
          "output_type": "stream",
          "text": [
            "Epoch 5, Average Loss: 0.0632\n"
          ]
        },
        {
          "name": "stderr",
          "output_type": "stream",
          "text": [
            "Batches:   3%|▎         | 83/2500 [01:32<41:15,  1.02s/it]"
          ]
        },
        {
          "name": "stdout",
          "output_type": "stream",
          "text": [
            "Epoch 0, Average Loss: 0.0040\n",
            "Model saved\n"
          ]
        },
        {
          "name": "stderr",
          "output_type": "stream",
          "text": []
        },
        {
          "name": "stdout",
          "output_type": "stream",
          "text": [
            "Epoch 5, Average Loss: 0.0040\n"
          ]
        },
        {
          "name": "stderr",
          "output_type": "stream",
          "text": [
            "Batches:   3%|▎         | 84/2500 [01:33<41:39,  1.03s/it]"
          ]
        },
        {
          "name": "stdout",
          "output_type": "stream",
          "text": [
            "Epoch 0, Average Loss: 0.1321\n",
            "Model saved\n"
          ]
        },
        {
          "name": "stderr",
          "output_type": "stream",
          "text": []
        },
        {
          "name": "stdout",
          "output_type": "stream",
          "text": [
            "Epoch 5, Average Loss: 0.1321\n"
          ]
        },
        {
          "name": "stderr",
          "output_type": "stream",
          "text": [
            "Batches:   3%|▎         | 85/2500 [01:34<41:17,  1.03s/it]"
          ]
        },
        {
          "name": "stdout",
          "output_type": "stream",
          "text": [
            "Epoch 0, Average Loss: 0.0082\n",
            "Model saved\n"
          ]
        },
        {
          "name": "stderr",
          "output_type": "stream",
          "text": []
        },
        {
          "name": "stdout",
          "output_type": "stream",
          "text": [
            "Epoch 5, Average Loss: 0.0082\n"
          ]
        },
        {
          "name": "stderr",
          "output_type": "stream",
          "text": [
            "Batches:   3%|▎         | 86/2500 [01:35<42:15,  1.05s/it]\n"
          ]
        },
        {
          "name": "stdout",
          "output_type": "stream",
          "text": [
            "Epoch 0, Average Loss: 0.0039\n",
            "Model saved\n"
          ]
        },
        {
          "name": "stderr",
          "output_type": "stream",
          "text": [
            "Epochs:  30%|███       | 3/10 [00:00<00:00, 11.03it/s]\u001b[A\n"
          ]
        },
        {
          "name": "stdout",
          "output_type": "stream",
          "text": [
            "Epoch 5, Average Loss: 0.0039\n"
          ]
        },
        {
          "name": "stderr",
          "output_type": "stream",
          "text": [
            "Batches:   3%|▎         | 87/2500 [01:36<42:21,  1.05s/it]\n"
          ]
        },
        {
          "name": "stdout",
          "output_type": "stream",
          "text": [
            "Epoch 0, Average Loss: 0.0231\n",
            "Model saved\n"
          ]
        },
        {
          "name": "stderr",
          "output_type": "stream",
          "text": [
            "Epochs:  30%|███       | 3/10 [00:00<00:00, 10.29it/s]\u001b[A"
          ]
        },
        {
          "name": "stdout",
          "output_type": "stream",
          "text": [
            "Epoch 5, Average Loss: 0.0231\n"
          ]
        },
        {
          "name": "stderr",
          "output_type": "stream",
          "text": [
            "Batches:   4%|▎         | 88/2500 [01:37<42:48,  1.06s/it]"
          ]
        },
        {
          "name": "stdout",
          "output_type": "stream",
          "text": [
            "Epoch 0, Average Loss: 0.0380\n",
            "Model saved\n"
          ]
        },
        {
          "name": "stderr",
          "output_type": "stream",
          "text": []
        },
        {
          "name": "stdout",
          "output_type": "stream",
          "text": [
            "Epoch 5, Average Loss: 0.0380\n"
          ]
        },
        {
          "name": "stderr",
          "output_type": "stream",
          "text": [
            "Batches:   4%|▎         | 89/2500 [01:39<43:32,  1.08s/it]"
          ]
        },
        {
          "name": "stdout",
          "output_type": "stream",
          "text": [
            "Epoch 0, Average Loss: 0.0115\n",
            "Model saved\n"
          ]
        },
        {
          "name": "stderr",
          "output_type": "stream",
          "text": []
        },
        {
          "name": "stdout",
          "output_type": "stream",
          "text": [
            "Epoch 5, Average Loss: 0.0115\n"
          ]
        },
        {
          "name": "stderr",
          "output_type": "stream",
          "text": [
            "Batches:   4%|▎         | 90/2500 [01:40<44:27,  1.11s/it]"
          ]
        },
        {
          "name": "stdout",
          "output_type": "stream",
          "text": [
            "Epoch 0, Average Loss: 0.0756\n"
          ]
        },
        {
          "name": "stderr",
          "output_type": "stream",
          "text": []
        },
        {
          "name": "stdout",
          "output_type": "stream",
          "text": [
            "Model saved\n"
          ]
        },
        {
          "name": "stderr",
          "output_type": "stream",
          "text": []
        },
        {
          "name": "stdout",
          "output_type": "stream",
          "text": [
            "Epoch 5, Average Loss: 0.0756\n"
          ]
        },
        {
          "name": "stderr",
          "output_type": "stream",
          "text": [
            "Batches:   4%|▎         | 91/2500 [01:41<51:34,  1.28s/it]\n"
          ]
        },
        {
          "name": "stdout",
          "output_type": "stream",
          "text": [
            "Epoch 0, Average Loss: 0.0850\n",
            "Model saved\n"
          ]
        },
        {
          "name": "stderr",
          "output_type": "stream",
          "text": [
            "Epochs:  20%|██        | 2/10 [00:00<00:01,  5.68it/s]\u001b[A"
          ]
        },
        {
          "name": "stdout",
          "output_type": "stream",
          "text": [
            "Epoch 5, Average Loss: 0.0850\n"
          ]
        },
        {
          "name": "stderr",
          "output_type": "stream",
          "text": [
            "Batches:   4%|▎         | 92/2500 [01:43<50:34,  1.26s/it]"
          ]
        },
        {
          "name": "stdout",
          "output_type": "stream",
          "text": [
            "Epoch 0, Average Loss: 0.0432\n",
            "Model saved\n"
          ]
        },
        {
          "name": "stderr",
          "output_type": "stream",
          "text": []
        },
        {
          "name": "stdout",
          "output_type": "stream",
          "text": [
            "Epoch 5, Average Loss: 0.0432\n"
          ]
        },
        {
          "name": "stderr",
          "output_type": "stream",
          "text": [
            "Batches:   4%|▎         | 93/2500 [01:44<50:27,  1.26s/it]"
          ]
        },
        {
          "name": "stdout",
          "output_type": "stream",
          "text": [
            "Epoch 0, Average Loss: 0.0042\n",
            "Model saved\n"
          ]
        },
        {
          "name": "stderr",
          "output_type": "stream",
          "text": [
            "\n"
          ]
        },
        {
          "name": "stdout",
          "output_type": "stream",
          "text": [
            "Epoch 5, Average Loss: 0.0042\n"
          ]
        },
        {
          "name": "stderr",
          "output_type": "stream",
          "text": [
            "Batches:   4%|▍         | 94/2500 [01:45<50:35,  1.26s/it]\n"
          ]
        },
        {
          "name": "stdout",
          "output_type": "stream",
          "text": [
            "Epoch 0, Average Loss: 0.0094\n",
            "Model saved\n"
          ]
        },
        {
          "name": "stderr",
          "output_type": "stream",
          "text": [
            "Epochs:  30%|███       | 3/10 [00:00<00:00, 11.42it/s]\u001b[A"
          ]
        },
        {
          "name": "stdout",
          "output_type": "stream",
          "text": [
            "Epoch 5, Average Loss: 0.0094\n"
          ]
        },
        {
          "name": "stderr",
          "output_type": "stream",
          "text": [
            "Batches:   4%|▍         | 95/2500 [01:46<48:27,  1.21s/it]"
          ]
        },
        {
          "name": "stdout",
          "output_type": "stream",
          "text": [
            "Epoch 0, Average Loss: 0.0401\n",
            "Model saved\n"
          ]
        },
        {
          "name": "stderr",
          "output_type": "stream",
          "text": []
        },
        {
          "name": "stdout",
          "output_type": "stream",
          "text": [
            "Epoch 5, Average Loss: 0.0401\n"
          ]
        },
        {
          "name": "stderr",
          "output_type": "stream",
          "text": [
            "Batches:   4%|▍         | 96/2500 [01:47<46:17,  1.16s/it]"
          ]
        },
        {
          "name": "stdout",
          "output_type": "stream",
          "text": [
            "Epoch 0, Average Loss: 0.0154\n",
            "Model saved\n"
          ]
        },
        {
          "name": "stderr",
          "output_type": "stream",
          "text": []
        },
        {
          "name": "stdout",
          "output_type": "stream",
          "text": [
            "Epoch 5, Average Loss: 0.0154\n"
          ]
        },
        {
          "name": "stderr",
          "output_type": "stream",
          "text": [
            "Batches:   4%|▍         | 97/2500 [01:48<46:28,  1.16s/it]\n"
          ]
        },
        {
          "name": "stdout",
          "output_type": "stream",
          "text": [
            "Epoch 0, Average Loss: 0.0086\n",
            "Model saved\n"
          ]
        },
        {
          "name": "stderr",
          "output_type": "stream",
          "text": [
            "Epochs:  30%|███       | 3/10 [00:00<00:00, 10.85it/s]\u001b[A\n"
          ]
        },
        {
          "name": "stdout",
          "output_type": "stream",
          "text": [
            "Epoch 5, Average Loss: 0.0086\n"
          ]
        },
        {
          "name": "stderr",
          "output_type": "stream",
          "text": [
            "Batches:   4%|▍         | 98/2500 [01:49<45:06,  1.13s/it]"
          ]
        },
        {
          "name": "stdout",
          "output_type": "stream",
          "text": [
            "Epoch 0, Average Loss: 0.0041\n",
            "Model saved\n"
          ]
        },
        {
          "name": "stderr",
          "output_type": "stream",
          "text": []
        },
        {
          "name": "stdout",
          "output_type": "stream",
          "text": [
            "Epoch 5, Average Loss: 0.0041\n"
          ]
        },
        {
          "name": "stderr",
          "output_type": "stream",
          "text": [
            "Batches:   4%|▍         | 99/2500 [01:50<42:37,  1.07s/it]"
          ]
        },
        {
          "name": "stdout",
          "output_type": "stream",
          "text": [
            "Epoch 0, Average Loss: 0.0208\n",
            "Model saved\n"
          ]
        },
        {
          "name": "stderr",
          "output_type": "stream",
          "text": [
            "\n",
            "Epochs:  80%|████████  | 8/10 [00:00<00:00, 10.42it/s]"
          ]
        },
        {
          "name": "stdout",
          "output_type": "stream",
          "text": [
            "Epoch 5, Average Loss: 0.0208\n"
          ]
        },
        {
          "name": "stderr",
          "output_type": "stream",
          "text": [
            "Batches:   4%|▍         | 100/2500 [01:51<42:52,  1.07s/it]"
          ]
        },
        {
          "name": "stdout",
          "output_type": "stream",
          "text": [
            "Epoch 0, Average Loss: 0.0055\n",
            "Model saved\n"
          ]
        },
        {
          "name": "stderr",
          "output_type": "stream",
          "text": []
        },
        {
          "name": "stdout",
          "output_type": "stream",
          "text": [
            "Epoch 5, Average Loss: 0.0055\n"
          ]
        },
        {
          "name": "stderr",
          "output_type": "stream",
          "text": [
            "Batches:   4%|▍         | 101/2500 [01:53<43:05,  1.08s/it]"
          ]
        },
        {
          "name": "stdout",
          "output_type": "stream",
          "text": [
            "Epoch 0, Average Loss: 0.0090\n",
            "Model saved\n"
          ]
        },
        {
          "name": "stderr",
          "output_type": "stream",
          "text": []
        },
        {
          "name": "stdout",
          "output_type": "stream",
          "text": [
            "Epoch 5, Average Loss: 0.0090\n"
          ]
        },
        {
          "name": "stderr",
          "output_type": "stream",
          "text": [
            "Batches:   4%|▍         | 102/2500 [01:53<40:47,  1.02s/it]"
          ]
        },
        {
          "name": "stdout",
          "output_type": "stream",
          "text": [
            "Epoch 0, Average Loss: 0.0615\n",
            "Model saved\n"
          ]
        },
        {
          "name": "stderr",
          "output_type": "stream",
          "text": []
        },
        {
          "name": "stdout",
          "output_type": "stream",
          "text": [
            "Epoch 5, Average Loss: 0.0615\n"
          ]
        },
        {
          "name": "stderr",
          "output_type": "stream",
          "text": [
            "Batches:   4%|▍         | 103/2500 [02:11<3:54:09,  5.86s/it]"
          ]
        },
        {
          "name": "stdout",
          "output_type": "stream",
          "text": [
            "Epoch 0, Average Loss: 0.2874\n",
            "Model saved\n"
          ]
        },
        {
          "name": "stderr",
          "output_type": "stream",
          "text": []
        },
        {
          "name": "stdout",
          "output_type": "stream",
          "text": [
            "Epoch 5, Average Loss: 0.2874\n"
          ]
        },
        {
          "name": "stderr",
          "output_type": "stream",
          "text": [
            "Batches:   4%|▍         | 104/2500 [02:12<2:56:13,  4.41s/it]"
          ]
        },
        {
          "name": "stdout",
          "output_type": "stream",
          "text": [
            "Epoch 0, Average Loss: 0.0060\n",
            "Model saved\n"
          ]
        },
        {
          "name": "stderr",
          "output_type": "stream",
          "text": []
        },
        {
          "name": "stdout",
          "output_type": "stream",
          "text": [
            "Epoch 5, Average Loss: 0.0060\n"
          ]
        },
        {
          "name": "stderr",
          "output_type": "stream",
          "text": [
            "Batches:   4%|▍         | 105/2500 [02:13<2:16:35,  3.42s/it]"
          ]
        },
        {
          "name": "stdout",
          "output_type": "stream",
          "text": [
            "Epoch 0, Average Loss: 0.2075\n",
            "Model saved\n"
          ]
        },
        {
          "name": "stderr",
          "output_type": "stream",
          "text": []
        },
        {
          "name": "stdout",
          "output_type": "stream",
          "text": [
            "Epoch 5, Average Loss: 0.2075\n"
          ]
        },
        {
          "name": "stderr",
          "output_type": "stream",
          "text": [
            "Batches:   4%|▍         | 106/2500 [02:14<1:48:52,  2.73s/it]"
          ]
        },
        {
          "name": "stdout",
          "output_type": "stream",
          "text": [
            "Epoch 0, Average Loss: 0.1398\n",
            "Model saved\n"
          ]
        },
        {
          "name": "stderr",
          "output_type": "stream",
          "text": []
        },
        {
          "name": "stdout",
          "output_type": "stream",
          "text": [
            "Epoch 5, Average Loss: 0.1398\n"
          ]
        },
        {
          "name": "stderr",
          "output_type": "stream",
          "text": [
            "Batches:   4%|▍         | 107/2500 [02:15<1:29:52,  2.25s/it]"
          ]
        },
        {
          "name": "stdout",
          "output_type": "stream",
          "text": [
            "Epoch 0, Average Loss: 0.0833\n",
            "Model saved\n"
          ]
        },
        {
          "name": "stderr",
          "output_type": "stream",
          "text": []
        },
        {
          "name": "stdout",
          "output_type": "stream",
          "text": [
            "Epoch 5, Average Loss: 0.0833\n"
          ]
        },
        {
          "name": "stderr",
          "output_type": "stream",
          "text": [
            "Batches:   4%|▍         | 108/2500 [02:16<1:15:05,  1.88s/it]"
          ]
        },
        {
          "name": "stdout",
          "output_type": "stream",
          "text": [
            "Epoch 0, Average Loss: 0.0027\n",
            "Model saved\n"
          ]
        },
        {
          "name": "stderr",
          "output_type": "stream",
          "text": []
        },
        {
          "name": "stdout",
          "output_type": "stream",
          "text": [
            "Epoch 5, Average Loss: 0.0027\n"
          ]
        },
        {
          "name": "stderr",
          "output_type": "stream",
          "text": [
            "Batches:   4%|▍         | 109/2500 [02:17<1:05:17,  1.64s/it]"
          ]
        },
        {
          "name": "stdout",
          "output_type": "stream",
          "text": [
            "Epoch 0, Average Loss: 0.0214\n",
            "Model saved\n"
          ]
        },
        {
          "name": "stderr",
          "output_type": "stream",
          "text": []
        },
        {
          "name": "stdout",
          "output_type": "stream",
          "text": [
            "Epoch 5, Average Loss: 0.0214\n"
          ]
        },
        {
          "name": "stderr",
          "output_type": "stream",
          "text": [
            "Batches:   4%|▍         | 110/2500 [02:18<57:58,  1.46s/it]  "
          ]
        },
        {
          "name": "stdout",
          "output_type": "stream",
          "text": [
            "Epoch 0, Average Loss: 0.0136\n",
            "Model saved\n"
          ]
        },
        {
          "name": "stderr",
          "output_type": "stream",
          "text": []
        },
        {
          "name": "stdout",
          "output_type": "stream",
          "text": [
            "Epoch 5, Average Loss: 0.0136\n"
          ]
        },
        {
          "name": "stderr",
          "output_type": "stream",
          "text": [
            "Batches:   4%|▍         | 111/2500 [02:19<51:42,  1.30s/it]"
          ]
        },
        {
          "name": "stdout",
          "output_type": "stream",
          "text": [
            "Epoch 0, Average Loss: 0.0042\n",
            "Model saved\n"
          ]
        },
        {
          "name": "stderr",
          "output_type": "stream",
          "text": [
            "\n"
          ]
        },
        {
          "name": "stdout",
          "output_type": "stream",
          "text": [
            "Epoch 5, Average Loss: 0.0042\n"
          ]
        },
        {
          "name": "stderr",
          "output_type": "stream",
          "text": [
            "Batches:   4%|▍         | 112/2500 [02:20<48:49,  1.23s/it]"
          ]
        },
        {
          "name": "stdout",
          "output_type": "stream",
          "text": [
            "Epoch 0, Average Loss: 0.0176\n",
            "Model saved\n"
          ]
        },
        {
          "name": "stderr",
          "output_type": "stream",
          "text": []
        },
        {
          "name": "stdout",
          "output_type": "stream",
          "text": [
            "Epoch 5, Average Loss: 0.0176\n"
          ]
        },
        {
          "name": "stderr",
          "output_type": "stream",
          "text": [
            "Batches:   5%|▍         | 113/2500 [02:21<46:55,  1.18s/it]"
          ]
        },
        {
          "name": "stdout",
          "output_type": "stream",
          "text": [
            "Epoch 0, Average Loss: 0.0049\n",
            "Model saved\n"
          ]
        },
        {
          "name": "stderr",
          "output_type": "stream",
          "text": []
        },
        {
          "name": "stdout",
          "output_type": "stream",
          "text": [
            "Epoch 5, Average Loss: 0.0049\n"
          ]
        },
        {
          "name": "stderr",
          "output_type": "stream",
          "text": [
            "Batches:   5%|▍         | 114/2500 [02:22<45:32,  1.15s/it]"
          ]
        },
        {
          "name": "stdout",
          "output_type": "stream",
          "text": [
            "Epoch 0, Average Loss: 0.1707\n",
            "Model saved\n"
          ]
        },
        {
          "name": "stderr",
          "output_type": "stream",
          "text": []
        },
        {
          "name": "stdout",
          "output_type": "stream",
          "text": [
            "Epoch 5, Average Loss: 0.1707\n"
          ]
        },
        {
          "name": "stderr",
          "output_type": "stream",
          "text": [
            "Batches:   5%|▍         | 115/2500 [02:23<43:27,  1.09s/it]"
          ]
        },
        {
          "name": "stdout",
          "output_type": "stream",
          "text": [
            "Epoch 0, Average Loss: 0.0535\n",
            "Model saved\n"
          ]
        },
        {
          "name": "stderr",
          "output_type": "stream",
          "text": []
        },
        {
          "name": "stdout",
          "output_type": "stream",
          "text": [
            "Epoch 5, Average Loss: 0.0535\n"
          ]
        },
        {
          "name": "stderr",
          "output_type": "stream",
          "text": [
            "Batches:   5%|▍         | 116/2500 [02:24<43:04,  1.08s/it]"
          ]
        },
        {
          "name": "stdout",
          "output_type": "stream",
          "text": [
            "Epoch 0, Average Loss: 0.1247\n",
            "Model saved\n"
          ]
        },
        {
          "name": "stderr",
          "output_type": "stream",
          "text": []
        },
        {
          "name": "stdout",
          "output_type": "stream",
          "text": [
            "Epoch 5, Average Loss: 0.1247\n"
          ]
        },
        {
          "name": "stderr",
          "output_type": "stream",
          "text": [
            "Batches:   5%|▍         | 117/2500 [02:26<45:05,  1.14s/it]"
          ]
        },
        {
          "name": "stdout",
          "output_type": "stream",
          "text": [
            "Epoch 0, Average Loss: 0.1912\n",
            "Model saved\n"
          ]
        },
        {
          "name": "stderr",
          "output_type": "stream",
          "text": []
        },
        {
          "name": "stdout",
          "output_type": "stream",
          "text": [
            "Epoch 5, Average Loss: 0.1912\n"
          ]
        },
        {
          "name": "stderr",
          "output_type": "stream",
          "text": [
            "Batches:   5%|▍         | 118/2500 [02:27<46:35,  1.17s/it]"
          ]
        },
        {
          "name": "stdout",
          "output_type": "stream",
          "text": [
            "Epoch 0, Average Loss: 0.0025\n",
            "Model saved\n"
          ]
        },
        {
          "name": "stderr",
          "output_type": "stream",
          "text": []
        },
        {
          "name": "stdout",
          "output_type": "stream",
          "text": [
            "Epoch 5, Average Loss: 0.0025\n"
          ]
        },
        {
          "name": "stderr",
          "output_type": "stream",
          "text": [
            "Batches:   5%|▍         | 119/2500 [02:28<45:31,  1.15s/it]"
          ]
        },
        {
          "name": "stdout",
          "output_type": "stream",
          "text": [
            "Epoch 0, Average Loss: 0.1683\n",
            "Model saved\n"
          ]
        },
        {
          "name": "stderr",
          "output_type": "stream",
          "text": []
        },
        {
          "name": "stdout",
          "output_type": "stream",
          "text": [
            "Epoch 5, Average Loss: 0.1683\n"
          ]
        },
        {
          "name": "stderr",
          "output_type": "stream",
          "text": [
            "Batches:   5%|▍         | 120/2500 [02:29<47:50,  1.21s/it]"
          ]
        },
        {
          "name": "stdout",
          "output_type": "stream",
          "text": [
            "Epoch 0, Average Loss: 0.0919\n",
            "Model saved\n"
          ]
        },
        {
          "name": "stderr",
          "output_type": "stream",
          "text": []
        },
        {
          "name": "stdout",
          "output_type": "stream",
          "text": [
            "Epoch 5, Average Loss: 0.0919\n"
          ]
        },
        {
          "name": "stderr",
          "output_type": "stream",
          "text": [
            "Batches:   5%|▍         | 121/2500 [02:30<47:21,  1.19s/it]"
          ]
        },
        {
          "name": "stdout",
          "output_type": "stream",
          "text": [
            "Epoch 0, Average Loss: 0.0095\n",
            "Model saved\n"
          ]
        },
        {
          "name": "stderr",
          "output_type": "stream",
          "text": []
        },
        {
          "name": "stdout",
          "output_type": "stream",
          "text": [
            "Epoch 5, Average Loss: 0.0095\n"
          ]
        },
        {
          "name": "stderr",
          "output_type": "stream",
          "text": [
            "Batches:   5%|▍         | 122/2500 [02:31<45:17,  1.14s/it]"
          ]
        },
        {
          "name": "stdout",
          "output_type": "stream",
          "text": [
            "Epoch 0, Average Loss: 0.0082\n",
            "Model saved\n"
          ]
        },
        {
          "name": "stderr",
          "output_type": "stream",
          "text": []
        },
        {
          "name": "stdout",
          "output_type": "stream",
          "text": [
            "Epoch 5, Average Loss: 0.0082\n"
          ]
        },
        {
          "name": "stderr",
          "output_type": "stream",
          "text": [
            "Batches:   5%|▍         | 123/2500 [02:33<45:37,  1.15s/it]"
          ]
        },
        {
          "name": "stdout",
          "output_type": "stream",
          "text": [
            "Epoch 0, Average Loss: 0.0101\n",
            "Model saved\n"
          ]
        },
        {
          "name": "stderr",
          "output_type": "stream",
          "text": []
        },
        {
          "name": "stdout",
          "output_type": "stream",
          "text": [
            "Epoch 5, Average Loss: 0.0101\n"
          ]
        },
        {
          "name": "stderr",
          "output_type": "stream",
          "text": [
            "Batches:   5%|▍         | 124/2500 [02:34<45:39,  1.15s/it]"
          ]
        },
        {
          "name": "stdout",
          "output_type": "stream",
          "text": [
            "Epoch 0, Average Loss: 0.0559\n",
            "Model saved\n"
          ]
        },
        {
          "name": "stderr",
          "output_type": "stream",
          "text": []
        },
        {
          "name": "stdout",
          "output_type": "stream",
          "text": [
            "Epoch 5, Average Loss: 0.0559\n"
          ]
        },
        {
          "name": "stderr",
          "output_type": "stream",
          "text": [
            "Batches:   5%|▌         | 125/2500 [02:35<46:54,  1.18s/it]\n"
          ]
        },
        {
          "name": "stdout",
          "output_type": "stream",
          "text": [
            "Epoch 0, Average Loss: 0.0369\n",
            "Model saved\n"
          ]
        },
        {
          "name": "stderr",
          "output_type": "stream",
          "text": [
            "Epochs:  30%|███       | 3/10 [00:00<00:00,  9.86it/s]\u001b[A"
          ]
        },
        {
          "name": "stdout",
          "output_type": "stream",
          "text": [
            "Epoch 5, Average Loss: 0.0369\n"
          ]
        },
        {
          "name": "stderr",
          "output_type": "stream",
          "text": [
            "Batches:   5%|▌         | 126/2500 [02:36<44:37,  1.13s/it]"
          ]
        },
        {
          "name": "stdout",
          "output_type": "stream",
          "text": [
            "Epoch 0, Average Loss: 0.0387\n",
            "Model saved\n"
          ]
        },
        {
          "name": "stderr",
          "output_type": "stream",
          "text": []
        },
        {
          "name": "stdout",
          "output_type": "stream",
          "text": [
            "Epoch 5, Average Loss: 0.0387\n"
          ]
        },
        {
          "name": "stderr",
          "output_type": "stream",
          "text": [
            "Batches:   5%|▌         | 127/2500 [02:37<41:29,  1.05s/it]"
          ]
        },
        {
          "name": "stdout",
          "output_type": "stream",
          "text": [
            "Epoch 0, Average Loss: 0.1052\n",
            "Model saved\n"
          ]
        },
        {
          "name": "stderr",
          "output_type": "stream",
          "text": []
        },
        {
          "name": "stdout",
          "output_type": "stream",
          "text": [
            "Epoch 5, Average Loss: 0.1052\n"
          ]
        },
        {
          "name": "stderr",
          "output_type": "stream",
          "text": [
            "Batches:   5%|▌         | 128/2500 [02:38<42:13,  1.07s/it]"
          ]
        },
        {
          "name": "stdout",
          "output_type": "stream",
          "text": [
            "Epoch 0, Average Loss: 0.1320\n",
            "Model saved\n"
          ]
        },
        {
          "name": "stderr",
          "output_type": "stream",
          "text": []
        },
        {
          "name": "stdout",
          "output_type": "stream",
          "text": [
            "Epoch 5, Average Loss: 0.1320\n"
          ]
        },
        {
          "name": "stderr",
          "output_type": "stream",
          "text": [
            "Batches:   5%|▌         | 129/2500 [02:39<40:54,  1.04s/it]"
          ]
        },
        {
          "name": "stdout",
          "output_type": "stream",
          "text": [
            "Epoch 0, Average Loss: 0.0220\n",
            "Model saved\n"
          ]
        },
        {
          "name": "stderr",
          "output_type": "stream",
          "text": []
        },
        {
          "name": "stdout",
          "output_type": "stream",
          "text": [
            "Epoch 5, Average Loss: 0.0220\n"
          ]
        },
        {
          "name": "stderr",
          "output_type": "stream",
          "text": [
            "Batches:   5%|▌         | 130/2500 [02:40<40:50,  1.03s/it]"
          ]
        },
        {
          "name": "stdout",
          "output_type": "stream",
          "text": [
            "Epoch 0, Average Loss: 0.0666\n",
            "Model saved\n"
          ]
        },
        {
          "name": "stderr",
          "output_type": "stream",
          "text": []
        },
        {
          "name": "stdout",
          "output_type": "stream",
          "text": [
            "Epoch 5, Average Loss: 0.0666\n"
          ]
        },
        {
          "name": "stderr",
          "output_type": "stream",
          "text": [
            "Batches:   5%|▌         | 131/2500 [02:41<41:01,  1.04s/it]"
          ]
        },
        {
          "name": "stdout",
          "output_type": "stream",
          "text": [
            "Epoch 0, Average Loss: 0.0109\n",
            "Model saved\n"
          ]
        },
        {
          "name": "stderr",
          "output_type": "stream",
          "text": []
        },
        {
          "name": "stdout",
          "output_type": "stream",
          "text": [
            "Epoch 5, Average Loss: 0.0109\n"
          ]
        },
        {
          "name": "stderr",
          "output_type": "stream",
          "text": [
            "Batches:   5%|▌         | 132/2500 [02:42<41:56,  1.06s/it]"
          ]
        },
        {
          "name": "stdout",
          "output_type": "stream",
          "text": [
            "Epoch 0, Average Loss: 0.0044\n",
            "Model saved\n"
          ]
        },
        {
          "name": "stderr",
          "output_type": "stream",
          "text": [
            "\n"
          ]
        },
        {
          "name": "stdout",
          "output_type": "stream",
          "text": [
            "Epoch 5, Average Loss: 0.0044\n"
          ]
        },
        {
          "name": "stderr",
          "output_type": "stream",
          "text": [
            "Batches:   5%|▌         | 133/2500 [02:43<40:25,  1.02s/it]"
          ]
        },
        {
          "name": "stdout",
          "output_type": "stream",
          "text": [
            "Epoch 0, Average Loss: 0.4560\n",
            "Model saved\n"
          ]
        },
        {
          "name": "stderr",
          "output_type": "stream",
          "text": []
        },
        {
          "name": "stdout",
          "output_type": "stream",
          "text": [
            "Epoch 5, Average Loss: 0.4560\n"
          ]
        },
        {
          "name": "stderr",
          "output_type": "stream",
          "text": [
            "Batches:   5%|▌         | 134/2500 [02:44<42:41,  1.08s/it]"
          ]
        },
        {
          "name": "stdout",
          "output_type": "stream",
          "text": [
            "Epoch 0, Average Loss: 0.0026\n",
            "Model saved\n"
          ]
        },
        {
          "name": "stderr",
          "output_type": "stream",
          "text": []
        },
        {
          "name": "stdout",
          "output_type": "stream",
          "text": [
            "Epoch 5, Average Loss: 0.0026\n"
          ]
        },
        {
          "name": "stderr",
          "output_type": "stream",
          "text": [
            "Batches:   5%|▌         | 135/2500 [02:45<42:00,  1.07s/it]\n",
            "Epochs:  30%|███       | 3/10 [00:00<00:00, 10.88it/s]"
          ]
        },
        {
          "name": "stdout",
          "output_type": "stream",
          "text": [
            "Epoch 0, Average Loss: 0.0038\n",
            "Model saved\n"
          ]
        },
        {
          "name": "stderr",
          "output_type": "stream",
          "text": [
            "\u001b[A"
          ]
        },
        {
          "name": "stdout",
          "output_type": "stream",
          "text": [
            "Epoch 5, Average Loss: 0.0038\n"
          ]
        },
        {
          "name": "stderr",
          "output_type": "stream",
          "text": [
            "Batches:   5%|▌         | 136/2500 [02:46<41:18,  1.05s/it]"
          ]
        },
        {
          "name": "stdout",
          "output_type": "stream",
          "text": [
            "Epoch 0, Average Loss: 0.0179\n",
            "Model saved\n"
          ]
        },
        {
          "name": "stderr",
          "output_type": "stream",
          "text": []
        },
        {
          "name": "stdout",
          "output_type": "stream",
          "text": [
            "Epoch 5, Average Loss: 0.0179\n"
          ]
        },
        {
          "name": "stderr",
          "output_type": "stream",
          "text": [
            "Batches:   5%|▌         | 137/2500 [02:47<41:31,  1.05s/it]"
          ]
        },
        {
          "name": "stdout",
          "output_type": "stream",
          "text": [
            "Epoch 0, Average Loss: 0.0109\n",
            "Model saved\n"
          ]
        },
        {
          "name": "stderr",
          "output_type": "stream",
          "text": []
        },
        {
          "name": "stdout",
          "output_type": "stream",
          "text": [
            "Epoch 5, Average Loss: 0.0109\n"
          ]
        },
        {
          "name": "stderr",
          "output_type": "stream",
          "text": [
            "Batches:   6%|▌         | 138/2500 [02:49<42:28,  1.08s/it]"
          ]
        },
        {
          "name": "stdout",
          "output_type": "stream",
          "text": [
            "Epoch 0, Average Loss: 0.0032\n",
            "Model saved\n"
          ]
        },
        {
          "name": "stderr",
          "output_type": "stream",
          "text": [
            "\n"
          ]
        },
        {
          "name": "stdout",
          "output_type": "stream",
          "text": [
            "Epoch 5, Average Loss: 0.0032\n"
          ]
        },
        {
          "name": "stderr",
          "output_type": "stream",
          "text": [
            "Batches:   6%|▌         | 139/2500 [02:50<41:18,  1.05s/it]"
          ]
        },
        {
          "name": "stdout",
          "output_type": "stream",
          "text": [
            "Epoch 0, Average Loss: 2.0205\n",
            "Model saved\n"
          ]
        },
        {
          "name": "stderr",
          "output_type": "stream",
          "text": []
        },
        {
          "name": "stdout",
          "output_type": "stream",
          "text": [
            "Epoch 5, Average Loss: 2.0205\n"
          ]
        },
        {
          "name": "stderr",
          "output_type": "stream",
          "text": [
            "Batches:   6%|▌         | 140/2500 [02:51<42:28,  1.08s/it]"
          ]
        },
        {
          "name": "stdout",
          "output_type": "stream",
          "text": [
            "Epoch 0, Average Loss: 0.0028\n",
            "Model saved\n"
          ]
        },
        {
          "name": "stderr",
          "output_type": "stream",
          "text": [
            "\n"
          ]
        },
        {
          "name": "stdout",
          "output_type": "stream",
          "text": [
            "Epoch 5, Average Loss: 0.0028\n"
          ]
        },
        {
          "name": "stderr",
          "output_type": "stream",
          "text": [
            "Batches:   6%|▌         | 141/2500 [02:52<42:07,  1.07s/it]"
          ]
        },
        {
          "name": "stdout",
          "output_type": "stream",
          "text": [
            "Epoch 0, Average Loss: 0.0213\n",
            "Model saved\n"
          ]
        },
        {
          "name": "stderr",
          "output_type": "stream",
          "text": []
        },
        {
          "name": "stdout",
          "output_type": "stream",
          "text": [
            "Epoch 5, Average Loss: 0.0213\n"
          ]
        },
        {
          "name": "stderr",
          "output_type": "stream",
          "text": [
            "Batches:   6%|▌         | 142/2500 [02:53<43:13,  1.10s/it]"
          ]
        },
        {
          "name": "stdout",
          "output_type": "stream",
          "text": [
            "Epoch 0, Average Loss: 0.0022\n",
            "Model saved\n"
          ]
        },
        {
          "name": "stderr",
          "output_type": "stream",
          "text": []
        },
        {
          "name": "stdout",
          "output_type": "stream",
          "text": [
            "Epoch 5, Average Loss: 0.0022\n"
          ]
        },
        {
          "name": "stderr",
          "output_type": "stream",
          "text": [
            "Batches:   6%|▌         | 143/2500 [02:54<42:12,  1.07s/it]"
          ]
        },
        {
          "name": "stdout",
          "output_type": "stream",
          "text": [
            "Epoch 0, Average Loss: 2.1149\n",
            "Model saved\n"
          ]
        },
        {
          "name": "stderr",
          "output_type": "stream",
          "text": []
        },
        {
          "name": "stdout",
          "output_type": "stream",
          "text": [
            "Epoch 5, Average Loss: 2.1149\n"
          ]
        },
        {
          "name": "stderr",
          "output_type": "stream",
          "text": [
            "Batches:   6%|▌         | 144/2500 [02:55<40:28,  1.03s/it]"
          ]
        },
        {
          "name": "stdout",
          "output_type": "stream",
          "text": [
            "Epoch 0, Average Loss: 0.0032\n",
            "Model saved\n"
          ]
        },
        {
          "name": "stderr",
          "output_type": "stream",
          "text": []
        },
        {
          "name": "stdout",
          "output_type": "stream",
          "text": [
            "Epoch 5, Average Loss: 0.0032\n"
          ]
        },
        {
          "name": "stderr",
          "output_type": "stream",
          "text": [
            "Batches:   6%|▌         | 145/2500 [02:56<41:35,  1.06s/it]"
          ]
        },
        {
          "name": "stdout",
          "output_type": "stream",
          "text": [
            "Epoch 0, Average Loss: 0.1128\n",
            "Model saved\n"
          ]
        },
        {
          "name": "stderr",
          "output_type": "stream",
          "text": []
        },
        {
          "name": "stdout",
          "output_type": "stream",
          "text": [
            "Epoch 5, Average Loss: 0.1128\n"
          ]
        },
        {
          "name": "stderr",
          "output_type": "stream",
          "text": [
            "Batches:   6%|▌         | 146/2500 [02:57<41:44,  1.06s/it]\n"
          ]
        },
        {
          "name": "stdout",
          "output_type": "stream",
          "text": [
            "Epoch 0, Average Loss: 0.0148\n",
            "Model saved\n"
          ]
        },
        {
          "name": "stderr",
          "output_type": "stream",
          "text": [
            "Epochs:  30%|███       | 3/10 [00:00<00:00,  9.57it/s]\u001b[A"
          ]
        },
        {
          "name": "stdout",
          "output_type": "stream",
          "text": [
            "Epoch 5, Average Loss: 0.0148\n"
          ]
        },
        {
          "name": "stderr",
          "output_type": "stream",
          "text": [
            "Batches:   6%|▌         | 147/2500 [02:58<42:48,  1.09s/it]"
          ]
        },
        {
          "name": "stdout",
          "output_type": "stream",
          "text": [
            "Epoch 0, Average Loss: 0.0038\n",
            "Model saved\n"
          ]
        },
        {
          "name": "stderr",
          "output_type": "stream",
          "text": []
        },
        {
          "name": "stdout",
          "output_type": "stream",
          "text": [
            "Epoch 5, Average Loss: 0.0038\n"
          ]
        },
        {
          "name": "stderr",
          "output_type": "stream",
          "text": [
            "Batches:   6%|▌         | 148/2500 [02:59<44:48,  1.14s/it]\n",
            "Epochs:  20%|██        | 2/10 [00:00<00:01,  6.25it/s]"
          ]
        },
        {
          "name": "stdout",
          "output_type": "stream",
          "text": [
            "Epoch 0, Average Loss: 0.0053\n",
            "Model saved\n"
          ]
        },
        {
          "name": "stderr",
          "output_type": "stream",
          "text": [
            "\u001b[A"
          ]
        },
        {
          "name": "stdout",
          "output_type": "stream",
          "text": [
            "Epoch 5, Average Loss: 0.0053\n"
          ]
        },
        {
          "name": "stderr",
          "output_type": "stream",
          "text": [
            "Batches:   6%|▌         | 149/2500 [03:25<5:33:44,  8.52s/it]"
          ]
        },
        {
          "name": "stdout",
          "output_type": "stream",
          "text": [
            "Epoch 0, Average Loss: 0.0189\n",
            "Model saved\n"
          ]
        },
        {
          "name": "stderr",
          "output_type": "stream",
          "text": []
        },
        {
          "name": "stdout",
          "output_type": "stream",
          "text": [
            "Epoch 5, Average Loss: 0.0189\n"
          ]
        },
        {
          "name": "stderr",
          "output_type": "stream",
          "text": [
            "Batches:   6%|▌         | 150/2500 [03:56<9:51:12, 15.09s/it]"
          ]
        },
        {
          "name": "stdout",
          "output_type": "stream",
          "text": [
            "Epoch 0, Average Loss: 0.0280\n",
            "Model saved\n"
          ]
        },
        {
          "name": "stderr",
          "output_type": "stream",
          "text": []
        },
        {
          "name": "stdout",
          "output_type": "stream",
          "text": [
            "Epoch 5, Average Loss: 0.0280\n"
          ]
        },
        {
          "name": "stderr",
          "output_type": "stream",
          "text": [
            "Batches:   6%|▌         | 151/2500 [04:00<7:49:20, 11.99s/it]"
          ]
        },
        {
          "name": "stdout",
          "output_type": "stream",
          "text": [
            "Epoch 0, Average Loss: 0.2347\n",
            "Model saved\n"
          ]
        },
        {
          "name": "stderr",
          "output_type": "stream",
          "text": []
        },
        {
          "name": "stdout",
          "output_type": "stream",
          "text": [
            "Epoch 5, Average Loss: 0.2347\n"
          ]
        },
        {
          "name": "stderr",
          "output_type": "stream",
          "text": [
            "Batches:   6%|▌         | 152/2500 [04:01<5:41:17,  8.72s/it]"
          ]
        },
        {
          "name": "stdout",
          "output_type": "stream",
          "text": [
            "Epoch 0, Average Loss: 0.0029\n",
            "Model saved\n"
          ]
        },
        {
          "name": "stderr",
          "output_type": "stream",
          "text": [
            "\n"
          ]
        },
        {
          "name": "stdout",
          "output_type": "stream",
          "text": [
            "Epoch 5, Average Loss: 0.0029\n"
          ]
        },
        {
          "name": "stderr",
          "output_type": "stream",
          "text": [
            "Batches:   6%|▌         | 153/2500 [04:02<4:10:51,  6.41s/it]"
          ]
        },
        {
          "name": "stdout",
          "output_type": "stream",
          "text": [
            "Epoch 0, Average Loss: 0.0120\n",
            "Model saved\n"
          ]
        },
        {
          "name": "stderr",
          "output_type": "stream",
          "text": []
        },
        {
          "name": "stdout",
          "output_type": "stream",
          "text": [
            "Epoch 5, Average Loss: 0.0120\n"
          ]
        },
        {
          "name": "stderr",
          "output_type": "stream",
          "text": [
            "Batches:   6%|▌         | 154/2500 [04:04<3:09:12,  4.84s/it]"
          ]
        },
        {
          "name": "stdout",
          "output_type": "stream",
          "text": [
            "Epoch 0, Average Loss: 0.0111\n",
            "Model saved\n"
          ]
        },
        {
          "name": "stderr",
          "output_type": "stream",
          "text": []
        },
        {
          "name": "stdout",
          "output_type": "stream",
          "text": [
            "Epoch 5, Average Loss: 0.0111\n"
          ]
        },
        {
          "name": "stderr",
          "output_type": "stream",
          "text": [
            "Batches:   6%|▌         | 155/2500 [04:05<2:24:29,  3.70s/it]"
          ]
        },
        {
          "name": "stdout",
          "output_type": "stream",
          "text": [
            "Epoch 0, Average Loss: 0.3646\n",
            "Model saved\n"
          ]
        },
        {
          "name": "stderr",
          "output_type": "stream",
          "text": []
        },
        {
          "name": "stdout",
          "output_type": "stream",
          "text": [
            "Epoch 5, Average Loss: 0.3646\n"
          ]
        },
        {
          "name": "stderr",
          "output_type": "stream",
          "text": [
            "Batches:   6%|▌         | 156/2500 [04:06<1:53:22,  2.90s/it]"
          ]
        },
        {
          "name": "stdout",
          "output_type": "stream",
          "text": [
            "Epoch 0, Average Loss: 0.0053\n",
            "Model saved\n"
          ]
        },
        {
          "name": "stderr",
          "output_type": "stream",
          "text": []
        },
        {
          "name": "stdout",
          "output_type": "stream",
          "text": [
            "Epoch 5, Average Loss: 0.0053\n"
          ]
        },
        {
          "name": "stderr",
          "output_type": "stream",
          "text": [
            "Batches:   6%|▋         | 157/2500 [04:07<1:34:08,  2.41s/it]"
          ]
        },
        {
          "name": "stdout",
          "output_type": "stream",
          "text": [
            "Epoch 0, Average Loss: 0.0088\n",
            "Model saved\n"
          ]
        },
        {
          "name": "stderr",
          "output_type": "stream",
          "text": []
        },
        {
          "name": "stdout",
          "output_type": "stream",
          "text": [
            "Epoch 5, Average Loss: 0.0088\n"
          ]
        },
        {
          "name": "stderr",
          "output_type": "stream",
          "text": [
            "Batches:   6%|▋         | 157/2500 [04:08<1:01:46,  1.58s/it]\n"
          ]
        },
        {
          "ename": "KeyboardInterrupt",
          "evalue": "",
          "output_type": "error",
          "traceback": [
            "\u001b[1;31m---------------------------------------------------------------------------\u001b[0m",
            "\u001b[1;31mKeyboardInterrupt\u001b[0m                         Traceback (most recent call last)",
            "Cell \u001b[1;32mIn[193], line 1\u001b[0m\n\u001b[1;32m----> 1\u001b[0m \u001b[43mtrain\u001b[49m\u001b[43m(\u001b[49m\u001b[43msimulator\u001b[49m\u001b[43m,\u001b[49m\u001b[43m \u001b[49m\u001b[43mtrain_dataloader\u001b[49m\u001b[43m,\u001b[49m\u001b[43m \u001b[49m\u001b[43moptimizer\u001b[49m\u001b[43m,\u001b[49m\u001b[43m \u001b[49m\u001b[43mscheduler\u001b[49m\u001b[43m,\u001b[49m\u001b[43m \u001b[49m\u001b[43mloss_data\u001b[49m\u001b[43m,\u001b[49m\u001b[43m \u001b[49m\u001b[43mepochs\u001b[49m\u001b[38;5;241;43m=\u001b[39;49m\u001b[38;5;241;43m10\u001b[39;49m\u001b[43m)\u001b[49m\n",
            "Cell \u001b[1;32mIn[184], line 18\u001b[0m, in \u001b[0;36mtrain\u001b[1;34m(model, dataloader, optimizer, scheduler, loss_fn, epochs, print_epoch, save_epoch)\u001b[0m\n\u001b[0;32m     15\u001b[0m loss \u001b[38;5;241m=\u001b[39m loss_fn(pred, target)\n\u001b[0;32m     17\u001b[0m optimizer\u001b[38;5;241m.\u001b[39mzero_grad()\n\u001b[1;32m---> 18\u001b[0m \u001b[43mloss\u001b[49m\u001b[38;5;241;43m.\u001b[39;49m\u001b[43mbackward\u001b[49m\u001b[43m(\u001b[49m\u001b[43m)\u001b[49m\n\u001b[0;32m     19\u001b[0m optimizer\u001b[38;5;241m.\u001b[39mstep()\n\u001b[0;32m     21\u001b[0m epoch_loss \u001b[38;5;241m+\u001b[39m\u001b[38;5;241m=\u001b[39m loss\u001b[38;5;241m.\u001b[39mitem()\n",
            "File \u001b[1;32mc:\\Users\\kurt-\\miniconda3\\envs\\ML\\Lib\\site-packages\\torch\\_tensor.py:525\u001b[0m, in \u001b[0;36mTensor.backward\u001b[1;34m(self, gradient, retain_graph, create_graph, inputs)\u001b[0m\n\u001b[0;32m    515\u001b[0m \u001b[38;5;28;01mif\u001b[39;00m has_torch_function_unary(\u001b[38;5;28mself\u001b[39m):\n\u001b[0;32m    516\u001b[0m     \u001b[38;5;28;01mreturn\u001b[39;00m handle_torch_function(\n\u001b[0;32m    517\u001b[0m         Tensor\u001b[38;5;241m.\u001b[39mbackward,\n\u001b[0;32m    518\u001b[0m         (\u001b[38;5;28mself\u001b[39m,),\n\u001b[1;32m   (...)\u001b[0m\n\u001b[0;32m    523\u001b[0m         inputs\u001b[38;5;241m=\u001b[39minputs,\n\u001b[0;32m    524\u001b[0m     )\n\u001b[1;32m--> 525\u001b[0m \u001b[43mtorch\u001b[49m\u001b[38;5;241;43m.\u001b[39;49m\u001b[43mautograd\u001b[49m\u001b[38;5;241;43m.\u001b[39;49m\u001b[43mbackward\u001b[49m\u001b[43m(\u001b[49m\n\u001b[0;32m    526\u001b[0m \u001b[43m    \u001b[49m\u001b[38;5;28;43mself\u001b[39;49m\u001b[43m,\u001b[49m\u001b[43m \u001b[49m\u001b[43mgradient\u001b[49m\u001b[43m,\u001b[49m\u001b[43m \u001b[49m\u001b[43mretain_graph\u001b[49m\u001b[43m,\u001b[49m\u001b[43m \u001b[49m\u001b[43mcreate_graph\u001b[49m\u001b[43m,\u001b[49m\u001b[43m \u001b[49m\u001b[43minputs\u001b[49m\u001b[38;5;241;43m=\u001b[39;49m\u001b[43minputs\u001b[49m\n\u001b[0;32m    527\u001b[0m \u001b[43m\u001b[49m\u001b[43m)\u001b[49m\n",
            "File \u001b[1;32mc:\\Users\\kurt-\\miniconda3\\envs\\ML\\Lib\\site-packages\\torch\\autograd\\__init__.py:267\u001b[0m, in \u001b[0;36mbackward\u001b[1;34m(tensors, grad_tensors, retain_graph, create_graph, grad_variables, inputs)\u001b[0m\n\u001b[0;32m    262\u001b[0m     retain_graph \u001b[38;5;241m=\u001b[39m create_graph\n\u001b[0;32m    264\u001b[0m \u001b[38;5;66;03m# The reason we repeat the same comment below is that\u001b[39;00m\n\u001b[0;32m    265\u001b[0m \u001b[38;5;66;03m# some Python versions print out the first line of a multi-line function\u001b[39;00m\n\u001b[0;32m    266\u001b[0m \u001b[38;5;66;03m# calls in the traceback and some print out the last line\u001b[39;00m\n\u001b[1;32m--> 267\u001b[0m \u001b[43m_engine_run_backward\u001b[49m\u001b[43m(\u001b[49m\n\u001b[0;32m    268\u001b[0m \u001b[43m    \u001b[49m\u001b[43mtensors\u001b[49m\u001b[43m,\u001b[49m\n\u001b[0;32m    269\u001b[0m \u001b[43m    \u001b[49m\u001b[43mgrad_tensors_\u001b[49m\u001b[43m,\u001b[49m\n\u001b[0;32m    270\u001b[0m \u001b[43m    \u001b[49m\u001b[43mretain_graph\u001b[49m\u001b[43m,\u001b[49m\n\u001b[0;32m    271\u001b[0m \u001b[43m    \u001b[49m\u001b[43mcreate_graph\u001b[49m\u001b[43m,\u001b[49m\n\u001b[0;32m    272\u001b[0m \u001b[43m    \u001b[49m\u001b[43minputs\u001b[49m\u001b[43m,\u001b[49m\n\u001b[0;32m    273\u001b[0m \u001b[43m    \u001b[49m\u001b[43mallow_unreachable\u001b[49m\u001b[38;5;241;43m=\u001b[39;49m\u001b[38;5;28;43;01mTrue\u001b[39;49;00m\u001b[43m,\u001b[49m\n\u001b[0;32m    274\u001b[0m \u001b[43m    \u001b[49m\u001b[43maccumulate_grad\u001b[49m\u001b[38;5;241;43m=\u001b[39;49m\u001b[38;5;28;43;01mTrue\u001b[39;49;00m\u001b[43m,\u001b[49m\n\u001b[0;32m    275\u001b[0m \u001b[43m\u001b[49m\u001b[43m)\u001b[49m\n",
            "File \u001b[1;32mc:\\Users\\kurt-\\miniconda3\\envs\\ML\\Lib\\site-packages\\torch\\autograd\\graph.py:744\u001b[0m, in \u001b[0;36m_engine_run_backward\u001b[1;34m(t_outputs, *args, **kwargs)\u001b[0m\n\u001b[0;32m    742\u001b[0m     unregister_hooks \u001b[38;5;241m=\u001b[39m _register_logging_hooks_on_whole_graph(t_outputs)\n\u001b[0;32m    743\u001b[0m \u001b[38;5;28;01mtry\u001b[39;00m:\n\u001b[1;32m--> 744\u001b[0m     \u001b[38;5;28;01mreturn\u001b[39;00m \u001b[43mVariable\u001b[49m\u001b[38;5;241;43m.\u001b[39;49m\u001b[43m_execution_engine\u001b[49m\u001b[38;5;241;43m.\u001b[39;49m\u001b[43mrun_backward\u001b[49m\u001b[43m(\u001b[49m\u001b[43m  \u001b[49m\u001b[38;5;66;43;03m# Calls into the C++ engine to run the backward pass\u001b[39;49;00m\n\u001b[0;32m    745\u001b[0m \u001b[43m        \u001b[49m\u001b[43mt_outputs\u001b[49m\u001b[43m,\u001b[49m\u001b[43m \u001b[49m\u001b[38;5;241;43m*\u001b[39;49m\u001b[43margs\u001b[49m\u001b[43m,\u001b[49m\u001b[43m \u001b[49m\u001b[38;5;241;43m*\u001b[39;49m\u001b[38;5;241;43m*\u001b[39;49m\u001b[43mkwargs\u001b[49m\n\u001b[0;32m    746\u001b[0m \u001b[43m    \u001b[49m\u001b[43m)\u001b[49m  \u001b[38;5;66;03m# Calls into the C++ engine to run the backward pass\u001b[39;00m\n\u001b[0;32m    747\u001b[0m \u001b[38;5;28;01mfinally\u001b[39;00m:\n\u001b[0;32m    748\u001b[0m     \u001b[38;5;28;01mif\u001b[39;00m attach_logging_hooks:\n",
            "\u001b[1;31mKeyboardInterrupt\u001b[0m: "
          ]
        }
      ],
      "source": [
        "train(simulator, train_dataloader, optimizer, scheduler, loss_data, epochs=10)"
      ]
    },
    {
      "cell_type": "code",
      "execution_count": null,
      "metadata": {
        "colab": {
          "base_uri": "https://localhost:8080/"
        },
        "id": "bCM32ZFiIv0s",
        "outputId": "4bf52c0c-2ff8-4d44-a8c6-1d0c04a09907"
      },
      "outputs": [
        {
          "data": {
            "text/plain": [
              "6.936057752682246e-06"
            ]
          },
          "execution_count": 129,
          "metadata": {},
          "output_type": "execute_result"
        }
      ],
      "source": [
        "def test(model:Simulator, dataloader):\n",
        "    loss = 0\n",
        "    for batch_index, graph in enumerate(dataloader):\n",
        "        model.eval()\n",
        "        graph = graph.to(device)\n",
        "        target = graph.y\n",
        "        pred, target = model(graph)\n",
        "        loss += loss_data(pred, target).item()\n",
        "\n",
        "    return loss / len(dataloader)\n",
        "\n",
        "test(simulator, test_dataloader)"
      ]
    },
    {
      "cell_type": "markdown",
      "metadata": {
        "id": "w6qO1-l4Iv0x"
      },
      "source": [
        "# Result"
      ]
    },
    {
      "cell_type": "code",
      "execution_count": null,
      "metadata": {
        "colab": {
          "base_uri": "https://localhost:8080/"
        },
        "id": "35394ZVDIv0x",
        "outputId": "54d652be-38f3-4edc-e57c-61385243ea91"
      },
      "outputs": [
        {
          "data": {
            "text/plain": [
              "tensor([[ 1.6724e-03, -1.7975e-02],\n",
              "        [-2.7658e-04, -2.0745e-02],\n",
              "        [-1.5717e-03, -2.3364e-02],\n",
              "        [-5.2521e-04, -2.4693e-02],\n",
              "        [ 5.9727e-04, -2.6182e-02],\n",
              "        [-4.2909e-04, -2.8736e-02],\n",
              "        [ 1.0535e-03, -2.8394e-02],\n",
              "        [ 7.2690e-04, -3.0808e-02],\n",
              "        [ 4.9762e-04, -3.2547e-02],\n",
              "        [ 9.9119e-04, -3.3416e-02],\n",
              "        [ 1.3252e-03, -3.3591e-02],\n",
              "        [ 1.7196e-03, -3.4304e-02],\n",
              "        [ 4.6014e-04, -3.4623e-02],\n",
              "        [-1.1167e-03, -3.6241e-02],\n",
              "        [-2.9059e-03, -3.6551e-02],\n",
              "        [-2.5847e-03, -3.6126e-02],\n",
              "        [-2.5618e-03, -3.6119e-02],\n",
              "        [-3.3104e-03, -3.6294e-02],\n",
              "        [-3.3116e-03, -3.5424e-02],\n",
              "        [-3.0289e-03, -3.5395e-02],\n",
              "        [-3.5131e-03, -3.5563e-02],\n",
              "        [-3.5332e-03, -3.4146e-02],\n",
              "        [-4.2083e-03, -3.2117e-02],\n",
              "        [-3.4441e-03, -3.3090e-02],\n",
              "        [-3.4952e-03, -3.3134e-02],\n",
              "        [-3.3769e-03, -3.3985e-02],\n",
              "        [-3.3136e-03, -3.4446e-02],\n",
              "        [-3.5230e-03, -3.6158e-02],\n",
              "        [-3.4690e-03, -3.7692e-02],\n",
              "        [-4.3464e-03, -3.8158e-02],\n",
              "        [-4.1058e-03, -3.9359e-02],\n",
              "        [-3.1885e-03, -4.0995e-02],\n",
              "        [-4.2533e-03, -4.1402e-02],\n",
              "        [-3.3059e-03, -4.3569e-02],\n",
              "        [-2.5619e-03, -4.4829e-02],\n",
              "        [-2.7906e-03, -4.4931e-02],\n",
              "        [-2.5843e-03, -4.5801e-02],\n",
              "        [-2.3639e-03, -4.6938e-02],\n",
              "        [-2.3333e-03, -4.7161e-02],\n",
              "        [-1.8526e-03, -5.0822e-02],\n",
              "        [-2.1987e-03, -4.9969e-02],\n",
              "        [-1.7841e-03, -5.0232e-02],\n",
              "        [-9.8866e-04, -5.3183e-02],\n",
              "        [-4.7388e-04, -5.4635e-02],\n",
              "        [-4.3300e-04, -5.4861e-02],\n",
              "        [ 2.2069e-05, -5.5234e-02],\n",
              "        [-3.9674e-04, -5.4327e-02],\n",
              "        [-8.2552e-05, -5.5114e-02],\n",
              "        [-6.2078e-05, -5.6184e-02],\n",
              "        [ 6.2004e-05, -5.6914e-02],\n",
              "        [ 3.8020e-04, -5.7296e-02],\n",
              "        [ 8.6753e-04, -5.7476e-02],\n",
              "        [ 1.7156e-04, -5.5489e-02],\n",
              "        [ 1.9464e-04, -5.5991e-02],\n",
              "        [ 5.5335e-04, -5.7273e-02],\n",
              "        [ 7.3174e-04, -5.8266e-02],\n",
              "        [ 1.0662e-03, -5.8838e-02],\n",
              "        [ 6.7163e-04, -5.8867e-02],\n",
              "        [ 1.2675e-03, -6.0139e-02],\n",
              "        [ 1.0260e-03, -5.7885e-02],\n",
              "        [ 1.3407e-03, -5.9119e-02],\n",
              "        [ 1.1724e-03, -5.8757e-02],\n",
              "        [ 1.5044e-03, -6.0176e-02],\n",
              "        [ 1.7566e-03, -5.9877e-02],\n",
              "        [ 1.8565e-03, -5.9050e-02],\n",
              "        [ 1.7529e-03, -5.8951e-02],\n",
              "        [ 1.3364e-03, -5.9515e-02],\n",
              "        [ 1.7312e-03, -6.1638e-02],\n",
              "        [ 1.7669e-03, -6.0571e-02],\n",
              "        [ 1.8706e-03, -5.9381e-02],\n",
              "        [ 1.9449e-03, -6.0033e-02],\n",
              "        [ 1.7164e-03, -6.1327e-02],\n",
              "        [ 2.3359e-03, -6.1819e-02],\n",
              "        [ 2.3420e-03, -6.1151e-02],\n",
              "        [ 1.4932e-03, -6.0632e-02],\n",
              "        [ 2.4919e-03, -6.1747e-02],\n",
              "        [ 2.4457e-03, -5.9488e-02],\n",
              "        [ 2.1046e-03, -6.2504e-02],\n",
              "        [ 2.1186e-03, -6.2096e-02],\n",
              "        [ 2.4548e-03, -6.1877e-02],\n",
              "        [ 2.7558e-03, -6.3644e-02],\n",
              "        [ 2.3491e-03, -6.2386e-02],\n",
              "        [ 2.5349e-03, -6.1568e-02],\n",
              "        [ 2.5217e-03, -6.0588e-02],\n",
              "        [ 2.7147e-03, -6.3766e-02],\n",
              "        [ 2.2905e-03, -6.1722e-02],\n",
              "        [ 2.9311e-03, -6.3047e-02],\n",
              "        [ 2.9891e-03, -6.2521e-02],\n",
              "        [ 2.4620e-03, -6.2372e-02],\n",
              "        [ 2.8025e-03, -6.2179e-02],\n",
              "        [ 3.2858e-03, -6.1497e-02],\n",
              "        [ 3.3052e-03, -6.2864e-02],\n",
              "        [ 3.8268e-03, -6.2242e-02],\n",
              "        [ 4.5966e-03, -6.3078e-02],\n",
              "        [ 3.4527e-03, -6.1676e-02],\n",
              "        [ 4.6190e-03, -6.1903e-02],\n",
              "        [ 4.6588e-03, -6.1735e-02],\n",
              "        [ 4.8276e-03, -6.1608e-02],\n",
              "        [ 6.1452e-03, -6.1413e-02],\n",
              "        [ 6.3785e-03, -6.1169e-02]], device='cuda:0', grad_fn=<AddmmBackward0>)"
            ]
          },
          "execution_count": 130,
          "metadata": {},
          "output_type": "execute_result"
        }
      ],
      "source": [
        "simulator.model(test_dataloader[0])"
      ]
    },
    {
      "cell_type": "code",
      "execution_count": null,
      "metadata": {
        "id": "qvgvvJfUIv0x"
      },
      "outputs": [],
      "source": [
        "# Create a function to plot the graph.x vs graph.y\n",
        "def plot_results(model, dataloader):\n",
        "    for batch_index, graph in enumerate(dataloader):\n",
        "        graph = graph.to(device)\n",
        "        pred, target = model(graph)\n",
        "        pred = pred.detach().cpu().numpy()\n",
        "        target = target.detach().cpu().numpy()\n",
        "        x_coord = graph.x[:,0].detach().cpu().numpy()\n",
        "        plt.plot(x_coord, target, label='target', marker='x')\n",
        "        plt.plot(x_coord, pred[:,0], label='predicted', marker='o')\n",
        "        plt.legend()\n",
        "        plt.show()\n"
      ]
    },
    {
      "cell_type": "code",
      "execution_count": null,
      "metadata": {
        "colab": {
          "base_uri": "https://localhost:8080/",
          "height": 1000
        },
        "id": "Sav98E7PIv0y",
        "outputId": "2137c31e-3289-4766-cbff-0976e4d49ff6"
      },
      "outputs": [
        {
          "data": {
            "image/png": "[encoded data removed]",
            "text/plain": [
              "<Figure size 640x480 with 1 Axes>"
            ]
          },
          "metadata": {},
          "output_type": "display_data"
        },
        {
          "data": {
            "image/png": "[encoded data removed]",
            "text/plain": [
              "<Figure size 640x480 with 1 Axes>"
            ]
          },
          "metadata": {},
          "output_type": "display_data"
        },
        {
          "data": {
            "image/png": "[encoded data removed]",
            "text/plain": [
              "<Figure size 640x480 with 1 Axes>"
            ]
          },
          "metadata": {},
          "output_type": "display_data"
        },
        {
          "data": {
            "image/png": "[encoded data removed]",
            "text/plain": [
              "<Figure size 640x480 with 1 Axes>"
            ]
          },
          "metadata": {},
          "output_type": "display_data"
        },
        {
          "data": {
            "image/png": "[encoded data removed]",
            "text/plain": [
              "<Figure size 640x480 with 1 Axes>"
            ]
          },
          "metadata": {},
          "output_type": "display_data"
        },
        {
          "data": {
            "image/png": "[encoded data removed]",
            "text/plain": [
              "<Figure size 640x480 with 1 Axes>"
            ]
          },
          "metadata": {},
          "output_type": "display_data"
        },
        {
          "data": {
            "image/png": "[encoded data removed]",
            "text/plain": [
              "<Figure size 640x480 with 1 Axes>"
            ]
          },
          "metadata": {},
          "output_type": "display_data"
        },
        {
          "data": {
            "image/png": "[encoded data removed]",
            "text/plain": [
              "<Figure size 640x480 with 1 Axes>"
            ]
          },
          "metadata": {},
          "output_type": "display_data"
        },
        {
          "data": {
            "image/png": "[encoded data removed]",
            "text/plain": [
              "<Figure size 640x480 with 1 Axes>"
            ]
          },
          "metadata": {},
          "output_type": "display_data"
        },
        {
          "data": {
            "image/png": "[encoded data removed]",
            "text/plain": [
              "<Figure size 640x480 with 1 Axes>"
            ]
          },
          "metadata": {},
          "output_type": "display_data"
        }
      ],
      "source": [
        "plot_results(simulator, test_dataloader)"
      ]
    },
    {
      "cell_type": "markdown",
      "metadata": {
        "id": "AokINmvAIv0y"
      },
      "source": [
        "# Do PINN"
      ]
    },
    {
      "cell_type": "code",
      "execution_count": null,
      "metadata": {
        "id": "Gvp6lpGVIv0y"
      },
      "outputs": [],
      "source": [
        "def loss_PDE(x, pred, q=torch.tensor(0.0)):\n",
        "    x.requires_grad = True\n",
        "    EI = pred[:,1]\n",
        "    u = pred[:,0].unsqueeze(1)\n",
        "    u_x = torch.autograd.grad(u, x, create_graph=True, grad_outputs=torch.ones_like(u), allow_unused=True)[0][:,0]\n",
        "    u_xx = torch.autograd.grad(u_x, x, create_graph=True, grad_outputs=torch.ones_like(u_x), allow_unused=True)[0][:,0]\n",
        "    u_xxx = torch.autograd.grad(u_xx, x, create_graph=True, grad_outputs=torch.ones_like(u_xx), allow_unused=True)[0][:,0]\n",
        "    u_x4 = torch.autograd.grad(u_xxx, x, create_graph=True, grad_outputs=torch.ones_like(u_xxx), allow_unused=True)[0][:,0]\n",
        "\n",
        "    # PDE\n",
        "    fn = EI*u_x4 - q\n",
        "    return torch.mean(fn**2)\n",
        "\n",
        "def loss_data(pred, target):\n",
        "    return F.mse_loss(pred[:,0].unsqueeze(1), target)\n",
        "\n",
        "def loss_BC(w):\n",
        "    fn = w[0] - 0.0\n",
        "    return torch.mean(fn**2)\n",
        "\n",
        "def loss_total(x, pred, target, q=torch.tensor(0.0)):\n",
        "    return loss_PDE(x, pred, q) + loss_data(pred, target) + loss_BC(pred[:,0])"
      ]
    },
    {
      "cell_type": "code",
      "execution_count": null,
      "metadata": {
        "colab": {
          "base_uri": "https://localhost:8080/"
        },
        "id": "Go1EkKSmIv0y",
        "outputId": "a6e154b1-7c85-49af-806f-27548652a03c"
      },
      "outputs": [
        {
          "data": {
            "text/plain": [
              "tensor(9.4614e-06, device='cuda:0', grad_fn=<AddBackward0>)"
            ]
          },
          "execution_count": 159,
          "metadata": {},
          "output_type": "execute_result"
        }
      ],
      "source": [
        "pred, target = simulator(test_dataloader[0])\n",
        "loss_total(test_dataloader[0].x, pred, target)"
      ]
    },
    {
      "cell_type": "code",
      "execution_count": null,
      "metadata": {
        "colab": {
          "base_uri": "https://localhost:8080/"
        },
        "id": "X59By8dzIv0y",
        "outputId": "b4d8107a-bc7c-4579-9df5-a81ccf1588f6"
      },
      "outputs": [
        {
          "name": "stderr",
          "output_type": "stream",
          "text": [
            "Batches:   0%|          | 0/10 [00:00<?, ?it/s]\n",
            "Epochs:   0%|          | 0/100 [00:00<?, ?it/s]\u001b[A<ipython-input-162-5ee7e6d9037f>:10: UserWarning: Using a target size (torch.Size([100, 1])) that is different to the input size (torch.Size([100, 2])). This will likely lead to incorrect results due to broadcasting. Please ensure they have the same size.\n",
            "  loss = F.mse_loss(pred, target)\n",
            "\n",
            "Epochs:   3%|▎         | 3/100 [00:00<00:04, 23.96it/s]\u001b[A"
          ]
        },
        {
          "name": "stdout",
          "output_type": "stream",
          "text": [
            "Batch 0, Epoch 0 [Loss: 5.58e-06]\n",
            "Batch 0, Epoch 1 [Loss: 9.11e-05]\n",
            "Batch 0, Epoch 2 [Loss: 2.13e-05]\n",
            "Batch 0, Epoch 3 [Loss: 8.91e-05]\n",
            "Batch 0, Epoch 4 [Loss: 2.50e-05]\n",
            "Batch 0, Epoch 5 [Loss: 6.07e-06]\n"
          ]
        },
        {
          "name": "stderr",
          "output_type": "stream",
          "text": [
            "\n",
            "Epochs:   6%|▌         | 6/100 [00:00<00:03, 25.35it/s]\u001b[A\n",
            "Epochs:   9%|▉         | 9/100 [00:00<00:03, 25.37it/s]\u001b[A\n",
            "Epochs:  12%|█▏        | 12/100 [00:00<00:03, 26.79it/s]"
          ]
        },
        {
          "name": "stdout",
          "output_type": "stream",
          "text": [
            "Batch 0, Epoch 6 [Loss: 3.82e-05]\n",
            "Batch 0, Epoch 7 [Loss: 4.32e-05]\n",
            "Batch 0, Epoch 8 [Loss: 1.30e-05]\n",
            "Batch 0, Epoch 9 [Loss: 8.68e-07]\n",
            "Batch 0, Epoch 10 [Loss: 1.69e-05]\n",
            "Batch 0, Epoch 11 [Loss: 1.75e-05]\n"
          ]
        },
        {
          "name": "stderr",
          "output_type": "stream",
          "text": [
            "\u001b[A\n",
            "Epochs:  15%|█▌        | 15/100 [00:00<00:03, 27.00it/s]\u001b[A\n"
          ]
        },
        {
          "name": "stdout",
          "output_type": "stream",
          "text": [
            "Batch 0, Epoch 12 [Loss: 1.65e-05]\n",
            "Batch 0, Epoch 13 [Loss: 1.41e-05]\n",
            "Batch 0, Epoch 14 [Loss: 1.11e-05]\n",
            "Batch 0, Epoch 15 [Loss: 7.90e-06]\n",
            "Batch 0, Epoch 16 [Loss: 4.99e-06]\n",
            "Batch 0, Epoch 17 [Loss: 2.68e-06]\n"
          ]
        },
        {
          "name": "stderr",
          "output_type": "stream",
          "text": [
            "Epochs:  18%|█▊        | 18/100 [00:00<00:03, 26.86it/s]\u001b[A\n",
            "Epochs:  21%|██        | 21/100 [00:00<00:02, 26.65it/s]\u001b[A\n",
            "Epochs:  24%|██▍       | 24/100 [00:00<00:02, 27.47it/s]\u001b[A"
          ]
        },
        {
          "name": "stdout",
          "output_type": "stream",
          "text": [
            "Batch 0, Epoch 18 [Loss: 1.13e-06]\n",
            "Batch 0, Epoch 19 [Loss: 3.90e-07]\n",
            "Batch 0, Epoch 20 [Loss: 3.64e-07]\n",
            "Batch 0, Epoch 21 [Loss: 3.91e-07]\n",
            "Batch 0, Epoch 22 [Loss: 4.16e-07]\n",
            "Batch 0, Epoch 23 [Loss: 4.38e-07]\n"
          ]
        },
        {
          "name": "stderr",
          "output_type": "stream",
          "text": [
            "\n",
            "Epochs:  27%|██▋       | 27/100 [00:01<00:02, 27.64it/s]\u001b[A\n",
            "Epochs:  30%|███       | 30/100 [00:01<00:02, 27.88it/s]\u001b[A"
          ]
        },
        {
          "name": "stdout",
          "output_type": "stream",
          "text": [
            "Batch 0, Epoch 24 [Loss: 4.57e-07]\n",
            "Batch 0, Epoch 25 [Loss: 4.72e-07]\n",
            "Batch 0, Epoch 26 [Loss: 4.83e-07]\n",
            "Batch 0, Epoch 27 [Loss: 4.91e-07]\n",
            "Batch 0, Epoch 28 [Loss: 4.95e-07]\n",
            "Batch 0, Epoch 29 [Loss: 4.96e-07]\n"
          ]
        },
        {
          "name": "stderr",
          "output_type": "stream",
          "text": [
            "\n",
            "Epochs:  33%|███▎      | 33/100 [00:01<00:02, 26.80it/s]\u001b[A"
          ]
        },
        {
          "name": "stdout",
          "output_type": "stream",
          "text": [
            "Batch 0, Epoch 30 [Loss: 4.94e-07]\n",
            "Batch 0, Epoch 31 [Loss: 4.94e-07]\n",
            "Batch 0, Epoch 32 [Loss: 4.93e-07]\n",
            "Batch 0, Epoch 33 [Loss: 4.92e-07]\n",
            "Batch 0, Epoch 34 [Loss: 4.90e-07]\n",
            "Batch 0, Epoch 35 [Loss: 4.89e-07]\n"
          ]
        },
        {
          "name": "stderr",
          "output_type": "stream",
          "text": [
            "\n",
            "Epochs:  36%|███▌      | 36/100 [00:01<00:02, 25.31it/s]\u001b[A\n",
            "Epochs:  39%|███▉      | 39/100 [00:01<00:02, 24.66it/s]\u001b[A"
          ]
        },
        {
          "name": "stdout",
          "output_type": "stream",
          "text": [
            "Batch 0, Epoch 36 [Loss: 4.87e-07]\n",
            "Batch 0, Epoch 37 [Loss: 4.84e-07]\n",
            "Batch 0, Epoch 38 [Loss: 4.82e-07]\n",
            "Batch 0, Epoch 39 [Loss: 4.79e-07]\n",
            "Batch 0, Epoch 40 [Loss: 4.77e-07]\n",
            "Batch 0, Epoch 41 [Loss: 4.76e-07]\n"
          ]
        },
        {
          "name": "stderr",
          "output_type": "stream",
          "text": [
            "\n",
            "Epochs:  42%|████▏     | 42/100 [00:01<00:02, 22.56it/s]\u001b[A\n",
            "Epochs:  45%|████▌     | 45/100 [00:01<00:02, 21.46it/s]\u001b[A"
          ]
        },
        {
          "name": "stdout",
          "output_type": "stream",
          "text": [
            "Batch 0, Epoch 42 [Loss: 4.76e-07]\n",
            "Batch 0, Epoch 43 [Loss: 4.76e-07]\n",
            "Batch 0, Epoch 44 [Loss: 4.76e-07]\n",
            "Batch 0, Epoch 45 [Loss: 4.76e-07]\n"
          ]
        },
        {
          "name": "stderr",
          "output_type": "stream",
          "text": [
            "\n",
            "Epochs:  48%|████▊     | 48/100 [00:01<00:02, 21.19it/s]\u001b[A\n",
            "Epochs:  51%|█████     | 51/100 [00:02<00:02, 22.34it/s]\u001b[A"
          ]
        },
        {
          "name": "stdout",
          "output_type": "stream",
          "text": [
            "Batch 0, Epoch 46 [Loss: 4.75e-07]\n",
            "Batch 0, Epoch 47 [Loss: 4.75e-07]\n",
            "Batch 0, Epoch 48 [Loss: 4.75e-07]\n",
            "Batch 0, Epoch 49 [Loss: 4.75e-07]\n",
            "Batch 0, Epoch 50 [Loss: 4.74e-07]\n",
            "Batch 0, Epoch 51 [Loss: 4.74e-07]"
          ]
        },
        {
          "name": "stderr",
          "output_type": "stream",
          "text": [
            "\n",
            "Epochs:  54%|█████▍    | 54/100 [00:02<00:02, 22.58it/s]\u001b[A"
          ]
        },
        {
          "name": "stdout",
          "output_type": "stream",
          "text": [
            "\n",
            "Batch 0, Epoch 52 [Loss: 4.74e-07]\n",
            "Batch 0, Epoch 53 [Loss: 4.74e-07]\n",
            "Batch 0, Epoch 54 [Loss: 4.74e-07]\n",
            "Batch 0, Epoch 55 [Loss: 4.74e-07]\n"
          ]
        },
        {
          "name": "stderr",
          "output_type": "stream",
          "text": [
            "\n",
            "Epochs:  57%|█████▋    | 57/100 [00:02<00:01, 22.70it/s]\u001b[A\n",
            "Epochs:  60%|██████    | 60/100 [00:02<00:01, 23.03it/s]\u001b[A"
          ]
        },
        {
          "name": "stdout",
          "output_type": "stream",
          "text": [
            "Batch 0, Epoch 56 [Loss: 4.74e-07]\n",
            "Batch 0, Epoch 57 [Loss: 4.74e-07]\n",
            "Batch 0, Epoch 58 [Loss: 4.74e-07]\n",
            "Batch 0, Epoch 59 [Loss: 4.74e-07]\n",
            "Batch 0, Epoch 60 [Loss: 4.74e-07]\n",
            "Batch 0, Epoch 61 [Loss: 4.74e-07]\n"
          ]
        },
        {
          "name": "stderr",
          "output_type": "stream",
          "text": [
            "\n",
            "Epochs:  64%|██████▍   | 64/100 [00:02<00:01, 25.86it/s]\u001b[A\n",
            "Epochs:  68%|██████▊   | 68/100 [00:02<00:01, 29.31it/s]\u001b[A"
          ]
        },
        {
          "name": "stdout",
          "output_type": "stream",
          "text": [
            "Batch 0, Epoch 62 [Loss: 4.74e-07]\n",
            "Batch 0, Epoch 63 [Loss: 4.74e-07]\n",
            "Batch 0, Epoch 64 [Loss: 4.74e-07]\n",
            "Batch 0, Epoch 65 [Loss: 4.74e-07]\n",
            "Batch 0, Epoch 66 [Loss: 4.74e-07]\n",
            "Batch 0, Epoch 67 [Loss: 4.74e-07]\n",
            "Batch 0, Epoch 68 [Loss: 4.74e-07]\n",
            "Batch 0, Epoch 69 [Loss: 4.74e-07]\n"
          ]
        },
        {
          "name": "stderr",
          "output_type": "stream",
          "text": [
            "\n",
            "Epochs:  72%|███████▏  | 72/100 [00:02<00:00, 31.46it/s]\u001b[A\n",
            "Epochs:  76%|███████▌  | 76/100 [00:02<00:00, 33.48it/s]\u001b[A"
          ]
        },
        {
          "name": "stdout",
          "output_type": "stream",
          "text": [
            "Batch 0, Epoch 70 [Loss: 4.74e-07]\n",
            "Batch 0, Epoch 71 [Loss: 4.74e-07]\n",
            "Batch 0, Epoch 72 [Loss: 4.74e-07]\n",
            "Batch 0, Epoch 73 [Loss: 4.74e-07]\n",
            "Batch 0, Epoch 74 [Loss: 4.74e-07]\n",
            "Batch 0, Epoch 75 [Loss: 4.74e-07]\n",
            "Batch 0, Epoch 76 [Loss: 4.74e-07]\n",
            "Batch 0, Epoch 77 [Loss: 4.74e-07]\n"
          ]
        },
        {
          "name": "stderr",
          "output_type": "stream",
          "text": [
            "\n",
            "Epochs:  80%|████████  | 80/100 [00:03<00:00, 34.48it/s]\u001b[A\n",
            "Epochs:  84%|████████▍ | 84/100 [00:03<00:00, 35.83it/s]\u001b[A"
          ]
        },
        {
          "name": "stdout",
          "output_type": "stream",
          "text": [
            "Batch 0, Epoch 78 [Loss: 4.74e-07]\n",
            "Batch 0, Epoch 79 [Loss: 4.74e-07]\n",
            "Batch 0, Epoch 80 [Loss: 4.74e-07]\n",
            "Batch 0, Epoch 81 [Loss: 4.74e-07]\n",
            "Batch 0, Epoch 82 [Loss: 4.74e-07]\n",
            "Batch 0, Epoch 83 [Loss: 4.74e-07]\n",
            "Batch 0, Epoch 84 [Loss: 4.74e-07]\n",
            "Batch 0, Epoch 85 [Loss: 4.74e-07]\n"
          ]
        },
        {
          "name": "stderr",
          "output_type": "stream",
          "text": [
            "\n",
            "Epochs:  88%|████████▊ | 88/100 [00:03<00:00, 35.71it/s]\u001b[A\n",
            "Epochs:  92%|█████████▏| 92/100 [00:03<00:00, 36.31it/s]\u001b[A"
          ]
        },
        {
          "name": "stdout",
          "output_type": "stream",
          "text": [
            "Batch 0, Epoch 86 [Loss: 4.74e-07]\n",
            "Batch 0, Epoch 87 [Loss: 4.74e-07]\n",
            "Batch 0, Epoch 88 [Loss: 4.74e-07]\n",
            "Batch 0, Epoch 89 [Loss: 4.74e-07]\n",
            "Batch 0, Epoch 90 [Loss: 4.74e-07]\n",
            "Batch 0, Epoch 91 [Loss: 4.74e-07]\n",
            "Batch 0, Epoch 92 [Loss: 4.74e-07]\n",
            "Batch 0, Epoch 93 [Loss: 4.74e-07]\n"
          ]
        },
        {
          "name": "stderr",
          "output_type": "stream",
          "text": [
            "\n",
            "Epochs:  96%|█████████▌| 96/100 [00:03<00:00, 35.03it/s]\u001b[A\n",
            "Epochs: 100%|██████████| 100/100 [00:03<00:00, 35.46it/s]\u001b[A\n",
            "Batches:  10%|█         | 1/10 [00:03<00:32,  3.57s/it]"
          ]
        },
        {
          "name": "stdout",
          "output_type": "stream",
          "text": [
            "Batch 0, Epoch 94 [Loss: 4.74e-07]\n",
            "Batch 0, Epoch 95 [Loss: 4.74e-07]\n",
            "Batch 0, Epoch 96 [Loss: 4.74e-07]\n",
            "Batch 0, Epoch 97 [Loss: 4.74e-07]\n",
            "Batch 0, Epoch 98 [Loss: 4.74e-07]\n",
            "Batch 0, Epoch 99 [Loss: 4.74e-07]\n"
          ]
        },
        {
          "name": "stderr",
          "output_type": "stream",
          "text": [
            "\n",
            "Epochs:   0%|          | 0/100 [00:00<?, ?it/s]\u001b[A\n",
            "Epochs:   6%|▌         | 6/100 [00:00<00:01, 59.31it/s]\u001b[A\n",
            "Epochs:  13%|█▎        | 13/100 [00:00<00:01, 63.97it/s]\u001b[A\n",
            "Epochs:  20%|██        | 20/100 [00:00<00:01, 61.76it/s]\u001b[A\n",
            "Epochs:  28%|██▊       | 28/100 [00:00<00:01, 68.33it/s]\u001b[A\n",
            "Epochs:  37%|███▋      | 37/100 [00:00<00:00, 74.30it/s]\u001b[A\n",
            "Epochs:  46%|████▌     | 46/100 [00:00<00:00, 77.26it/s]\u001b[A\n",
            "Epochs:  55%|█████▌    | 55/100 [00:00<00:00, 78.94it/s]\u001b[A\n",
            "Epochs:  63%|██████▎   | 63/100 [00:00<00:00, 77.35it/s]\u001b[A\n",
            "Epochs:  71%|███████   | 71/100 [00:00<00:00, 76.16it/s]\u001b[A\n",
            "Epochs:  79%|███████▉  | 79/100 [00:01<00:00, 73.67it/s]\u001b[A\n",
            "Epochs:  88%|████████▊ | 88/100 [00:01<00:00, 76.28it/s]\u001b[A\n",
            "Epochs:  97%|█████████▋| 97/100 [00:01<00:00, 77.33it/s]\u001b[A\n",
            "Batches:  20%|██        | 2/10 [00:04<00:18,  2.27s/it]\n",
            "Epochs:   0%|          | 0/100 [00:00<?, ?it/s]\u001b[A\n",
            "Epochs:   9%|▉         | 9/100 [00:00<00:01, 84.57it/s]\u001b[A\n",
            "Epochs:  18%|█▊        | 18/100 [00:00<00:00, 84.68it/s]\u001b[A\n",
            "Epochs:  27%|██▋       | 27/100 [00:00<00:00, 83.87it/s]\u001b[A\n",
            "Epochs:  36%|███▌      | 36/100 [00:00<00:00, 83.64it/s]\u001b[A\n",
            "Epochs:  45%|████▌     | 45/100 [00:00<00:00, 81.25it/s]\u001b[A\n",
            "Epochs:  54%|█████▍    | 54/100 [00:00<00:00, 74.15it/s]\u001b[A\n",
            "Epochs:  62%|██████▏   | 62/100 [00:00<00:00, 74.55it/s]\u001b[A\n",
            "Epochs:  71%|███████   | 71/100 [00:00<00:00, 77.55it/s]\u001b[A\n",
            "Epochs:  80%|████████  | 80/100 [00:01<00:00, 78.85it/s]\u001b[A\n",
            "Epochs:  89%|████████▉ | 89/100 [00:01<00:00, 80.72it/s]\u001b[A\n",
            "Epochs:  98%|█████████▊| 98/100 [00:01<00:00, 81.69it/s]\u001b[A\n",
            "Batches:  30%|███       | 3/10 [00:06<00:12,  1.81s/it]\n",
            "Epochs:   0%|          | 0/100 [00:00<?, ?it/s]\u001b[A\n",
            "Epochs:   9%|▉         | 9/100 [00:00<00:01, 87.45it/s]\u001b[A\n",
            "Epochs:  18%|█▊        | 18/100 [00:00<00:00, 83.39it/s]\u001b[A\n",
            "Epochs:  27%|██▋       | 27/100 [00:00<00:00, 76.99it/s]\u001b[A\n",
            "Epochs:  35%|███▌      | 35/100 [00:00<00:00, 72.65it/s]\u001b[A\n",
            "Epochs:  44%|████▍     | 44/100 [00:00<00:00, 76.60it/s]\u001b[A\n",
            "Epochs:  53%|█████▎    | 53/100 [00:00<00:00, 78.47it/s]\u001b[A\n",
            "Epochs:  62%|██████▏   | 62/100 [00:00<00:00, 80.68it/s]\u001b[A\n",
            "Epochs:  71%|███████   | 71/100 [00:00<00:00, 81.43it/s]\u001b[A\n",
            "Epochs:  80%|████████  | 80/100 [00:00<00:00, 82.59it/s]\u001b[A\n",
            "Epochs:  89%|████████▉ | 89/100 [00:01<00:00, 81.24it/s]\u001b[A\n",
            "Epochs:  98%|█████████▊| 98/100 [00:01<00:00, 81.95it/s]\u001b[A\n",
            "Batches:  40%|████      | 4/10 [00:07<00:09,  1.60s/it]\n",
            "Epochs:   0%|          | 0/100 [00:00<?, ?it/s]\u001b[A\n",
            "Epochs:   7%|▋         | 7/100 [00:00<00:01, 64.21it/s]\u001b[A\n",
            "Epochs:  14%|█▍        | 14/100 [00:00<00:01, 65.77it/s]\u001b[A\n",
            "Epochs:  23%|██▎       | 23/100 [00:00<00:01, 75.32it/s]\u001b[A\n",
            "Epochs:  31%|███       | 31/100 [00:00<00:00, 76.99it/s]\u001b[A\n",
            "Epochs:  40%|████      | 40/100 [00:00<00:00, 79.80it/s]\u001b[A\n",
            "Epochs:  49%|████▉     | 49/100 [00:00<00:00, 80.36it/s]\u001b[A\n",
            "Epochs:  58%|█████▊    | 58/100 [00:00<00:00, 80.31it/s]\u001b[A\n",
            "Epochs:  67%|██████▋   | 67/100 [00:00<00:00, 80.63it/s]\u001b[A\n",
            "Epochs:  76%|███████▌  | 76/100 [00:00<00:00, 80.74it/s]\u001b[A\n",
            "Epochs:  85%|████████▌ | 85/100 [00:01<00:00, 74.31it/s]\u001b[A\n",
            "Epochs:  93%|█████████▎| 93/100 [00:01<00:00, 74.34it/s]\u001b[A\n",
            "Batches:  50%|█████     | 5/10 [00:08<00:07,  1.50s/it]\n",
            "Epochs:   0%|          | 0/100 [00:00<?, ?it/s]\u001b[A\n",
            "Epochs:   8%|▊         | 8/100 [00:00<00:01, 75.20it/s]\u001b[A\n",
            "Epochs:  16%|█▌        | 16/100 [00:00<00:01, 76.45it/s]\u001b[A"
          ]
        },
        {
          "name": "stdout",
          "output_type": "stream",
          "text": [
            "Batch 5, Epoch 0 [Loss: 4.74e-07]\n",
            "Batch 5, Epoch 1 [Loss: 4.74e-07]\n",
            "Batch 5, Epoch 2 [Loss: 4.74e-07]\n",
            "Batch 5, Epoch 3 [Loss: 4.74e-07]\n",
            "Batch 5, Epoch 4 [Loss: 4.74e-07]\n",
            "Batch 5, Epoch 5 [Loss: 4.74e-07]\n",
            "Batch 5, Epoch 6 [Loss: 4.74e-07]\n",
            "Batch 5, Epoch 7 [Loss: 4.74e-07]\n",
            "Batch 5, Epoch 8 [Loss: 4.74e-07]\n",
            "Batch 5, Epoch 9 [Loss: 4.74e-07]\n",
            "Batch 5, Epoch 10 [Loss: 4.74e-07]\n",
            "Batch 5, Epoch 11 [Loss: 4.74e-07]\n",
            "Batch 5, Epoch 12 [Loss: 4.74e-07]\n",
            "Batch 5, Epoch 13 [Loss: 4.74e-07]\n",
            "Batch 5, Epoch 14 [Loss: 4.74e-07]\n",
            "Batch 5, Epoch 15 [Loss: 4.74e-07]\n"
          ]
        },
        {
          "name": "stderr",
          "output_type": "stream",
          "text": [
            "\n",
            "Epochs:  24%|██▍       | 24/100 [00:00<00:00, 77.04it/s]\u001b[A\n",
            "Epochs:  32%|███▏      | 32/100 [00:00<00:00, 77.02it/s]\u001b[A"
          ]
        },
        {
          "name": "stdout",
          "output_type": "stream",
          "text": [
            "Batch 5, Epoch 16 [Loss: 4.74e-07]\n",
            "Batch 5, Epoch 17 [Loss: 4.74e-07]\n",
            "Batch 5, Epoch 18 [Loss: 4.74e-07]\n",
            "Batch 5, Epoch 19 [Loss: 4.74e-07]\n",
            "Batch 5, Epoch 20 [Loss: 4.74e-07]\n",
            "Batch 5, Epoch 21 [Loss: 4.74e-07]\n",
            "Batch 5, Epoch 22 [Loss: 4.74e-07]\n",
            "Batch 5, Epoch 23 [Loss: 4.74e-07]\n",
            "Batch 5, Epoch 24 [Loss: 4.74e-07]\n",
            "Batch 5, Epoch 25 [Loss: 4.74e-07]\n",
            "Batch 5, Epoch 26 [Loss: 4.74e-07]\n",
            "Batch 5, Epoch 27 [Loss: 4.74e-07]\n",
            "Batch 5, Epoch 28 [Loss: 4.74e-07]\n",
            "Batch 5, Epoch 29 [Loss: 4.74e-07]\n",
            "Batch 5, Epoch 30 [Loss: 4.74e-07]\n",
            "Batch 5, Epoch 31 [Loss: 4.74e-07]\n"
          ]
        },
        {
          "name": "stderr",
          "output_type": "stream",
          "text": [
            "\n",
            "Epochs:  40%|████      | 40/100 [00:00<00:00, 77.68it/s]\u001b[A\n",
            "Epochs:  48%|████▊     | 48/100 [00:00<00:00, 77.29it/s]\u001b[A"
          ]
        },
        {
          "name": "stdout",
          "output_type": "stream",
          "text": [
            "Batch 5, Epoch 32 [Loss: 4.74e-07]\n",
            "Batch 5, Epoch 33 [Loss: 4.74e-07]\n",
            "Batch 5, Epoch 34 [Loss: 4.74e-07]\n",
            "Batch 5, Epoch 35 [Loss: 4.74e-07]\n",
            "Batch 5, Epoch 36 [Loss: 4.74e-07]\n",
            "Batch 5, Epoch 37 [Loss: 4.74e-07]\n",
            "Batch 5, Epoch 38 [Loss: 4.74e-07]\n",
            "Batch 5, Epoch 39 [Loss: 4.74e-07]\n",
            "Batch 5, Epoch 40 [Loss: 4.74e-07]\n",
            "Batch 5, Epoch 41 [Loss: 4.74e-07]\n",
            "Batch 5, Epoch 42 [Loss: 4.74e-07]\n",
            "Batch 5, Epoch 43 [Loss: 4.74e-07]\n",
            "Batch 5, Epoch 44 [Loss: 4.74e-07]\n",
            "Batch 5, Epoch 45 [Loss: 4.74e-07]\n",
            "Batch 5, Epoch 46 [Loss: 4.74e-07]\n",
            "Batch 5, Epoch 47 [Loss: 4.74e-07]\n"
          ]
        },
        {
          "name": "stderr",
          "output_type": "stream",
          "text": [
            "\n",
            "Epochs:  56%|█████▌    | 56/100 [00:00<00:00, 75.59it/s]\u001b[A"
          ]
        },
        {
          "name": "stdout",
          "output_type": "stream",
          "text": [
            "Batch 5, Epoch 48 [Loss: 4.74e-07]\n",
            "Batch 5, Epoch 49 [Loss: 4.74e-07]\n",
            "Batch 5, Epoch 50 [Loss: 4.74e-07]\n",
            "Batch 5, Epoch 51 [Loss: 4.74e-07]\n",
            "Batch 5, Epoch 52 [Loss: 4.74e-07]\n",
            "Batch 5, Epoch 53 [Loss: 4.74e-07]\n",
            "Batch 5, Epoch 54 [Loss: 4.74e-07]\n",
            "Batch 5, Epoch 55 [Loss: 4.74e-07]\n",
            "Batch 5, Epoch 56 [Loss: 4.74e-07]\n",
            "Batch 5, Epoch 57 [Loss: 4.74e-07]\n",
            "Batch 5, Epoch 58 [Loss: 4.74e-07]\n",
            "Batch 5, Epoch 59 [Loss: 4.74e-07]\n",
            "Batch 5, Epoch 60 [Loss: 4.74e-07]\n"
          ]
        },
        {
          "name": "stderr",
          "output_type": "stream",
          "text": [
            "\n",
            "Epochs:  64%|██████▍   | 64/100 [00:00<00:00, 67.30it/s]\u001b[A\n",
            "Epochs:  72%|███████▏  | 72/100 [00:00<00:00, 70.78it/s]\u001b[A"
          ]
        },
        {
          "name": "stdout",
          "output_type": "stream",
          "text": [
            "Batch 5, Epoch 61 [Loss: 4.74e-07]\n",
            "Batch 5, Epoch 62 [Loss: 4.74e-07]\n",
            "Batch 5, Epoch 63 [Loss: 4.74e-07]\n",
            "Batch 5, Epoch 64 [Loss: 4.74e-07]\n",
            "Batch 5, Epoch 65 [Loss: 4.74e-07]\n",
            "Batch 5, Epoch 66 [Loss: 4.74e-07]\n",
            "Batch 5, Epoch 67 [Loss: 4.74e-07]\n",
            "Batch 5, Epoch 68 [Loss: 4.74e-07]\n",
            "Batch 5, Epoch 69 [Loss: 4.74e-07]\n",
            "Batch 5, Epoch 70 [Loss: 4.74e-07]\n",
            "Batch 5, Epoch 71 [Loss: 4.74e-07]\n",
            "Batch 5, Epoch 72 [Loss: 4.74e-07]\n",
            "Batch 5, Epoch 73 [Loss: 4.74e-07]\n",
            "Batch 5, Epoch 74 [Loss: 4.74e-07]\n",
            "Batch 5, Epoch 75 [Loss: 4.74e-07]\n",
            "Batch 5, Epoch 76 [Loss: 4.74e-07]\n"
          ]
        },
        {
          "name": "stderr",
          "output_type": "stream",
          "text": [
            "\n",
            "Epochs:  80%|████████  | 80/100 [00:01<00:00, 73.36it/s]\u001b[A\n",
            "Epochs:  88%|████████▊ | 88/100 [00:01<00:00, 74.73it/s]\u001b[A"
          ]
        },
        {
          "name": "stdout",
          "output_type": "stream",
          "text": [
            "Batch 5, Epoch 77 [Loss: 4.74e-07]\n",
            "Batch 5, Epoch 78 [Loss: 4.74e-07]\n",
            "Batch 5, Epoch 79 [Loss: 4.74e-07]\n",
            "Batch 5, Epoch 80 [Loss: 4.74e-07]\n",
            "Batch 5, Epoch 81 [Loss: 4.74e-07]\n",
            "Batch 5, Epoch 82 [Loss: 4.74e-07]\n",
            "Batch 5, Epoch 83 [Loss: 4.74e-07]\n",
            "Batch 5, Epoch 84 [Loss: 4.74e-07]\n",
            "Batch 5, Epoch 85 [Loss: 4.74e-07]\n",
            "Batch 5, Epoch 86 [Loss: 4.74e-07]\n",
            "Batch 5, Epoch 87 [Loss: 4.74e-07]\n",
            "Batch 5, Epoch 88 [Loss: 4.74e-07]\n",
            "Batch 5, Epoch 89 [Loss: 4.74e-07]\n",
            "Batch 5, Epoch 90 [Loss: 4.74e-07]\n",
            "Batch 5, Epoch 91 [Loss: 4.74e-07]\n",
            "Batch 5, Epoch 92 [Loss: 4.74e-07]\n"
          ]
        },
        {
          "name": "stderr",
          "output_type": "stream",
          "text": [
            "\n",
            "Epochs:  96%|█████████▌| 96/100 [00:01<00:00, 75.10it/s]\u001b[A\n",
            "Batches:  60%|██████    | 6/10 [00:10<00:05,  1.45s/it]"
          ]
        },
        {
          "name": "stdout",
          "output_type": "stream",
          "text": [
            "Batch 5, Epoch 93 [Loss: 4.74e-07]\n",
            "Batch 5, Epoch 94 [Loss: 4.74e-07]\n",
            "Batch 5, Epoch 95 [Loss: 4.74e-07]\n",
            "Batch 5, Epoch 96 [Loss: 4.74e-07]\n",
            "Batch 5, Epoch 97 [Loss: 4.74e-07]\n",
            "Batch 5, Epoch 98 [Loss: 4.74e-07]\n",
            "Batch 5, Epoch 99 [Loss: 4.74e-07]\n"
          ]
        },
        {
          "name": "stderr",
          "output_type": "stream",
          "text": [
            "\n",
            "Epochs:   0%|          | 0/100 [00:00<?, ?it/s]\u001b[A\n",
            "Epochs:   9%|▉         | 9/100 [00:00<00:01, 84.81it/s]\u001b[A\n",
            "Epochs:  18%|█▊        | 18/100 [00:00<00:00, 84.04it/s]\u001b[A\n",
            "Epochs:  27%|██▋       | 27/100 [00:00<00:00, 83.14it/s]\u001b[A\n",
            "Epochs:  36%|███▌      | 36/100 [00:00<00:00, 73.26it/s]\u001b[A\n",
            "Epochs:  44%|████▍     | 44/100 [00:00<00:00, 71.71it/s]\u001b[A\n",
            "Epochs:  53%|█████▎    | 53/100 [00:00<00:00, 75.04it/s]\u001b[A\n",
            "Epochs:  62%|██████▏   | 62/100 [00:00<00:00, 76.91it/s]\u001b[A\n",
            "Epochs:  71%|███████   | 71/100 [00:00<00:00, 79.24it/s]\u001b[A\n",
            "Epochs:  80%|████████  | 80/100 [00:01<00:00, 79.97it/s]\u001b[A\n",
            "Epochs:  89%|████████▉ | 89/100 [00:01<00:00, 81.24it/s]\u001b[A\n",
            "Epochs:  98%|█████████▊| 98/100 [00:01<00:00, 81.56it/s]\u001b[A\n",
            "Batches:  70%|███████   | 7/10 [00:11<00:04,  1.39s/it]\n",
            "Epochs:   0%|          | 0/100 [00:00<?, ?it/s]\u001b[A\n",
            "Epochs:   8%|▊         | 8/100 [00:00<00:01, 72.63it/s]\u001b[A\n",
            "Epochs:  16%|█▌        | 16/100 [00:00<00:01, 60.28it/s]\u001b[A\n",
            "Epochs:  25%|██▌       | 25/100 [00:00<00:01, 70.30it/s]\u001b[A\n",
            "Epochs:  33%|███▎      | 33/100 [00:00<00:00, 73.26it/s]\u001b[A\n",
            "Epochs:  42%|████▏     | 42/100 [00:00<00:00, 77.45it/s]\u001b[A\n",
            "Epochs:  51%|█████     | 51/100 [00:00<00:00, 79.17it/s]\u001b[A\n",
            "Epochs:  60%|██████    | 60/100 [00:00<00:00, 79.92it/s]\u001b[A\n",
            "Epochs:  69%|██████▉   | 69/100 [00:00<00:00, 81.64it/s]\u001b[A\n",
            "Epochs:  78%|███████▊  | 78/100 [00:01<00:00, 81.83it/s]\u001b[A\n",
            "Epochs:  87%|████████▋ | 87/100 [00:01<00:00, 71.37it/s]\u001b[A\n",
            "Epochs:  95%|█████████▌| 95/100 [00:01<00:00, 64.58it/s]\u001b[A\n",
            "Batches:  80%|████████  | 8/10 [00:12<00:02,  1.40s/it]\n",
            "Epochs:   0%|          | 0/100 [00:00<?, ?it/s]\u001b[A\n",
            "Epochs:   7%|▋         | 7/100 [00:00<00:01, 62.50it/s]\u001b[A\n",
            "Epochs:  14%|█▍        | 14/100 [00:00<00:01, 62.03it/s]\u001b[A\n",
            "Epochs:  21%|██        | 21/100 [00:00<00:01, 61.97it/s]\u001b[A\n",
            "Epochs:  28%|██▊       | 28/100 [00:00<00:01, 60.28it/s]\u001b[A\n",
            "Epochs:  35%|███▌      | 35/100 [00:00<00:01, 62.03it/s]\u001b[A\n",
            "Epochs:  42%|████▏     | 42/100 [00:00<00:00, 62.20it/s]\u001b[A\n",
            "Epochs:  49%|████▉     | 49/100 [00:00<00:00, 60.95it/s]\u001b[A\n",
            "Epochs:  56%|█████▌    | 56/100 [00:00<00:00, 59.95it/s]\u001b[A\n",
            "Epochs:  63%|██████▎   | 63/100 [00:01<00:00, 57.80it/s]\u001b[A\n",
            "Epochs:  69%|██████▉   | 69/100 [00:01<00:00, 56.70it/s]\u001b[A\n",
            "Epochs:  75%|███████▌  | 75/100 [00:01<00:00, 57.35it/s]\u001b[A\n",
            "Epochs:  81%|████████  | 81/100 [00:01<00:00, 55.64it/s]\u001b[A\n",
            "Epochs:  87%|████████▋ | 87/100 [00:01<00:00, 56.04it/s]\u001b[A\n",
            "Epochs:  93%|█████████▎| 93/100 [00:01<00:00, 55.18it/s]\u001b[A\n",
            "Epochs:  99%|█████████▉| 99/100 [00:01<00:00, 55.11it/s]\u001b[A\n",
            "Batches:  90%|█████████ | 9/10 [00:14<00:01,  1.51s/it]\n",
            "Epochs:   0%|          | 0/100 [00:00<?, ?it/s]\u001b[A\n",
            "Epochs:   5%|▌         | 5/100 [00:00<00:02, 46.65it/s]\u001b[A\n",
            "Epochs:  10%|█         | 10/100 [00:00<00:01, 45.84it/s]\u001b[A\n",
            "Epochs:  15%|█▌        | 15/100 [00:00<00:01, 46.96it/s]\u001b[A\n",
            "Epochs:  20%|██        | 20/100 [00:00<00:01, 47.94it/s]\u001b[A\n",
            "Epochs:  29%|██▉       | 29/100 [00:00<00:01, 61.61it/s]\u001b[A\n",
            "Epochs:  38%|███▊      | 38/100 [00:00<00:00, 68.70it/s]\u001b[A\n",
            "Epochs:  47%|████▋     | 47/100 [00:00<00:00, 74.04it/s]\u001b[A\n",
            "Epochs:  56%|█████▌    | 56/100 [00:00<00:00, 76.83it/s]\u001b[A\n",
            "Epochs:  64%|██████▍   | 64/100 [00:00<00:00, 74.55it/s]\u001b[A\n",
            "Epochs:  72%|███████▏  | 72/100 [00:01<00:00, 72.82it/s]\u001b[A\n",
            "Epochs:  80%|████████  | 80/100 [00:01<00:00, 72.85it/s]\u001b[A\n",
            "Epochs:  89%|████████▉ | 89/100 [00:01<00:00, 75.98it/s]\u001b[A\n",
            "Epochs:  98%|█████████▊| 98/100 [00:01<00:00, 78.30it/s]\u001b[A\n",
            "Batches: 100%|██████████| 10/10 [00:16<00:00,  1.60s/it]\n"
          ]
        }
      ],
      "source": [
        "import torch.nn.functional as F\n",
        "\n",
        "def train_PDE(model, dataloader, optimizer, scheduler=None, epochs=100, print_batch=5, save_batch=10):\n",
        "  model.to(device)\n",
        "  for batch_index, graph in enumerate(tqdm.tqdm(dataloader, desc=\"Batches\")):\n",
        "      for epoch in tqdm.tqdm(range(epochs), desc=\"Epochs\", leave=False):\n",
        "          graph = graph.to(device)\n",
        "          model.train()  # Ensure the model is in training mode\n",
        "          pred, target = model(graph)\n",
        "          loss = F.mse_loss(pred, target)\n",
        "\n",
        "          # Ensure loss is a scalar\n",
        "          if loss.dim() > 0:\n",
        "              loss = loss.mean()\n",
        "\n",
        "          optimizer.zero_grad()\n",
        "          loss.backward()\n",
        "          optimizer.step()\n",
        "          if scheduler:\n",
        "              scheduler.step()  # Update the learning rate if scheduler is provided\n",
        "\n",
        "          if batch_index % print_batch == 0:\n",
        "              print(f'Batch {batch_index}, Epoch {epoch} [Loss: {loss.item():.2e}]')\n",
        "\n",
        "          if batch_index % save_batch == 0:\n",
        "              model.save()\n",
        "              #print('Model saved')\n",
        "\n",
        "\n",
        "# Example usage with a learning rate scheduler\n",
        "from torch.optim.lr_scheduler import StepLR\n",
        "\n",
        "optimizer = torch.optim.Adam(model.parameters(), lr=1e-4)\n",
        "scheduler = StepLR(optimizer, step_size=10, gamma=0.1)\n",
        "\n",
        "train_PDE(model, train_dataloader, optimizer, scheduler)\n"
      ]
    },
    {
      "cell_type": "code",
      "execution_count": null,
      "metadata": {
        "colab": {
          "base_uri": "https://localhost:8080/",
          "height": 1000
        },
        "id": "-xmhiCEXIv0y",
        "outputId": "a2603bff-8f84-401e-f00d-d434f754f744"
      },
      "outputs": [
        {
          "name": "stderr",
          "output_type": "stream",
          "text": [
            "<ipython-input-163-ea0e44780a33>:8: UserWarning: Using a target size (torch.Size([100, 1])) that is different to the input size (torch.Size([100, 2])). This will likely lead to incorrect results due to broadcasting. Please ensure they have the same size.\n",
            "  loss += F.mse_loss(pred, target).item()\n"
          ]
        },
        {
          "data": {
            "image/png": "[encoded data removed]",
            "text/plain": [
              "<Figure size 640x480 with 1 Axes>"
            ]
          },
          "metadata": {},
          "output_type": "display_data"
        },
        {
          "data": {
            "image/png": "[encoded data removed]",
            "text/plain": [
              "<Figure size 640x480 with 1 Axes>"
            ]
          },
          "metadata": {},
          "output_type": "display_data"
        },
        {
          "data": {
            "image/png": "[encoded data removed]",
            "text/plain": [
              "<Figure size 640x480 with 1 Axes>"
            ]
          },
          "metadata": {},
          "output_type": "display_data"
        },
        {
          "data": {
            "image/png": "[encoded data removed]",
            "text/plain": [
              "<Figure size 640x480 with 1 Axes>"
            ]
          },
          "metadata": {},
          "output_type": "display_data"
        },
        {
          "data": {
            "image/png": "[encoded data removed]",
            "text/plain": [
              "<Figure size 640x480 with 1 Axes>"
            ]
          },
          "metadata": {},
          "output_type": "display_data"
        },
        {
          "data": {
            "image/png": "[encoded data removed]",
            "text/plain": [
              "<Figure size 640x480 with 1 Axes>"
            ]
          },
          "metadata": {},
          "output_type": "display_data"
        },
        {
          "data": {
            "image/png": "[encoded data removed]",
            "text/plain": [
              "<Figure size 640x480 with 1 Axes>"
            ]
          },
          "metadata": {},
          "output_type": "display_data"
        },
        {
          "data": {
            "image/png": "[encoded data removed]",
            "text/plain": [
              "<Figure size 640x480 with 1 Axes>"
            ]
          },
          "metadata": {},
          "output_type": "display_data"
        },
        {
          "data": {
            "image/png": "[encoded data removed]",
            "text/plain": [
              "<Figure size 640x480 with 1 Axes>"
            ]
          },
          "metadata": {},
          "output_type": "display_data"
        },
        {
          "data": {
            "image/png": "[encoded data removed]",
            "text/plain": [
              "<Figure size 640x480 with 1 Axes>"
            ]
          },
          "metadata": {},
          "output_type": "display_data"
        }
      ],
      "source": [
        "# Test the model\n",
        "def test_PDE(model, dataloader):\n",
        "    loss = 0\n",
        "    for batch_index, graph in enumerate(dataloader):\n",
        "        model.eval()\n",
        "        graph = graph.to(device)\n",
        "        pred, target = model(graph)\n",
        "        loss += F.mse_loss(pred, target).item()\n",
        "\n",
        "    return loss / len(dataloader)\n",
        "\n",
        "test_PDE(model, test_dataloader)\n",
        "\n",
        "# Plot the results\n",
        "plot_results(model, test_dataloader)"
      ]
    },
    {
      "cell_type": "code",
      "execution_count": null,
      "metadata": {
        "id": "pOBAEIR8Iv0y"
      },
      "outputs": [],
      "source": []
    }
  ],
  "metadata": {
    "colab": {
      "provenance": []
    },
    "kernelspec": {
      "display_name": "ML",
      "language": "python",
      "name": "python3"
    },
    "language_info": {
      "codemirror_mode": {
        "name": "ipython",
        "version": 3
      },
      "file_extension": ".py",
      "mimetype": "text/x-python",
      "name": "python",
      "nbconvert_exporter": "python",
      "pygments_lexer": "ipython3",
      "version": "3.12.4"
    }
  },
  "nbformat": 4,
  "nbformat_minor": 0
}
