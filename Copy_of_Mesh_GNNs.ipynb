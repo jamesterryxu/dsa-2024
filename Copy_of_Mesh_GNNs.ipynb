{
  "cells": [
    {
      "cell_type": "markdown",
      "metadata": {
        "id": "9g-q03SxIv0h"
      },
      "source": [
        "# Importing packages"
      ]
    },
    {
      "cell_type": "code",
      "execution_count": 1,
      "metadata": {
        "colab": {
          "base_uri": "https://localhost:8080/"
        },
        "id": "_328GJzsjptZ",
        "outputId": "f35238e4-9639-4cd3-d4a6-4d1e430686e8"
      },
      "outputs": [],
      "source": [
        "#!pip install torch_geometric\n",
        "\n",
        "# Optional dependencies:\n",
        "#!pip install pyg_lib torch_scatter torch_sparse torch_cluster torch_spline_conv -f https://data.pyg.org/whl/torch-2.3.0+cu121.html"
      ]
    },
    {
      "cell_type": "code",
      "execution_count": 2,
      "metadata": {
        "id": "doQu9X6MIv0k"
      },
      "outputs": [],
      "source": [
        "import torch\n",
        "from torch_geometric.data import Data\n",
        "from torch_geometric.loader import DataLoader\n",
        "from torch_geometric.nn import radius_graph\n",
        "import enum\n",
        "import torch\n",
        "import torch.nn as nn\n",
        "import torch.nn.functional as F\n",
        "from torch_scatter import scatter_add\n",
        "from torch_geometric.utils import to_networkx\n",
        "import networkx as nx\n",
        "import matplotlib.pyplot as plt\n",
        "import numpy as np\n",
        "import os"
      ]
    },
    {
      "cell_type": "markdown",
      "metadata": {
        "id": "BRjUfEp8Iv0l"
      },
      "source": [
        "## Helper Functions"
      ]
    },
    {
      "cell_type": "code",
      "execution_count": 3,
      "metadata": {
        "id": "WiVhFr9rIv0m"
      },
      "outputs": [],
      "source": [
        "def decompose_graph(graph):\n",
        "    # graph: torch_geometric.data.data.Data\n",
        "    # TODO: make it more robust\n",
        "    x, edge_index, edge_attr, global_attr = None, None, None, None\n",
        "    for key in graph.keys():\n",
        "        if key==\"x\":\n",
        "            x = graph.x\n",
        "        elif key==\"edge_index\":\n",
        "            edge_index = graph.edge_index\n",
        "        elif key==\"edge_attr\":\n",
        "            edge_attr = graph.edge_attr\n",
        "        elif key==\"global_attr\":\n",
        "            global_attr = graph.global_attr\n",
        "        else:\n",
        "            pass\n",
        "    return (x, edge_index, edge_attr, global_attr)\n",
        "\n",
        "def copy_geometric_data(graph):\n",
        "    \"\"\"return a copy of torch_geometric.data.data.Data\n",
        "    This function should be carefully used based on\n",
        "    which keys in a given graph.\n",
        "    \"\"\"\n",
        "    node_attr, edge_index, edge_attr, global_attr = decompose_graph(graph)\n",
        "\n",
        "    ret = Data(x=node_attr, edge_index=edge_index, edge_attr=edge_attr)\n",
        "    ret.global_attr = global_attr\n",
        "\n",
        "    return ret"
      ]
    },
    {
      "cell_type": "code",
      "execution_count": 4,
      "metadata": {
        "id": "GZdfG_EbIv0m"
      },
      "outputs": [],
      "source": [
        "def build_mlp(in_size, hidden_size, out_size, lay_norm=True):\n",
        "\n",
        "    module = nn.Sequential(nn.Linear(in_size, hidden_size), nn.ReLU(), nn.Linear(hidden_size, hidden_size), nn.ReLU(), nn.Linear(hidden_size, hidden_size), nn.ReLU(), nn.Linear(hidden_size, out_size))\n",
        "    if lay_norm: return nn.Sequential(module,  nn.LayerNorm(normalized_shape=out_size))\n",
        "    return module"
      ]
    },
    {
      "cell_type": "markdown",
      "metadata": {
        "id": "YiWSJ42nIv0m"
      },
      "source": [
        "# Blocks"
      ]
    },
    {
      "cell_type": "code",
      "execution_count": 5,
      "metadata": {
        "id": "10hpLzj7Iv0n"
      },
      "outputs": [],
      "source": [
        "class EdgeBlock(nn.Module):\n",
        "    \"\"\" EdgeBlock, a block that updates edge attributes\n",
        "\n",
        "    Args:\n",
        "        custom_func: nn.Module, a custom function that updates edge attributes\n",
        "    \"\"\"\n",
        "\n",
        "    def __init__(self, custom_func=None):\n",
        "        super(EdgeBlock, self).__init__()\n",
        "        self.net = custom_func\n",
        "\n",
        "    def forward(self, graph):\n",
        "        node_attr, edge_index, edge_attr, _ = decompose_graph(graph)\n",
        "        senders_idx, receivers_idx = edge_index\n",
        "        edges_to_collect = []\n",
        "\n",
        "        senders_attr = node_attr[senders_idx]\n",
        "        receivers_attr = node_attr[receivers_idx]\n",
        "\n",
        "        edges_to_collect.append(senders_attr)\n",
        "        edges_to_collect.append(receivers_attr)\n",
        "        edges_to_collect.append(edge_attr)\n",
        "\n",
        "        collected_edges = torch.cat(edges_to_collect, dim=1)\n",
        "\n",
        "        edge_attr_ = self.net(collected_edges)   # Update\n",
        "\n",
        "        return Data(x=node_attr, edge_attr=edge_attr_, edge_index=edge_index)\n",
        "\n",
        "class NodeBlock(nn.Module):\n",
        "    \"\"\" NodeBlock, a block that updates node attributes\n",
        "\n",
        "    Args:\n",
        "        custom_func: nn.Module, a custom function that updates node attributes\n",
        "    \"\"\"\n",
        "\n",
        "    def __init__(self, custom_func=None):\n",
        "        super(NodeBlock, self).__init__()\n",
        "        self.net = custom_func\n",
        "\n",
        "    def forward(self, graph):\n",
        "        # Decompose graph\n",
        "        edge_attr = graph.edge_attr\n",
        "        nodes_to_collect = []\n",
        "\n",
        "        _, receivers_idx = graph.edge_index\n",
        "        num_nodes = graph.num_nodes\n",
        "        agg_received_edges = scatter_add(edge_attr, receivers_idx, dim=0, dim_size=num_nodes)\n",
        "\n",
        "        nodes_to_collect.append(graph.x)\n",
        "        nodes_to_collect.append(agg_received_edges)\n",
        "        collected_nodes = torch.cat(nodes_to_collect, dim=-1)\n",
        "        x = self.net(collected_nodes)\n",
        "        return Data(x=x, edge_attr=edge_attr, edge_index=graph.edge_index)"
      ]
    },
    {
      "cell_type": "markdown",
      "metadata": {
        "id": "R9iIhVmRIv0n"
      },
      "source": [
        "# Data"
      ]
    },
    {
      "cell_type": "code",
      "execution_count": 6,
      "metadata": {
        "id": "1E9g0UOZIv0n"
      },
      "outputs": [],
      "source": [
        "def create_gnn_graph(coordinates, displacement_vector, metadata):\n",
        "    \"\"\"\n",
        "    Create a graph data object for a GNN model.\n",
        "\n",
        "    Args:\n",
        "    - coordinates (list of tuples): A list of 2D coordinates for each node.\n",
        "    - target (list of floats): A list of target values for each node.\n",
        "\n",
        "    Returns:\n",
        "    - data (Data): A PyG Data object representing the graph.\n",
        "    \"\"\"\n",
        "\n",
        "    # Convert coordinates to tensor\n",
        "    pos = torch.tensor(coordinates, dtype=torch.float)\n",
        "    displacement_vector = torch.tensor(displacement_vector, dtype=torch.float).unsqueeze(1)\n",
        "\n",
        "    # Add the load as a node attribute\n",
        "    load = torch.rand(pos.size(0), 1) * metadata[\"P_initial\"]\n",
        "\n",
        "    # Create edges\n",
        "    num_nodes = len(coordinates)\n",
        "    edge_index = radius_graph(pos, r=metadata[\"default_connectivity_radius\"], loop=False)\n",
        "\n",
        "    # Calculate edge attributes (e.g., Euclidean distance)\n",
        "    distance = torch.norm(pos[edge_index[0]] - pos[edge_index[1]], dim=1).unsqueeze(1)\n",
        "    # Calculate displacement as vector at each edge\n",
        "    displacement = (pos[edge_index[1]] - pos[edge_index[0]])\n",
        "\n",
        "    # Convert E_initial to a PyTorch tensor\n",
        "    E_initial = torch.tensor(metadata[\"E_initial\"], dtype=torch.float)\n",
        "    # Correctly generate a tensor with random values uniformly distributed between 0 and 1, then scale by E_initial\n",
        "    E_edge = torch.rand(edge_index.size(1), 1) * E_initial\n",
        "\n",
        "    # Now, both tensors have shape [number_of_edges, 1] and can be concatenated\n",
        "    edge_attr = torch.cat([distance, displacement, E_edge], dim=1)\n",
        "\n",
        "    # Concat node features and load\n",
        "    node_features = torch.cat([pos], dim=1)\n",
        "\n",
        "    # Create a graph data object\n",
        "    data = Data(x=node_features, edge_index=edge_index, edge_attr=edge_attr, y=displacement_vector)\n",
        "\n",
        "    return data"
      ]
    },
    {
      "cell_type": "code",
      "execution_count": 37,
      "metadata": {
        "colab": {
          "base_uri": "https://localhost:8080/",
          "height": 516
        },
        "id": "X_1ZVIADIv0o",
        "outputId": "42dd663f-18a2-4d61-d61d-02fe8edfc45e"
      },
      "outputs": [
        {
          "data": {
            "image/png": "[encoded data removed]",
            "text/plain": [
              "<Figure size 640x480 with 1 Axes>"
            ]
          },
          "metadata": {},
          "output_type": "display_data"
        }
      ],
      "source": [
        "# Example usage\n",
        "metadata = {\"default_connectivity_radius\": 1.6, \"E_initial\": 10, \"P_initial\": 0.5,\n",
        "\"node_features\": [\"x\", \"y\", \"load\"], \"edge_features\": [\"distance\", \"displacement\", \"E_edge\"],\n",
        "\"node_input_size\": 2, \"edge_input_size\": 4}\n",
        "coordinates = [(0.5, 0), (1.5, 0), (2.5, 0), (3.5, 0), (4.5, 0)]\n",
        "displacement = [0, 0.4, 0.5, 0.1, 0.12]\n",
        "graph_data = create_gnn_graph(coordinates, displacement_vector=displacement, metadata=metadata)\n",
        "\n",
        "graph = to_networkx(graph_data)\n",
        "nx.draw(graph, with_labels=True)\n",
        "plt.show()\n"
      ]
    },
    {
      "cell_type": "markdown",
      "metadata": {
        "id": "MK8Z0gNmIv0o"
      },
      "source": [
        "# Encoder"
      ]
    },
    {
      "cell_type": "code",
      "execution_count": 38,
      "metadata": {
        "id": "aSY2vcsfIv0p"
      },
      "outputs": [],
      "source": [
        "class Encoder(nn.Module):\n",
        "    \"\"\" Encoder for the graph neural network. \"\"\"\n",
        "\n",
        "    def __init__(self,\n",
        "                edge_input_size=4,\n",
        "                node_input_size=2,\n",
        "                hidden_size=128):\n",
        "        super(Encoder, self).__init__()\n",
        "\n",
        "        self.nb_encoder = build_mlp(node_input_size, hidden_size, hidden_size)\n",
        "        self.eb_encoder = build_mlp(edge_input_size, hidden_size, hidden_size)\n",
        "\n",
        "    def forward(self, graph):\n",
        "\n",
        "        node_attr, _, edge_attr, _ = decompose_graph(graph)\n",
        "        node_ = self.nb_encoder(node_attr)\n",
        "        edge_ = self.eb_encoder(edge_attr)\n",
        "\n",
        "        return Data(x=node_, edge_attr=edge_, edge_index=graph.edge_index)"
      ]
    },
    {
      "cell_type": "code",
      "execution_count": 39,
      "metadata": {
        "colab": {
          "base_uri": "https://localhost:8080/"
        },
        "id": "NXs96akeIv0p",
        "outputId": "4ac5b403-4492-4fd2-cfdc-72a8260d1104"
      },
      "outputs": [
        {
          "data": {
            "text/plain": [
              "(tensor([[0.5000, 0.0000],\n",
              "         [1.5000, 0.0000],\n",
              "         [2.5000, 0.0000],\n",
              "         [3.5000, 0.0000],\n",
              "         [4.5000, 0.0000]]),\n",
              " tensor([[1, 0, 2, 1, 3, 2, 4, 3],\n",
              "         [0, 1, 1, 2, 2, 3, 3, 4]]),\n",
              " tensor([[ 1.0000, -1.0000,  0.0000,  7.4239],\n",
              "         [ 1.0000,  1.0000,  0.0000,  7.4421],\n",
              "         [ 1.0000, -1.0000,  0.0000,  1.2128],\n",
              "         [ 1.0000,  1.0000,  0.0000,  4.9194],\n",
              "         [ 1.0000, -1.0000,  0.0000,  0.0665],\n",
              "         [ 1.0000,  1.0000,  0.0000,  9.6704],\n",
              "         [ 1.0000, -1.0000,  0.0000,  9.7626],\n",
              "         [ 1.0000,  1.0000,  0.0000,  4.6668]]),\n",
              " None)"
            ]
          },
          "execution_count": 39,
          "metadata": {},
          "output_type": "execute_result"
        }
      ],
      "source": [
        "decompose_graph(graph_data)"
      ]
    },
    {
      "cell_type": "code",
      "execution_count": 40,
      "metadata": {
        "id": "N20Op6vpIv0p"
      },
      "outputs": [],
      "source": [
        "model = Encoder(edge_input_size=4, node_input_size=2, hidden_size=128)\n",
        "out1 = model(graph_data)"
      ]
    },
    {
      "cell_type": "markdown",
      "metadata": {
        "id": "GjsPFGjIIv0p"
      },
      "source": [
        "# Decode"
      ]
    },
    {
      "cell_type": "code",
      "execution_count": 41,
      "metadata": {
        "id": "OFWpaUinIv0p"
      },
      "outputs": [],
      "source": [
        "class Decoder(nn.Module):\n",
        "    \"\"\" Decoder for the GNN model. \"\"\"\n",
        "\n",
        "    def __init__(self, hidden_size=128, output_size=2):\n",
        "        super(Decoder, self).__init__()\n",
        "        self.decode_module = build_mlp(hidden_size, hidden_size, output_size, lay_norm=False)\n",
        "\n",
        "    def forward(self, graph):\n",
        "        return self.decode_module(graph.x)"
      ]
    },
    {
      "cell_type": "code",
      "execution_count": 42,
      "metadata": {
        "colab": {
          "base_uri": "https://localhost:8080/"
        },
        "id": "qwKGows2Iv0p",
        "outputId": "c4b587f5-aa25-4d78-be67-6207a3c14724"
      },
      "outputs": [
        {
          "data": {
            "text/plain": [
              "tensor([[-0.1231,  0.0203],\n",
              "        [-0.1049,  0.0248],\n",
              "        [-0.0954,  0.0356],\n",
              "        [-0.0904,  0.0396],\n",
              "        [-0.0888,  0.0371]], grad_fn=<AddmmBackward0>)"
            ]
          },
          "execution_count": 42,
          "metadata": {},
          "output_type": "execute_result"
        }
      ],
      "source": [
        "model = Decoder(hidden_size=128, output_size=2)\n",
        "model(out1)"
      ]
    },
    {
      "cell_type": "markdown",
      "metadata": {
        "id": "ntvu9TPtIv0q"
      },
      "source": [
        "# GN Block"
      ]
    },
    {
      "cell_type": "code",
      "execution_count": 43,
      "metadata": {
        "id": "ORx7hfBwIv0q"
      },
      "outputs": [],
      "source": [
        "class GnBlock(nn.Module):\n",
        "    \"\"\" Graph Neural Network Block \"\"\"\n",
        "\n",
        "    def __init__(self, hidden_size=128):\n",
        "\n",
        "        super(GnBlock, self).__init__()\n",
        "        eb_input_dim = 3 * hidden_size\n",
        "        nb_input_dim = 2 * hidden_size\n",
        "        nb_custom_func = build_mlp(nb_input_dim, hidden_size, hidden_size)\n",
        "        eb_custom_func = build_mlp(eb_input_dim, hidden_size, hidden_size)\n",
        "\n",
        "        self.eb_module = EdgeBlock(custom_func=eb_custom_func)\n",
        "        self.nb_module = NodeBlock(custom_func=nb_custom_func)\n",
        "\n",
        "    def forward(self, graph):\n",
        "\n",
        "        graph_last = copy_geometric_data(graph)\n",
        "        graph = self.eb_module(graph)\n",
        "        graph = self.nb_module(graph)\n",
        "        edge_attr = graph_last.edge_attr + graph.edge_attr\n",
        "        x = graph_last.x + graph.x\n",
        "        return Data(x=x, edge_attr=edge_attr, edge_index=graph.edge_index)"
      ]
    },
    {
      "cell_type": "code",
      "execution_count": 44,
      "metadata": {
        "colab": {
          "base_uri": "https://localhost:8080/"
        },
        "id": "ihRvQvvqIv0q",
        "outputId": "de5e6ec9-4c43-4438-a83d-2153e3e95b73"
      },
      "outputs": [
        {
          "data": {
            "text/plain": [
              "Data(x=[5, 128], edge_index=[2, 8], edge_attr=[8, 128])"
            ]
          },
          "execution_count": 44,
          "metadata": {},
          "output_type": "execute_result"
        }
      ],
      "source": [
        "model = GnBlock(hidden_size=128)\n",
        "model(out1)"
      ]
    },
    {
      "cell_type": "markdown",
      "metadata": {
        "id": "SNYM9WaFIv0q"
      },
      "source": [
        "# Model"
      ]
    },
    {
      "cell_type": "code",
      "execution_count": 45,
      "metadata": {
        "id": "8uyeXMcYIv0q"
      },
      "outputs": [],
      "source": [
        "class EncoderProcesserDecoder(nn.Module):\n",
        "    \"\"\" Encoder-Processer-Decoder model for GNN\n",
        "    \"\"\"\n",
        "\n",
        "    def __init__(self, message_passing_num, node_input_size, edge_input_size, hidden_size=128):\n",
        "        super(EncoderProcesserDecoder, self).__init__()\n",
        "        self.encoder = Encoder(edge_input_size=edge_input_size, node_input_size=node_input_size, hidden_size=hidden_size)\n",
        "        processer_list = []\n",
        "        for _ in range(message_passing_num):\n",
        "            processer_list.append(GnBlock(hidden_size=hidden_size))\n",
        "        self.processer_list = nn.ModuleList(processer_list)\n",
        "\n",
        "        self.decoder = Decoder(hidden_size=hidden_size, output_size=1)\n",
        "\n",
        "    def forward(self, graph):\n",
        "\n",
        "        graph= self.encoder(graph)\n",
        "        for model in self.processer_list:\n",
        "            graph = model(graph)\n",
        "        decoded = self.decoder(graph)\n",
        "\n",
        "        return decoded"
      ]
    },
    {
      "cell_type": "code",
      "execution_count": 47,
      "metadata": {
        "colab": {
          "base_uri": "https://localhost:8080/"
        },
        "id": "_2KW9l-KIv0q",
        "outputId": "a7fd7faa-4d70-4a93-a336-1b1974688633"
      },
      "outputs": [
        {
          "data": {
            "text/plain": [
              "tensor(0.1391, grad_fn=<MseLossBackward0>)"
            ]
          },
          "execution_count": 47,
          "metadata": {},
          "output_type": "execute_result"
        }
      ],
      "source": [
        "model = EncoderProcesserDecoder(message_passing_num=3, node_input_size=2, edge_input_size=4, hidden_size=40)\n",
        "pred = model(graph_data)\n",
        "loss_fn = nn.MSELoss()\n",
        "loss_fn(pred, graph_data.y)"
      ]
    },
    {
      "cell_type": "markdown",
      "metadata": {
        "id": "HQ5mbx6KIv0q"
      },
      "source": [
        "# Simulator"
      ]
    },
    {
      "cell_type": "code",
      "execution_count": 26,
      "metadata": {
        "id": "BKqLIfY-Iv0q"
      },
      "outputs": [],
      "source": [
        "class Simulator(nn.Module):\n",
        "    \"\"\" Simulator model for the GNN\n",
        "\n",
        "    Args:\n",
        "        message_passing_num: int, number of message passing iterations\n",
        "        node_input_size: int, size of the node input\n",
        "        edge_input_size: int, size of the edge input\n",
        "        device: torch.device, device to run the model\n",
        "        model_dir: str, path to the model checkpoint\n",
        "    \"\"\"\n",
        "\n",
        "    def __init__(self, message_passing_num, node_input_size, edge_input_size, device, model_dir='checkpoint/simulator.pth') -> None:\n",
        "        super(Simulator, self).__init__()\n",
        "\n",
        "        self.node_input_size =  node_input_size\n",
        "        self.edge_input_size = edge_input_size\n",
        "        self.model_dir = model_dir\n",
        "        self.model = EncoderProcesserDecoder(message_passing_num=message_passing_num, node_input_size=node_input_size, edge_input_size=edge_input_size).to(device)\n",
        "\n",
        "        print('Simulator model initialized')\n",
        "\n",
        "\n",
        "    def forward(self, graph:Data):\n",
        "\n",
        "        predicted = self.model(graph)\n",
        "        target = graph.y\n",
        "\n",
        "        return predicted, target\n",
        "\n",
        "    def save(self):\n",
        "        if self.model_dir is not None:\n",
        "            os.makedirs(os.path.dirname(self.model_dir), exist_ok=True)\n",
        "\n",
        "        torch.save(self.model.state_dict(), self.model_dir)\n",
        "\n",
        "    def load(self):\n",
        "        if self.model_dir is not None:\n",
        "            self.model.load_state_dict(torch.load(self.model_dir))\n"
      ]
    },
    {
      "cell_type": "code",
      "execution_count": 48,
      "metadata": {
        "colab": {
          "base_uri": "https://localhost:8080/"
        },
        "id": "IEV-nRwHIv0q",
        "outputId": "59c353bd-c5d5-45e7-8b60-f99e042351b0"
      },
      "outputs": [
        {
          "name": "stdout",
          "output_type": "stream",
          "text": [
            "Simulator model initialized\n"
          ]
        }
      ],
      "source": [
        "model = Simulator(message_passing_num=3, node_input_size=2, edge_input_size=4, device=torch.device('cpu'))\n",
        "pred, target = model.forward(graph_data)\n"
      ]
    },
    {
      "cell_type": "markdown",
      "metadata": {
        "id": "csNw79z1Iv0r"
      },
      "source": [
        "# Training"
      ]
    },
    {
      "cell_type": "code",
      "execution_count": 49,
      "metadata": {
        "colab": {
          "base_uri": "https://localhost:8080/"
        },
        "id": "n2ezBN0PIv0r",
        "outputId": "d0f0cca1-d62d-4277-bc97-ae5d01b9762c"
      },
      "outputs": [
        {
          "name": "stdout",
          "output_type": "stream",
          "text": [
            "Simulator model initialized\n",
            "Optimizer initialized\n"
          ]
        }
      ],
      "source": [
        "import torch\n",
        "from torch.optim.lr_scheduler import StepLR  # Import StepLR\n",
        "\n",
        "dataset_dir = 'dataset'\n",
        "batch_size = 20\n",
        "\n",
        "print_batch = 10\n",
        "save_batch = 200\n",
        "\n",
        "\n",
        "device = torch.device('cuda' if torch.cuda.is_available() else 'cpu')\n",
        "simulator = Simulator(message_passing_num=3, node_input_size=2, edge_input_size=4, device=device)\n",
        "optimizer = torch.optim.Adam(simulator.model.parameters(), lr=1e-3)\n",
        "scheduler = StepLR(optimizer, step_size=10, gamma=0.1)\n",
        "\n",
        "print('Optimizer initialized')"
      ]
    },
    {
      "cell_type": "code",
      "execution_count": 50,
      "metadata": {
        "id": "N-A3Ib9vIv0r"
      },
      "outputs": [],
      "source": [
        "import torch_geometric.transforms as T\n",
        "transformer = T.Compose([T.FaceToEdge(), T.Cartesian(norm=False), T.Distance(norm=False)])"
      ]
    },
    {
      "cell_type": "code",
      "execution_count": 53,
      "metadata": {
        "id": "k3tdvLMmJJ4N"
      },
      "outputs": [
        {
          "data": {
            "text/plain": [
              "tensor(0.0953, grad_fn=<MseLossBackward0>)"
            ]
          },
          "execution_count": 53,
          "metadata": {},
          "output_type": "execute_result"
        }
      ],
      "source": [
        "loss_fn = torch.nn.MSELoss()\n",
        "\n",
        "pred, target = simulator(graph_data)\n",
        "loss_fn(pred, target)"
      ]
    },
    {
      "cell_type": "code",
      "execution_count": 59,
      "metadata": {
        "id": "y1r9nr1YIv0r"
      },
      "outputs": [],
      "source": [
        "import tqdm\n",
        "from torch.optim.lr_scheduler import StepLR\n",
        "\n",
        "scheduler = StepLR(optimizer, step_size=10, gamma=0.1)\n",
        "\n",
        "def train(model: Simulator, dataloader, optimizer, scheduler, loss_fn, epochs=1, print_epoch=5, save_epoch=100):\n",
        "    model.to(device)\n",
        "\n",
        "    # Save losses\n",
        "    losses = []\n",
        "    for epoch in tqdm.tqdm(range(epochs), desc=\"Epochs\"):\n",
        "        for batch_index, graph in enumerate(tqdm.tqdm(dataloader, desc=\"Batches\", leave=False)):\n",
        "            graph = graph.to(device)\n",
        "            optimizer.zero_grad()\n",
        "            pred, target = model(graph)\n",
        "            loss = loss_fn(pred, target)\n",
        "            loss.backward()\n",
        "            optimizer.step()\n",
        "            if scheduler:\n",
        "                scheduler.step()\n",
        "                # Update\n",
        "                #scheduler\n",
        "\n",
        "            if batch_index % print_batch == 0:\n",
        "                print(f'Batch {batch_index}, Epoch {epoch} [Loss: {loss.item():.2e}]')\n",
        "\n",
        "            if batch_index % save_batch == 0:\n",
        "                model.save()\n",
        "                #print('Model saved')\n",
        "\n",
        "                # Save losses\n",
        "        losses.append(loss.item())\n",
        "\n",
        "    return losses\n",
        "\n",
        "\n",
        "\n",
        "\n"
      ]
    },
    {
      "cell_type": "markdown",
      "metadata": {
        "id": "_DL45og4Iv0r"
      },
      "source": [
        "# Dataloader"
      ]
    },
    {
      "cell_type": "code",
      "execution_count": 55,
      "metadata": {
        "id": "dxlsFXsaIv0r"
      },
      "outputs": [],
      "source": [
        "import pandas as pd\n",
        "\n",
        "train_dataset_dir = 'https://github.com/jamesterryxu/dsa-2024/raw/main/data.json'\n",
        "test_dataset_dir = \"https://github.com/jamesterryxu/dsa-2024/raw/main/data/JSON_Data_Updated/n=100_p=2_varying_l_vectors.json\"\n"
      ]
    },
    {
      "cell_type": "code",
      "execution_count": 56,
      "metadata": {
        "id": "yOl2qNIqIv0r"
      },
      "outputs": [],
      "source": [
        "import pandas as pd\n",
        "import numpy as np\n",
        "from torch_geometric.data import Dataset\n",
        "from torch_geometric.data import DataLoader\n",
        "\n",
        "class GraphDataset(Dataset):\n",
        "    def __init__(self, dataset_dir, metadata):\n",
        "        self.df = pd.read_json(dataset_dir)\n",
        "        #self.df = self.df.applymap(lambda x: np.array(x))\n",
        "        self.metadata = metadata\n",
        "\n",
        "    def __len__(self):\n",
        "        return len(self.df)\n",
        "\n",
        "    def __getitem__(self, idx):\n",
        "        displacement_y = self.df[\"Displacement\"].iloc[idx]\n",
        "        coordinates = self.df[\"Coord\"].iloc[idx]\n",
        "        EI = self.df[\"EI\"].iloc[idx]\n",
        "        self.metadata[\"default_connectivity_radius\"] = np.hypot(*np.diff(coordinates, axis=0).T).mean() * 1.05\n",
        "        #print(self.metadata[\"default_connectivity_radius\"])\n",
        "        graph_data = create_gnn_graph(coordinates, displacement_y, self.metadata)\n",
        "        return graph_data\n"
      ]
    },
    {
      "cell_type": "code",
      "execution_count": 57,
      "metadata": {
        "colab": {
          "base_uri": "https://localhost:8080/"
        },
        "id": "tMWagXZhIv0r",
        "outputId": "a04467a5-1577-4967-ef09-687056db156c"
      },
      "outputs": [
        {
          "name": "stderr",
          "output_type": "stream",
          "text": [
            "C:\\Users\\kurt-\\AppData\\Roaming\\Python\\Python312\\site-packages\\torch_geometric\\deprecation.py:26: UserWarning: 'data.DataLoader' is deprecated, use 'loader.DataLoader' instead\n",
            "  warnings.warn(out)\n",
            "C:\\Users\\kurt-\\AppData\\Roaming\\Python\\Python312\\site-packages\\torch_geometric\\deprecation.py:26: UserWarning: 'data.DataLoader' is deprecated, use 'loader.DataLoader' instead\n",
            "  warnings.warn(out)\n"
          ]
        }
      ],
      "source": [
        "train_dataloader = DataLoader(GraphDataset(train_dataset_dir, metadata), batch_size=1000, shuffle=True)\n",
        "test_dataloader = DataLoader(GraphDataset(test_dataset_dir, metadata), batch_size=1, shuffle=True)"
      ]
    },
    {
      "cell_type": "markdown",
      "metadata": {
        "id": "vh9CJn_LIv0s"
      },
      "source": [
        "# Train test"
      ]
    },
    {
      "cell_type": "code",
      "execution_count": 58,
      "metadata": {
        "colab": {
          "base_uri": "https://localhost:8080/"
        },
        "id": "egCpX_XfIv0s",
        "outputId": "e7a4b345-a1a3-4011-da95-0032aa57644f"
      },
      "outputs": [
        {
          "name": "stdout",
          "output_type": "stream",
          "text": [
            "cpu\n",
            "Simulator model initialized\n"
          ]
        }
      ],
      "source": [
        "device = torch.device('cuda' if torch.cuda.is_available() else 'cpu')\n",
        "print(device)\n",
        "simulator = Simulator(message_passing_num=3, node_input_size=2, edge_input_size=4, device=device)\n",
        "optimizer = torch.optim.Adam(simulator.model.parameters(), lr=1e-4)\n",
        "scheduler = StepLR(optimizer, step_size=10, gamma=0.1)"
      ]
    },
    {
      "cell_type": "code",
      "execution_count": 61,
      "metadata": {
        "colab": {
          "base_uri": "https://localhost:8080/",
          "height": 1000
        },
        "id": "LPNKj80LIv0s",
        "outputId": "89dc208a-acdb-4a0c-d2f9-5ee2785d36be"
      },
      "outputs": [
        {
          "name": "stderr",
          "output_type": "stream",
          "text": [
            "Epochs:   0%|          | 0/1 [00:00<?, ?it/s]"
          ]
        },
        {
          "name": "stdout",
          "output_type": "stream",
          "text": [
            "Batch 0, Epoch 0 [Loss: 5.88e+02]\n"
          ]
        },
        {
          "name": "stderr",
          "output_type": "stream",
          "text": [
            "Epochs:   0%|          | 0/1 [00:14<?, ?it/s]\n"
          ]
        },
        {
          "ename": "KeyboardInterrupt",
          "evalue": "",
          "output_type": "error",
          "traceback": [
            "\u001b[1;31m---------------------------------------------------------------------------\u001b[0m",
            "\u001b[1;31mKeyboardInterrupt\u001b[0m                         Traceback (most recent call last)",
            "Cell \u001b[1;32mIn[61], line 1\u001b[0m\n\u001b[1;32m----> 1\u001b[0m losses \u001b[38;5;241m=\u001b[39m \u001b[43mtrain\u001b[49m\u001b[43m(\u001b[49m\u001b[43msimulator\u001b[49m\u001b[43m,\u001b[49m\u001b[43m \u001b[49m\u001b[43mtrain_dataloader\u001b[49m\u001b[43m,\u001b[49m\u001b[43m \u001b[49m\u001b[43moptimizer\u001b[49m\u001b[43m,\u001b[49m\u001b[43m \u001b[49m\u001b[43mscheduler\u001b[49m\u001b[43m,\u001b[49m\u001b[43m \u001b[49m\u001b[43mloss_fn\u001b[49m\u001b[43m,\u001b[49m\u001b[43m \u001b[49m\u001b[43mepochs\u001b[49m\u001b[38;5;241;43m=\u001b[39;49m\u001b[38;5;241;43m1\u001b[39;49m\u001b[43m)\u001b[49m\n",
            "Cell \u001b[1;32mIn[59], line 17\u001b[0m, in \u001b[0;36mtrain\u001b[1;34m(model, dataloader, optimizer, scheduler, loss_fn, epochs, print_epoch, save_epoch)\u001b[0m\n\u001b[0;32m     15\u001b[0m pred, target \u001b[38;5;241m=\u001b[39m model(graph)\n\u001b[0;32m     16\u001b[0m loss \u001b[38;5;241m=\u001b[39m loss_fn(pred, target)\n\u001b[1;32m---> 17\u001b[0m \u001b[43mloss\u001b[49m\u001b[38;5;241;43m.\u001b[39;49m\u001b[43mbackward\u001b[49m\u001b[43m(\u001b[49m\u001b[43m)\u001b[49m\n\u001b[0;32m     18\u001b[0m optimizer\u001b[38;5;241m.\u001b[39mstep()\n\u001b[0;32m     19\u001b[0m \u001b[38;5;28;01mif\u001b[39;00m scheduler:\n",
            "File \u001b[1;32mc:\\Users\\kurt-\\miniconda3\\envs\\ML\\Lib\\site-packages\\torch\\_tensor.py:525\u001b[0m, in \u001b[0;36mTensor.backward\u001b[1;34m(self, gradient, retain_graph, create_graph, inputs)\u001b[0m\n\u001b[0;32m    515\u001b[0m \u001b[38;5;28;01mif\u001b[39;00m has_torch_function_unary(\u001b[38;5;28mself\u001b[39m):\n\u001b[0;32m    516\u001b[0m     \u001b[38;5;28;01mreturn\u001b[39;00m handle_torch_function(\n\u001b[0;32m    517\u001b[0m         Tensor\u001b[38;5;241m.\u001b[39mbackward,\n\u001b[0;32m    518\u001b[0m         (\u001b[38;5;28mself\u001b[39m,),\n\u001b[1;32m   (...)\u001b[0m\n\u001b[0;32m    523\u001b[0m         inputs\u001b[38;5;241m=\u001b[39minputs,\n\u001b[0;32m    524\u001b[0m     )\n\u001b[1;32m--> 525\u001b[0m \u001b[43mtorch\u001b[49m\u001b[38;5;241;43m.\u001b[39;49m\u001b[43mautograd\u001b[49m\u001b[38;5;241;43m.\u001b[39;49m\u001b[43mbackward\u001b[49m\u001b[43m(\u001b[49m\n\u001b[0;32m    526\u001b[0m \u001b[43m    \u001b[49m\u001b[38;5;28;43mself\u001b[39;49m\u001b[43m,\u001b[49m\u001b[43m \u001b[49m\u001b[43mgradient\u001b[49m\u001b[43m,\u001b[49m\u001b[43m \u001b[49m\u001b[43mretain_graph\u001b[49m\u001b[43m,\u001b[49m\u001b[43m \u001b[49m\u001b[43mcreate_graph\u001b[49m\u001b[43m,\u001b[49m\u001b[43m \u001b[49m\u001b[43minputs\u001b[49m\u001b[38;5;241;43m=\u001b[39;49m\u001b[43minputs\u001b[49m\n\u001b[0;32m    527\u001b[0m \u001b[43m\u001b[49m\u001b[43m)\u001b[49m\n",
            "File \u001b[1;32mc:\\Users\\kurt-\\miniconda3\\envs\\ML\\Lib\\site-packages\\torch\\autograd\\__init__.py:267\u001b[0m, in \u001b[0;36mbackward\u001b[1;34m(tensors, grad_tensors, retain_graph, create_graph, grad_variables, inputs)\u001b[0m\n\u001b[0;32m    262\u001b[0m     retain_graph \u001b[38;5;241m=\u001b[39m create_graph\n\u001b[0;32m    264\u001b[0m \u001b[38;5;66;03m# The reason we repeat the same comment below is that\u001b[39;00m\n\u001b[0;32m    265\u001b[0m \u001b[38;5;66;03m# some Python versions print out the first line of a multi-line function\u001b[39;00m\n\u001b[0;32m    266\u001b[0m \u001b[38;5;66;03m# calls in the traceback and some print out the last line\u001b[39;00m\n\u001b[1;32m--> 267\u001b[0m \u001b[43m_engine_run_backward\u001b[49m\u001b[43m(\u001b[49m\n\u001b[0;32m    268\u001b[0m \u001b[43m    \u001b[49m\u001b[43mtensors\u001b[49m\u001b[43m,\u001b[49m\n\u001b[0;32m    269\u001b[0m \u001b[43m    \u001b[49m\u001b[43mgrad_tensors_\u001b[49m\u001b[43m,\u001b[49m\n\u001b[0;32m    270\u001b[0m \u001b[43m    \u001b[49m\u001b[43mretain_graph\u001b[49m\u001b[43m,\u001b[49m\n\u001b[0;32m    271\u001b[0m \u001b[43m    \u001b[49m\u001b[43mcreate_graph\u001b[49m\u001b[43m,\u001b[49m\n\u001b[0;32m    272\u001b[0m \u001b[43m    \u001b[49m\u001b[43minputs\u001b[49m\u001b[43m,\u001b[49m\n\u001b[0;32m    273\u001b[0m \u001b[43m    \u001b[49m\u001b[43mallow_unreachable\u001b[49m\u001b[38;5;241;43m=\u001b[39;49m\u001b[38;5;28;43;01mTrue\u001b[39;49;00m\u001b[43m,\u001b[49m\n\u001b[0;32m    274\u001b[0m \u001b[43m    \u001b[49m\u001b[43maccumulate_grad\u001b[49m\u001b[38;5;241;43m=\u001b[39;49m\u001b[38;5;28;43;01mTrue\u001b[39;49;00m\u001b[43m,\u001b[49m\n\u001b[0;32m    275\u001b[0m \u001b[43m\u001b[49m\u001b[43m)\u001b[49m\n",
            "File \u001b[1;32mc:\\Users\\kurt-\\miniconda3\\envs\\ML\\Lib\\site-packages\\torch\\autograd\\graph.py:744\u001b[0m, in \u001b[0;36m_engine_run_backward\u001b[1;34m(t_outputs, *args, **kwargs)\u001b[0m\n\u001b[0;32m    742\u001b[0m     unregister_hooks \u001b[38;5;241m=\u001b[39m _register_logging_hooks_on_whole_graph(t_outputs)\n\u001b[0;32m    743\u001b[0m \u001b[38;5;28;01mtry\u001b[39;00m:\n\u001b[1;32m--> 744\u001b[0m     \u001b[38;5;28;01mreturn\u001b[39;00m \u001b[43mVariable\u001b[49m\u001b[38;5;241;43m.\u001b[39;49m\u001b[43m_execution_engine\u001b[49m\u001b[38;5;241;43m.\u001b[39;49m\u001b[43mrun_backward\u001b[49m\u001b[43m(\u001b[49m\u001b[43m  \u001b[49m\u001b[38;5;66;43;03m# Calls into the C++ engine to run the backward pass\u001b[39;49;00m\n\u001b[0;32m    745\u001b[0m \u001b[43m        \u001b[49m\u001b[43mt_outputs\u001b[49m\u001b[43m,\u001b[49m\u001b[43m \u001b[49m\u001b[38;5;241;43m*\u001b[39;49m\u001b[43margs\u001b[49m\u001b[43m,\u001b[49m\u001b[43m \u001b[49m\u001b[38;5;241;43m*\u001b[39;49m\u001b[38;5;241;43m*\u001b[39;49m\u001b[43mkwargs\u001b[49m\n\u001b[0;32m    746\u001b[0m \u001b[43m    \u001b[49m\u001b[43m)\u001b[49m  \u001b[38;5;66;03m# Calls into the C++ engine to run the backward pass\u001b[39;00m\n\u001b[0;32m    747\u001b[0m \u001b[38;5;28;01mfinally\u001b[39;00m:\n\u001b[0;32m    748\u001b[0m     \u001b[38;5;28;01mif\u001b[39;00m attach_logging_hooks:\n",
            "\u001b[1;31mKeyboardInterrupt\u001b[0m: "
          ]
        }
      ],
      "source": [
        "losses = train(simulator, train_dataloader, optimizer, scheduler, loss_fn, epochs=1)"
      ]
    },
    {
      "cell_type": "code",
      "execution_count": null,
      "metadata": {
        "id": "IBDyMKSHpuyX"
      },
      "outputs": [],
      "source": [
        "plt.plot(losses)"
      ]
    },
    {
      "cell_type": "code",
      "execution_count": 49,
      "metadata": {
        "colab": {
          "base_uri": "https://localhost:8080/"
        },
        "id": "mfykQbUHnch5",
        "outputId": "b7ce852a-7a6f-4042-8a3a-84ba5658d510"
      },
      "outputs": [
        {
          "name": "stdout",
          "output_type": "stream",
          "text": [
            "DataBatch(x=[100, 2], edge_index=[2, 198], edge_attr=[198, 4], y=[100, 1], batch=[100], ptr=[2])\n",
            "DataBatch(x=[100, 2], edge_index=[2, 198], edge_attr=[198, 4], y=[100, 1], batch=[100], ptr=[2])\n",
            "DataBatch(x=[100, 2], edge_index=[2, 198], edge_attr=[198, 4], y=[100, 1], batch=[100], ptr=[2])\n",
            "DataBatch(x=[100, 2], edge_index=[2, 198], edge_attr=[198, 4], y=[100, 1], batch=[100], ptr=[2])\n",
            "DataBatch(x=[100, 2], edge_index=[2, 198], edge_attr=[198, 4], y=[100, 1], batch=[100], ptr=[2])\n",
            "DataBatch(x=[100, 2], edge_index=[2, 198], edge_attr=[198, 4], y=[100, 1], batch=[100], ptr=[2])\n",
            "DataBatch(x=[100, 2], edge_index=[2, 198], edge_attr=[198, 4], y=[100, 1], batch=[100], ptr=[2])\n",
            "DataBatch(x=[100, 2], edge_index=[2, 198], edge_attr=[198, 4], y=[100, 1], batch=[100], ptr=[2])\n",
            "DataBatch(x=[100, 2], edge_index=[2, 198], edge_attr=[198, 4], y=[100, 1], batch=[100], ptr=[2])\n",
            "DataBatch(x=[100, 2], edge_index=[2, 198], edge_attr=[198, 4], y=[100, 1], batch=[100], ptr=[2])\n"
          ]
        }
      ],
      "source": [
        "for batch_index, graph in enumerate(test_dataloader):\n",
        "  print(graph)"
      ]
    },
    {
      "cell_type": "code",
      "execution_count": 50,
      "metadata": {
        "colab": {
          "base_uri": "https://localhost:8080/"
        },
        "id": "bCM32ZFiIv0s",
        "outputId": "a887e45c-c9a1-4399-f2a2-a7ca5a1c8911"
      },
      "outputs": [
        {
          "data": {
            "text/plain": [
              "41.994729151390494"
            ]
          },
          "execution_count": 50,
          "metadata": {},
          "output_type": "execute_result"
        }
      ],
      "source": [
        "def test(model:Simulator, dataloader):\n",
        "    loss = 0\n",
        "    with torch.no_grad():\n",
        "      model.eval()\n",
        "      for batch_index, graph in enumerate(dataloader):\n",
        "          graph = graph.to(device)\n",
        "          target = graph.y\n",
        "          pred, target = model(graph)\n",
        "          loss += loss_data(pred, target).item()\n",
        "\n",
        "    return loss / len(dataloader)\n",
        "\n",
        "test(simulator, test_dataloader)"
      ]
    },
    {
      "cell_type": "markdown",
      "metadata": {
        "id": "w6qO1-l4Iv0x"
      },
      "source": [
        "# Result"
      ]
    },
    {
      "cell_type": "code",
      "execution_count": 51,
      "metadata": {
        "id": "qvgvvJfUIv0x"
      },
      "outputs": [],
      "source": [
        "# Create a function to plot the graph.x vs graph.y\n",
        "def plot_results(model, dataloader):\n",
        "    for batch_index, graph in enumerate(dataloader):\n",
        "      print(batch_index)\n",
        "      with torch.no_grad():\n",
        "        model.eval()\n",
        "        graph = graph.to(device)\n",
        "        pred, target = model(graph)\n",
        "        pred = pred.detach().cpu().numpy()\n",
        "        target = target.detach().cpu().numpy()\n",
        "        x_coord = graph.x[:,0].detach().cpu().numpy()\n",
        "        print(x_coord)\n",
        "        plt.figure(figsize=(10, 6))\n",
        "        plt.plot(x_coord, target, label='target', marker='x')\n",
        "        plt.plot(x_coord, pred[:,0], label='predicted', marker='o')\n",
        "        plt.legend()\n",
        "        plt.show()\n"
      ]
    },
    {
      "cell_type": "code",
      "execution_count": 53,
      "metadata": {
        "colab": {
          "base_uri": "https://localhost:8080/",
          "height": 1000
        },
        "id": "Sav98E7PIv0y",
        "outputId": "2bb86baf-9ed1-4850-df88-9ae3c91e91b4"
      },
      "outputs": [
        {
          "name": "stdout",
          "output_type": "stream",
          "text": [
            "0\n",
            "[0.         0.04040404 0.08080808 0.12121212 0.16161616 0.2020202\n",
            " 0.24242425 0.28282827 0.32323232 0.36363637 0.4040404  0.44444445\n",
            " 0.4848485  0.5252525  0.56565654 0.6060606  0.64646465 0.68686867\n",
            " 0.72727275 0.7676768  0.8080808  0.8484849  0.8888889  0.9292929\n",
            " 0.969697   1.010101   1.050505   1.0909091  1.1313131  1.1717172\n",
            " 1.2121212  1.2525252  1.2929293  1.3333334  1.3737373  1.4141414\n",
            " 1.4545455  1.4949495  1.5353535  1.5757576  1.6161616  1.6565657\n",
            " 1.6969697  1.7373737  1.7777778  1.8181819  1.8585858  1.8989899\n",
            " 1.939394   1.979798   2.020202   2.060606   2.10101    2.1414142\n",
            " 2.1818182  2.2222223  2.2626262  2.3030303  2.3434343  2.3838384\n",
            " 2.4242425  2.4646466  2.5050504  2.5454545  2.5858586  2.6262627\n",
            " 2.6666667  2.7070706  2.7474747  2.7878788  2.8282828  2.868687\n",
            " 2.909091   2.9494948  2.989899   3.030303   3.070707   3.1111112\n",
            " 3.1515152  3.191919   3.2323232  3.2727273  3.3131313  3.3535354\n",
            " 3.3939395  3.4343433  3.4747474  3.5151515  3.5555556  3.5959597\n",
            " 3.6363637  3.6767676  3.7171717  3.7575758  3.7979798  3.838384\n",
            " 3.878788   3.9191918  3.959596   4.        ]\n"
          ]
        },
        {
          "data": {
            "image/png": "[encoded data removed]",
            "text/plain": [
              "<Figure size 1000x600 with 1 Axes>"
            ]
          },
          "metadata": {},
          "output_type": "display_data"
        },
        {
          "name": "stdout",
          "output_type": "stream",
          "text": [
            "1\n",
            "[ 0.          0.1010101   0.2020202   0.3030303   0.4040404   0.5050505\n",
            "  0.6060606   0.7070707   0.8080808   0.90909094  1.010101    1.1111112\n",
            "  1.2121212   1.3131313   1.4141414   1.5151515   1.6161616   1.7171717\n",
            "  1.8181819   1.919192    2.020202    2.121212    2.2222223   2.3232324\n",
            "  2.4242425   2.5252526   2.6262627   2.7272727   2.8282828   2.929293\n",
            "  3.030303    3.131313    3.2323232   3.3333333   3.4343433   3.5353534\n",
            "  3.6363637   3.7373738   3.838384    3.939394    4.040404    4.141414\n",
            "  4.242424    4.3434343   4.4444447   4.5454545   4.646465    4.7474747\n",
            "  4.848485    4.949495    5.050505    5.151515    5.2525253   5.353535\n",
            "  5.4545455   5.5555553   5.6565657   5.757576    5.858586    5.959596\n",
            "  6.060606    6.1616163   6.262626    6.3636365   6.4646463   6.5656567\n",
            "  6.6666665   6.767677    6.8686867   6.969697    7.070707    7.171717\n",
            "  7.2727275   7.3737373   7.4747477   7.5757575   7.676768    7.7777777\n",
            "  7.878788    7.979798    8.080808    8.181818    8.282828    8.383839\n",
            "  8.484848    8.585858    8.686869    8.787879    8.888889    8.989899\n",
            "  9.090909    9.191919    9.29293     9.393939    9.494949    9.59596\n",
            "  9.69697     9.797979    9.89899    10.        ]\n"
          ]
        },
        {
          "data": {
            "image/png": "[encoded data removed]",
            "text/plain": [
              "<Figure size 1000x600 with 1 Axes>"
            ]
          },
          "metadata": {},
          "output_type": "display_data"
        },
        {
          "name": "stdout",
          "output_type": "stream",
          "text": [
            "2\n",
            "[0.         0.09090909 0.18181819 0.27272728 0.36363637 0.45454547\n",
            " 0.54545456 0.6363636  0.72727275 0.8181818  0.90909094 1.\n",
            " 1.0909091  1.1818181  1.2727273  1.3636364  1.4545455  1.5454545\n",
            " 1.6363636  1.7272727  1.8181819  1.9090909  2.         2.090909\n",
            " 2.1818182  2.2727273  2.3636363  2.4545455  2.5454545  2.6363637\n",
            " 2.7272727  2.8181818  2.909091   3.         3.090909   3.1818182\n",
            " 3.2727273  3.3636363  3.4545455  3.5454545  3.6363637  3.7272727\n",
            " 3.8181818  3.909091   4.         4.090909   4.181818   4.2727275\n",
            " 4.3636365  4.4545455  4.5454545  4.6363635  4.7272725  4.818182\n",
            " 4.909091   5.         5.090909   5.181818   5.2727275  5.3636365\n",
            " 5.4545455  5.5454545  5.6363635  5.7272725  5.818182   5.909091\n",
            " 6.         6.090909   6.181818   6.2727275  6.3636365  6.4545455\n",
            " 6.5454545  6.6363635  6.7272725  6.818182   6.909091   7.\n",
            " 7.090909   7.181818   7.2727275  7.3636365  7.4545455  7.5454545\n",
            " 7.6363635  7.7272725  7.818182   7.909091   8.         8.090909\n",
            " 8.181818   8.272727   8.363636   8.454545   8.545455   8.636364\n",
            " 8.727273   8.818182   8.909091   9.        ]\n"
          ]
        },
        {
          "data": {
            "image/png": "[encoded data removed]",
            "text/plain": [
              "<Figure size 1000x600 with 1 Axes>"
            ]
          },
          "metadata": {},
          "output_type": "display_data"
        },
        {
          "name": "stdout",
          "output_type": "stream",
          "text": [
            "3\n",
            "[0.         0.08080808 0.16161616 0.24242425 0.32323232 0.4040404\n",
            " 0.4848485  0.56565654 0.64646465 0.72727275 0.8080808  0.8888889\n",
            " 0.969697   1.050505   1.1313131  1.2121212  1.2929293  1.3737373\n",
            " 1.4545455  1.5353535  1.6161616  1.6969697  1.7777778  1.8585858\n",
            " 1.939394   2.020202   2.10101    2.1818182  2.2626262  2.3434343\n",
            " 2.4242425  2.5050504  2.5858586  2.6666667  2.7474747  2.8282828\n",
            " 2.909091   2.989899   3.070707   3.1515152  3.2323232  3.3131313\n",
            " 3.3939395  3.4747474  3.5555556  3.6363637  3.7171717  3.7979798\n",
            " 3.878788   3.959596   4.040404   4.121212   4.20202    4.2828283\n",
            " 4.3636365  4.4444447  4.5252523  4.6060605  4.6868687  4.767677\n",
            " 4.848485   4.929293   5.010101   5.090909   5.171717   5.2525253\n",
            " 5.3333335  5.414141   5.4949493  5.5757575  5.6565657  5.737374\n",
            " 5.818182   5.8989897  5.979798   6.060606   6.141414   6.2222223\n",
            " 6.3030305  6.383838   6.4646463  6.5454545  6.6262627  6.707071\n",
            " 6.787879   6.8686867  6.949495   7.030303   7.111111   7.1919193\n",
            " 7.2727275  7.353535   7.4343433  7.5151515  7.5959597  7.676768\n",
            " 7.757576   7.8383837  7.919192   8.        ]\n"
          ]
        },
        {
          "data": {
            "image/png": "[encoded data removed]",
            "text/plain": [
              "<Figure size 1000x600 with 1 Axes>"
            ]
          },
          "metadata": {},
          "output_type": "display_data"
        },
        {
          "name": "stdout",
          "output_type": "stream",
          "text": [
            "4\n",
            "[0.         0.06060606 0.12121212 0.18181819 0.24242425 0.3030303\n",
            " 0.36363637 0.42424244 0.4848485  0.54545456 0.6060606  0.6666667\n",
            " 0.72727275 0.7878788  0.8484849  0.90909094 0.969697   1.030303\n",
            " 1.0909091  1.1515151  1.2121212  1.2727273  1.3333334  1.3939394\n",
            " 1.4545455  1.5151515  1.5757576  1.6363636  1.6969697  1.7575758\n",
            " 1.8181819  1.8787879  1.939394   2.         2.060606   2.121212\n",
            " 2.1818182  2.2424242  2.3030303  2.3636363  2.4242425  2.4848485\n",
            " 2.5454545  2.6060605  2.6666667  2.7272727  2.7878788  2.8484848\n",
            " 2.909091   2.969697   3.030303   3.090909   3.1515152  3.2121212\n",
            " 3.2727273  3.3333333  3.3939395  3.4545455  3.5151515  3.5757575\n",
            " 3.6363637  3.6969697  3.7575758  3.8181818  3.878788   3.939394\n",
            " 4.         4.060606   4.121212   4.181818   4.242424   4.3030305\n",
            " 4.3636365  4.4242425  4.4848485  4.5454545  4.6060605  4.6666665\n",
            " 4.7272725  4.787879   4.848485   4.909091   4.969697   5.030303\n",
            " 5.090909   5.151515   5.212121   5.2727275  5.3333335  5.3939395\n",
            " 5.4545455  5.5151515  5.5757575  5.6363635  5.6969695  5.757576\n",
            " 5.818182   5.878788   5.939394   6.        ]\n"
          ]
        },
        {
          "data": {
            "image/png": "[encoded data removed]",
            "text/plain": [
              "<Figure size 1000x600 with 1 Axes>"
            ]
          },
          "metadata": {},
          "output_type": "display_data"
        },
        {
          "name": "stdout",
          "output_type": "stream",
          "text": [
            "5\n",
            "[0.         0.01010101 0.02020202 0.03030303 0.04040404 0.05050505\n",
            " 0.06060606 0.07070707 0.08080808 0.09090909 0.1010101  0.11111111\n",
            " 0.12121212 0.13131313 0.14141414 0.15151516 0.16161616 0.17171717\n",
            " 0.18181819 0.1919192  0.2020202  0.21212122 0.22222222 0.23232323\n",
            " 0.24242425 0.25252524 0.26262626 0.27272728 0.28282827 0.2929293\n",
            " 0.3030303  0.3131313  0.32323232 0.33333334 0.34343433 0.35353535\n",
            " 0.36363637 0.37373737 0.3838384  0.3939394  0.4040404  0.41414142\n",
            " 0.42424244 0.43434343 0.44444445 0.45454547 0.46464646 0.47474748\n",
            " 0.4848485  0.4949495  0.5050505  0.5151515  0.5252525  0.53535354\n",
            " 0.54545456 0.5555556  0.56565654 0.57575756 0.5858586  0.5959596\n",
            " 0.6060606  0.61616164 0.6262626  0.6363636  0.64646465 0.65656567\n",
            " 0.6666667  0.67676765 0.68686867 0.6969697  0.7070707  0.7171717\n",
            " 0.72727275 0.7373737  0.74747473 0.75757575 0.7676768  0.7777778\n",
            " 0.7878788  0.7979798  0.8080808  0.8181818  0.82828283 0.83838385\n",
            " 0.8484849  0.85858583 0.86868685 0.8787879  0.8888889  0.8989899\n",
            " 0.90909094 0.9191919  0.9292929  0.93939394 0.94949496 0.959596\n",
            " 0.969697   0.97979796 0.989899   1.        ]\n"
          ]
        },
        {
          "data": {
            "image/png": "[encoded data removed]",
            "text/plain": [
              "<Figure size 1000x600 with 1 Axes>"
            ]
          },
          "metadata": {},
          "output_type": "display_data"
        },
        {
          "name": "stdout",
          "output_type": "stream",
          "text": [
            "6\n",
            "[0.         0.07070707 0.14141414 0.21212122 0.28282827 0.35353535\n",
            " 0.42424244 0.4949495  0.56565654 0.6363636  0.7070707  0.7777778\n",
            " 0.8484849  0.9191919  0.989899   1.060606   1.1313131  1.2020202\n",
            " 1.2727273  1.3434343  1.4141414  1.4848485  1.5555556  1.6262627\n",
            " 1.6969697  1.7676767  1.8383838  1.9090909  1.979798   2.0505052\n",
            " 2.121212   2.191919   2.2626262  2.3333333  2.4040403  2.4747474\n",
            " 2.5454545  2.6161616  2.6868687  2.7575758  2.8282828  2.89899\n",
            " 2.969697   3.040404   3.1111112  3.1818182  3.2525253  3.3232324\n",
            " 3.3939395  3.4646466  3.5353534  3.6060605  3.6767676  3.7474747\n",
            " 3.8181818  3.8888888  3.959596   4.030303   4.1010103  4.171717\n",
            " 4.242424   4.3131313  4.383838   4.4545455  4.5252523  4.5959597\n",
            " 4.6666665  4.737374   4.8080807  4.878788   4.949495   5.020202\n",
            " 5.090909   5.1616163  5.232323   5.3030305  5.3737373  5.4444447\n",
            " 5.5151515  5.585859   5.6565657  5.7272725  5.79798    5.8686867\n",
            " 5.939394   6.010101   6.080808   6.151515   6.2222223  6.292929\n",
            " 6.3636365  6.4343433  6.5050507  6.5757575  6.646465   6.7171717\n",
            " 6.787879   6.858586   6.929293   7.        ]\n"
          ]
        },
        {
          "data": {
            "image/png": "[encoded data removed]",
            "text/plain": [
              "<Figure size 1000x600 with 1 Axes>"
            ]
          },
          "metadata": {},
          "output_type": "display_data"
        },
        {
          "name": "stdout",
          "output_type": "stream",
          "text": [
            "7\n",
            "[0.         0.02020202 0.04040404 0.06060606 0.08080808 0.1010101\n",
            " 0.12121212 0.14141414 0.16161616 0.18181819 0.2020202  0.22222222\n",
            " 0.24242425 0.26262626 0.28282827 0.3030303  0.32323232 0.34343433\n",
            " 0.36363637 0.3838384  0.4040404  0.42424244 0.44444445 0.46464646\n",
            " 0.4848485  0.5050505  0.5252525  0.54545456 0.56565654 0.5858586\n",
            " 0.6060606  0.6262626  0.64646465 0.6666667  0.68686867 0.7070707\n",
            " 0.72727275 0.74747473 0.7676768  0.7878788  0.8080808  0.82828283\n",
            " 0.8484849  0.86868685 0.8888889  0.90909094 0.9292929  0.94949496\n",
            " 0.969697   0.989899   1.010101   1.030303   1.050505   1.0707071\n",
            " 1.0909091  1.1111112  1.1313131  1.1515151  1.1717172  1.1919192\n",
            " 1.2121212  1.2323233  1.2525252  1.2727273  1.2929293  1.3131313\n",
            " 1.3333334  1.3535353  1.3737373  1.3939394  1.4141414  1.4343435\n",
            " 1.4545455  1.4747474  1.4949495  1.5151515  1.5353535  1.5555556\n",
            " 1.5757576  1.5959595  1.6161616  1.6363636  1.6565657  1.6767677\n",
            " 1.6969697  1.7171717  1.7373737  1.7575758  1.7777778  1.7979798\n",
            " 1.8181819  1.8383838  1.8585858  1.8787879  1.8989899  1.919192\n",
            " 1.939394   1.9595959  1.979798   2.        ]\n"
          ]
        },
        {
          "data": {
            "image/png": "[encoded data removed]",
            "text/plain": [
              "<Figure size 1000x600 with 1 Axes>"
            ]
          },
          "metadata": {},
          "output_type": "display_data"
        },
        {
          "name": "stdout",
          "output_type": "stream",
          "text": [
            "8\n",
            "[0.         0.05050505 0.1010101  0.15151516 0.2020202  0.25252524\n",
            " 0.3030303  0.35353535 0.4040404  0.45454547 0.5050505  0.5555556\n",
            " 0.6060606  0.65656567 0.7070707  0.75757575 0.8080808  0.85858583\n",
            " 0.90909094 0.959596   1.010101   1.060606   1.1111112  1.1616162\n",
            " 1.2121212  1.2626263  1.3131313  1.3636364  1.4141414  1.4646465\n",
            " 1.5151515  1.5656565  1.6161616  1.6666666  1.7171717  1.7676767\n",
            " 1.8181819  1.8686869  1.919192   1.969697   2.020202   2.070707\n",
            " 2.121212   2.1717172  2.2222223  2.2727273  2.3232324  2.3737373\n",
            " 2.4242425  2.4747474  2.5252526  2.5757575  2.6262627  2.6767676\n",
            " 2.7272727  2.7777777  2.8282828  2.878788   2.929293   2.979798\n",
            " 3.030303   3.0808082  3.131313   3.1818182  3.2323232  3.2828283\n",
            " 3.3333333  3.3838384  3.4343433  3.4848485  3.5353534  3.5858586\n",
            " 3.6363637  3.6868687  3.7373738  3.7878788  3.838384   3.8888888\n",
            " 3.939394   3.989899   4.040404   4.090909   4.141414   4.1919193\n",
            " 4.242424   4.292929   4.3434343  4.3939395  4.4444447  4.4949493\n",
            " 4.5454545  4.5959597  4.646465   4.6969695  4.7474747  4.79798\n",
            " 4.848485   4.8989897  4.949495   5.        ]\n"
          ]
        },
        {
          "data": {
            "image/png": "[encoded data removed]",
            "text/plain": [
              "<Figure size 1000x600 with 1 Axes>"
            ]
          },
          "metadata": {},
          "output_type": "display_data"
        },
        {
          "name": "stdout",
          "output_type": "stream",
          "text": [
            "9\n",
            "[0.         0.03030303 0.06060606 0.09090909 0.12121212 0.15151516\n",
            " 0.18181819 0.21212122 0.24242425 0.27272728 0.3030303  0.33333334\n",
            " 0.36363637 0.3939394  0.42424244 0.45454547 0.4848485  0.5151515\n",
            " 0.54545456 0.57575756 0.6060606  0.6363636  0.6666667  0.6969697\n",
            " 0.72727275 0.75757575 0.7878788  0.8181818  0.8484849  0.8787879\n",
            " 0.90909094 0.93939394 0.969697   1.         1.030303   1.060606\n",
            " 1.0909091  1.1212121  1.1515151  1.1818181  1.2121212  1.2424242\n",
            " 1.2727273  1.3030303  1.3333334  1.3636364  1.3939394  1.4242424\n",
            " 1.4545455  1.4848485  1.5151515  1.5454545  1.5757576  1.6060606\n",
            " 1.6363636  1.6666666  1.6969697  1.7272727  1.7575758  1.7878788\n",
            " 1.8181819  1.8484849  1.8787879  1.9090909  1.939394   1.969697\n",
            " 2.         2.030303   2.060606   2.090909   2.121212   2.1515152\n",
            " 2.1818182  2.2121212  2.2424242  2.2727273  2.3030303  2.3333333\n",
            " 2.3636363  2.3939395  2.4242425  2.4545455  2.4848485  2.5151515\n",
            " 2.5454545  2.5757575  2.6060605  2.6363637  2.6666667  2.6969697\n",
            " 2.7272727  2.7575758  2.7878788  2.8181818  2.8484848  2.878788\n",
            " 2.909091   2.939394   2.969697   3.        ]\n"
          ]
        },
        {
          "data": {
            "image/png": "[encoded data removed]",
            "text/plain": [
              "<Figure size 1000x600 with 1 Axes>"
            ]
          },
          "metadata": {},
          "output_type": "display_data"
        }
      ],
      "source": [
        "plot_results(simulator, test_dataloader)"
      ]
    },
    {
      "cell_type": "markdown",
      "metadata": {
        "id": "AokINmvAIv0y"
      },
      "source": [
        "# Do PINN"
      ]
    },
    {
      "cell_type": "code",
      "execution_count": 54,
      "metadata": {
        "id": "Gvp6lpGVIv0y"
      },
      "outputs": [],
      "source": [
        "def loss_PDE(x, pred, q=torch.tensor(0.0)):\n",
        "    x.requires_grad = True\n",
        "    EI = pred[:,1]\n",
        "    u = pred[:,0].unsqueeze(1)\n",
        "    u_x = torch.autograd.grad(u, x, create_graph=True, grad_outputs=torch.ones_like(u), allow_unused=True)[0][:,0]\n",
        "    u_xx = torch.autograd.grad(u_x, x, create_graph=True, grad_outputs=torch.ones_like(u_x), allow_unused=True)[0][:,0]\n",
        "    u_xxx = torch.autograd.grad(u_xx, x, create_graph=True, grad_outputs=torch.ones_like(u_xx), allow_unused=True)[0][:,0]\n",
        "    u_x4 = torch.autograd.grad(u_xxx, x, create_graph=True, grad_outputs=torch.ones_like(u_xxx), allow_unused=True)[0][:,0]\n",
        "\n",
        "    # PDE\n",
        "    fn = EI*u_x4 - q\n",
        "    return torch.mean(fn**2)\n",
        "\n",
        "def loss_data(pred, target):\n",
        "    return F.mse_loss(pred[:,0].unsqueeze(1), target)\n",
        "\n",
        "def loss_BC(w):\n",
        "    fn = w[0] - 0.0\n",
        "    return torch.mean(fn**2)\n",
        "\n",
        "def loss_total(x, pred, target, q=torch.tensor(0.0)):\n",
        "    return loss_PDE(x, pred, q) + loss_data(pred, target) + loss_BC(pred[:,0])"
      ]
    },
    {
      "cell_type": "code",
      "execution_count": 55,
      "metadata": {
        "colab": {
          "base_uri": "https://localhost:8080/"
        },
        "id": "kdCtyZqYn5gA",
        "outputId": "3639f051-9130-4003-dfbe-cfef4deb610d"
      },
      "outputs": [
        {
          "name": "stderr",
          "output_type": "stream",
          "text": [
            "Batches:   0%|          | 0/2500 [00:00<?, ?it/s]\n"
          ]
        }
      ],
      "source": [
        "for batch_index, graph in enumerate(tqdm.tqdm(train_dataloader, desc=\"Batches\")):\n",
        "  A = graph\n",
        "  break"
      ]
    },
    {
      "cell_type": "code",
      "execution_count": 65,
      "metadata": {
        "colab": {
          "base_uri": "https://localhost:8080/"
        },
        "id": "Go1EkKSmIv0y",
        "outputId": "11f6b14a-dcbd-4d91-dcd7-68213e454064"
      },
      "outputs": [
        {
          "data": {
            "text/plain": [
              "tensor(1105.8988, device='cuda:0', grad_fn=<AddBackward0>)"
            ]
          },
          "execution_count": 65,
          "metadata": {},
          "output_type": "execute_result"
        }
      ],
      "source": [
        "pred, target = simulator(A.to(device))\n",
        "loss_total(A.x, pred, target, q=torch.tensor(0.0))"
      ]
    },
    {
      "cell_type": "code",
      "execution_count": 67,
      "metadata": {
        "colab": {
          "base_uri": "https://localhost:8080/",
          "height": 1000
        },
        "id": "X59By8dzIv0y",
        "outputId": "00130a57-b22f-4d51-c4c7-2243f3034a27"
      },
      "outputs": [
        {
          "name": "stderr",
          "output_type": "stream",
          "text": [
            "Batches:   0%|          | 0/2500 [00:00<?, ?it/s]\n",
            "Epochs:   0%|          | 0/100 [00:00<?, ?it/s]\u001b[A<ipython-input-67-4c296637675a>:11: UserWarning: Using a target size (torch.Size([1000, 1])) that is different to the input size (torch.Size([1000, 2])). This will likely lead to incorrect results due to broadcasting. Please ensure they have the same size.\n",
            "  loss = F.mse_loss(pred, target)\n",
            "\n",
            "Epochs:   4%|▍         | 4/100 [00:00<00:02, 34.41it/s]\u001b[A"
          ]
        },
        {
          "name": "stdout",
          "output_type": "stream",
          "text": [
            "Batch 0, Epoch 0 [Loss: 1.89e+01]\n",
            "Batch 0, Epoch 1 [Loss: 1.88e+01]\n",
            "Batch 0, Epoch 2 [Loss: 1.87e+01]\n",
            "Batch 0, Epoch 3 [Loss: 1.86e+01]\n",
            "Batch 0, Epoch 4 [Loss: 1.84e+01]\n",
            "Batch 0, Epoch 5 [Loss: 1.83e+01]\n",
            "Batch 0, Epoch 6 [Loss: 1.82e+01]\n",
            "Batch 0, Epoch 7 [Loss: 1.81e+01]\n"
          ]
        },
        {
          "name": "stderr",
          "output_type": "stream",
          "text": [
            "\n",
            "Epochs:   8%|▊         | 8/100 [00:00<00:02, 34.83it/s]\u001b[A\n",
            "Epochs:  12%|█▏        | 12/100 [00:00<00:02, 35.49it/s]\u001b[A\n",
            "Epochs:  16%|█▌        | 16/100 [00:00<00:02, 36.40it/s]\u001b[A"
          ]
        },
        {
          "name": "stdout",
          "output_type": "stream",
          "text": [
            "Batch 0, Epoch 8 [Loss: 1.79e+01]\n",
            "Batch 0, Epoch 9 [Loss: 1.78e+01]\n",
            "Batch 0, Epoch 10 [Loss: 1.77e+01]\n",
            "Batch 0, Epoch 11 [Loss: 1.77e+01]\n",
            "Batch 0, Epoch 12 [Loss: 1.76e+01]\n",
            "Batch 0, Epoch 13 [Loss: 1.76e+01]\n",
            "Batch 0, Epoch 14 [Loss: 1.76e+01]\n",
            "Batch 0, Epoch 15 [Loss: 1.76e+01]\n"
          ]
        },
        {
          "name": "stderr",
          "output_type": "stream",
          "text": [
            "\n",
            "Epochs:  20%|██        | 20/100 [00:00<00:02, 37.06it/s]\u001b[A"
          ]
        },
        {
          "name": "stdout",
          "output_type": "stream",
          "text": [
            "Batch 0, Epoch 16 [Loss: 1.76e+01]\n",
            "Batch 0, Epoch 17 [Loss: 1.76e+01]\n",
            "Batch 0, Epoch 18 [Loss: 1.76e+01]\n",
            "Batch 0, Epoch 19 [Loss: 1.75e+01]\n",
            "Batch 0, Epoch 20 [Loss: 1.75e+01]\n",
            "Batch 0, Epoch 21 [Loss: 1.75e+01]\n",
            "Batch 0, Epoch 22 [Loss: 1.75e+01]\n"
          ]
        },
        {
          "name": "stderr",
          "output_type": "stream",
          "text": [
            "\n",
            "Epochs:  24%|██▍       | 24/100 [00:00<00:02, 33.70it/s]\u001b[A\n",
            "Epochs:  28%|██▊       | 28/100 [00:00<00:02, 32.41it/s]\u001b[A"
          ]
        },
        {
          "name": "stdout",
          "output_type": "stream",
          "text": [
            "Batch 0, Epoch 23 [Loss: 1.75e+01]\n",
            "Batch 0, Epoch 24 [Loss: 1.75e+01]\n",
            "Batch 0, Epoch 25 [Loss: 1.75e+01]\n",
            "Batch 0, Epoch 26 [Loss: 1.75e+01]\n",
            "Batch 0, Epoch 27 [Loss: 1.75e+01]\n",
            "Batch 0, Epoch 28 [Loss: 1.75e+01]\n"
          ]
        },
        {
          "name": "stderr",
          "output_type": "stream",
          "text": [
            "\n",
            "Epochs:  32%|███▏      | 32/100 [00:00<00:02, 32.51it/s]\u001b[A\n",
            "Epochs:  36%|███▌      | 36/100 [00:01<00:01, 33.40it/s]\u001b[A"
          ]
        },
        {
          "name": "stdout",
          "output_type": "stream",
          "text": [
            "Batch 0, Epoch 29 [Loss: 1.75e+01]\n",
            "Batch 0, Epoch 30 [Loss: 1.75e+01]\n",
            "Batch 0, Epoch 31 [Loss: 1.75e+01]\n",
            "Batch 0, Epoch 32 [Loss: 1.75e+01]\n",
            "Batch 0, Epoch 33 [Loss: 1.75e+01]\n",
            "Batch 0, Epoch 34 [Loss: 1.75e+01]\n",
            "Batch 0, Epoch 35 [Loss: 1.75e+01]\n",
            "Batch 0, Epoch 36 [Loss: 1.75e+01]\n"
          ]
        },
        {
          "name": "stderr",
          "output_type": "stream",
          "text": [
            "\n",
            "Epochs:  40%|████      | 40/100 [00:01<00:01, 33.94it/s]\u001b[A\n",
            "Epochs:  44%|████▍     | 44/100 [00:01<00:01, 34.82it/s]\u001b[A"
          ]
        },
        {
          "name": "stdout",
          "output_type": "stream",
          "text": [
            "Batch 0, Epoch 37 [Loss: 1.75e+01]\n",
            "Batch 0, Epoch 38 [Loss: 1.75e+01]\n",
            "Batch 0, Epoch 39 [Loss: 1.75e+01]\n",
            "Batch 0, Epoch 40 [Loss: 1.75e+01]\n",
            "Batch 0, Epoch 41 [Loss: 1.75e+01]\n",
            "Batch 0, Epoch 42 [Loss: 1.75e+01]\n",
            "Batch 0, Epoch 43 [Loss: 1.75e+01]\n",
            "Batch 0, Epoch 44 [Loss: 1.75e+01]\n"
          ]
        },
        {
          "name": "stderr",
          "output_type": "stream",
          "text": [
            "\n",
            "Epochs:  48%|████▊     | 48/100 [00:01<00:01, 34.84it/s]\u001b[A\n",
            "Epochs:  52%|█████▏    | 52/100 [00:01<00:01, 35.72it/s]\u001b[A"
          ]
        },
        {
          "name": "stdout",
          "output_type": "stream",
          "text": [
            "Batch 0, Epoch 45 [Loss: 1.75e+01]\n",
            "Batch 0, Epoch 46 [Loss: 1.75e+01]\n",
            "Batch 0, Epoch 47 [Loss: 1.75e+01]\n",
            "Batch 0, Epoch 48 [Loss: 1.75e+01]\n",
            "Batch 0, Epoch 49 [Loss: 1.75e+01]\n",
            "Batch 0, Epoch 50 [Loss: 1.75e+01]\n",
            "Batch 0, Epoch 51 [Loss: 1.75e+01]\n",
            "Batch 0, Epoch 52 [Loss: 1.75e+01]\n"
          ]
        },
        {
          "name": "stderr",
          "output_type": "stream",
          "text": [
            "\n",
            "Epochs:  56%|█████▌    | 56/100 [00:01<00:01, 35.81it/s]\u001b[A\n",
            "Epochs:  60%|██████    | 60/100 [00:01<00:01, 36.35it/s]\u001b[A"
          ]
        },
        {
          "name": "stdout",
          "output_type": "stream",
          "text": [
            "Batch 0, Epoch 53 [Loss: 1.75e+01]\n",
            "Batch 0, Epoch 54 [Loss: 1.75e+01]\n",
            "Batch 0, Epoch 55 [Loss: 1.75e+01]\n",
            "Batch 0, Epoch 56 [Loss: 1.75e+01]\n",
            "Batch 0, Epoch 57 [Loss: 1.75e+01]\n",
            "Batch 0, Epoch 58 [Loss: 1.75e+01]\n",
            "Batch 0, Epoch 59 [Loss: 1.75e+01]\n",
            "Batch 0, Epoch 60 [Loss: 1.75e+01]\n"
          ]
        },
        {
          "name": "stderr",
          "output_type": "stream",
          "text": [
            "\n",
            "Epochs:  64%|██████▍   | 64/100 [00:01<00:00, 36.09it/s]\u001b[A\n",
            "Epochs:  68%|██████▊   | 68/100 [00:01<00:00, 36.11it/s]\u001b[A"
          ]
        },
        {
          "name": "stdout",
          "output_type": "stream",
          "text": [
            "Batch 0, Epoch 61 [Loss: 1.75e+01]\n",
            "Batch 0, Epoch 62 [Loss: 1.75e+01]\n",
            "Batch 0, Epoch 63 [Loss: 1.75e+01]\n",
            "Batch 0, Epoch 64 [Loss: 1.75e+01]\n",
            "Batch 0, Epoch 65 [Loss: 1.75e+01]\n",
            "Batch 0, Epoch 66 [Loss: 1.75e+01]\n",
            "Batch 0, Epoch 67 [Loss: 1.75e+01]\n",
            "Batch 0, Epoch 68 [Loss: 1.75e+01]\n"
          ]
        },
        {
          "name": "stderr",
          "output_type": "stream",
          "text": [
            "\n",
            "Epochs:  72%|███████▏  | 72/100 [00:02<00:00, 36.65it/s]\u001b[A\n",
            "Epochs:  76%|███████▌  | 76/100 [00:02<00:00, 37.04it/s]\u001b[A"
          ]
        },
        {
          "name": "stdout",
          "output_type": "stream",
          "text": [
            "Batch 0, Epoch 69 [Loss: 1.75e+01]\n",
            "Batch 0, Epoch 70 [Loss: 1.75e+01]\n",
            "Batch 0, Epoch 71 [Loss: 1.75e+01]\n",
            "Batch 0, Epoch 72 [Loss: 1.75e+01]\n",
            "Batch 0, Epoch 73 [Loss: 1.75e+01]\n",
            "Batch 0, Epoch 74 [Loss: 1.75e+01]\n",
            "Batch 0, Epoch 75 [Loss: 1.75e+01]\n",
            "Batch 0, Epoch 76 [Loss: 1.75e+01]\n"
          ]
        },
        {
          "name": "stderr",
          "output_type": "stream",
          "text": [
            "\n",
            "Epochs:  80%|████████  | 80/100 [00:02<00:00, 36.57it/s]\u001b[A\n",
            "Epochs:  84%|████████▍ | 84/100 [00:02<00:00, 36.71it/s]\u001b[A"
          ]
        },
        {
          "name": "stdout",
          "output_type": "stream",
          "text": [
            "Batch 0, Epoch 77 [Loss: 1.75e+01]\n",
            "Batch 0, Epoch 78 [Loss: 1.75e+01]\n",
            "Batch 0, Epoch 79 [Loss: 1.75e+01]\n",
            "Batch 0, Epoch 80 [Loss: 1.75e+01]\n",
            "Batch 0, Epoch 81 [Loss: 1.75e+01]\n",
            "Batch 0, Epoch 82 [Loss: 1.75e+01]\n",
            "Batch 0, Epoch 83 [Loss: 1.75e+01]\n",
            "Batch 0, Epoch 84 [Loss: 1.75e+01]\n"
          ]
        },
        {
          "name": "stderr",
          "output_type": "stream",
          "text": [
            "\n",
            "Epochs:  88%|████████▊ | 88/100 [00:02<00:00, 36.50it/s]\u001b[A\n",
            "Epochs:  92%|█████████▏| 92/100 [00:02<00:00, 36.74it/s]\u001b[A"
          ]
        },
        {
          "name": "stdout",
          "output_type": "stream",
          "text": [
            "Batch 0, Epoch 85 [Loss: 1.75e+01]\n",
            "Batch 0, Epoch 86 [Loss: 1.75e+01]\n",
            "Batch 0, Epoch 87 [Loss: 1.75e+01]\n",
            "Batch 0, Epoch 88 [Loss: 1.75e+01]\n",
            "Batch 0, Epoch 89 [Loss: 1.75e+01]\n",
            "Batch 0, Epoch 90 [Loss: 1.75e+01]\n",
            "Batch 0, Epoch 91 [Loss: 1.75e+01]\n",
            "Batch 0, Epoch 92 [Loss: 1.75e+01]\n"
          ]
        },
        {
          "name": "stderr",
          "output_type": "stream",
          "text": [
            "\n",
            "Epochs:  96%|█████████▌| 96/100 [00:02<00:00, 36.57it/s]\u001b[A\n",
            "Epochs: 100%|██████████| 100/100 [00:02<00:00, 36.24it/s]\u001b[A\n",
            "Batches:   0%|          | 1/2500 [00:02<1:58:17,  2.84s/it]"
          ]
        },
        {
          "name": "stdout",
          "output_type": "stream",
          "text": [
            "Batch 0, Epoch 93 [Loss: 1.75e+01]\n",
            "Batch 0, Epoch 94 [Loss: 1.75e+01]\n",
            "Batch 0, Epoch 95 [Loss: 1.75e+01]\n",
            "Batch 0, Epoch 96 [Loss: 1.75e+01]\n",
            "Batch 0, Epoch 97 [Loss: 1.75e+01]\n",
            "Batch 0, Epoch 98 [Loss: 1.75e+01]\n",
            "Batch 0, Epoch 99 [Loss: 1.75e+01]\n"
          ]
        },
        {
          "name": "stderr",
          "output_type": "stream",
          "text": [
            "\n",
            "Epochs:   0%|          | 0/100 [00:00<?, ?it/s]\u001b[A\n",
            "Epochs:   8%|▊         | 8/100 [00:00<00:01, 74.34it/s]\u001b[A\n",
            "Epochs:  16%|█▌        | 16/100 [00:00<00:01, 69.75it/s]\u001b[A\n",
            "Epochs:  24%|██▍       | 24/100 [00:00<00:01, 71.43it/s]\u001b[A\n",
            "Epochs:  32%|███▏      | 32/100 [00:00<00:00, 72.50it/s]\u001b[A\n",
            "Epochs:  40%|████      | 40/100 [00:00<00:00, 73.90it/s]\u001b[A\n",
            "Epochs:  48%|████▊     | 48/100 [00:00<00:00, 74.91it/s]\u001b[A\n",
            "Epochs:  56%|█████▌    | 56/100 [00:00<00:00, 75.02it/s]\u001b[A\n",
            "Epochs:  64%|██████▍   | 64/100 [00:00<00:00, 74.78it/s]\u001b[A\n",
            "Epochs:  72%|███████▏  | 72/100 [00:00<00:00, 72.85it/s]\u001b[A\n",
            "Epochs:  80%|████████  | 80/100 [00:01<00:00, 73.93it/s]\u001b[A\n",
            "Epochs:  88%|████████▊ | 88/100 [00:01<00:00, 74.58it/s]\u001b[A\n",
            "Epochs:  96%|█████████▌| 96/100 [00:01<00:00, 74.79it/s]\u001b[A\n",
            "Batches:   0%|          | 2/2500 [00:04<1:22:27,  1.98s/it]\n",
            "Epochs:   0%|          | 0/100 [00:00<?, ?it/s]\u001b[A\n",
            "Epochs:   8%|▊         | 8/100 [00:00<00:01, 76.62it/s]\u001b[A\n",
            "Epochs:  16%|█▌        | 16/100 [00:00<00:01, 74.92it/s]\u001b[A\n",
            "Epochs:  24%|██▍       | 24/100 [00:00<00:01, 72.97it/s]\u001b[A\n",
            "Epochs:  32%|███▏      | 32/100 [00:00<00:00, 73.57it/s]\u001b[A\n",
            "Epochs:  40%|████      | 40/100 [00:00<00:00, 72.14it/s]\u001b[A\n",
            "Epochs:  48%|████▊     | 48/100 [00:00<00:00, 72.34it/s]\u001b[A\n",
            "Epochs:  56%|█████▌    | 56/100 [00:00<00:00, 72.89it/s]\u001b[A\n",
            "Epochs:  64%|██████▍   | 64/100 [00:00<00:00, 74.14it/s]\u001b[A\n",
            "Epochs:  72%|███████▏  | 72/100 [00:00<00:00, 75.38it/s]\u001b[A\n",
            "Epochs:  80%|████████  | 80/100 [00:01<00:00, 75.63it/s]\u001b[A\n",
            "Epochs:  88%|████████▊ | 88/100 [00:01<00:00, 76.15it/s]\u001b[A\n",
            "Epochs:  96%|█████████▌| 96/100 [00:01<00:00, 76.28it/s]\u001b[A\n",
            "Batches:   0%|          | 3/2500 [00:05<1:10:37,  1.70s/it]\n",
            "Epochs:   0%|          | 0/100 [00:00<?, ?it/s]\u001b[A\n",
            "Epochs:   8%|▊         | 8/100 [00:00<00:01, 78.79it/s]\u001b[A\n",
            "Epochs:  16%|█▌        | 16/100 [00:00<00:01, 76.05it/s]\u001b[A\n",
            "Epochs:  24%|██▍       | 24/100 [00:00<00:00, 76.87it/s]\u001b[A\n",
            "Epochs:  32%|███▏      | 32/100 [00:00<00:00, 77.20it/s]\u001b[A\n",
            "Epochs:  40%|████      | 40/100 [00:00<00:00, 77.52it/s]\u001b[A\n",
            "Epochs:  48%|████▊     | 48/100 [00:00<00:00, 77.49it/s]\u001b[A\n",
            "Epochs:  56%|█████▌    | 56/100 [00:00<00:00, 77.09it/s]\u001b[A\n",
            "Epochs:  64%|██████▍   | 64/100 [00:00<00:00, 76.78it/s]\u001b[A\n",
            "Epochs:  72%|███████▏  | 72/100 [00:00<00:00, 76.76it/s]\u001b[A\n",
            "Epochs:  80%|████████  | 80/100 [00:01<00:00, 76.69it/s]\u001b[A\n",
            "Epochs:  88%|████████▊ | 88/100 [00:01<00:00, 76.39it/s]\u001b[A\n",
            "Epochs:  96%|█████████▌| 96/100 [00:01<00:00, 76.23it/s]\u001b[A\n",
            "Batches:   0%|          | 4/2500 [00:06<1:04:30,  1.55s/it]\n",
            "Epochs:   0%|          | 0/100 [00:00<?, ?it/s]\u001b[A\n",
            "Epochs:   8%|▊         | 8/100 [00:00<00:01, 74.66it/s]\u001b[A\n",
            "Epochs:  16%|█▌        | 16/100 [00:00<00:01, 74.71it/s]\u001b[A\n",
            "Epochs:  24%|██▍       | 24/100 [00:00<00:01, 75.01it/s]\u001b[A\n",
            "Epochs:  32%|███▏      | 32/100 [00:00<00:00, 75.89it/s]\u001b[A\n",
            "Epochs:  40%|████      | 40/100 [00:00<00:00, 75.79it/s]\u001b[A\n",
            "Epochs:  48%|████▊     | 48/100 [00:00<00:00, 75.01it/s]\u001b[A\n",
            "Epochs:  56%|█████▌    | 56/100 [00:00<00:00, 75.18it/s]\u001b[A\n",
            "Epochs:  64%|██████▍   | 64/100 [00:00<00:00, 75.71it/s]\u001b[A\n",
            "Epochs:  72%|███████▏  | 72/100 [00:00<00:00, 75.64it/s]\u001b[A\n",
            "Epochs:  80%|████████  | 80/100 [00:01<00:00, 75.94it/s]\u001b[A\n",
            "Epochs:  88%|████████▊ | 88/100 [00:01<00:00, 76.31it/s]\u001b[A\n",
            "Epochs:  96%|█████████▌| 96/100 [00:01<00:00, 76.66it/s]\u001b[A\n",
            "Batches:   0%|          | 5/2500 [00:08<1:01:25,  1.48s/it]\n",
            "Epochs:   0%|          | 0/100 [00:00<?, ?it/s]\u001b[A\n",
            "Epochs:   8%|▊         | 8/100 [00:00<00:01, 77.52it/s]\u001b[A"
          ]
        },
        {
          "name": "stdout",
          "output_type": "stream",
          "text": [
            "Batch 5, Epoch 0 [Loss: 1.13e+02]\n",
            "Batch 5, Epoch 1 [Loss: 1.13e+02]\n",
            "Batch 5, Epoch 2 [Loss: 1.13e+02]\n",
            "Batch 5, Epoch 3 [Loss: 1.13e+02]\n",
            "Batch 5, Epoch 4 [Loss: 1.13e+02]\n",
            "Batch 5, Epoch 5 [Loss: 1.13e+02]\n",
            "Batch 5, Epoch 6 [Loss: 1.13e+02]\n",
            "Batch 5, Epoch 7 [Loss: 1.13e+02]\n",
            "Batch 5, Epoch 8 [Loss: 1.13e+02]\n",
            "Batch 5, Epoch 9 [Loss: 1.13e+02]\n",
            "Batch 5, Epoch 10 [Loss: 1.13e+02]\n",
            "Batch 5, Epoch 11 [Loss: 1.13e+02]\n",
            "Batch 5, Epoch 12 [Loss: 1.13e+02]\n",
            "Batch 5, Epoch 13 [Loss: 1.13e+02]\n",
            "Batch 5, Epoch 14 [Loss: 1.13e+02]\n"
          ]
        },
        {
          "name": "stderr",
          "output_type": "stream",
          "text": [
            "\n",
            "Epochs:  16%|█▌        | 16/100 [00:00<00:01, 72.42it/s]\u001b[A\n",
            "Epochs:  24%|██▍       | 24/100 [00:00<00:01, 72.76it/s]\u001b[A"
          ]
        },
        {
          "name": "stdout",
          "output_type": "stream",
          "text": [
            "Batch 5, Epoch 15 [Loss: 1.13e+02]\n",
            "Batch 5, Epoch 16 [Loss: 1.13e+02]\n",
            "Batch 5, Epoch 17 [Loss: 1.13e+02]\n",
            "Batch 5, Epoch 18 [Loss: 1.13e+02]\n",
            "Batch 5, Epoch 19 [Loss: 1.13e+02]\n",
            "Batch 5, Epoch 20 [Loss: 1.13e+02]\n",
            "Batch 5, Epoch 21 [Loss: 1.13e+02]\n",
            "Batch 5, Epoch 22 [Loss: 1.13e+02]\n",
            "Batch 5, Epoch 23 [Loss: 1.13e+02]\n",
            "Batch 5, Epoch 24 [Loss: 1.13e+02]\n",
            "Batch 5, Epoch 25 [Loss: 1.13e+02]\n",
            "Batch 5, Epoch 26 [Loss: 1.13e+02]\n",
            "Batch 5, Epoch 27 [Loss: 1.13e+02]\n",
            "Batch 5, Epoch 28 [Loss: 1.13e+02]\n",
            "Batch 5, Epoch 29 [Loss: 1.13e+02]\n"
          ]
        },
        {
          "name": "stderr",
          "output_type": "stream",
          "text": [
            "\n",
            "Epochs:  32%|███▏      | 32/100 [00:00<00:00, 73.22it/s]\u001b[A\n",
            "Epochs:  40%|████      | 40/100 [00:00<00:00, 72.97it/s]\u001b[A"
          ]
        },
        {
          "name": "stdout",
          "output_type": "stream",
          "text": [
            "Batch 5, Epoch 30 [Loss: 1.13e+02]\n",
            "Batch 5, Epoch 31 [Loss: 1.13e+02]\n",
            "Batch 5, Epoch 32 [Loss: 1.13e+02]\n",
            "Batch 5, Epoch 33 [Loss: 1.13e+02]\n",
            "Batch 5, Epoch 34 [Loss: 1.13e+02]\n",
            "Batch 5, Epoch 35 [Loss: 1.13e+02]\n",
            "Batch 5, Epoch 36 [Loss: 1.13e+02]\n",
            "Batch 5, Epoch 37 [Loss: 1.13e+02]\n",
            "Batch 5, Epoch 38 [Loss: 1.13e+02]\n",
            "Batch 5, Epoch 39 [Loss: 1.13e+02]\n",
            "Batch 5, Epoch 40 [Loss: 1.13e+02]\n",
            "Batch 5, Epoch 41 [Loss: 1.13e+02]\n",
            "Batch 5, Epoch 42 [Loss: 1.13e+02]\n",
            "Batch 5, Epoch 43 [Loss: 1.13e+02]\n",
            "Batch 5, Epoch 44 [Loss: 1.13e+02]\n"
          ]
        },
        {
          "name": "stderr",
          "output_type": "stream",
          "text": [
            "\n",
            "Epochs:  48%|████▊     | 48/100 [00:00<00:00, 73.42it/s]\u001b[A\n",
            "Epochs:  56%|█████▌    | 56/100 [00:00<00:00, 73.89it/s]\u001b[A"
          ]
        },
        {
          "name": "stdout",
          "output_type": "stream",
          "text": [
            "Batch 5, Epoch 45 [Loss: 1.13e+02]\n",
            "Batch 5, Epoch 46 [Loss: 1.13e+02]\n",
            "Batch 5, Epoch 47 [Loss: 1.13e+02]\n",
            "Batch 5, Epoch 48 [Loss: 1.13e+02]\n",
            "Batch 5, Epoch 49 [Loss: 1.13e+02]\n",
            "Batch 5, Epoch 50 [Loss: 1.13e+02]\n",
            "Batch 5, Epoch 51 [Loss: 1.13e+02]\n",
            "Batch 5, Epoch 52 [Loss: 1.13e+02]\n",
            "Batch 5, Epoch 53 [Loss: 1.13e+02]\n",
            "Batch 5, Epoch 54 [Loss: 1.13e+02]\n",
            "Batch 5, Epoch 55 [Loss: 1.13e+02]\n",
            "Batch 5, Epoch 56 [Loss: 1.13e+02]\n",
            "Batch 5, Epoch 57 [Loss: 1.13e+02]\n",
            "Batch 5, Epoch 58 [Loss: 1.13e+02]\n",
            "Batch 5, Epoch 59 [Loss: 1.13e+02]\n"
          ]
        },
        {
          "name": "stderr",
          "output_type": "stream",
          "text": [
            "\n",
            "Epochs:  64%|██████▍   | 64/100 [00:00<00:00, 73.53it/s]\u001b[A\n",
            "Epochs:  72%|███████▏  | 72/100 [00:00<00:00, 74.26it/s]\u001b[A"
          ]
        },
        {
          "name": "stdout",
          "output_type": "stream",
          "text": [
            "Batch 5, Epoch 60 [Loss: 1.13e+02]\n",
            "Batch 5, Epoch 61 [Loss: 1.13e+02]\n",
            "Batch 5, Epoch 62 [Loss: 1.13e+02]\n",
            "Batch 5, Epoch 63 [Loss: 1.13e+02]\n",
            "Batch 5, Epoch 64 [Loss: 1.13e+02]\n",
            "Batch 5, Epoch 65 [Loss: 1.13e+02]\n",
            "Batch 5, Epoch 66 [Loss: 1.13e+02]\n",
            "Batch 5, Epoch 67 [Loss: 1.13e+02]\n",
            "Batch 5, Epoch 68 [Loss: 1.13e+02]\n",
            "Batch 5, Epoch 69 [Loss: 1.13e+02]\n",
            "Batch 5, Epoch 70 [Loss: 1.13e+02]\n",
            "Batch 5, Epoch 71 [Loss: 1.13e+02]\n",
            "Batch 5, Epoch 72 [Loss: 1.13e+02]\n",
            "Batch 5, Epoch 73 [Loss: 1.13e+02]\n",
            "Batch 5, Epoch 74 [Loss: 1.13e+02]\n",
            "Batch 5, Epoch 75 [Loss: 1.13e+02]\n"
          ]
        },
        {
          "name": "stderr",
          "output_type": "stream",
          "text": [
            "\n",
            "Epochs:  80%|████████  | 80/100 [00:01<00:00, 74.19it/s]\u001b[A\n",
            "Epochs:  88%|████████▊ | 88/100 [00:01<00:00, 73.75it/s]\u001b[A"
          ]
        },
        {
          "name": "stdout",
          "output_type": "stream",
          "text": [
            "Batch 5, Epoch 76 [Loss: 1.13e+02]\n",
            "Batch 5, Epoch 77 [Loss: 1.13e+02]\n",
            "Batch 5, Epoch 78 [Loss: 1.13e+02]\n",
            "Batch 5, Epoch 79 [Loss: 1.13e+02]\n",
            "Batch 5, Epoch 80 [Loss: 1.13e+02]\n",
            "Batch 5, Epoch 81 [Loss: 1.13e+02]\n",
            "Batch 5, Epoch 82 [Loss: 1.13e+02]\n",
            "Batch 5, Epoch 83 [Loss: 1.13e+02]\n",
            "Batch 5, Epoch 84 [Loss: 1.13e+02]\n",
            "Batch 5, Epoch 85 [Loss: 1.13e+02]\n",
            "Batch 5, Epoch 86 [Loss: 1.13e+02]\n",
            "Batch 5, Epoch 87 [Loss: 1.13e+02]\n",
            "Batch 5, Epoch 88 [Loss: 1.13e+02]\n",
            "Batch 5, Epoch 89 [Loss: 1.13e+02]\n",
            "Batch 5, Epoch 90 [Loss: 1.13e+02]\n"
          ]
        },
        {
          "name": "stderr",
          "output_type": "stream",
          "text": [
            "\n",
            "Epochs:  96%|█████████▌| 96/100 [00:01<00:00, 73.83it/s]\u001b[A\n",
            "Batches:   0%|          | 6/2500 [00:09<1:00:00,  1.44s/it]"
          ]
        },
        {
          "name": "stdout",
          "output_type": "stream",
          "text": [
            "Batch 5, Epoch 91 [Loss: 1.13e+02]\n",
            "Batch 5, Epoch 92 [Loss: 1.13e+02]\n",
            "Batch 5, Epoch 93 [Loss: 1.13e+02]\n",
            "Batch 5, Epoch 94 [Loss: 1.13e+02]\n",
            "Batch 5, Epoch 95 [Loss: 1.13e+02]\n",
            "Batch 5, Epoch 96 [Loss: 1.13e+02]\n",
            "Batch 5, Epoch 97 [Loss: 1.13e+02]\n",
            "Batch 5, Epoch 98 [Loss: 1.13e+02]\n",
            "Batch 5, Epoch 99 [Loss: 1.13e+02]\n"
          ]
        },
        {
          "name": "stderr",
          "output_type": "stream",
          "text": [
            "\n",
            "Epochs:   0%|          | 0/100 [00:00<?, ?it/s]\u001b[A\n",
            "Epochs:   8%|▊         | 8/100 [00:00<00:01, 75.56it/s]\u001b[A\n",
            "Epochs:  16%|█▌        | 16/100 [00:00<00:01, 75.64it/s]\u001b[A\n",
            "Epochs:  24%|██▍       | 24/100 [00:00<00:01, 75.91it/s]\u001b[A\n",
            "Epochs:  32%|███▏      | 32/100 [00:00<00:00, 76.52it/s]\u001b[A\n",
            "Epochs:  40%|████      | 40/100 [00:00<00:00, 76.73it/s]\u001b[A\n",
            "Epochs:  48%|████▊     | 48/100 [00:00<00:00, 76.49it/s]\u001b[A\n",
            "Epochs:  56%|█████▌    | 56/100 [00:00<00:00, 76.45it/s]\u001b[A\n",
            "Epochs:  64%|██████▍   | 64/100 [00:00<00:00, 76.66it/s]\u001b[A\n",
            "Epochs:  72%|███████▏  | 72/100 [00:00<00:00, 77.07it/s]\u001b[A\n",
            "Epochs:  80%|████████  | 80/100 [00:01<00:00, 77.01it/s]\u001b[A\n",
            "Epochs:  88%|████████▊ | 88/100 [00:01<00:00, 77.21it/s]\u001b[A\n",
            "Epochs:  96%|█████████▌| 96/100 [00:01<00:00, 77.31it/s]\u001b[A\n",
            "Batches:   0%|          | 7/2500 [00:10<58:23,  1.41s/it]  \n",
            "Epochs:   0%|          | 0/100 [00:00<?, ?it/s]\u001b[A\n",
            "Epochs:   8%|▊         | 8/100 [00:00<00:01, 79.11it/s]\u001b[A\n",
            "Epochs:  16%|█▌        | 16/100 [00:00<00:01, 78.01it/s]\u001b[A\n",
            "Epochs:  24%|██▍       | 24/100 [00:00<00:00, 76.42it/s]\u001b[A\n",
            "Epochs:  32%|███▏      | 32/100 [00:00<00:00, 76.78it/s]\u001b[A\n",
            "Epochs:  40%|████      | 40/100 [00:00<00:00, 76.26it/s]\u001b[A\n",
            "Epochs:  48%|████▊     | 48/100 [00:00<00:00, 75.63it/s]\u001b[A\n",
            "Epochs:  56%|█████▌    | 56/100 [00:00<00:00, 74.51it/s]\u001b[A\n",
            "Epochs:  64%|██████▍   | 64/100 [00:00<00:00, 73.28it/s]\u001b[A\n",
            "Epochs:  72%|███████▏  | 72/100 [00:00<00:00, 72.24it/s]\u001b[A\n",
            "Epochs:  80%|████████  | 80/100 [00:01<00:00, 73.19it/s]\u001b[A\n",
            "Epochs:  88%|████████▊ | 88/100 [00:01<00:00, 73.76it/s]\u001b[A\n",
            "Epochs:  96%|█████████▌| 96/100 [00:01<00:00, 74.50it/s]\u001b[A\n",
            "Batches:   0%|          | 8/2500 [00:12<57:46,  1.39s/it]\n",
            "Epochs:   0%|          | 0/100 [00:00<?, ?it/s]\u001b[A\n",
            "Epochs:   8%|▊         | 8/100 [00:00<00:01, 75.88it/s]\u001b[A\n",
            "Epochs:  16%|█▌        | 16/100 [00:00<00:01, 72.17it/s]\u001b[A\n",
            "Epochs:  24%|██▍       | 24/100 [00:00<00:01, 73.61it/s]\u001b[A\n",
            "Epochs:  32%|███▏      | 32/100 [00:00<00:00, 71.28it/s]\u001b[A\n",
            "Epochs:  40%|████      | 40/100 [00:00<00:00, 72.38it/s]\u001b[A\n",
            "Epochs:  48%|████▊     | 48/100 [00:00<00:00, 73.26it/s]\u001b[A\n",
            "Epochs:  56%|█████▌    | 56/100 [00:00<00:00, 73.21it/s]\u001b[A\n",
            "Epochs:  64%|██████▍   | 64/100 [00:00<00:00, 73.55it/s]\u001b[A\n",
            "Epochs:  72%|███████▏  | 72/100 [00:00<00:00, 74.61it/s]\u001b[A\n",
            "Epochs:  80%|████████  | 80/100 [00:01<00:00, 74.19it/s]\u001b[A\n",
            "Epochs:  88%|████████▊ | 88/100 [00:01<00:00, 75.16it/s]\u001b[A\n",
            "Epochs:  96%|█████████▌| 96/100 [00:01<00:00, 75.57it/s]\u001b[A\n",
            "Batches:   0%|          | 9/2500 [00:13<57:30,  1.39s/it]\n",
            "Epochs:   0%|          | 0/100 [00:00<?, ?it/s]\u001b[A\n",
            "Epochs:   8%|▊         | 8/100 [00:00<00:01, 77.05it/s]\u001b[A\n",
            "Epochs:  16%|█▌        | 16/100 [00:00<00:01, 77.14it/s]\u001b[A\n",
            "Epochs:  24%|██▍       | 24/100 [00:00<00:00, 77.60it/s]\u001b[A\n",
            "Epochs:  32%|███▏      | 32/100 [00:00<00:00, 77.79it/s]\u001b[A\n",
            "Epochs:  40%|████      | 40/100 [00:00<00:00, 77.10it/s]\u001b[A\n",
            "Epochs:  48%|████▊     | 48/100 [00:00<00:00, 75.70it/s]\u001b[A\n",
            "Epochs:  56%|█████▌    | 56/100 [00:00<00:00, 75.77it/s]\u001b[A\n",
            "Epochs:  64%|██████▍   | 64/100 [00:00<00:00, 75.69it/s]\u001b[A\n",
            "Epochs:  72%|███████▏  | 72/100 [00:00<00:00, 75.92it/s]\u001b[A\n",
            "Epochs:  80%|████████  | 80/100 [00:01<00:00, 76.22it/s]\u001b[A\n",
            "Epochs:  88%|████████▊ | 88/100 [00:01<00:00, 76.26it/s]\u001b[A\n",
            "Epochs:  96%|█████████▌| 96/100 [00:01<00:00, 76.27it/s]\u001b[A\n",
            "Batches:   0%|          | 10/2500 [00:15<56:48,  1.37s/it]\n",
            "Epochs:   0%|          | 0/100 [00:00<?, ?it/s]\u001b[A\n",
            "Epochs:   4%|▍         | 4/100 [00:00<00:02, 37.02it/s]\u001b[A"
          ]
        },
        {
          "name": "stdout",
          "output_type": "stream",
          "text": [
            "Batch 10, Epoch 0 [Loss: 8.44e+01]\n",
            "Batch 10, Epoch 1 [Loss: 8.44e+01]\n",
            "Batch 10, Epoch 2 [Loss: 8.44e+01]\n",
            "Batch 10, Epoch 3 [Loss: 8.44e+01]\n",
            "Batch 10, Epoch 4 [Loss: 8.44e+01]\n",
            "Batch 10, Epoch 5 [Loss: 8.44e+01]\n",
            "Batch 10, Epoch 6 [Loss: 8.44e+01]\n",
            "Batch 10, Epoch 7 [Loss: 8.44e+01]\n"
          ]
        },
        {
          "name": "stderr",
          "output_type": "stream",
          "text": [
            "\n",
            "Epochs:   8%|▊         | 8/100 [00:00<00:02, 36.89it/s]\u001b[A\n",
            "Epochs:  12%|█▏        | 12/100 [00:00<00:02, 37.16it/s]\u001b[A\n",
            "Epochs:  16%|█▌        | 16/100 [00:00<00:02, 36.82it/s]"
          ]
        },
        {
          "name": "stdout",
          "output_type": "stream",
          "text": [
            "Batch 10, Epoch 8 [Loss: 8.44e+01]\n",
            "Batch 10, Epoch 9 [Loss: 8.44e+01]\n",
            "Batch 10, Epoch 10 [Loss: 8.44e+01]\n",
            "Batch 10, Epoch 11 [Loss: 8.44e+01]\n",
            "Batch 10, Epoch 12 [Loss: 8.44e+01]\n",
            "Batch 10, Epoch 13 [Loss: 8.44e+01]\n",
            "Batch 10, Epoch 14 [Loss: 8.44e+01]\n",
            "Batch 10, Epoch 15 [Loss: 8.44e+01]\n"
          ]
        },
        {
          "name": "stderr",
          "output_type": "stream",
          "text": [
            "\u001b[A\n",
            "Epochs:  20%|██        | 20/100 [00:00<00:02, 36.58it/s]\u001b[A\n"
          ]
        },
        {
          "name": "stdout",
          "output_type": "stream",
          "text": [
            "Batch 10, Epoch 16 [Loss: 8.44e+01]\n",
            "Batch 10, Epoch 17 [Loss: 8.44e+01]\n",
            "Batch 10, Epoch 18 [Loss: 8.44e+01]\n",
            "Batch 10, Epoch 19 [Loss: 8.44e+01]\n",
            "Batch 10, Epoch 20 [Loss: 8.44e+01]\n",
            "Batch 10, Epoch 21 [Loss: 8.44e+01]\n",
            "Batch 10, Epoch 22 [Loss: 8.44e+01]\n",
            "Batch 10, Epoch 23 [Loss: 8.44e+01]\n"
          ]
        },
        {
          "name": "stderr",
          "output_type": "stream",
          "text": [
            "Epochs:  24%|██▍       | 24/100 [00:00<00:02, 36.76it/s]\u001b[A\n",
            "Epochs:  28%|██▊       | 28/100 [00:00<00:02, 34.95it/s]\u001b[A"
          ]
        },
        {
          "name": "stdout",
          "output_type": "stream",
          "text": [
            "Batch 10, Epoch 24 [Loss: 8.44e+01]\n",
            "Batch 10, Epoch 25 [Loss: 8.44e+01]\n",
            "Batch 10, Epoch 26 [Loss: 8.44e+01]\n",
            "Batch 10, Epoch 27 [Loss: 8.44e+01]\n",
            "Batch 10, Epoch 28 [Loss: 8.44e+01]\n",
            "Batch 10, Epoch 29 [Loss: 8.44e+01]\n",
            "Batch 10, Epoch 30 [Loss: 8.44e+01]\n"
          ]
        },
        {
          "name": "stderr",
          "output_type": "stream",
          "text": [
            "\n",
            "Epochs:  32%|███▏      | 32/100 [00:00<00:01, 35.50it/s]\u001b[A\n",
            "Epochs:  36%|███▌      | 36/100 [00:00<00:01, 36.17it/s]\u001b[A"
          ]
        },
        {
          "name": "stdout",
          "output_type": "stream",
          "text": [
            "Batch 10, Epoch 31 [Loss: 8.44e+01]\n",
            "Batch 10, Epoch 32 [Loss: 8.44e+01]\n",
            "Batch 10, Epoch 33 [Loss: 8.44e+01]\n",
            "Batch 10, Epoch 34 [Loss: 8.44e+01]\n",
            "Batch 10, Epoch 35 [Loss: 8.44e+01]\n",
            "Batch 10, Epoch 36 [Loss: 8.44e+01]\n",
            "Batch 10, Epoch 37 [Loss: 8.44e+01]\n",
            "Batch 10, Epoch 38 [Loss: 8.44e+01]\n"
          ]
        },
        {
          "name": "stderr",
          "output_type": "stream",
          "text": [
            "\n",
            "Epochs:  40%|████      | 40/100 [00:01<00:01, 36.63it/s]\u001b[A\n",
            "Epochs:  44%|████▍     | 44/100 [00:01<00:01, 36.89it/s]\u001b[A"
          ]
        },
        {
          "name": "stdout",
          "output_type": "stream",
          "text": [
            "Batch 10, Epoch 39 [Loss: 8.44e+01]\n",
            "Batch 10, Epoch 40 [Loss: 8.44e+01]\n",
            "Batch 10, Epoch 41 [Loss: 8.44e+01]\n",
            "Batch 10, Epoch 42 [Loss: 8.44e+01]\n",
            "Batch 10, Epoch 43 [Loss: 8.44e+01]\n",
            "Batch 10, Epoch 44 [Loss: 8.44e+01]\n",
            "Batch 10, Epoch 45 [Loss: 8.44e+01]\n",
            "Batch 10, Epoch 46 [Loss: 8.44e+01]\n"
          ]
        },
        {
          "name": "stderr",
          "output_type": "stream",
          "text": [
            "\n",
            "Epochs:  48%|████▊     | 48/100 [00:01<00:01, 37.07it/s]\u001b[A\n",
            "Epochs:  52%|█████▏    | 52/100 [00:01<00:01, 37.01it/s]\u001b[A"
          ]
        },
        {
          "name": "stdout",
          "output_type": "stream",
          "text": [
            "Batch 10, Epoch 47 [Loss: 8.44e+01]\n",
            "Batch 10, Epoch 48 [Loss: 8.44e+01]\n",
            "Batch 10, Epoch 49 [Loss: 8.44e+01]\n",
            "Batch 10, Epoch 50 [Loss: 8.44e+01]\n",
            "Batch 10, Epoch 51 [Loss: 8.44e+01]\n",
            "Batch 10, Epoch 52 [Loss: 8.44e+01]\n",
            "Batch 10, Epoch 53 [Loss: 8.44e+01]\n",
            "Batch 10, Epoch 54 [Loss: 8.44e+01]\n"
          ]
        },
        {
          "name": "stderr",
          "output_type": "stream",
          "text": [
            "\n",
            "Epochs:  56%|█████▌    | 56/100 [00:01<00:01, 36.50it/s]\u001b[A\n",
            "Epochs:  60%|██████    | 60/100 [00:01<00:01, 36.10it/s]\u001b[A"
          ]
        },
        {
          "name": "stdout",
          "output_type": "stream",
          "text": [
            "Batch 10, Epoch 55 [Loss: 8.44e+01]\n",
            "Batch 10, Epoch 56 [Loss: 8.44e+01]\n",
            "Batch 10, Epoch 57 [Loss: 8.44e+01]\n",
            "Batch 10, Epoch 58 [Loss: 8.44e+01]\n",
            "Batch 10, Epoch 59 [Loss: 8.44e+01]\n",
            "Batch 10, Epoch 60 [Loss: 8.44e+01]\n",
            "Batch 10, Epoch 61 [Loss: 8.44e+01]\n"
          ]
        },
        {
          "name": "stderr",
          "output_type": "stream",
          "text": [
            "\n",
            "Epochs:  64%|██████▍   | 64/100 [00:01<00:01, 35.34it/s]\u001b[A\n",
            "Epochs:  68%|██████▊   | 68/100 [00:01<00:00, 35.92it/s]\u001b[A"
          ]
        },
        {
          "name": "stdout",
          "output_type": "stream",
          "text": [
            "Batch 10, Epoch 62 [Loss: 8.44e+01]\n",
            "Batch 10, Epoch 63 [Loss: 8.44e+01]\n",
            "Batch 10, Epoch 64 [Loss: 8.44e+01]\n",
            "Batch 10, Epoch 65 [Loss: 8.44e+01]\n",
            "Batch 10, Epoch 66 [Loss: 8.44e+01]\n",
            "Batch 10, Epoch 67 [Loss: 8.44e+01]\n",
            "Batch 10, Epoch 68 [Loss: 8.44e+01]\n",
            "Batch 10, Epoch 69 [Loss: 8.44e+01]\n"
          ]
        },
        {
          "name": "stderr",
          "output_type": "stream",
          "text": [
            "\n",
            "Epochs:  72%|███████▏  | 72/100 [00:01<00:00, 36.36it/s]\u001b[A\n",
            "Epochs:  76%|███████▌  | 76/100 [00:02<00:00, 36.12it/s]\u001b[A"
          ]
        },
        {
          "name": "stdout",
          "output_type": "stream",
          "text": [
            "Batch 10, Epoch 70 [Loss: 8.44e+01]\n",
            "Batch 10, Epoch 71 [Loss: 8.44e+01]\n",
            "Batch 10, Epoch 72 [Loss: 8.44e+01]\n",
            "Batch 10, Epoch 73 [Loss: 8.44e+01]\n",
            "Batch 10, Epoch 74 [Loss: 8.44e+01]\n",
            "Batch 10, Epoch 75 [Loss: 8.44e+01]\n",
            "Batch 10, Epoch 76 [Loss: 8.44e+01]\n",
            "Batch 10, Epoch 77 [Loss: 8.44e+01]\n"
          ]
        },
        {
          "name": "stderr",
          "output_type": "stream",
          "text": [
            "\n",
            "Epochs:  80%|████████  | 80/100 [00:02<00:00, 36.18it/s]\u001b[A\n",
            "Epochs:  84%|████████▍ | 84/100 [00:02<00:00, 36.51it/s]\u001b[A"
          ]
        },
        {
          "name": "stdout",
          "output_type": "stream",
          "text": [
            "Batch 10, Epoch 78 [Loss: 8.44e+01]\n",
            "Batch 10, Epoch 79 [Loss: 8.44e+01]\n",
            "Batch 10, Epoch 80 [Loss: 8.44e+01]\n",
            "Batch 10, Epoch 81 [Loss: 8.44e+01]\n",
            "Batch 10, Epoch 82 [Loss: 8.44e+01]\n",
            "Batch 10, Epoch 83 [Loss: 8.44e+01]\n",
            "Batch 10, Epoch 84 [Loss: 8.44e+01]\n",
            "Batch 10, Epoch 85 [Loss: 8.44e+01]\n"
          ]
        },
        {
          "name": "stderr",
          "output_type": "stream",
          "text": [
            "\n",
            "Epochs:  88%|████████▊ | 88/100 [00:02<00:00, 36.92it/s]\u001b[A\n",
            "Epochs:  92%|█████████▏| 92/100 [00:02<00:00, 37.01it/s]\u001b[A"
          ]
        },
        {
          "name": "stdout",
          "output_type": "stream",
          "text": [
            "Batch 10, Epoch 86 [Loss: 8.44e+01]\n",
            "Batch 10, Epoch 87 [Loss: 8.44e+01]\n",
            "Batch 10, Epoch 88 [Loss: 8.44e+01]\n",
            "Batch 10, Epoch 89 [Loss: 8.44e+01]\n",
            "Batch 10, Epoch 90 [Loss: 8.44e+01]\n",
            "Batch 10, Epoch 91 [Loss: 8.44e+01]\n",
            "Batch 10, Epoch 92 [Loss: 8.44e+01]\n",
            "Batch 10, Epoch 93 [Loss: 8.44e+01]\n"
          ]
        },
        {
          "name": "stderr",
          "output_type": "stream",
          "text": [
            "\n",
            "Epochs:  96%|█████████▌| 96/100 [00:02<00:00, 36.95it/s]\u001b[A\n",
            "Epochs: 100%|██████████| 100/100 [00:02<00:00, 36.93it/s]\u001b[A\n",
            "Batches:   0%|          | 11/2500 [00:17<1:14:32,  1.80s/it]"
          ]
        },
        {
          "name": "stdout",
          "output_type": "stream",
          "text": [
            "Batch 10, Epoch 94 [Loss: 8.44e+01]\n",
            "Batch 10, Epoch 95 [Loss: 8.44e+01]\n",
            "Batch 10, Epoch 96 [Loss: 8.44e+01]\n",
            "Batch 10, Epoch 97 [Loss: 8.44e+01]\n",
            "Batch 10, Epoch 98 [Loss: 8.44e+01]\n",
            "Batch 10, Epoch 99 [Loss: 8.44e+01]\n"
          ]
        },
        {
          "name": "stderr",
          "output_type": "stream",
          "text": [
            "\n",
            "Epochs:   0%|          | 0/100 [00:00<?, ?it/s]\u001b[A\n",
            "Epochs:   8%|▊         | 8/100 [00:00<00:01, 78.06it/s]\u001b[A\n",
            "Epochs:  16%|█▌        | 16/100 [00:00<00:01, 76.81it/s]\u001b[A\n",
            "Epochs:  24%|██▍       | 24/100 [00:00<00:00, 77.31it/s]\u001b[A\n",
            "Epochs:  32%|███▏      | 32/100 [00:00<00:00, 77.35it/s]\u001b[A\n",
            "Epochs:  40%|████      | 40/100 [00:00<00:00, 77.61it/s]\u001b[A\n",
            "Epochs:  48%|████▊     | 48/100 [00:00<00:00, 77.47it/s]\u001b[A\n",
            "Epochs:  56%|█████▌    | 56/100 [00:00<00:00, 77.29it/s]\u001b[A\n",
            "Epochs:  64%|██████▍   | 64/100 [00:00<00:00, 77.34it/s]\u001b[A\n",
            "Epochs:  72%|███████▏  | 72/100 [00:00<00:00, 77.27it/s]\u001b[A\n",
            "Epochs:  80%|████████  | 80/100 [00:01<00:00, 75.73it/s]\u001b[A\n",
            "Epochs:  88%|████████▊ | 88/100 [00:01<00:00, 75.76it/s]\u001b[A\n",
            "Epochs:  96%|█████████▌| 96/100 [00:01<00:00, 76.11it/s]\u001b[A\n",
            "Batches:   0%|          | 12/2500 [00:19<1:08:35,  1.65s/it]\n",
            "Epochs:   0%|          | 0/100 [00:00<?, ?it/s]\u001b[A\n",
            "Epochs:   8%|▊         | 8/100 [00:00<00:01, 77.93it/s]\u001b[A\n",
            "Epochs:  16%|█▌        | 16/100 [00:00<00:01, 76.70it/s]\u001b[A\n",
            "Epochs:  24%|██▍       | 24/100 [00:00<00:00, 76.50it/s]\u001b[A\n",
            "Epochs:  32%|███▏      | 32/100 [00:00<00:00, 75.91it/s]\u001b[A\n",
            "Epochs:  40%|████      | 40/100 [00:00<00:00, 75.30it/s]\u001b[A\n",
            "Epochs:  48%|████▊     | 48/100 [00:00<00:00, 75.58it/s]\u001b[A\n",
            "Epochs:  56%|█████▌    | 56/100 [00:00<00:00, 76.42it/s]\u001b[A\n",
            "Epochs:  64%|██████▍   | 64/100 [00:00<00:00, 76.29it/s]\u001b[A\n",
            "Epochs:  72%|███████▏  | 72/100 [00:00<00:00, 76.78it/s]\u001b[A\n",
            "Epochs:  80%|████████  | 80/100 [00:01<00:00, 76.76it/s]\u001b[A\n",
            "Epochs:  88%|████████▊ | 88/100 [00:01<00:00, 76.22it/s]\u001b[A\n",
            "Epochs:  96%|█████████▌| 96/100 [00:01<00:00, 75.74it/s]\u001b[A\n",
            "Batches:   1%|          | 13/2500 [00:20<1:04:35,  1.56s/it]\n",
            "Epochs:   0%|          | 0/100 [00:00<?, ?it/s]\u001b[A\n",
            "Epochs:   8%|▊         | 8/100 [00:00<00:01, 75.34it/s]\u001b[A\n",
            "Epochs:  16%|█▌        | 16/100 [00:00<00:01, 72.62it/s]\u001b[A\n",
            "Epochs:  24%|██▍       | 24/100 [00:00<00:01, 69.38it/s]\u001b[A\n",
            "Epochs:  32%|███▏      | 32/100 [00:00<00:00, 71.62it/s]\u001b[A\n",
            "Epochs:  40%|████      | 40/100 [00:00<00:00, 72.20it/s]\u001b[A\n",
            "Epochs:  48%|████▊     | 48/100 [00:00<00:00, 68.00it/s]\u001b[A\n",
            "Epochs:  55%|█████▌    | 55/100 [00:00<00:00, 63.95it/s]\u001b[A\n",
            "Epochs:  63%|██████▎   | 63/100 [00:00<00:00, 67.23it/s]\u001b[A\n",
            "Epochs:  70%|███████   | 70/100 [00:01<00:00, 66.51it/s]\u001b[A\n",
            "Epochs:  77%|███████▋  | 77/100 [00:01<00:00, 61.76it/s]\u001b[A\n",
            "Epochs:  84%|████████▍ | 84/100 [00:01<00:00, 63.16it/s]\u001b[A\n",
            "Epochs:  91%|█████████ | 91/100 [00:01<00:00, 64.07it/s]\u001b[A\n",
            "Epochs:  99%|█████████▉| 99/100 [00:01<00:00, 67.90it/s]\u001b[A\n",
            "Batches:   1%|          | 14/2500 [00:21<1:04:00,  1.55s/it]\n",
            "Epochs:   0%|          | 0/100 [00:00<?, ?it/s]\u001b[A\n",
            "Epochs:   8%|▊         | 8/100 [00:00<00:01, 77.64it/s]\u001b[A\n",
            "Epochs:  16%|█▌        | 16/100 [00:00<00:01, 74.88it/s]\u001b[A\n",
            "Epochs:  24%|██▍       | 24/100 [00:00<00:01, 74.03it/s]\u001b[A\n",
            "Epochs:  32%|███▏      | 32/100 [00:00<00:00, 74.02it/s]\u001b[A\n",
            "Epochs:  40%|████      | 40/100 [00:00<00:00, 73.77it/s]\u001b[A\n",
            "Epochs:  48%|████▊     | 48/100 [00:00<00:00, 73.24it/s]\u001b[A\n",
            "Epochs:  56%|█████▌    | 56/100 [00:00<00:00, 70.86it/s]\u001b[A\n",
            "Epochs:  64%|██████▍   | 64/100 [00:00<00:00, 68.08it/s]\u001b[A\n",
            "Epochs:  72%|███████▏  | 72/100 [00:01<00:00, 69.75it/s]\u001b[A\n",
            "Epochs:  80%|████████  | 80/100 [00:01<00:00, 70.83it/s]\u001b[A\n",
            "Epochs:  88%|████████▊ | 88/100 [00:01<00:00, 66.75it/s]\u001b[A\n",
            "Epochs:  95%|█████████▌| 95/100 [00:01<00:00, 63.62it/s]\u001b[A\n",
            "Batches:   1%|          | 15/2500 [00:23<1:03:14,  1.53s/it]\n",
            "Epochs:   0%|          | 0/100 [00:00<?, ?it/s]\u001b[A\n",
            "Epochs:   7%|▋         | 7/100 [00:00<00:01, 69.37it/s]\u001b[A\n",
            "Epochs:  14%|█▍        | 14/100 [00:00<00:01, 65.47it/s]\u001b[A"
          ]
        },
        {
          "name": "stdout",
          "output_type": "stream",
          "text": [
            "Batch 15, Epoch 0 [Loss: 7.12e+01]\n",
            "Batch 15, Epoch 1 [Loss: 7.12e+01]\n",
            "Batch 15, Epoch 2 [Loss: 7.12e+01]\n",
            "Batch 15, Epoch 3 [Loss: 7.12e+01]\n",
            "Batch 15, Epoch 4 [Loss: 7.12e+01]\n",
            "Batch 15, Epoch 5 [Loss: 7.12e+01]\n",
            "Batch 15, Epoch 6 [Loss: 7.12e+01]\n",
            "Batch 15, Epoch 7 [Loss: 7.12e+01]\n",
            "Batch 15, Epoch 8 [Loss: 7.12e+01]\n",
            "Batch 15, Epoch 9 [Loss: 7.12e+01]\n",
            "Batch 15, Epoch 10 [Loss: 7.12e+01]\n",
            "Batch 15, Epoch 11 [Loss: 7.12e+01]\n",
            "Batch 15, Epoch 12 [Loss: 7.12e+01]\n",
            "Batch 15, Epoch 13 [Loss: 7.12e+01]\n"
          ]
        },
        {
          "name": "stderr",
          "output_type": "stream",
          "text": [
            "\n",
            "Epochs:  21%|██        | 21/100 [00:00<00:01, 62.79it/s]\u001b[A"
          ]
        },
        {
          "name": "stdout",
          "output_type": "stream",
          "text": [
            "Batch 15, Epoch 14 [Loss: 7.12e+01]\n",
            "Batch 15, Epoch 15 [Loss: 7.12e+01]\n",
            "Batch 15, Epoch 16 [Loss: 7.12e+01]\n",
            "Batch 15, Epoch 17 [Loss: 7.12e+01]\n",
            "Batch 15, Epoch 18 [Loss: 7.12e+01]\n",
            "Batch 15, Epoch 19 [Loss: 7.12e+01]\n",
            "Batch 15, Epoch 20 [Loss: 7.12e+01]\n",
            "Batch 15, Epoch 21 [Loss: 7.12e+01]\n",
            "Batch 15, Epoch 22 [Loss: 7.12e+01]\n",
            "Batch 15, Epoch 23 [Loss: 7.12e+01]\n",
            "Batch 15, Epoch 24 [Loss: 7.12e+01]\n",
            "Batch 15, Epoch 25 [Loss: 7.12e+01]\n",
            "Batch 15, Epoch 26 [Loss: 7.12e+01]\n"
          ]
        },
        {
          "name": "stderr",
          "output_type": "stream",
          "text": [
            "\n",
            "Epochs:  28%|██▊       | 28/100 [00:00<00:01, 60.56it/s]\u001b[A\n",
            "Epochs:  35%|███▌      | 35/100 [00:00<00:01, 61.00it/s]\u001b[A"
          ]
        },
        {
          "name": "stdout",
          "output_type": "stream",
          "text": [
            "Batch 15, Epoch 27 [Loss: 7.12e+01]\n",
            "Batch 15, Epoch 28 [Loss: 7.12e+01]\n",
            "Batch 15, Epoch 29 [Loss: 7.12e+01]\n",
            "Batch 15, Epoch 30 [Loss: 7.12e+01]\n",
            "Batch 15, Epoch 31 [Loss: 7.12e+01]\n",
            "Batch 15, Epoch 32 [Loss: 7.12e+01]\n",
            "Batch 15, Epoch 33 [Loss: 7.12e+01]\n",
            "Batch 15, Epoch 34 [Loss: 7.12e+01]\n",
            "Batch 15, Epoch 35 [Loss: 7.12e+01]\n",
            "Batch 15, Epoch 36 [Loss: 7.12e+01]\n",
            "Batch 15, Epoch 37 [Loss: 7.12e+01]\n",
            "Batch 15, Epoch 38 [Loss: 7.12e+01]\n",
            "Batch 15, Epoch 39 [Loss: 7.12e+01]\n"
          ]
        },
        {
          "name": "stderr",
          "output_type": "stream",
          "text": [
            "\n",
            "Epochs:  42%|████▏     | 42/100 [00:00<00:00, 61.90it/s]\u001b[A\n",
            "Epochs:  49%|████▉     | 49/100 [00:00<00:00, 63.28it/s]\u001b[A"
          ]
        },
        {
          "name": "stdout",
          "output_type": "stream",
          "text": [
            "Batch 15, Epoch 40 [Loss: 7.12e+01]\n",
            "Batch 15, Epoch 41 [Loss: 7.12e+01]\n",
            "Batch 15, Epoch 42 [Loss: 7.12e+01]\n",
            "Batch 15, Epoch 43 [Loss: 7.12e+01]\n",
            "Batch 15, Epoch 44 [Loss: 7.12e+01]\n",
            "Batch 15, Epoch 45 [Loss: 7.12e+01]\n",
            "Batch 15, Epoch 46 [Loss: 7.12e+01]\n",
            "Batch 15, Epoch 47 [Loss: 7.12e+01]\n",
            "Batch 15, Epoch 48 [Loss: 7.12e+01]\n",
            "Batch 15, Epoch 49 [Loss: 7.12e+01]\n",
            "Batch 15, Epoch 50 [Loss: 7.12e+01]\n",
            "Batch 15, Epoch 51 [Loss: 7.12e+01]\n",
            "Batch 15, Epoch 52 [Loss: 7.12e+01]\n",
            "Batch 15, Epoch 53 [Loss: 7.12e+01]\n"
          ]
        },
        {
          "name": "stderr",
          "output_type": "stream",
          "text": [
            "\n",
            "Epochs:  56%|█████▌    | 56/100 [00:00<00:00, 62.34it/s]\u001b[A\n",
            "Epochs:  63%|██████▎   | 63/100 [00:01<00:00, 61.86it/s]\u001b[A"
          ]
        },
        {
          "name": "stdout",
          "output_type": "stream",
          "text": [
            "Batch 15, Epoch 54 [Loss: 7.12e+01]\n",
            "Batch 15, Epoch 55 [Loss: 7.12e+01]\n",
            "Batch 15, Epoch 56 [Loss: 7.12e+01]\n",
            "Batch 15, Epoch 57 [Loss: 7.12e+01]\n",
            "Batch 15, Epoch 58 [Loss: 7.12e+01]\n",
            "Batch 15, Epoch 59 [Loss: 7.12e+01]\n",
            "Batch 15, Epoch 60 [Loss: 7.12e+01]\n",
            "Batch 15, Epoch 61 [Loss: 7.12e+01]\n",
            "Batch 15, Epoch 62 [Loss: 7.12e+01]\n",
            "Batch 15, Epoch 63 [Loss: 7.12e+01]\n",
            "Batch 15, Epoch 64 [Loss: 7.12e+01]\n",
            "Batch 15, Epoch 65 [Loss: 7.12e+01]\n",
            "Batch 15, Epoch 66 [Loss: 7.12e+01]\n"
          ]
        },
        {
          "name": "stderr",
          "output_type": "stream",
          "text": [
            "\n",
            "Epochs:  70%|███████   | 70/100 [00:01<00:00, 63.15it/s]\u001b[A\n",
            "Epochs:  77%|███████▋  | 77/100 [00:01<00:00, 63.23it/s]\u001b[A"
          ]
        },
        {
          "name": "stdout",
          "output_type": "stream",
          "text": [
            "Batch 15, Epoch 67 [Loss: 7.12e+01]\n",
            "Batch 15, Epoch 68 [Loss: 7.12e+01]\n",
            "Batch 15, Epoch 69 [Loss: 7.12e+01]\n",
            "Batch 15, Epoch 70 [Loss: 7.12e+01]\n",
            "Batch 15, Epoch 71 [Loss: 7.12e+01]\n",
            "Batch 15, Epoch 72 [Loss: 7.12e+01]\n",
            "Batch 15, Epoch 73 [Loss: 7.12e+01]\n",
            "Batch 15, Epoch 74 [Loss: 7.12e+01]\n",
            "Batch 15, Epoch 75 [Loss: 7.12e+01]\n",
            "Batch 15, Epoch 76 [Loss: 7.12e+01]\n",
            "Batch 15, Epoch 77 [Loss: 7.12e+01]\n",
            "Batch 15, Epoch 78 [Loss: 7.12e+01]\n",
            "Batch 15, Epoch 79 [Loss: 7.12e+01]\n"
          ]
        },
        {
          "name": "stderr",
          "output_type": "stream",
          "text": [
            "\n",
            "Epochs:  84%|████████▍ | 84/100 [00:01<00:00, 62.86it/s]\u001b[A\n",
            "Epochs:  91%|█████████ | 91/100 [00:01<00:00, 63.51it/s]\u001b[A"
          ]
        },
        {
          "name": "stdout",
          "output_type": "stream",
          "text": [
            "Batch 15, Epoch 80 [Loss: 7.12e+01]\n",
            "Batch 15, Epoch 81 [Loss: 7.12e+01]\n",
            "Batch 15, Epoch 82 [Loss: 7.12e+01]\n",
            "Batch 15, Epoch 83 [Loss: 7.12e+01]\n",
            "Batch 15, Epoch 84 [Loss: 7.12e+01]\n",
            "Batch 15, Epoch 85 [Loss: 7.12e+01]\n",
            "Batch 15, Epoch 86 [Loss: 7.12e+01]\n",
            "Batch 15, Epoch 87 [Loss: 7.12e+01]\n",
            "Batch 15, Epoch 88 [Loss: 7.12e+01]\n",
            "Batch 15, Epoch 89 [Loss: 7.12e+01]\n",
            "Batch 15, Epoch 90 [Loss: 7.12e+01]\n",
            "Batch 15, Epoch 91 [Loss: 7.12e+01]\n",
            "Batch 15, Epoch 92 [Loss: 7.12e+01]\n"
          ]
        },
        {
          "name": "stderr",
          "output_type": "stream",
          "text": [
            "\n",
            "Epochs:  98%|█████████▊| 98/100 [00:01<00:00, 61.93it/s]\u001b[A\n",
            "Batches:   1%|          | 16/2500 [00:25<1:04:33,  1.56s/it]"
          ]
        },
        {
          "name": "stdout",
          "output_type": "stream",
          "text": [
            "Batch 15, Epoch 93 [Loss: 7.12e+01]\n",
            "Batch 15, Epoch 94 [Loss: 7.12e+01]\n",
            "Batch 15, Epoch 95 [Loss: 7.12e+01]\n",
            "Batch 15, Epoch 96 [Loss: 7.12e+01]\n",
            "Batch 15, Epoch 97 [Loss: 7.12e+01]\n",
            "Batch 15, Epoch 98 [Loss: 7.12e+01]\n",
            "Batch 15, Epoch 99 [Loss: 7.12e+01]\n"
          ]
        },
        {
          "name": "stderr",
          "output_type": "stream",
          "text": [
            "\n",
            "Epochs:   0%|          | 0/100 [00:00<?, ?it/s]\u001b[A\n",
            "Epochs:   6%|▌         | 6/100 [00:00<00:01, 52.19it/s]\u001b[A\n",
            "Epochs:  12%|█▏        | 12/100 [00:00<00:01, 56.46it/s]\u001b[A\n",
            "Epochs:  20%|██        | 20/100 [00:00<00:01, 63.42it/s]\u001b[A\n",
            "Epochs:  27%|██▋       | 27/100 [00:00<00:01, 58.28it/s]\u001b[A\n",
            "Epochs:  35%|███▌      | 35/100 [00:00<00:01, 62.81it/s]\u001b[A\n",
            "Epochs:  42%|████▏     | 42/100 [00:00<00:00, 63.97it/s]\u001b[A\n",
            "Epochs:  49%|████▉     | 49/100 [00:00<00:00, 65.50it/s]\u001b[A\n",
            "Epochs:  57%|█████▋    | 57/100 [00:00<00:00, 68.01it/s]\u001b[A\n",
            "Epochs:  65%|██████▌   | 65/100 [00:01<00:00, 69.45it/s]\u001b[A\n",
            "Epochs:  73%|███████▎  | 73/100 [00:01<00:00, 70.67it/s]\u001b[A\n",
            "Epochs:  81%|████████  | 81/100 [00:01<00:00, 71.82it/s]\u001b[A\n",
            "Epochs:  89%|████████▉ | 89/100 [00:01<00:00, 71.21it/s]\u001b[A\n",
            "Epochs:  97%|█████████▋| 97/100 [00:01<00:00, 72.03it/s]\u001b[A\n",
            "Batches:   1%|          | 17/2500 [00:26<1:04:03,  1.55s/it]\n",
            "Epochs:   0%|          | 0/100 [00:00<?, ?it/s]\u001b[A\n",
            "Epochs:   6%|▌         | 6/100 [00:00<00:01, 53.40it/s]\u001b[A\n",
            "Epochs:  13%|█▎        | 13/100 [00:00<00:01, 59.16it/s]\u001b[A\n",
            "Epochs:  21%|██        | 21/100 [00:00<00:01, 66.32it/s]\u001b[A\n",
            "Epochs:  29%|██▉       | 29/100 [00:00<00:01, 70.06it/s]\u001b[A\n",
            "Epochs:  37%|███▋      | 37/100 [00:00<00:00, 71.91it/s]\u001b[A\n",
            "Epochs:  45%|████▌     | 45/100 [00:00<00:00, 72.85it/s]\u001b[A\n",
            "Epochs:  53%|█████▎    | 53/100 [00:00<00:00, 73.52it/s]\u001b[A\n",
            "Epochs:  61%|██████    | 61/100 [00:00<00:00, 73.60it/s]\u001b[A\n",
            "Epochs:  69%|██████▉   | 69/100 [00:00<00:00, 74.39it/s]\u001b[A\n",
            "Epochs:  77%|███████▋  | 77/100 [00:01<00:00, 74.63it/s]\u001b[A\n",
            "Epochs:  85%|████████▌ | 85/100 [00:01<00:00, 74.17it/s]\u001b[A\n",
            "Epochs:  93%|█████████▎| 93/100 [00:01<00:00, 74.94it/s]\u001b[A\n",
            "Batches:   1%|          | 18/2500 [00:28<1:02:13,  1.50s/it]\n",
            "Epochs:   0%|          | 0/100 [00:00<?, ?it/s]\u001b[A\n",
            "Epochs:   8%|▊         | 8/100 [00:00<00:01, 79.05it/s]\u001b[A\n",
            "Epochs:  16%|█▌        | 16/100 [00:00<00:01, 77.49it/s]\u001b[A\n",
            "Epochs:  24%|██▍       | 24/100 [00:00<00:00, 76.45it/s]\u001b[A\n",
            "Epochs:  32%|███▏      | 32/100 [00:00<00:00, 74.29it/s]\u001b[A\n",
            "Epochs:  40%|████      | 40/100 [00:00<00:00, 74.49it/s]\u001b[A\n",
            "Epochs:  48%|████▊     | 48/100 [00:00<00:00, 74.92it/s]\u001b[A\n",
            "Epochs:  56%|█████▌    | 56/100 [00:00<00:00, 73.91it/s]\u001b[A\n",
            "Epochs:  64%|██████▍   | 64/100 [00:00<00:00, 74.22it/s]\u001b[A\n",
            "Epochs:  72%|███████▏  | 72/100 [00:00<00:00, 74.30it/s]\u001b[A\n",
            "Epochs:  80%|████████  | 80/100 [00:01<00:00, 74.79it/s]\u001b[A\n",
            "Epochs:  88%|████████▊ | 88/100 [00:01<00:00, 75.17it/s]\u001b[A\n",
            "Epochs:  96%|█████████▌| 96/100 [00:01<00:00, 74.55it/s]\u001b[A\n",
            "Batches:   1%|          | 19/2500 [00:29<1:00:25,  1.46s/it]\n",
            "Epochs:   0%|          | 0/100 [00:00<?, ?it/s]\u001b[A\n",
            "Epochs:   8%|▊         | 8/100 [00:00<00:01, 74.98it/s]\u001b[A\n",
            "Epochs:  16%|█▌        | 16/100 [00:00<00:01, 75.53it/s]\u001b[A\n",
            "Epochs:  24%|██▍       | 24/100 [00:00<00:00, 76.26it/s]\u001b[A\n",
            "Epochs:  32%|███▏      | 32/100 [00:00<00:00, 73.76it/s]\u001b[A\n",
            "Epochs:  40%|████      | 40/100 [00:00<00:00, 74.67it/s]\u001b[A\n",
            "Epochs:  48%|████▊     | 48/100 [00:00<00:00, 75.30it/s]\u001b[A\n",
            "Epochs:  56%|█████▌    | 56/100 [00:00<00:00, 76.00it/s]\u001b[A\n",
            "Epochs:  64%|██████▍   | 64/100 [00:00<00:00, 75.84it/s]\u001b[A\n",
            "Epochs:  72%|███████▏  | 72/100 [00:00<00:00, 75.64it/s]\u001b[A\n",
            "Epochs:  80%|████████  | 80/100 [00:01<00:00, 75.63it/s]\u001b[A\n",
            "Epochs:  88%|████████▊ | 88/100 [00:01<00:00, 76.10it/s]\u001b[A\n",
            "Epochs:  96%|█████████▌| 96/100 [00:01<00:00, 76.69it/s]\u001b[A\n",
            "Batches:   1%|          | 20/2500 [00:30<58:57,  1.43s/it]  \n",
            "Epochs:   0%|          | 0/100 [00:00<?, ?it/s]\u001b[A\n",
            "Epochs:   4%|▍         | 4/100 [00:00<00:02, 37.85it/s]\u001b[A\n",
            "Epochs:   8%|▊         | 8/100 [00:00<00:02, 38.09it/s]\u001b[A"
          ]
        },
        {
          "name": "stdout",
          "output_type": "stream",
          "text": [
            "Batch 20, Epoch 0 [Loss: 1.63e+01]\n",
            "Batch 20, Epoch 1 [Loss: 1.63e+01]\n",
            "Batch 20, Epoch 2 [Loss: 1.63e+01]\n",
            "Batch 20, Epoch 3 [Loss: 1.63e+01]\n",
            "Batch 20, Epoch 4 [Loss: 1.63e+01]\n",
            "Batch 20, Epoch 5 [Loss: 1.63e+01]\n",
            "Batch 20, Epoch 6 [Loss: 1.63e+01]\n",
            "Batch 20, Epoch 7 [Loss: 1.63e+01]\n"
          ]
        },
        {
          "name": "stderr",
          "output_type": "stream",
          "text": [
            "\n",
            "Epochs:  12%|█▏        | 12/100 [00:00<00:02, 37.89it/s]\u001b[A\n",
            "Epochs:  16%|█▌        | 16/100 [00:00<00:02, 38.01it/s]\u001b[A"
          ]
        },
        {
          "name": "stdout",
          "output_type": "stream",
          "text": [
            "Batch 20, Epoch 8 [Loss: 1.63e+01]\n",
            "Batch 20, Epoch 9 [Loss: 1.63e+01]\n",
            "Batch 20, Epoch 10 [Loss: 1.63e+01]\n",
            "Batch 20, Epoch 11 [Loss: 1.63e+01]\n",
            "Batch 20, Epoch 12 [Loss: 1.63e+01]\n",
            "Batch 20, Epoch 13 [Loss: 1.63e+01]\n",
            "Batch 20, Epoch 14 [Loss: 1.63e+01]\n",
            "Batch 20, Epoch 15 [Loss: 1.63e+01]\n"
          ]
        },
        {
          "name": "stderr",
          "output_type": "stream",
          "text": [
            "\n",
            "Epochs:  20%|██        | 20/100 [00:00<00:02, 37.96it/s]\u001b[A\n",
            "Epochs:  24%|██▍       | 24/100 [00:00<00:01, 38.09it/s]\u001b[A"
          ]
        },
        {
          "name": "stdout",
          "output_type": "stream",
          "text": [
            "Batch 20, Epoch 16 [Loss: 1.63e+01]\n",
            "Batch 20, Epoch 17 [Loss: 1.63e+01]\n",
            "Batch 20, Epoch 18 [Loss: 1.63e+01]\n",
            "Batch 20, Epoch 19 [Loss: 1.63e+01]\n",
            "Batch 20, Epoch 20 [Loss: 1.63e+01]\n",
            "Batch 20, Epoch 21 [Loss: 1.63e+01]\n",
            "Batch 20, Epoch 22 [Loss: 1.63e+01]\n",
            "Batch 20, Epoch 23 [Loss: 1.63e+01]\n"
          ]
        },
        {
          "name": "stderr",
          "output_type": "stream",
          "text": [
            "\n",
            "Epochs:  28%|██▊       | 28/100 [00:00<00:01, 37.73it/s]\u001b[A"
          ]
        },
        {
          "name": "stdout",
          "output_type": "stream",
          "text": [
            "Batch 20, Epoch 24 [Loss: 1.63e+01]\n",
            "Batch 20, Epoch 25 [Loss: 1.63e+01]\n",
            "Batch 20, Epoch 26 [Loss: 1.63e+01]\n",
            "Batch 20, Epoch 27 [Loss: 1.63e+01]\n",
            "Batch 20, Epoch 28 [Loss: 1.63e+01]\n",
            "Batch 20, Epoch 29 [Loss: 1.63e+01]\n",
            "Batch 20, Epoch 30 [Loss: 1.63e+01]\n",
            "Batch 20, Epoch 31 [Loss: 1.63e+01]\n"
          ]
        },
        {
          "name": "stderr",
          "output_type": "stream",
          "text": [
            "\n",
            "Epochs:  32%|███▏      | 32/100 [00:00<00:01, 36.83it/s]\u001b[A\n",
            "Epochs:  36%|███▌      | 36/100 [00:00<00:01, 37.19it/s]\u001b[A"
          ]
        },
        {
          "name": "stdout",
          "output_type": "stream",
          "text": [
            "Batch 20, Epoch 32 [Loss: 1.63e+01]\n",
            "Batch 20, Epoch 33 [Loss: 1.63e+01]\n",
            "Batch 20, Epoch 34 [Loss: 1.63e+01]\n",
            "Batch 20, Epoch 35 [Loss: 1.63e+01]\n",
            "Batch 20, Epoch 36 [Loss: 1.63e+01]\n",
            "Batch 20, Epoch 37 [Loss: 1.63e+01]\n",
            "Batch 20, Epoch 38 [Loss: 1.63e+01]\n",
            "Batch 20, Epoch 39 [Loss: 1.63e+01]\n"
          ]
        },
        {
          "name": "stderr",
          "output_type": "stream",
          "text": [
            "\n",
            "Epochs:  40%|████      | 40/100 [00:01<00:01, 36.24it/s]\u001b[A\n",
            "Epochs:  44%|████▍     | 44/100 [00:01<00:01, 36.53it/s]\u001b[A\n",
            "Epochs:  48%|████▊     | 48/100 [00:01<00:01, 37.06it/s]\u001b[A"
          ]
        },
        {
          "name": "stdout",
          "output_type": "stream",
          "text": [
            "Batch 20, Epoch 40 [Loss: 1.63e+01]\n",
            "Batch 20, Epoch 41 [Loss: 1.63e+01]\n",
            "Batch 20, Epoch 42 [Loss: 1.63e+01]\n",
            "Batch 20, Epoch 43 [Loss: 1.63e+01]\n",
            "Batch 20, Epoch 44 [Loss: 1.63e+01]\n",
            "Batch 20, Epoch 45 [Loss: 1.63e+01]\n",
            "Batch 20, Epoch 46 [Loss: 1.63e+01]\n",
            "Batch 20, Epoch 47 [Loss: 1.63e+01]\n"
          ]
        },
        {
          "name": "stderr",
          "output_type": "stream",
          "text": [
            "\n",
            "Epochs:  52%|█████▏    | 52/100 [00:01<00:01, 37.44it/s]\u001b[A\n",
            "Epochs:  56%|█████▌    | 56/100 [00:01<00:01, 37.36it/s]\u001b[A"
          ]
        },
        {
          "name": "stdout",
          "output_type": "stream",
          "text": [
            "Batch 20, Epoch 48 [Loss: 1.63e+01]\n",
            "Batch 20, Epoch 49 [Loss: 1.63e+01]\n",
            "Batch 20, Epoch 50 [Loss: 1.63e+01]\n",
            "Batch 20, Epoch 51 [Loss: 1.63e+01]\n",
            "Batch 20, Epoch 52 [Loss: 1.63e+01]\n",
            "Batch 20, Epoch 53 [Loss: 1.63e+01]\n",
            "Batch 20, Epoch 54 [Loss: 1.63e+01]\n",
            "Batch 20, Epoch 55 [Loss: 1.63e+01]\n"
          ]
        },
        {
          "name": "stderr",
          "output_type": "stream",
          "text": [
            "\n",
            "Epochs:  60%|██████    | 60/100 [00:01<00:01, 37.38it/s]\u001b[A\n",
            "Epochs:  64%|██████▍   | 64/100 [00:01<00:00, 37.01it/s]\u001b[A"
          ]
        },
        {
          "name": "stdout",
          "output_type": "stream",
          "text": [
            "Batch 20, Epoch 56 [Loss: 1.63e+01]\n",
            "Batch 20, Epoch 57 [Loss: 1.63e+01]\n",
            "Batch 20, Epoch 58 [Loss: 1.63e+01]\n",
            "Batch 20, Epoch 59 [Loss: 1.63e+01]\n",
            "Batch 20, Epoch 60 [Loss: 1.63e+01]\n",
            "Batch 20, Epoch 61 [Loss: 1.63e+01]\n",
            "Batch 20, Epoch 62 [Loss: 1.63e+01]\n",
            "Batch 20, Epoch 63 [Loss: 1.63e+01]\n"
          ]
        },
        {
          "name": "stderr",
          "output_type": "stream",
          "text": [
            "\n",
            "Epochs:  68%|██████▊   | 68/100 [00:01<00:00, 37.31it/s]\u001b[A\n",
            "Epochs:  72%|███████▏  | 72/100 [00:01<00:00, 36.82it/s]"
          ]
        },
        {
          "name": "stdout",
          "output_type": "stream",
          "text": [
            "Batch 20, Epoch 64 [Loss: 1.63e+01]\n",
            "Batch 20, Epoch 65 [Loss: 1.63e+01]\n",
            "Batch 20, Epoch 66 [Loss: 1.63e+01]\n",
            "Batch 20, Epoch 67 [Loss: 1.63e+01]\n",
            "Batch 20, Epoch 68 [Loss: 1.63e+01]\n",
            "Batch 20, Epoch 69 [Loss: 1.63e+01]\n",
            "Batch 20, Epoch 70 [Loss: 1.63e+01]\n",
            "Batch 20, Epoch 71 [Loss: 1.63e+01]\n"
          ]
        },
        {
          "name": "stderr",
          "output_type": "stream",
          "text": [
            "\u001b[A\n",
            "Epochs:  76%|███████▌  | 76/100 [00:02<00:00, 36.59it/s]\u001b[A"
          ]
        },
        {
          "name": "stdout",
          "output_type": "stream",
          "text": [
            "Batch 20, Epoch 72 [Loss: 1.63e+01]\n",
            "Batch 20, Epoch 73 [Loss: 1.63e+01]\n",
            "Batch 20, Epoch 74 [Loss: 1.63e+01]\n",
            "Batch 20, Epoch 75 [Loss: 1.63e+01]\n",
            "Batch 20, Epoch 76 [Loss: 1.63e+01]\n",
            "Batch 20, Epoch 77 [Loss: 1.63e+01]\n",
            "Batch 20, Epoch 78 [Loss: 1.63e+01]\n",
            "Batch 20, Epoch 79 [Loss: 1.63e+01]\n"
          ]
        },
        {
          "name": "stderr",
          "output_type": "stream",
          "text": [
            "\n",
            "Epochs:  80%|████████  | 80/100 [00:02<00:00, 36.32it/s]\u001b[A\n",
            "Epochs:  84%|████████▍ | 84/100 [00:02<00:00, 36.65it/s]\u001b[A\n",
            "Epochs:  88%|████████▊ | 88/100 [00:02<00:00, 37.07it/s]\u001b[A"
          ]
        },
        {
          "name": "stdout",
          "output_type": "stream",
          "text": [
            "Batch 20, Epoch 80 [Loss: 1.63e+01]\n",
            "Batch 20, Epoch 81 [Loss: 1.63e+01]\n",
            "Batch 20, Epoch 82 [Loss: 1.63e+01]\n",
            "Batch 20, Epoch 83 [Loss: 1.63e+01]\n",
            "Batch 20, Epoch 84 [Loss: 1.63e+01]\n",
            "Batch 20, Epoch 85 [Loss: 1.63e+01]\n",
            "Batch 20, Epoch 86 [Loss: 1.63e+01]\n",
            "Batch 20, Epoch 87 [Loss: 1.63e+01]\n"
          ]
        },
        {
          "name": "stderr",
          "output_type": "stream",
          "text": [
            "\n",
            "Epochs:  92%|█████████▏| 92/100 [00:02<00:00, 37.39it/s]\u001b[A\n",
            "Epochs:  96%|█████████▌| 96/100 [00:02<00:00, 37.73it/s]\u001b[A"
          ]
        },
        {
          "name": "stdout",
          "output_type": "stream",
          "text": [
            "Batch 20, Epoch 88 [Loss: 1.63e+01]\n",
            "Batch 20, Epoch 89 [Loss: 1.63e+01]\n",
            "Batch 20, Epoch 90 [Loss: 1.63e+01]\n",
            "Batch 20, Epoch 91 [Loss: 1.63e+01]\n",
            "Batch 20, Epoch 92 [Loss: 1.63e+01]\n",
            "Batch 20, Epoch 93 [Loss: 1.63e+01]\n",
            "Batch 20, Epoch 94 [Loss: 1.63e+01]\n",
            "Batch 20, Epoch 95 [Loss: 1.63e+01]\n"
          ]
        },
        {
          "name": "stderr",
          "output_type": "stream",
          "text": [
            "\n",
            "Epochs: 100%|██████████| 100/100 [00:02<00:00, 37.80it/s]\u001b[A\n",
            "Batches:   1%|          | 21/2500 [00:33<1:14:48,  1.81s/it]"
          ]
        },
        {
          "name": "stdout",
          "output_type": "stream",
          "text": [
            "Batch 20, Epoch 96 [Loss: 1.63e+01]\n",
            "Batch 20, Epoch 97 [Loss: 1.63e+01]\n",
            "Batch 20, Epoch 98 [Loss: 1.63e+01]\n",
            "Batch 20, Epoch 99 [Loss: 1.63e+01]\n"
          ]
        },
        {
          "name": "stderr",
          "output_type": "stream",
          "text": [
            "\n",
            "Epochs:   0%|          | 0/100 [00:00<?, ?it/s]\u001b[A\n",
            "Epochs:   8%|▊         | 8/100 [00:00<00:01, 76.15it/s]\u001b[A\n",
            "Epochs:  16%|█▌        | 16/100 [00:00<00:01, 75.63it/s]\u001b[A\n",
            "Epochs:  24%|██▍       | 24/100 [00:00<00:01, 72.08it/s]\u001b[A\n",
            "Epochs:  32%|███▏      | 32/100 [00:00<00:00, 72.13it/s]\u001b[A\n",
            "Epochs:  40%|████      | 40/100 [00:00<00:00, 72.82it/s]\u001b[A\n",
            "Epochs:  48%|████▊     | 48/100 [00:00<00:00, 73.77it/s]\u001b[A\n",
            "Epochs:  56%|█████▌    | 56/100 [00:00<00:00, 74.65it/s]\u001b[A\n",
            "Epochs:  64%|██████▍   | 64/100 [00:00<00:00, 74.42it/s]\u001b[A\n",
            "Epochs:  72%|███████▏  | 72/100 [00:00<00:00, 74.84it/s]\u001b[A\n",
            "Epochs:  80%|████████  | 80/100 [00:01<00:00, 74.97it/s]\u001b[A\n",
            "Epochs:  88%|████████▊ | 88/100 [00:01<00:00, 75.41it/s]\u001b[A\n",
            "Epochs:  96%|█████████▌| 96/100 [00:01<00:00, 75.20it/s]\u001b[A\n",
            "Batches:   1%|          | 22/2500 [00:34<1:09:19,  1.68s/it]\n",
            "Epochs:   0%|          | 0/100 [00:00<?, ?it/s]\u001b[A\n",
            "Epochs:   8%|▊         | 8/100 [00:00<00:01, 71.95it/s]\u001b[A\n",
            "Epochs:  16%|█▌        | 16/100 [00:00<00:01, 69.70it/s]\u001b[A\n",
            "Epochs:  24%|██▍       | 24/100 [00:00<00:01, 70.75it/s]\u001b[A\n",
            "Epochs:  32%|███▏      | 32/100 [00:00<00:00, 70.69it/s]\u001b[A\n",
            "Epochs:  40%|████      | 40/100 [00:00<00:00, 72.13it/s]\u001b[A\n",
            "Epochs:  48%|████▊     | 48/100 [00:00<00:00, 73.42it/s]\u001b[A\n",
            "Epochs:  56%|█████▌    | 56/100 [00:00<00:00, 72.51it/s]\u001b[A\n",
            "Epochs:  64%|██████▍   | 64/100 [00:00<00:00, 73.39it/s]\u001b[A\n",
            "Epochs:  72%|███████▏  | 72/100 [00:00<00:00, 73.92it/s]\u001b[A\n",
            "Epochs:  80%|████████  | 80/100 [00:01<00:00, 73.99it/s]\u001b[A\n",
            "Epochs:  88%|████████▊ | 88/100 [00:01<00:00, 73.76it/s]\u001b[A\n",
            "Epochs:  96%|█████████▌| 96/100 [00:01<00:00, 72.97it/s]\u001b[A\n",
            "Batches:   1%|          | 23/2500 [00:36<1:05:50,  1.59s/it]\n",
            "Epochs:   0%|          | 0/100 [00:00<?, ?it/s]\u001b[A\n",
            "Epochs:   8%|▊         | 8/100 [00:00<00:01, 73.70it/s]\u001b[A\n",
            "Epochs:  16%|█▌        | 16/100 [00:00<00:01, 74.51it/s]\u001b[A\n",
            "Epochs:  24%|██▍       | 24/100 [00:00<00:01, 74.92it/s]\u001b[A\n",
            "Epochs:  32%|███▏      | 32/100 [00:00<00:00, 75.03it/s]\u001b[A\n",
            "Epochs:  40%|████      | 40/100 [00:00<00:00, 75.71it/s]\u001b[A\n",
            "Epochs:  48%|████▊     | 48/100 [00:00<00:00, 76.13it/s]\u001b[A\n",
            "Epochs:  56%|█████▌    | 56/100 [00:00<00:00, 75.74it/s]\u001b[A\n",
            "Epochs:  64%|██████▍   | 64/100 [00:00<00:00, 76.02it/s]\u001b[A\n",
            "Epochs:  72%|███████▏  | 72/100 [00:00<00:00, 75.74it/s]\u001b[A\n",
            "Epochs:  80%|████████  | 80/100 [00:01<00:00, 76.04it/s]\u001b[A\n",
            "Epochs:  88%|████████▊ | 88/100 [00:01<00:00, 76.13it/s]\u001b[A\n",
            "Epochs:  96%|█████████▌| 96/100 [00:01<00:00, 76.04it/s]\u001b[A\n",
            "Batches:   1%|          | 24/2500 [00:37<1:02:45,  1.52s/it]\n",
            "Epochs:   0%|          | 0/100 [00:00<?, ?it/s]\u001b[A\n",
            "Epochs:   8%|▊         | 8/100 [00:00<00:01, 79.81it/s]\u001b[A\n",
            "Epochs:  16%|█▌        | 16/100 [00:00<00:01, 77.32it/s]\u001b[A\n",
            "Epochs:  24%|██▍       | 24/100 [00:00<00:01, 75.37it/s]\u001b[A\n",
            "Epochs:  32%|███▏      | 32/100 [00:00<00:00, 75.63it/s]\u001b[A\n",
            "Epochs:  40%|████      | 40/100 [00:00<00:00, 76.38it/s]\u001b[A\n",
            "Epochs:  48%|████▊     | 48/100 [00:00<00:00, 75.94it/s]\u001b[A\n",
            "Epochs:  56%|█████▌    | 56/100 [00:00<00:00, 74.80it/s]\u001b[A\n",
            "Epochs:  64%|██████▍   | 64/100 [00:00<00:00, 74.57it/s]\u001b[A\n",
            "Epochs:  72%|███████▏  | 72/100 [00:00<00:00, 74.54it/s]\u001b[A\n",
            "Epochs:  80%|████████  | 80/100 [00:01<00:00, 74.53it/s]\u001b[A\n",
            "Epochs:  88%|████████▊ | 88/100 [00:01<00:00, 75.15it/s]\u001b[A\n",
            "Epochs:  96%|█████████▌| 96/100 [00:01<00:00, 75.51it/s]\u001b[A\n",
            "Batches:   1%|          | 25/2500 [00:38<1:00:35,  1.47s/it]\n",
            "Epochs:   0%|          | 0/100 [00:00<?, ?it/s]\u001b[A\n",
            "Epochs:   8%|▊         | 8/100 [00:00<00:01, 72.47it/s]\u001b[A"
          ]
        },
        {
          "name": "stdout",
          "output_type": "stream",
          "text": [
            "Batch 25, Epoch 0 [Loss: 1.82e+02]\n",
            "Batch 25, Epoch 1 [Loss: 1.82e+02]\n",
            "Batch 25, Epoch 2 [Loss: 1.82e+02]\n",
            "Batch 25, Epoch 3 [Loss: 1.82e+02]\n",
            "Batch 25, Epoch 4 [Loss: 1.82e+02]\n",
            "Batch 25, Epoch 5 [Loss: 1.82e+02]\n",
            "Batch 25, Epoch 6 [Loss: 1.82e+02]\n",
            "Batch 25, Epoch 7 [Loss: 1.82e+02]\n",
            "Batch 25, Epoch 8 [Loss: 1.82e+02]\n",
            "Batch 25, Epoch 9 [Loss: 1.82e+02]\n",
            "Batch 25, Epoch 10 [Loss: 1.82e+02]\n",
            "Batch 25, Epoch 11 [Loss: 1.82e+02]\n",
            "Batch 25, Epoch 12 [Loss: 1.82e+02]\n",
            "Batch 25, Epoch 13 [Loss: 1.82e+02]\n",
            "Batch 25, Epoch 14 [Loss: 1.82e+02]\n"
          ]
        },
        {
          "name": "stderr",
          "output_type": "stream",
          "text": [
            "\n",
            "Epochs:  16%|█▌        | 16/100 [00:00<00:01, 72.75it/s]\u001b[A\n",
            "Epochs:  24%|██▍       | 24/100 [00:00<00:01, 73.36it/s]\u001b[A"
          ]
        },
        {
          "name": "stdout",
          "output_type": "stream",
          "text": [
            "Batch 25, Epoch 15 [Loss: 1.82e+02]\n",
            "Batch 25, Epoch 16 [Loss: 1.82e+02]\n",
            "Batch 25, Epoch 17 [Loss: 1.82e+02]\n",
            "Batch 25, Epoch 18 [Loss: 1.82e+02]\n",
            "Batch 25, Epoch 19 [Loss: 1.82e+02]\n",
            "Batch 25, Epoch 20 [Loss: 1.82e+02]\n",
            "Batch 25, Epoch 21 [Loss: 1.82e+02]\n",
            "Batch 25, Epoch 22 [Loss: 1.82e+02]\n",
            "Batch 25, Epoch 23 [Loss: 1.82e+02]\n",
            "Batch 25, Epoch 24 [Loss: 1.82e+02]\n",
            "Batch 25, Epoch 25 [Loss: 1.82e+02]\n",
            "Batch 25, Epoch 26 [Loss: 1.82e+02]\n",
            "Batch 25, Epoch 27 [Loss: 1.82e+02]\n",
            "Batch 25, Epoch 28 [Loss: 1.82e+02]\n",
            "Batch 25, Epoch 29 [Loss: 1.82e+02]\n"
          ]
        },
        {
          "name": "stderr",
          "output_type": "stream",
          "text": [
            "\n",
            "Epochs:  32%|███▏      | 32/100 [00:00<00:00, 73.11it/s]\u001b[A\n",
            "Epochs:  40%|████      | 40/100 [00:00<00:00, 72.23it/s]\u001b[A"
          ]
        },
        {
          "name": "stdout",
          "output_type": "stream",
          "text": [
            "Batch 25, Epoch 30 [Loss: 1.82e+02]\n",
            "Batch 25, Epoch 31 [Loss: 1.82e+02]\n",
            "Batch 25, Epoch 32 [Loss: 1.82e+02]\n",
            "Batch 25, Epoch 33 [Loss: 1.82e+02]\n",
            "Batch 25, Epoch 34 [Loss: 1.82e+02]\n",
            "Batch 25, Epoch 35 [Loss: 1.82e+02]\n",
            "Batch 25, Epoch 36 [Loss: 1.82e+02]\n",
            "Batch 25, Epoch 37 [Loss: 1.82e+02]\n",
            "Batch 25, Epoch 38 [Loss: 1.82e+02]\n",
            "Batch 25, Epoch 39 [Loss: 1.82e+02]\n",
            "Batch 25, Epoch 40 [Loss: 1.82e+02]\n",
            "Batch 25, Epoch 41 [Loss: 1.82e+02]\n",
            "Batch 25, Epoch 42 [Loss: 1.82e+02]\n",
            "Batch 25, Epoch 43 [Loss: 1.82e+02]\n",
            "Batch 25, Epoch 44 [Loss: 1.82e+02]\n"
          ]
        },
        {
          "name": "stderr",
          "output_type": "stream",
          "text": [
            "\n",
            "Epochs:  48%|████▊     | 48/100 [00:00<00:00, 72.18it/s]\u001b[A\n",
            "Epochs:  56%|█████▌    | 56/100 [00:00<00:00, 72.65it/s]\u001b[A"
          ]
        },
        {
          "name": "stdout",
          "output_type": "stream",
          "text": [
            "Batch 25, Epoch 45 [Loss: 1.82e+02]\n",
            "Batch 25, Epoch 46 [Loss: 1.82e+02]\n",
            "Batch 25, Epoch 47 [Loss: 1.82e+02]\n",
            "Batch 25, Epoch 48 [Loss: 1.82e+02]\n",
            "Batch 25, Epoch 49 [Loss: 1.82e+02]\n",
            "Batch 25, Epoch 50 [Loss: 1.82e+02]\n",
            "Batch 25, Epoch 51 [Loss: 1.82e+02]\n",
            "Batch 25, Epoch 52 [Loss: 1.82e+02]\n",
            "Batch 25, Epoch 53 [Loss: 1.82e+02]\n",
            "Batch 25, Epoch 54 [Loss: 1.82e+02]\n",
            "Batch 25, Epoch 55 [Loss: 1.82e+02]\n",
            "Batch 25, Epoch 56 [Loss: 1.82e+02]\n",
            "Batch 25, Epoch 57 [Loss: 1.82e+02]\n",
            "Batch 25, Epoch 58 [Loss: 1.82e+02]\n",
            "Batch 25, Epoch 59 [Loss: 1.82e+02]\n"
          ]
        },
        {
          "name": "stderr",
          "output_type": "stream",
          "text": [
            "\n",
            "Epochs:  64%|██████▍   | 64/100 [00:00<00:00, 72.23it/s]\u001b[A\n",
            "Epochs:  72%|███████▏  | 72/100 [00:00<00:00, 72.40it/s]\u001b[A"
          ]
        },
        {
          "name": "stdout",
          "output_type": "stream",
          "text": [
            "Batch 25, Epoch 60 [Loss: 1.82e+02]\n",
            "Batch 25, Epoch 61 [Loss: 1.82e+02]\n",
            "Batch 25, Epoch 62 [Loss: 1.82e+02]\n",
            "Batch 25, Epoch 63 [Loss: 1.82e+02]\n",
            "Batch 25, Epoch 64 [Loss: 1.82e+02]\n",
            "Batch 25, Epoch 65 [Loss: 1.82e+02]\n",
            "Batch 25, Epoch 66 [Loss: 1.82e+02]\n",
            "Batch 25, Epoch 67 [Loss: 1.82e+02]\n",
            "Batch 25, Epoch 68 [Loss: 1.82e+02]\n",
            "Batch 25, Epoch 69 [Loss: 1.82e+02]\n",
            "Batch 25, Epoch 70 [Loss: 1.82e+02]\n",
            "Batch 25, Epoch 71 [Loss: 1.82e+02]\n",
            "Batch 25, Epoch 72 [Loss: 1.82e+02]\n",
            "Batch 25, Epoch 73 [Loss: 1.82e+02]\n",
            "Batch 25, Epoch 74 [Loss: 1.82e+02]\n"
          ]
        },
        {
          "name": "stderr",
          "output_type": "stream",
          "text": [
            "\n",
            "Epochs:  80%|████████  | 80/100 [00:01<00:00, 72.90it/s]\u001b[A\n",
            "Epochs:  88%|████████▊ | 88/100 [00:01<00:00, 73.65it/s]\u001b[A"
          ]
        },
        {
          "name": "stdout",
          "output_type": "stream",
          "text": [
            "Batch 25, Epoch 75 [Loss: 1.82e+02]\n",
            "Batch 25, Epoch 76 [Loss: 1.82e+02]\n",
            "Batch 25, Epoch 77 [Loss: 1.82e+02]\n",
            "Batch 25, Epoch 78 [Loss: 1.82e+02]\n",
            "Batch 25, Epoch 79 [Loss: 1.82e+02]\n",
            "Batch 25, Epoch 80 [Loss: 1.82e+02]\n",
            "Batch 25, Epoch 81 [Loss: 1.82e+02]\n",
            "Batch 25, Epoch 82 [Loss: 1.82e+02]\n",
            "Batch 25, Epoch 83 [Loss: 1.82e+02]\n",
            "Batch 25, Epoch 84 [Loss: 1.82e+02]\n",
            "Batch 25, Epoch 85 [Loss: 1.82e+02]\n",
            "Batch 25, Epoch 86 [Loss: 1.82e+02]\n",
            "Batch 25, Epoch 87 [Loss: 1.82e+02]\n",
            "Batch 25, Epoch 88 [Loss: 1.82e+02]\n",
            "Batch 25, Epoch 89 [Loss: 1.82e+02]\n"
          ]
        },
        {
          "name": "stderr",
          "output_type": "stream",
          "text": [
            "\n",
            "Epochs:  96%|█████████▌| 96/100 [00:01<00:00, 73.20it/s]\u001b[A\n",
            "Batches:   1%|          | 26/2500 [00:40<59:42,  1.45s/it]  "
          ]
        },
        {
          "name": "stdout",
          "output_type": "stream",
          "text": [
            "Batch 25, Epoch 90 [Loss: 1.82e+02]\n",
            "Batch 25, Epoch 91 [Loss: 1.82e+02]\n",
            "Batch 25, Epoch 92 [Loss: 1.82e+02]\n",
            "Batch 25, Epoch 93 [Loss: 1.82e+02]\n",
            "Batch 25, Epoch 94 [Loss: 1.82e+02]\n",
            "Batch 25, Epoch 95 [Loss: 1.82e+02]\n",
            "Batch 25, Epoch 96 [Loss: 1.82e+02]\n",
            "Batch 25, Epoch 97 [Loss: 1.82e+02]\n",
            "Batch 25, Epoch 98 [Loss: 1.82e+02]\n",
            "Batch 25, Epoch 99 [Loss: 1.82e+02]\n"
          ]
        },
        {
          "name": "stderr",
          "output_type": "stream",
          "text": [
            "\n",
            "Epochs:   0%|          | 0/100 [00:00<?, ?it/s]\u001b[A\n",
            "Epochs:   8%|▊         | 8/100 [00:00<00:01, 76.91it/s]\u001b[A\n",
            "Epochs:  16%|█▌        | 16/100 [00:00<00:01, 75.36it/s]\u001b[A\n",
            "Epochs:  24%|██▍       | 24/100 [00:00<00:00, 76.51it/s]\u001b[A\n",
            "Epochs:  32%|███▏      | 32/100 [00:00<00:00, 76.23it/s]\u001b[A\n",
            "Epochs:  40%|████      | 40/100 [00:00<00:00, 75.40it/s]\u001b[A\n",
            "Epochs:  48%|████▊     | 48/100 [00:00<00:00, 74.73it/s]\u001b[A\n",
            "Epochs:  56%|█████▌    | 56/100 [00:00<00:00, 74.62it/s]\u001b[A\n",
            "Epochs:  64%|██████▍   | 64/100 [00:00<00:00, 74.97it/s]\u001b[A\n",
            "Epochs:  72%|███████▏  | 72/100 [00:00<00:00, 74.97it/s]\u001b[A\n",
            "Epochs:  80%|████████  | 80/100 [00:01<00:00, 75.12it/s]\u001b[A\n",
            "Epochs:  88%|████████▊ | 88/100 [00:01<00:00, 75.12it/s]\u001b[A\n",
            "Epochs:  96%|█████████▌| 96/100 [00:01<00:00, 75.73it/s]\u001b[A\n",
            "Batches:   1%|          | 27/2500 [00:41<58:30,  1.42s/it]\n",
            "Epochs:   0%|          | 0/100 [00:00<?, ?it/s]\u001b[A\n",
            "Epochs:   8%|▊         | 8/100 [00:00<00:01, 78.41it/s]\u001b[A\n",
            "Epochs:  16%|█▌        | 16/100 [00:00<00:01, 76.76it/s]\u001b[A\n",
            "Epochs:  24%|██▍       | 24/100 [00:00<00:00, 76.36it/s]\u001b[A\n",
            "Epochs:  32%|███▏      | 32/100 [00:00<00:00, 76.00it/s]\u001b[A\n",
            "Epochs:  40%|████      | 40/100 [00:00<00:00, 76.49it/s]\u001b[A\n",
            "Epochs:  48%|████▊     | 48/100 [00:00<00:00, 76.62it/s]\u001b[A\n",
            "Epochs:  56%|█████▌    | 56/100 [00:00<00:00, 74.20it/s]\u001b[A\n",
            "Epochs:  64%|██████▍   | 64/100 [00:00<00:00, 74.21it/s]\u001b[A\n",
            "Epochs:  72%|███████▏  | 72/100 [00:00<00:00, 74.55it/s]\u001b[A\n",
            "Epochs:  80%|████████  | 80/100 [00:01<00:00, 74.81it/s]\u001b[A\n",
            "Epochs:  88%|████████▊ | 88/100 [00:01<00:00, 74.89it/s]\u001b[A\n",
            "Epochs:  96%|█████████▌| 96/100 [00:01<00:00, 75.17it/s]\u001b[A\n",
            "Batches:   1%|          | 28/2500 [00:42<57:37,  1.40s/it]\n",
            "Epochs:   0%|          | 0/100 [00:00<?, ?it/s]\u001b[A\n",
            "Epochs:   8%|▊         | 8/100 [00:00<00:01, 78.29it/s]\u001b[A\n",
            "Epochs:  16%|█▌        | 16/100 [00:00<00:01, 77.76it/s]\u001b[A\n",
            "Epochs:  24%|██▍       | 24/100 [00:00<00:00, 76.98it/s]\u001b[A\n",
            "Epochs:  32%|███▏      | 32/100 [00:00<00:00, 75.92it/s]\u001b[A\n",
            "Epochs:  40%|████      | 40/100 [00:00<00:00, 76.52it/s]\u001b[A\n",
            "Epochs:  48%|████▊     | 48/100 [00:00<00:00, 77.11it/s]\u001b[A\n",
            "Epochs:  56%|█████▌    | 56/100 [00:00<00:00, 77.07it/s]\u001b[A\n",
            "Epochs:  64%|██████▍   | 64/100 [00:00<00:00, 76.69it/s]\u001b[A\n",
            "Epochs:  72%|███████▏  | 72/100 [00:00<00:00, 77.11it/s]\u001b[A\n",
            "Epochs:  80%|████████  | 80/100 [00:01<00:00, 77.03it/s]\u001b[A\n",
            "Epochs:  88%|████████▊ | 88/100 [00:01<00:00, 76.99it/s]\u001b[A\n",
            "Epochs:  96%|█████████▌| 96/100 [00:01<00:00, 76.98it/s]\u001b[A\n",
            "Batches:   1%|          | 29/2500 [00:44<56:41,  1.38s/it]\n",
            "Epochs:   0%|          | 0/100 [00:00<?, ?it/s]\u001b[A\n",
            "Epochs:   8%|▊         | 8/100 [00:00<00:01, 78.04it/s]\u001b[A\n",
            "Epochs:  16%|█▌        | 16/100 [00:00<00:01, 76.09it/s]\u001b[A\n",
            "Epochs:  24%|██▍       | 24/100 [00:00<00:00, 76.30it/s]\u001b[A\n",
            "Epochs:  32%|███▏      | 32/100 [00:00<00:00, 76.29it/s]\u001b[A\n",
            "Epochs:  40%|████      | 40/100 [00:00<00:00, 75.50it/s]\u001b[A\n",
            "Epochs:  48%|████▊     | 48/100 [00:00<00:00, 75.39it/s]\u001b[A\n",
            "Epochs:  56%|█████▌    | 56/100 [00:00<00:00, 76.14it/s]\u001b[A\n",
            "Epochs:  64%|██████▍   | 64/100 [00:00<00:00, 76.74it/s]\u001b[A\n",
            "Epochs:  72%|███████▏  | 72/100 [00:00<00:00, 75.79it/s]\u001b[A\n",
            "Epochs:  80%|████████  | 80/100 [00:01<00:00, 75.29it/s]\u001b[A\n",
            "Epochs:  88%|████████▊ | 88/100 [00:01<00:00, 76.04it/s]\u001b[A\n",
            "Epochs:  96%|█████████▌| 96/100 [00:01<00:00, 76.39it/s]\u001b[A\n",
            "Batches:   1%|          | 30/2500 [00:45<56:10,  1.36s/it]\n",
            "Epochs:   0%|          | 0/100 [00:00<?, ?it/s]\u001b[A\n",
            "Epochs:   4%|▍         | 4/100 [00:00<00:02, 38.72it/s]\u001b[A\n",
            "Epochs:   8%|▊         | 8/100 [00:00<00:02, 37.63it/s]\u001b[A"
          ]
        },
        {
          "name": "stdout",
          "output_type": "stream",
          "text": [
            "Batch 30, Epoch 0 [Loss: 1.30e+01]\n",
            "Batch 30, Epoch 1 [Loss: 1.30e+01]\n",
            "Batch 30, Epoch 2 [Loss: 1.30e+01]\n",
            "Batch 30, Epoch 3 [Loss: 1.30e+01]\n",
            "Batch 30, Epoch 4 [Loss: 1.30e+01]\n",
            "Batch 30, Epoch 5 [Loss: 1.30e+01]\n",
            "Batch 30, Epoch 6 [Loss: 1.30e+01]\n",
            "Batch 30, Epoch 7 [Loss: 1.30e+01]\n"
          ]
        },
        {
          "name": "stderr",
          "output_type": "stream",
          "text": [
            "\n",
            "Epochs:  12%|█▏        | 12/100 [00:00<00:02, 37.68it/s]\u001b[A\n",
            "Epochs:  16%|█▌        | 16/100 [00:00<00:02, 38.18it/s]\u001b[A"
          ]
        },
        {
          "name": "stdout",
          "output_type": "stream",
          "text": [
            "Batch 30, Epoch 8 [Loss: 1.30e+01]\n",
            "Batch 30, Epoch 9 [Loss: 1.30e+01]\n",
            "Batch 30, Epoch 10 [Loss: 1.30e+01]\n",
            "Batch 30, Epoch 11 [Loss: 1.30e+01]\n",
            "Batch 30, Epoch 12 [Loss: 1.30e+01]\n",
            "Batch 30, Epoch 13 [Loss: 1.30e+01]\n",
            "Batch 30, Epoch 14 [Loss: 1.30e+01]\n",
            "Batch 30, Epoch 15 [Loss: 1.30e+01]\n"
          ]
        },
        {
          "name": "stderr",
          "output_type": "stream",
          "text": [
            "\n",
            "Epochs:  20%|██        | 20/100 [00:00<00:02, 38.24it/s]\u001b[A\n",
            "Epochs:  24%|██▍       | 24/100 [00:00<00:02, 37.99it/s]\u001b[A"
          ]
        },
        {
          "name": "stdout",
          "output_type": "stream",
          "text": [
            "Batch 30, Epoch 16 [Loss: 1.30e+01]\n",
            "Batch 30, Epoch 17 [Loss: 1.30e+01]\n",
            "Batch 30, Epoch 18 [Loss: 1.30e+01]\n",
            "Batch 30, Epoch 19 [Loss: 1.30e+01]\n",
            "Batch 30, Epoch 20 [Loss: 1.30e+01]\n",
            "Batch 30, Epoch 21 [Loss: 1.30e+01]\n",
            "Batch 30, Epoch 22 [Loss: 1.30e+01]\n",
            "Batch 30, Epoch 23 [Loss: 1.30e+01]\n"
          ]
        },
        {
          "name": "stderr",
          "output_type": "stream",
          "text": [
            "\n",
            "Epochs:  28%|██▊       | 28/100 [00:00<00:01, 37.05it/s]\u001b[A"
          ]
        },
        {
          "name": "stdout",
          "output_type": "stream",
          "text": [
            "Batch 30, Epoch 24 [Loss: 1.30e+01]\n",
            "Batch 30, Epoch 25 [Loss: 1.30e+01]\n",
            "Batch 30, Epoch 26 [Loss: 1.30e+01]\n",
            "Batch 30, Epoch 27 [Loss: 1.30e+01]\n",
            "Batch 30, Epoch 28 [Loss: 1.30e+01]\n",
            "Batch 30, Epoch 29 [Loss: 1.30e+01]\n",
            "Batch 30, Epoch 30 [Loss: 1.30e+01]\n",
            "Batch 30, Epoch 31 [Loss: 1.30e+01]\n"
          ]
        },
        {
          "name": "stderr",
          "output_type": "stream",
          "text": [
            "\n",
            "Epochs:  32%|███▏      | 32/100 [00:00<00:01, 36.49it/s]\u001b[A\n",
            "Epochs:  36%|███▌      | 36/100 [00:00<00:01, 36.50it/s]\u001b[A\n",
            "Epochs:  40%|████      | 40/100 [00:01<00:01, 36.56it/s]\u001b[A"
          ]
        },
        {
          "name": "stdout",
          "output_type": "stream",
          "text": [
            "Batch 30, Epoch 32 [Loss: 1.30e+01]\n",
            "Batch 30, Epoch 33 [Loss: 1.30e+01]\n",
            "Batch 30, Epoch 34 [Loss: 1.30e+01]\n",
            "Batch 30, Epoch 35 [Loss: 1.30e+01]\n",
            "Batch 30, Epoch 36 [Loss: 1.30e+01]\n",
            "Batch 30, Epoch 37 [Loss: 1.30e+01]\n",
            "Batch 30, Epoch 38 [Loss: 1.30e+01]\n",
            "Batch 30, Epoch 39 [Loss: 1.30e+01]\n"
          ]
        },
        {
          "name": "stderr",
          "output_type": "stream",
          "text": [
            "\n",
            "Epochs:  44%|████▍     | 44/100 [00:01<00:01, 36.41it/s]\u001b[A\n",
            "Epochs:  48%|████▊     | 48/100 [00:01<00:01, 36.69it/s]\u001b[A"
          ]
        },
        {
          "name": "stdout",
          "output_type": "stream",
          "text": [
            "Batch 30, Epoch 40 [Loss: 1.30e+01]\n",
            "Batch 30, Epoch 41 [Loss: 1.30e+01]\n",
            "Batch 30, Epoch 42 [Loss: 1.30e+01]\n",
            "Batch 30, Epoch 43 [Loss: 1.30e+01]\n",
            "Batch 30, Epoch 44 [Loss: 1.30e+01]\n",
            "Batch 30, Epoch 45 [Loss: 1.30e+01]\n",
            "Batch 30, Epoch 46 [Loss: 1.30e+01]\n",
            "Batch 30, Epoch 47 [Loss: 1.30e+01]\n"
          ]
        },
        {
          "name": "stderr",
          "output_type": "stream",
          "text": [
            "\n",
            "Epochs:  52%|█████▏    | 52/100 [00:01<00:01, 37.33it/s]\u001b[A\n",
            "Epochs:  56%|█████▌    | 56/100 [00:01<00:01, 37.40it/s]\u001b[A"
          ]
        },
        {
          "name": "stdout",
          "output_type": "stream",
          "text": [
            "Batch 30, Epoch 48 [Loss: 1.30e+01]\n",
            "Batch 30, Epoch 49 [Loss: 1.30e+01]\n",
            "Batch 30, Epoch 50 [Loss: 1.30e+01]\n",
            "Batch 30, Epoch 51 [Loss: 1.30e+01]\n",
            "Batch 30, Epoch 52 [Loss: 1.30e+01]\n",
            "Batch 30, Epoch 53 [Loss: 1.30e+01]\n",
            "Batch 30, Epoch 54 [Loss: 1.30e+01]\n",
            "Batch 30, Epoch 55 [Loss: 1.30e+01]\n"
          ]
        },
        {
          "name": "stderr",
          "output_type": "stream",
          "text": [
            "\n",
            "Epochs:  60%|██████    | 60/100 [00:01<00:01, 36.00it/s]\u001b[A"
          ]
        },
        {
          "name": "stdout",
          "output_type": "stream",
          "text": [
            "Batch 30, Epoch 56 [Loss: 1.30e+01]\n",
            "Batch 30, Epoch 57 [Loss: 1.30e+01]\n",
            "Batch 30, Epoch 58 [Loss: 1.30e+01]\n",
            "Batch 30, Epoch 59 [Loss: 1.30e+01]\n",
            "Batch 30, Epoch 60 [Loss: 1.30e+01]\n",
            "Batch 30, Epoch 61 [Loss: 1.30e+01]\n",
            "Batch 30, Epoch 62 [Loss: 1.30e+01]\n",
            "Batch 30, Epoch 63 [Loss: 1.30e+01]\n"
          ]
        },
        {
          "name": "stderr",
          "output_type": "stream",
          "text": [
            "\n",
            "Epochs:  64%|██████▍   | 64/100 [00:01<00:01, 35.94it/s]\u001b[A\n",
            "Epochs:  68%|██████▊   | 68/100 [00:01<00:00, 35.67it/s]\u001b[A"
          ]
        },
        {
          "name": "stdout",
          "output_type": "stream",
          "text": [
            "Batch 30, Epoch 64 [Loss: 1.30e+01]\n",
            "Batch 30, Epoch 65 [Loss: 1.30e+01]\n",
            "Batch 30, Epoch 66 [Loss: 1.30e+01]\n",
            "Batch 30, Epoch 67 [Loss: 1.30e+01]\n",
            "Batch 30, Epoch 68 [Loss: 1.30e+01]\n",
            "Batch 30, Epoch 69 [Loss: 1.30e+01]\n",
            "Batch 30, Epoch 70 [Loss: 1.30e+01]\n",
            "Batch 30, Epoch 71 [Loss: 1.30e+01]\n"
          ]
        },
        {
          "name": "stderr",
          "output_type": "stream",
          "text": [
            "\n",
            "Epochs:  72%|███████▏  | 72/100 [00:01<00:00, 35.73it/s]\u001b[A\n",
            "Epochs:  76%|███████▌  | 76/100 [00:02<00:00, 36.01it/s]\u001b[A"
          ]
        },
        {
          "name": "stdout",
          "output_type": "stream",
          "text": [
            "Batch 30, Epoch 72 [Loss: 1.30e+01]\n",
            "Batch 30, Epoch 73 [Loss: 1.30e+01]\n",
            "Batch 30, Epoch 74 [Loss: 1.30e+01]\n",
            "Batch 30, Epoch 75 [Loss: 1.30e+01]\n",
            "Batch 30, Epoch 76 [Loss: 1.30e+01]\n",
            "Batch 30, Epoch 77 [Loss: 1.30e+01]\n",
            "Batch 30, Epoch 78 [Loss: 1.30e+01]\n",
            "Batch 30, Epoch 79 [Loss: 1.30e+01]\n"
          ]
        },
        {
          "name": "stderr",
          "output_type": "stream",
          "text": [
            "\n",
            "Epochs:  80%|████████  | 80/100 [00:02<00:00, 35.50it/s]\u001b[A\n",
            "Epochs:  84%|████████▍ | 84/100 [00:02<00:00, 35.76it/s]\u001b[A\n",
            "Epochs:  88%|████████▊ | 88/100 [00:02<00:00, 36.29it/s]\u001b[A"
          ]
        },
        {
          "name": "stdout",
          "output_type": "stream",
          "text": [
            "Batch 30, Epoch 80 [Loss: 1.30e+01]\n",
            "Batch 30, Epoch 81 [Loss: 1.30e+01]\n",
            "Batch 30, Epoch 82 [Loss: 1.30e+01]\n",
            "Batch 30, Epoch 83 [Loss: 1.30e+01]\n",
            "Batch 30, Epoch 84 [Loss: 1.30e+01]\n",
            "Batch 30, Epoch 85 [Loss: 1.30e+01]\n",
            "Batch 30, Epoch 86 [Loss: 1.30e+01]\n",
            "Batch 30, Epoch 87 [Loss: 1.30e+01]\n"
          ]
        },
        {
          "name": "stderr",
          "output_type": "stream",
          "text": [
            "\n",
            "Epochs:  92%|█████████▏| 92/100 [00:02<00:00, 36.69it/s]\u001b[A\n",
            "Epochs:  96%|█████████▌| 96/100 [00:02<00:00, 37.28it/s]\u001b[A"
          ]
        },
        {
          "name": "stdout",
          "output_type": "stream",
          "text": [
            "Batch 30, Epoch 88 [Loss: 1.30e+01]\n",
            "Batch 30, Epoch 89 [Loss: 1.30e+01]\n",
            "Batch 30, Epoch 90 [Loss: 1.30e+01]\n",
            "Batch 30, Epoch 91 [Loss: 1.30e+01]\n",
            "Batch 30, Epoch 92 [Loss: 1.30e+01]\n",
            "Batch 30, Epoch 93 [Loss: 1.30e+01]\n",
            "Batch 30, Epoch 94 [Loss: 1.30e+01]\n",
            "Batch 30, Epoch 95 [Loss: 1.30e+01]\n"
          ]
        },
        {
          "name": "stderr",
          "output_type": "stream",
          "text": [
            "\n",
            "Epochs: 100%|██████████| 100/100 [00:02<00:00, 36.67it/s]\u001b[A\n",
            "Batches:   1%|          | 31/2500 [00:48<1:13:15,  1.78s/it]"
          ]
        },
        {
          "name": "stdout",
          "output_type": "stream",
          "text": [
            "Batch 30, Epoch 96 [Loss: 1.30e+01]\n",
            "Batch 30, Epoch 97 [Loss: 1.30e+01]\n",
            "Batch 30, Epoch 98 [Loss: 1.30e+01]\n",
            "Batch 30, Epoch 99 [Loss: 1.30e+01]\n"
          ]
        },
        {
          "name": "stderr",
          "output_type": "stream",
          "text": [
            "\n",
            "Epochs:   0%|          | 0/100 [00:00<?, ?it/s]\u001b[A\n",
            "Epochs:   8%|▊         | 8/100 [00:00<00:01, 78.49it/s]\u001b[A\n",
            "Epochs:  16%|█▌        | 16/100 [00:00<00:01, 76.98it/s]\u001b[A\n",
            "Epochs:  24%|██▍       | 24/100 [00:00<00:00, 76.35it/s]\u001b[A\n",
            "Epochs:  32%|███▏      | 32/100 [00:00<00:00, 75.77it/s]\u001b[A\n",
            "Epochs:  40%|████      | 40/100 [00:00<00:00, 74.49it/s]\u001b[A\n",
            "Epochs:  48%|████▊     | 48/100 [00:00<00:00, 75.21it/s]\u001b[A\n",
            "Epochs:  56%|█████▌    | 56/100 [00:00<00:00, 74.70it/s]\u001b[A\n",
            "Epochs:  64%|██████▍   | 64/100 [00:00<00:00, 74.38it/s]\u001b[A\n",
            "Epochs:  72%|███████▏  | 72/100 [00:00<00:00, 74.65it/s]\u001b[A\n",
            "Epochs:  80%|████████  | 80/100 [00:01<00:00, 75.16it/s]\u001b[A\n",
            "Epochs:  88%|████████▊ | 88/100 [00:01<00:00, 75.85it/s]\u001b[A\n",
            "Epochs:  96%|█████████▌| 96/100 [00:01<00:00, 76.58it/s]\u001b[A\n",
            "Batches:   1%|▏         | 32/2500 [00:49<1:07:54,  1.65s/it]\n",
            "Epochs:   0%|          | 0/100 [00:00<?, ?it/s]\u001b[A\n",
            "Epochs:   8%|▊         | 8/100 [00:00<00:01, 77.20it/s]\u001b[A\n",
            "Epochs:  16%|█▌        | 16/100 [00:00<00:01, 76.06it/s]\u001b[A\n",
            "Epochs:  24%|██▍       | 24/100 [00:00<00:00, 76.38it/s]\u001b[A\n",
            "Epochs:  32%|███▏      | 32/100 [00:00<00:00, 76.80it/s]\u001b[A\n",
            "Epochs:  40%|████      | 40/100 [00:00<00:00, 75.40it/s]\u001b[A\n",
            "Epochs:  48%|████▊     | 48/100 [00:00<00:00, 75.87it/s]\u001b[A\n",
            "Epochs:  56%|█████▌    | 56/100 [00:00<00:00, 76.20it/s]\u001b[A\n",
            "Epochs:  64%|██████▍   | 64/100 [00:00<00:00, 76.59it/s]\u001b[A\n",
            "Epochs:  72%|███████▏  | 72/100 [00:00<00:00, 74.85it/s]\u001b[A\n",
            "Epochs:  80%|████████  | 80/100 [00:01<00:00, 75.09it/s]\u001b[A\n",
            "Epochs:  88%|████████▊ | 88/100 [00:01<00:00, 75.82it/s]\u001b[A\n",
            "Epochs:  96%|█████████▌| 96/100 [00:01<00:00, 76.18it/s]\u001b[A\n",
            "Batches:   1%|▏         | 33/2500 [00:51<1:04:02,  1.56s/it]\n",
            "Epochs:   0%|          | 0/100 [00:00<?, ?it/s]\u001b[A\n",
            "Epochs:   8%|▊         | 8/100 [00:00<00:01, 79.90it/s]\u001b[A\n",
            "Epochs:  16%|█▌        | 16/100 [00:00<00:01, 72.70it/s]\u001b[A\n",
            "Epochs:  24%|██▍       | 24/100 [00:00<00:01, 73.66it/s]\u001b[A\n",
            "Epochs:  32%|███▏      | 32/100 [00:00<00:00, 74.33it/s]\u001b[A\n",
            "Epochs:  40%|████      | 40/100 [00:00<00:00, 75.10it/s]\u001b[A\n",
            "Epochs:  48%|████▊     | 48/100 [00:00<00:00, 74.82it/s]\u001b[A\n",
            "Epochs:  56%|█████▌    | 56/100 [00:00<00:00, 74.20it/s]\u001b[A\n",
            "Epochs:  64%|██████▍   | 64/100 [00:00<00:00, 75.11it/s]\u001b[A\n",
            "Epochs:  72%|███████▏  | 72/100 [00:00<00:00, 74.78it/s]\u001b[A\n",
            "Epochs:  80%|████████  | 80/100 [00:01<00:00, 73.20it/s]\u001b[A\n",
            "Epochs:  88%|████████▊ | 88/100 [00:01<00:00, 72.59it/s]\u001b[A\n",
            "Epochs:  96%|█████████▌| 96/100 [00:01<00:00, 73.29it/s]\u001b[A\n",
            "Batches:   1%|▏         | 34/2500 [00:52<1:01:47,  1.50s/it]\n",
            "Epochs:   0%|          | 0/100 [00:00<?, ?it/s]\u001b[A\n",
            "Epochs:   8%|▊         | 8/100 [00:00<00:01, 76.82it/s]\u001b[A\n",
            "Epochs:  16%|█▌        | 16/100 [00:00<00:01, 75.63it/s]\u001b[A\n",
            "Epochs:  24%|██▍       | 24/100 [00:00<00:01, 73.66it/s]\u001b[A\n",
            "Epochs:  32%|███▏      | 32/100 [00:00<00:00, 73.55it/s]\u001b[A\n",
            "Epochs:  40%|████      | 40/100 [00:00<00:00, 73.37it/s]\u001b[A\n",
            "Epochs:  48%|████▊     | 48/100 [00:00<00:00, 73.76it/s]\u001b[A\n",
            "Epochs:  56%|█████▌    | 56/100 [00:00<00:00, 73.66it/s]\u001b[A\n",
            "Epochs:  64%|██████▍   | 64/100 [00:00<00:00, 73.24it/s]\u001b[A\n",
            "Epochs:  72%|███████▏  | 72/100 [00:00<00:00, 74.39it/s]\u001b[A\n",
            "Epochs:  80%|████████  | 80/100 [00:01<00:00, 74.60it/s]\u001b[A\n",
            "Epochs:  88%|████████▊ | 88/100 [00:01<00:00, 74.66it/s]\u001b[A\n",
            "Epochs:  96%|█████████▌| 96/100 [00:01<00:00, 74.04it/s]\u001b[A\n",
            "Batches:   1%|▏         | 35/2500 [00:53<1:00:11,  1.46s/it]\n",
            "Epochs:   0%|          | 0/100 [00:00<?, ?it/s]\u001b[A\n",
            "Epochs:   8%|▊         | 8/100 [00:00<00:01, 74.12it/s]\u001b[A\n",
            "Epochs:  16%|█▌        | 16/100 [00:00<00:01, 74.04it/s]"
          ]
        },
        {
          "name": "stdout",
          "output_type": "stream",
          "text": [
            "Batch 35, Epoch 0 [Loss: 1.24e+01]\n",
            "Batch 35, Epoch 1 [Loss: 1.24e+01]\n",
            "Batch 35, Epoch 2 [Loss: 1.24e+01]\n",
            "Batch 35, Epoch 3 [Loss: 1.24e+01]\n",
            "Batch 35, Epoch 4 [Loss: 1.24e+01]\n",
            "Batch 35, Epoch 5 [Loss: 1.24e+01]\n",
            "Batch 35, Epoch 6 [Loss: 1.24e+01]\n",
            "Batch 35, Epoch 7 [Loss: 1.24e+01]\n",
            "Batch 35, Epoch 8 [Loss: 1.24e+01]\n",
            "Batch 35, Epoch 9 [Loss: 1.24e+01]\n",
            "Batch 35, Epoch 10 [Loss: 1.24e+01]\n",
            "Batch 35, Epoch 11 [Loss: 1.24e+01]\n",
            "Batch 35, Epoch 12 [Loss: 1.24e+01]\n",
            "Batch 35, Epoch 13 [Loss: 1.24e+01]\n",
            "Batch 35, Epoch 14 [Loss: 1.24e+01]\n",
            "Batch 35, Epoch 15 [Loss: 1.24e+01]\n"
          ]
        },
        {
          "name": "stderr",
          "output_type": "stream",
          "text": [
            "\u001b[A\n",
            "Epochs:  24%|██▍       | 24/100 [00:00<00:01, 73.20it/s]\u001b[A"
          ]
        },
        {
          "name": "stdout",
          "output_type": "stream",
          "text": [
            "Batch 35, Epoch 16 [Loss: 1.24e+01]\n",
            "Batch 35, Epoch 17 [Loss: 1.24e+01]\n",
            "Batch 35, Epoch 18 [Loss: 1.24e+01]\n",
            "Batch 35, Epoch 19 [Loss: 1.24e+01]\n",
            "Batch 35, Epoch 20 [Loss: 1.24e+01]\n",
            "Batch 35, Epoch 21 [Loss: 1.24e+01]\n",
            "Batch 35, Epoch 22 [Loss: 1.24e+01]\n",
            "Batch 35, Epoch 23 [Loss: 1.24e+01]\n",
            "Batch 35, Epoch 24 [Loss: 1.24e+01]\n",
            "Batch 35, Epoch 25 [Loss: 1.24e+01]\n",
            "Batch 35, Epoch 26 [Loss: 1.24e+01]\n",
            "Batch 35, Epoch 27 [Loss: 1.24e+01]\n",
            "Batch 35, Epoch 28 [Loss: 1.24e+01]\n",
            "Batch 35, Epoch 29 [Loss: 1.24e+01]\n",
            "Batch 35, Epoch 30 [Loss: 1.24e+01]\n"
          ]
        },
        {
          "name": "stderr",
          "output_type": "stream",
          "text": [
            "\n",
            "Epochs:  32%|███▏      | 32/100 [00:00<00:00, 72.68it/s]\u001b[A\n",
            "Epochs:  40%|████      | 40/100 [00:00<00:00, 72.50it/s]\u001b[A"
          ]
        },
        {
          "name": "stdout",
          "output_type": "stream",
          "text": [
            "Batch 35, Epoch 31 [Loss: 1.24e+01]\n",
            "Batch 35, Epoch 32 [Loss: 1.24e+01]\n",
            "Batch 35, Epoch 33 [Loss: 1.24e+01]\n",
            "Batch 35, Epoch 34 [Loss: 1.24e+01]\n",
            "Batch 35, Epoch 35 [Loss: 1.24e+01]\n",
            "Batch 35, Epoch 36 [Loss: 1.24e+01]\n",
            "Batch 35, Epoch 37 [Loss: 1.24e+01]\n",
            "Batch 35, Epoch 38 [Loss: 1.24e+01]\n",
            "Batch 35, Epoch 39 [Loss: 1.24e+01]\n",
            "Batch 35, Epoch 40 [Loss: 1.24e+01]\n",
            "Batch 35, Epoch 41 [Loss: 1.24e+01]\n",
            "Batch 35, Epoch 42 [Loss: 1.24e+01]\n",
            "Batch 35, Epoch 43 [Loss: 1.24e+01]\n",
            "Batch 35, Epoch 44 [Loss: 1.24e+01]\n",
            "Batch 35, Epoch 45 [Loss: 1.24e+01]\n"
          ]
        },
        {
          "name": "stderr",
          "output_type": "stream",
          "text": [
            "\n",
            "Epochs:  48%|████▊     | 48/100 [00:00<00:00, 71.93it/s]\u001b[A\n",
            "Epochs:  56%|█████▌    | 56/100 [00:00<00:00, 71.95it/s]\u001b[A"
          ]
        },
        {
          "name": "stdout",
          "output_type": "stream",
          "text": [
            "Batch 35, Epoch 46 [Loss: 1.24e+01]\n",
            "Batch 35, Epoch 47 [Loss: 1.24e+01]\n",
            "Batch 35, Epoch 48 [Loss: 1.24e+01]\n",
            "Batch 35, Epoch 49 [Loss: 1.24e+01]\n",
            "Batch 35, Epoch 50 [Loss: 1.24e+01]\n",
            "Batch 35, Epoch 51 [Loss: 1.24e+01]\n",
            "Batch 35, Epoch 52 [Loss: 1.24e+01]\n",
            "Batch 35, Epoch 53 [Loss: 1.24e+01]\n",
            "Batch 35, Epoch 54 [Loss: 1.24e+01]\n",
            "Batch 35, Epoch 55 [Loss: 1.24e+01]\n",
            "Batch 35, Epoch 56 [Loss: 1.24e+01]\n",
            "Batch 35, Epoch 57 [Loss: 1.24e+01]\n",
            "Batch 35, Epoch 58 [Loss: 1.24e+01]\n",
            "Batch 35, Epoch 59 [Loss: 1.24e+01]\n",
            "Batch 35, Epoch 60 [Loss: 1.24e+01]\n"
          ]
        },
        {
          "name": "stderr",
          "output_type": "stream",
          "text": [
            "\n",
            "Epochs:  64%|██████▍   | 64/100 [00:00<00:00, 71.88it/s]\u001b[A\n",
            "Epochs:  72%|███████▏  | 72/100 [00:00<00:00, 72.65it/s]\u001b[A"
          ]
        },
        {
          "name": "stdout",
          "output_type": "stream",
          "text": [
            "Batch 35, Epoch 61 [Loss: 1.24e+01]\n",
            "Batch 35, Epoch 62 [Loss: 1.24e+01]\n",
            "Batch 35, Epoch 63 [Loss: 1.24e+01]\n",
            "Batch 35, Epoch 64 [Loss: 1.24e+01]\n",
            "Batch 35, Epoch 65 [Loss: 1.24e+01]\n",
            "Batch 35, Epoch 66 [Loss: 1.24e+01]\n",
            "Batch 35, Epoch 67 [Loss: 1.24e+01]\n",
            "Batch 35, Epoch 68 [Loss: 1.24e+01]\n",
            "Batch 35, Epoch 69 [Loss: 1.24e+01]\n",
            "Batch 35, Epoch 70 [Loss: 1.24e+01]\n",
            "Batch 35, Epoch 71 [Loss: 1.24e+01]\n",
            "Batch 35, Epoch 72 [Loss: 1.24e+01]\n",
            "Batch 35, Epoch 73 [Loss: 1.24e+01]\n",
            "Batch 35, Epoch 74 [Loss: 1.24e+01]\n",
            "Batch 35, Epoch 75 [Loss: 1.24e+01]\n"
          ]
        },
        {
          "name": "stderr",
          "output_type": "stream",
          "text": [
            "\n",
            "Epochs:  80%|████████  | 80/100 [00:01<00:00, 73.07it/s]\u001b[A\n",
            "Epochs:  88%|████████▊ | 88/100 [00:01<00:00, 72.70it/s]\u001b[A"
          ]
        },
        {
          "name": "stdout",
          "output_type": "stream",
          "text": [
            "Batch 35, Epoch 76 [Loss: 1.24e+01]\n",
            "Batch 35, Epoch 77 [Loss: 1.24e+01]\n",
            "Batch 35, Epoch 78 [Loss: 1.24e+01]\n",
            "Batch 35, Epoch 79 [Loss: 1.24e+01]\n",
            "Batch 35, Epoch 80 [Loss: 1.24e+01]\n",
            "Batch 35, Epoch 81 [Loss: 1.24e+01]\n",
            "Batch 35, Epoch 82 [Loss: 1.24e+01]\n",
            "Batch 35, Epoch 83 [Loss: 1.24e+01]\n",
            "Batch 35, Epoch 84 [Loss: 1.24e+01]\n",
            "Batch 35, Epoch 85 [Loss: 1.24e+01]\n",
            "Batch 35, Epoch 86 [Loss: 1.24e+01]\n",
            "Batch 35, Epoch 87 [Loss: 1.24e+01]\n",
            "Batch 35, Epoch 88 [Loss: 1.24e+01]\n",
            "Batch 35, Epoch 89 [Loss: 1.24e+01]\n",
            "Batch 35, Epoch 90 [Loss: 1.24e+01]\n"
          ]
        },
        {
          "name": "stderr",
          "output_type": "stream",
          "text": [
            "\n",
            "Epochs:  96%|█████████▌| 96/100 [00:01<00:00, 72.79it/s]\u001b[A\n",
            "Batches:   1%|▏         | 36/2500 [00:55<59:19,  1.44s/it]  "
          ]
        },
        {
          "name": "stdout",
          "output_type": "stream",
          "text": [
            "Batch 35, Epoch 91 [Loss: 1.24e+01]\n",
            "Batch 35, Epoch 92 [Loss: 1.24e+01]\n",
            "Batch 35, Epoch 93 [Loss: 1.24e+01]\n",
            "Batch 35, Epoch 94 [Loss: 1.24e+01]\n",
            "Batch 35, Epoch 95 [Loss: 1.24e+01]\n",
            "Batch 35, Epoch 96 [Loss: 1.24e+01]\n",
            "Batch 35, Epoch 97 [Loss: 1.24e+01]\n",
            "Batch 35, Epoch 98 [Loss: 1.24e+01]\n",
            "Batch 35, Epoch 99 [Loss: 1.24e+01]\n"
          ]
        },
        {
          "name": "stderr",
          "output_type": "stream",
          "text": [
            "\n",
            "Epochs:   0%|          | 0/100 [00:00<?, ?it/s]\u001b[A\n",
            "Epochs:   8%|▊         | 8/100 [00:00<00:01, 75.42it/s]\u001b[A\n",
            "Epochs:  16%|█▌        | 16/100 [00:00<00:01, 71.27it/s]\u001b[A\n",
            "Epochs:  24%|██▍       | 24/100 [00:00<00:01, 73.39it/s]\u001b[A\n",
            "Epochs:  32%|███▏      | 32/100 [00:00<00:00, 72.98it/s]\u001b[A\n",
            "Epochs:  40%|████      | 40/100 [00:00<00:00, 71.51it/s]\u001b[A\n",
            "Epochs:  48%|████▊     | 48/100 [00:00<00:00, 72.86it/s]\u001b[A\n",
            "Epochs:  56%|█████▌    | 56/100 [00:00<00:00, 73.92it/s]\u001b[A\n",
            "Epochs:  64%|██████▍   | 64/100 [00:00<00:00, 74.66it/s]\u001b[A\n",
            "Epochs:  72%|███████▏  | 72/100 [00:00<00:00, 75.00it/s]\u001b[A\n",
            "Epochs:  80%|████████  | 80/100 [00:01<00:00, 75.04it/s]\u001b[A\n",
            "Epochs:  88%|████████▊ | 88/100 [00:01<00:00, 75.67it/s]\u001b[A\n",
            "Epochs:  96%|█████████▌| 96/100 [00:01<00:00, 75.54it/s]\u001b[A\n",
            "Batches:   1%|▏         | 37/2500 [00:56<58:21,  1.42s/it]\n",
            "Epochs:   0%|          | 0/100 [00:00<?, ?it/s]\u001b[A\n",
            "Epochs:   8%|▊         | 8/100 [00:00<00:01, 77.48it/s]\u001b[A\n",
            "Epochs:  16%|█▌        | 16/100 [00:00<00:01, 74.81it/s]\u001b[A\n",
            "Epochs:  24%|██▍       | 24/100 [00:00<00:01, 75.37it/s]\u001b[A\n",
            "Epochs:  32%|███▏      | 32/100 [00:00<00:00, 75.89it/s]\u001b[A\n",
            "Epochs:  40%|████      | 40/100 [00:00<00:00, 76.32it/s]\u001b[A\n",
            "Epochs:  48%|████▊     | 48/100 [00:00<00:00, 76.80it/s]\u001b[A\n",
            "Epochs:  56%|█████▌    | 56/100 [00:00<00:00, 76.65it/s]\u001b[A\n",
            "Epochs:  64%|██████▍   | 64/100 [00:00<00:00, 75.68it/s]\u001b[A\n",
            "Epochs:  72%|███████▏  | 72/100 [00:00<00:00, 75.40it/s]\u001b[A\n",
            "Epochs:  80%|████████  | 80/100 [00:01<00:00, 75.91it/s]\u001b[A\n",
            "Epochs:  88%|████████▊ | 88/100 [00:01<00:00, 76.22it/s]\u001b[A\n",
            "Epochs:  96%|█████████▌| 96/100 [00:01<00:00, 76.47it/s]\u001b[A\n",
            "Batches:   2%|▏         | 38/2500 [00:57<57:21,  1.40s/it]\n",
            "Epochs:   0%|          | 0/100 [00:00<?, ?it/s]\u001b[A\n",
            "Epochs:   8%|▊         | 8/100 [00:00<00:01, 73.20it/s]\u001b[A\n",
            "Epochs:  16%|█▌        | 16/100 [00:00<00:01, 74.08it/s]\u001b[A\n",
            "Epochs:  24%|██▍       | 24/100 [00:00<00:01, 74.59it/s]\u001b[A\n",
            "Epochs:  32%|███▏      | 32/100 [00:00<00:00, 74.95it/s]\u001b[A\n",
            "Epochs:  40%|████      | 40/100 [00:00<00:00, 75.27it/s]\u001b[A\n",
            "Epochs:  48%|████▊     | 48/100 [00:00<00:00, 75.82it/s]\u001b[A\n",
            "Epochs:  56%|█████▌    | 56/100 [00:00<00:00, 76.21it/s]\u001b[A\n",
            "Epochs:  64%|██████▍   | 64/100 [00:00<00:00, 75.48it/s]\u001b[A\n",
            "Epochs:  72%|███████▏  | 72/100 [00:00<00:00, 75.58it/s]\u001b[A\n",
            "Epochs:  80%|████████  | 80/100 [00:01<00:00, 74.88it/s]\u001b[A\n",
            "Epochs:  88%|████████▊ | 88/100 [00:01<00:00, 74.86it/s]\u001b[A\n",
            "Epochs:  96%|█████████▌| 96/100 [00:01<00:00, 75.48it/s]\u001b[A\n",
            "Batches:   2%|▏         | 39/2500 [00:59<56:57,  1.39s/it]\n",
            "Epochs:   0%|          | 0/100 [00:00<?, ?it/s]\u001b[A\n",
            "Epochs:   8%|▊         | 8/100 [00:00<00:01, 71.81it/s]\u001b[A\n",
            "Epochs:  16%|█▌        | 16/100 [00:00<00:01, 65.04it/s]\u001b[A\n",
            "Epochs:  23%|██▎       | 23/100 [00:00<00:01, 62.83it/s]\u001b[A\n",
            "Epochs:  31%|███       | 31/100 [00:00<00:01, 66.35it/s]\u001b[A\n",
            "Epochs:  39%|███▉      | 39/100 [00:00<00:00, 69.93it/s]\u001b[A\n",
            "Epochs:  47%|████▋     | 47/100 [00:00<00:00, 72.09it/s]\u001b[A\n",
            "Epochs:  55%|█████▌    | 55/100 [00:00<00:00, 73.61it/s]\u001b[A\n",
            "Epochs:  63%|██████▎   | 63/100 [00:00<00:00, 74.54it/s]\u001b[A\n",
            "Epochs:  71%|███████   | 71/100 [00:00<00:00, 74.75it/s]\u001b[A\n",
            "Epochs:  79%|███████▉  | 79/100 [00:01<00:00, 73.25it/s]\u001b[A\n",
            "Epochs:  87%|████████▋ | 87/100 [00:01<00:00, 74.42it/s]\u001b[A\n",
            "Epochs:  95%|█████████▌| 95/100 [00:01<00:00, 74.85it/s]\u001b[A\n",
            "Batches:   2%|▏         | 40/2500 [01:00<57:08,  1.39s/it]\n",
            "Epochs:   0%|          | 0/100 [00:00<?, ?it/s]\u001b[A\n",
            "Epochs:   3%|▎         | 3/100 [00:00<00:04, 20.34it/s]\u001b[A"
          ]
        },
        {
          "name": "stdout",
          "output_type": "stream",
          "text": [
            "Batch 40, Epoch 0 [Loss: 7.06e+01]\n",
            "Batch 40, Epoch 1 [Loss: 7.06e+01]\n",
            "Batch 40, Epoch 2 [Loss: 7.06e+01]\n",
            "Batch 40, Epoch 3 [Loss: 7.06e+01]\n",
            "Batch 40, Epoch 4 [Loss: 7.06e+01]\n"
          ]
        },
        {
          "name": "stderr",
          "output_type": "stream",
          "text": [
            "\n",
            "Epochs:   7%|▋         | 7/100 [00:00<00:03, 28.61it/s]\u001b[A\n",
            "Epochs:  11%|█         | 11/100 [00:00<00:02, 32.90it/s]\u001b[A"
          ]
        },
        {
          "name": "stdout",
          "output_type": "stream",
          "text": [
            "Batch 40, Epoch 5 [Loss: 7.06e+01]\n",
            "Batch 40, Epoch 6 [Loss: 7.06e+01]\n",
            "Batch 40, Epoch 7 [Loss: 7.06e+01]\n",
            "Batch 40, Epoch 8 [Loss: 7.06e+01]\n",
            "Batch 40, Epoch 9 [Loss: 7.06e+01]\n",
            "Batch 40, Epoch 10 [Loss: 7.06e+01]\n",
            "Batch 40, Epoch 11 [Loss: 7.06e+01]\n",
            "Batch 40, Epoch 12 [Loss: 7.06e+01]\n"
          ]
        },
        {
          "name": "stderr",
          "output_type": "stream",
          "text": [
            "\n",
            "Epochs:  15%|█▌        | 15/100 [00:00<00:02, 34.86it/s]\u001b[A\n",
            "Epochs:  19%|█▉        | 19/100 [00:00<00:02, 36.24it/s]\u001b[A"
          ]
        },
        {
          "name": "stdout",
          "output_type": "stream",
          "text": [
            "Batch 40, Epoch 13 [Loss: 7.06e+01]\n",
            "Batch 40, Epoch 14 [Loss: 7.06e+01]\n",
            "Batch 40, Epoch 15 [Loss: 7.06e+01]\n",
            "Batch 40, Epoch 16 [Loss: 7.06e+01]\n",
            "Batch 40, Epoch 17 [Loss: 7.06e+01]\n",
            "Batch 40, Epoch 18 [Loss: 7.06e+01]\n",
            "Batch 40, Epoch 19 [Loss: 7.06e+01]\n",
            "Batch 40, Epoch 20 [Loss: 7.06e+01]\n"
          ]
        },
        {
          "name": "stderr",
          "output_type": "stream",
          "text": [
            "\n",
            "Epochs:  23%|██▎       | 23/100 [00:00<00:02, 36.70it/s]\u001b[A\n",
            "Epochs:  27%|██▋       | 27/100 [00:00<00:01, 37.29it/s]\u001b[A"
          ]
        },
        {
          "name": "stdout",
          "output_type": "stream",
          "text": [
            "Batch 40, Epoch 21 [Loss: 7.06e+01]\n",
            "Batch 40, Epoch 22 [Loss: 7.06e+01]\n",
            "Batch 40, Epoch 23 [Loss: 7.06e+01]\n",
            "Batch 40, Epoch 24 [Loss: 7.06e+01]\n",
            "Batch 40, Epoch 25 [Loss: 7.06e+01]\n",
            "Batch 40, Epoch 26 [Loss: 7.06e+01]\n",
            "Batch 40, Epoch 27 [Loss: 7.06e+01]\n",
            "Batch 40, Epoch 28 [Loss: 7.06e+01]\n"
          ]
        },
        {
          "name": "stderr",
          "output_type": "stream",
          "text": [
            "\n",
            "Epochs:  31%|███       | 31/100 [00:00<00:01, 37.59it/s]\u001b[A\n",
            "Epochs:  35%|███▌      | 35/100 [00:00<00:01, 37.75it/s]\u001b[A"
          ]
        },
        {
          "name": "stdout",
          "output_type": "stream",
          "text": [
            "Batch 40, Epoch 29 [Loss: 7.06e+01]\n",
            "Batch 40, Epoch 30 [Loss: 7.06e+01]\n",
            "Batch 40, Epoch 31 [Loss: 7.06e+01]\n",
            "Batch 40, Epoch 32 [Loss: 7.06e+01]\n",
            "Batch 40, Epoch 33 [Loss: 7.06e+01]\n",
            "Batch 40, Epoch 34 [Loss: 7.06e+01]\n",
            "Batch 40, Epoch 35 [Loss: 7.06e+01]\n",
            "Batch 40, Epoch 36 [Loss: 7.06e+01]\n"
          ]
        },
        {
          "name": "stderr",
          "output_type": "stream",
          "text": [
            "\n",
            "Epochs:  39%|███▉      | 39/100 [00:01<00:01, 37.61it/s]\u001b[A\n",
            "Epochs:  43%|████▎     | 43/100 [00:01<00:01, 37.97it/s]\u001b[A"
          ]
        },
        {
          "name": "stdout",
          "output_type": "stream",
          "text": [
            "Batch 40, Epoch 37 [Loss: 7.06e+01]\n",
            "Batch 40, Epoch 38 [Loss: 7.06e+01]\n",
            "Batch 40, Epoch 39 [Loss: 7.06e+01]\n",
            "Batch 40, Epoch 40 [Loss: 7.06e+01]\n",
            "Batch 40, Epoch 41 [Loss: 7.06e+01]\n",
            "Batch 40, Epoch 42 [Loss: 7.06e+01]\n",
            "Batch 40, Epoch 43 [Loss: 7.06e+01]\n",
            "Batch 40, Epoch 44 [Loss: 7.06e+01]\n"
          ]
        },
        {
          "name": "stderr",
          "output_type": "stream",
          "text": [
            "\n",
            "Epochs:  47%|████▋     | 47/100 [00:01<00:01, 38.01it/s]\u001b[A\n",
            "Epochs:  51%|█████     | 51/100 [00:01<00:01, 37.91it/s]\u001b[A"
          ]
        },
        {
          "name": "stdout",
          "output_type": "stream",
          "text": [
            "Batch 40, Epoch 45 [Loss: 7.06e+01]\n",
            "Batch 40, Epoch 46 [Loss: 7.06e+01]\n",
            "Batch 40, Epoch 47 [Loss: 7.06e+01]\n",
            "Batch 40, Epoch 48 [Loss: 7.06e+01]\n",
            "Batch 40, Epoch 49 [Loss: 7.06e+01]\n",
            "Batch 40, Epoch 50 [Loss: 7.06e+01]\n",
            "Batch 40, Epoch 51 [Loss: 7.06e+01]\n",
            "Batch 40, Epoch 52 [Loss: 7.06e+01]\n"
          ]
        },
        {
          "name": "stderr",
          "output_type": "stream",
          "text": [
            "\n",
            "Epochs:  55%|█████▌    | 55/100 [00:01<00:01, 37.44it/s]\u001b[A\n",
            "Epochs:  59%|█████▉    | 59/100 [00:01<00:01, 37.86it/s]\u001b[A"
          ]
        },
        {
          "name": "stdout",
          "output_type": "stream",
          "text": [
            "Batch 40, Epoch 53 [Loss: 7.06e+01]\n",
            "Batch 40, Epoch 54 [Loss: 7.06e+01]\n",
            "Batch 40, Epoch 55 [Loss: 7.06e+01]\n",
            "Batch 40, Epoch 56 [Loss: 7.06e+01]\n",
            "Batch 40, Epoch 57 [Loss: 7.06e+01]\n",
            "Batch 40, Epoch 58 [Loss: 7.06e+01]\n",
            "Batch 40, Epoch 59 [Loss: 7.06e+01]\n",
            "Batch 40, Epoch 60 [Loss: 7.06e+01]\n"
          ]
        },
        {
          "name": "stderr",
          "output_type": "stream",
          "text": [
            "\n",
            "Epochs:  63%|██████▎   | 63/100 [00:01<00:00, 37.19it/s]\u001b[A\n",
            "Epochs:  67%|██████▋   | 67/100 [00:01<00:00, 37.63it/s]\u001b[A"
          ]
        },
        {
          "name": "stdout",
          "output_type": "stream",
          "text": [
            "Batch 40, Epoch 61 [Loss: 7.06e+01]\n",
            "Batch 40, Epoch 62 [Loss: 7.06e+01]\n",
            "Batch 40, Epoch 63 [Loss: 7.06e+01]\n",
            "Batch 40, Epoch 64 [Loss: 7.06e+01]\n",
            "Batch 40, Epoch 65 [Loss: 7.06e+01]\n",
            "Batch 40, Epoch 66 [Loss: 7.06e+01]\n",
            "Batch 40, Epoch 67 [Loss: 7.06e+01]\n",
            "Batch 40, Epoch 68 [Loss: 7.06e+01]\n"
          ]
        },
        {
          "name": "stderr",
          "output_type": "stream",
          "text": [
            "\n",
            "Epochs:  71%|███████   | 71/100 [00:01<00:00, 37.70it/s]\u001b[A\n",
            "Epochs:  75%|███████▌  | 75/100 [00:02<00:00, 36.32it/s]\u001b[A"
          ]
        },
        {
          "name": "stdout",
          "output_type": "stream",
          "text": [
            "Batch 40, Epoch 69 [Loss: 7.06e+01]\n",
            "Batch 40, Epoch 70 [Loss: 7.06e+01]\n",
            "Batch 40, Epoch 71 [Loss: 7.06e+01]\n",
            "Batch 40, Epoch 72 [Loss: 7.06e+01]\n",
            "Batch 40, Epoch 73 [Loss: 7.06e+01]\n",
            "Batch 40, Epoch 74 [Loss: 7.06e+01]\n",
            "Batch 40, Epoch 75 [Loss: 7.06e+01]\n",
            "Batch 40, Epoch 76 [Loss: 7.06e+01]\n"
          ]
        },
        {
          "name": "stderr",
          "output_type": "stream",
          "text": [
            "\n",
            "Epochs:  79%|███████▉  | 79/100 [00:02<00:00, 36.72it/s]\u001b[A\n",
            "Epochs:  83%|████████▎ | 83/100 [00:02<00:00, 37.20it/s]\u001b[A"
          ]
        },
        {
          "name": "stdout",
          "output_type": "stream",
          "text": [
            "Batch 40, Epoch 77 [Loss: 7.06e+01]\n",
            "Batch 40, Epoch 78 [Loss: 7.06e+01]\n",
            "Batch 40, Epoch 79 [Loss: 7.06e+01]\n",
            "Batch 40, Epoch 80 [Loss: 7.06e+01]\n",
            "Batch 40, Epoch 81 [Loss: 7.06e+01]\n",
            "Batch 40, Epoch 82 [Loss: 7.06e+01]\n",
            "Batch 40, Epoch 83 [Loss: 7.06e+01]\n",
            "Batch 40, Epoch 84 [Loss: 7.06e+01]\n"
          ]
        },
        {
          "name": "stderr",
          "output_type": "stream",
          "text": [
            "\n",
            "Epochs:  87%|████████▋ | 87/100 [00:02<00:00, 37.40it/s]\u001b[A\n",
            "Epochs:  91%|█████████ | 91/100 [00:02<00:00, 37.72it/s]\u001b[A"
          ]
        },
        {
          "name": "stdout",
          "output_type": "stream",
          "text": [
            "Batch 40, Epoch 85 [Loss: 7.06e+01]\n",
            "Batch 40, Epoch 86 [Loss: 7.06e+01]\n",
            "Batch 40, Epoch 87 [Loss: 7.06e+01]\n",
            "Batch 40, Epoch 88 [Loss: 7.06e+01]\n",
            "Batch 40, Epoch 89 [Loss: 7.06e+01]\n",
            "Batch 40, Epoch 90 [Loss: 7.06e+01]\n",
            "Batch 40, Epoch 91 [Loss: 7.06e+01]\n",
            "Batch 40, Epoch 92 [Loss: 7.06e+01]\n"
          ]
        },
        {
          "name": "stderr",
          "output_type": "stream",
          "text": [
            "\n",
            "Epochs:  95%|█████████▌| 95/100 [00:02<00:00, 36.95it/s]\u001b[A\n",
            "Epochs:  99%|█████████▉| 99/100 [00:02<00:00, 37.14it/s]\u001b[A\n",
            "Batches:   2%|▏         | 41/2500 [01:03<1:13:49,  1.80s/it]"
          ]
        },
        {
          "name": "stdout",
          "output_type": "stream",
          "text": [
            "Batch 40, Epoch 93 [Loss: 7.06e+01]\n",
            "Batch 40, Epoch 94 [Loss: 7.06e+01]\n",
            "Batch 40, Epoch 95 [Loss: 7.06e+01]\n",
            "Batch 40, Epoch 96 [Loss: 7.06e+01]\n",
            "Batch 40, Epoch 97 [Loss: 7.06e+01]\n",
            "Batch 40, Epoch 98 [Loss: 7.06e+01]\n",
            "Batch 40, Epoch 99 [Loss: 7.06e+01]\n"
          ]
        },
        {
          "name": "stderr",
          "output_type": "stream",
          "text": [
            "\n",
            "Epochs:   0%|          | 0/100 [00:00<?, ?it/s]\u001b[A\n",
            "Epochs:   8%|▊         | 8/100 [00:00<00:01, 77.91it/s]\u001b[A\n",
            "Epochs:  16%|█▌        | 16/100 [00:00<00:01, 76.95it/s]\u001b[A\n",
            "Epochs:  24%|██▍       | 24/100 [00:00<00:01, 72.28it/s]\u001b[A\n",
            "Epochs:  32%|███▏      | 32/100 [00:00<00:00, 73.50it/s]\u001b[A\n",
            "Epochs:  40%|████      | 40/100 [00:00<00:00, 74.61it/s]\u001b[A\n",
            "Epochs:  48%|████▊     | 48/100 [00:00<00:00, 75.78it/s]\u001b[A\n",
            "Epochs:  56%|█████▌    | 56/100 [00:00<00:00, 76.31it/s]\u001b[A\n",
            "Epochs:  64%|██████▍   | 64/100 [00:00<00:00, 74.97it/s]\u001b[A\n",
            "Epochs:  72%|███████▏  | 72/100 [00:00<00:00, 75.37it/s]\u001b[A\n",
            "Epochs:  80%|████████  | 80/100 [00:01<00:00, 75.01it/s]\u001b[A\n",
            "Epochs:  88%|████████▊ | 88/100 [00:01<00:00, 76.01it/s]\u001b[A\n",
            "Epochs:  96%|█████████▌| 96/100 [00:01<00:00, 76.66it/s]\u001b[A\n",
            "Batches:   2%|▏         | 42/2500 [01:04<1:08:12,  1.67s/it]\n",
            "Epochs:   0%|          | 0/100 [00:00<?, ?it/s]\u001b[A\n",
            "Epochs:   8%|▊         | 8/100 [00:00<00:01, 79.45it/s]\u001b[A\n",
            "Epochs:  16%|█▌        | 16/100 [00:00<00:01, 77.63it/s]\u001b[A\n",
            "Epochs:  24%|██▍       | 24/100 [00:00<00:00, 76.80it/s]\u001b[A\n",
            "Epochs:  32%|███▏      | 32/100 [00:00<00:00, 76.51it/s]\u001b[A\n",
            "Epochs:  40%|████      | 40/100 [00:00<00:00, 76.23it/s]\u001b[A\n",
            "Epochs:  48%|████▊     | 48/100 [00:00<00:00, 76.43it/s]\u001b[A\n",
            "Epochs:  56%|█████▌    | 56/100 [00:00<00:00, 76.69it/s]\u001b[A\n",
            "Epochs:  64%|██████▍   | 64/100 [00:00<00:00, 74.95it/s]\u001b[A\n",
            "Epochs:  72%|███████▏  | 72/100 [00:00<00:00, 71.14it/s]\u001b[A\n",
            "Epochs:  80%|████████  | 80/100 [00:01<00:00, 72.72it/s]\u001b[A\n",
            "Epochs:  88%|████████▊ | 88/100 [00:01<00:00, 73.67it/s]\u001b[A\n",
            "Epochs:  96%|█████████▌| 96/100 [00:01<00:00, 74.58it/s]\u001b[A\n",
            "Batches:   2%|▏         | 43/2500 [01:06<1:04:24,  1.57s/it]\n",
            "Epochs:   0%|          | 0/100 [00:00<?, ?it/s]\u001b[A\n",
            "Epochs:   8%|▊         | 8/100 [00:00<00:01, 77.78it/s]\u001b[A\n",
            "Epochs:  16%|█▌        | 16/100 [00:00<00:01, 76.18it/s]\u001b[A\n",
            "Epochs:  24%|██▍       | 24/100 [00:00<00:00, 76.39it/s]\u001b[A\n",
            "Epochs:  32%|███▏      | 32/100 [00:00<00:00, 73.82it/s]\u001b[A\n",
            "Epochs:  40%|████      | 40/100 [00:00<00:00, 74.16it/s]\u001b[A\n",
            "Epochs:  48%|████▊     | 48/100 [00:00<00:00, 73.68it/s]\u001b[A\n",
            "Epochs:  56%|█████▌    | 56/100 [00:00<00:00, 74.63it/s]\u001b[A\n",
            "Epochs:  64%|██████▍   | 64/100 [00:00<00:00, 74.93it/s]\u001b[A\n",
            "Epochs:  72%|███████▏  | 72/100 [00:00<00:00, 74.62it/s]\u001b[A\n",
            "Epochs:  80%|████████  | 80/100 [00:01<00:00, 73.98it/s]\u001b[A\n",
            "Epochs:  88%|████████▊ | 88/100 [00:01<00:00, 74.51it/s]\u001b[A\n",
            "Epochs:  96%|█████████▌| 96/100 [00:01<00:00, 74.34it/s]\u001b[A\n",
            "Batches:   2%|▏         | 44/2500 [01:07<1:01:50,  1.51s/it]\n",
            "Epochs:   0%|          | 0/100 [00:00<?, ?it/s]\u001b[A\n",
            "Epochs:   8%|▊         | 8/100 [00:00<00:01, 78.42it/s]\u001b[A\n",
            "Epochs:  16%|█▌        | 16/100 [00:00<00:01, 76.19it/s]\u001b[A\n",
            "Epochs:  24%|██▍       | 24/100 [00:00<00:01, 75.33it/s]\u001b[A\n",
            "Epochs:  32%|███▏      | 32/100 [00:00<00:00, 75.31it/s]\u001b[A\n",
            "Epochs:  40%|████      | 40/100 [00:00<00:00, 75.91it/s]\u001b[A\n",
            "Epochs:  48%|████▊     | 48/100 [00:00<00:00, 76.29it/s]\u001b[A\n",
            "Epochs:  56%|█████▌    | 56/100 [00:00<00:00, 75.72it/s]\u001b[A\n",
            "Epochs:  64%|██████▍   | 64/100 [00:00<00:00, 75.09it/s]\u001b[A\n",
            "Epochs:  72%|███████▏  | 72/100 [00:00<00:00, 74.28it/s]\u001b[A\n",
            "Epochs:  80%|████████  | 80/100 [00:01<00:00, 75.01it/s]\u001b[A\n",
            "Epochs:  88%|████████▊ | 88/100 [00:01<00:00, 74.44it/s]\u001b[A\n",
            "Epochs:  96%|█████████▌| 96/100 [00:01<00:00, 74.28it/s]\u001b[A\n",
            "Batches:   2%|▏         | 45/2500 [01:08<59:53,  1.46s/it]  \n",
            "Epochs:   0%|          | 0/100 [00:00<?, ?it/s]\u001b[A\n",
            "Epochs:   8%|▊         | 8/100 [00:00<00:01, 74.36it/s]\u001b[A\n",
            "Epochs:  16%|█▌        | 16/100 [00:00<00:01, 74.89it/s]\u001b[A"
          ]
        },
        {
          "name": "stdout",
          "output_type": "stream",
          "text": [
            "Batch 45, Epoch 0 [Loss: 1.08e+01]\n",
            "Batch 45, Epoch 1 [Loss: 1.08e+01]\n",
            "Batch 45, Epoch 2 [Loss: 1.08e+01]\n",
            "Batch 45, Epoch 3 [Loss: 1.08e+01]\n",
            "Batch 45, Epoch 4 [Loss: 1.08e+01]\n",
            "Batch 45, Epoch 5 [Loss: 1.08e+01]\n",
            "Batch 45, Epoch 6 [Loss: 1.08e+01]\n",
            "Batch 45, Epoch 7 [Loss: 1.08e+01]\n",
            "Batch 45, Epoch 8 [Loss: 1.08e+01]\n",
            "Batch 45, Epoch 9 [Loss: 1.08e+01]\n",
            "Batch 45, Epoch 10 [Loss: 1.08e+01]\n",
            "Batch 45, Epoch 11 [Loss: 1.08e+01]\n",
            "Batch 45, Epoch 12 [Loss: 1.08e+01]\n",
            "Batch 45, Epoch 13 [Loss: 1.08e+01]\n",
            "Batch 45, Epoch 14 [Loss: 1.08e+01]\n",
            "Batch 45, Epoch 15 [Loss: 1.08e+01]\n"
          ]
        },
        {
          "name": "stderr",
          "output_type": "stream",
          "text": [
            "\n",
            "Epochs:  24%|██▍       | 24/100 [00:00<00:01, 74.91it/s]\u001b[A\n",
            "Epochs:  32%|███▏      | 32/100 [00:00<00:00, 74.45it/s]\u001b[A"
          ]
        },
        {
          "name": "stdout",
          "output_type": "stream",
          "text": [
            "Batch 45, Epoch 16 [Loss: 1.08e+01]\n",
            "Batch 45, Epoch 17 [Loss: 1.08e+01]\n",
            "Batch 45, Epoch 18 [Loss: 1.08e+01]\n",
            "Batch 45, Epoch 19 [Loss: 1.08e+01]\n",
            "Batch 45, Epoch 20 [Loss: 1.08e+01]\n",
            "Batch 45, Epoch 21 [Loss: 1.08e+01]\n",
            "Batch 45, Epoch 22 [Loss: 1.08e+01]\n",
            "Batch 45, Epoch 23 [Loss: 1.08e+01]\n",
            "Batch 45, Epoch 24 [Loss: 1.08e+01]\n",
            "Batch 45, Epoch 25 [Loss: 1.08e+01]\n",
            "Batch 45, Epoch 26 [Loss: 1.08e+01]\n",
            "Batch 45, Epoch 27 [Loss: 1.08e+01]\n",
            "Batch 45, Epoch 28 [Loss: 1.08e+01]\n",
            "Batch 45, Epoch 29 [Loss: 1.08e+01]\n",
            "Batch 45, Epoch 30 [Loss: 1.08e+01]\n",
            "Batch 45, Epoch 31 [Loss: 1.08e+01]\n"
          ]
        },
        {
          "name": "stderr",
          "output_type": "stream",
          "text": [
            "\n",
            "Epochs:  40%|████      | 40/100 [00:00<00:00, 72.93it/s]\u001b[A"
          ]
        },
        {
          "name": "stdout",
          "output_type": "stream",
          "text": [
            "Batch 45, Epoch 32 [Loss: 1.08e+01]\n",
            "Batch 45, Epoch 33 [Loss: 1.08e+01]\n",
            "Batch 45, Epoch 34 [Loss: 1.08e+01]\n",
            "Batch 45, Epoch 35 [Loss: 1.08e+01]\n",
            "Batch 45, Epoch 36 [Loss: 1.08e+01]\n",
            "Batch 45, Epoch 37 [Loss: 1.08e+01]\n",
            "Batch 45, Epoch 38 [Loss: 1.08e+01]\n",
            "Batch 45, Epoch 39 [Loss: 1.08e+01]\n",
            "Batch 45, Epoch 40 [Loss: 1.08e+01]\n",
            "Batch 45, Epoch 41 [Loss: 1.08e+01]\n",
            "Batch 45, Epoch 42 [Loss: 1.08e+01]\n",
            "Batch 45, Epoch 43 [Loss: 1.08e+01]\n",
            "Batch 45, Epoch 44 [Loss: 1.08e+01]\n",
            "Batch 45, Epoch 45 [Loss: 1.08e+01]\n",
            "Batch 45, Epoch 46 [Loss: 1.08e+01]\n"
          ]
        },
        {
          "name": "stderr",
          "output_type": "stream",
          "text": [
            "\n",
            "Epochs:  48%|████▊     | 48/100 [00:00<00:00, 71.57it/s]\u001b[A\n",
            "Epochs:  56%|█████▌    | 56/100 [00:00<00:00, 71.00it/s]\u001b[A"
          ]
        },
        {
          "name": "stdout",
          "output_type": "stream",
          "text": [
            "Batch 45, Epoch 47 [Loss: 1.08e+01]\n",
            "Batch 45, Epoch 48 [Loss: 1.08e+01]\n",
            "Batch 45, Epoch 49 [Loss: 1.08e+01]\n",
            "Batch 45, Epoch 50 [Loss: 1.08e+01]\n",
            "Batch 45, Epoch 51 [Loss: 1.08e+01]\n",
            "Batch 45, Epoch 52 [Loss: 1.08e+01]\n",
            "Batch 45, Epoch 53 [Loss: 1.08e+01]\n",
            "Batch 45, Epoch 54 [Loss: 1.08e+01]\n",
            "Batch 45, Epoch 55 [Loss: 1.08e+01]\n",
            "Batch 45, Epoch 56 [Loss: 1.08e+01]\n",
            "Batch 45, Epoch 57 [Loss: 1.08e+01]\n",
            "Batch 45, Epoch 58 [Loss: 1.08e+01]\n",
            "Batch 45, Epoch 59 [Loss: 1.08e+01]\n",
            "Batch 45, Epoch 60 [Loss: 1.08e+01]\n"
          ]
        },
        {
          "name": "stderr",
          "output_type": "stream",
          "text": [
            "\n",
            "Epochs:  64%|██████▍   | 64/100 [00:00<00:00, 68.92it/s]\u001b[A\n",
            "Epochs:  72%|███████▏  | 72/100 [00:01<00:00, 70.25it/s]\u001b[A"
          ]
        },
        {
          "name": "stdout",
          "output_type": "stream",
          "text": [
            "Batch 45, Epoch 61 [Loss: 1.08e+01]\n",
            "Batch 45, Epoch 62 [Loss: 1.08e+01]\n",
            "Batch 45, Epoch 63 [Loss: 1.08e+01]\n",
            "Batch 45, Epoch 64 [Loss: 1.08e+01]\n",
            "Batch 45, Epoch 65 [Loss: 1.08e+01]\n",
            "Batch 45, Epoch 66 [Loss: 1.08e+01]\n",
            "Batch 45, Epoch 67 [Loss: 1.08e+01]\n",
            "Batch 45, Epoch 68 [Loss: 1.08e+01]\n",
            "Batch 45, Epoch 69 [Loss: 1.08e+01]\n",
            "Batch 45, Epoch 70 [Loss: 1.08e+01]\n",
            "Batch 45, Epoch 71 [Loss: 1.08e+01]\n",
            "Batch 45, Epoch 72 [Loss: 1.08e+01]\n",
            "Batch 45, Epoch 73 [Loss: 1.08e+01]\n",
            "Batch 45, Epoch 74 [Loss: 1.08e+01]\n",
            "Batch 45, Epoch 75 [Loss: 1.08e+01]\n"
          ]
        },
        {
          "name": "stderr",
          "output_type": "stream",
          "text": [
            "\n",
            "Epochs:  80%|████████  | 80/100 [00:01<00:00, 71.36it/s]\u001b[A\n",
            "Epochs:  88%|████████▊ | 88/100 [00:01<00:00, 68.89it/s]\u001b[A"
          ]
        },
        {
          "name": "stdout",
          "output_type": "stream",
          "text": [
            "Batch 45, Epoch 76 [Loss: 1.08e+01]\n",
            "Batch 45, Epoch 77 [Loss: 1.08e+01]\n",
            "Batch 45, Epoch 78 [Loss: 1.08e+01]\n",
            "Batch 45, Epoch 79 [Loss: 1.08e+01]\n",
            "Batch 45, Epoch 80 [Loss: 1.08e+01]\n",
            "Batch 45, Epoch 81 [Loss: 1.08e+01]\n",
            "Batch 45, Epoch 82 [Loss: 1.08e+01]\n",
            "Batch 45, Epoch 83 [Loss: 1.08e+01]\n",
            "Batch 45, Epoch 84 [Loss: 1.08e+01]\n",
            "Batch 45, Epoch 85 [Loss: 1.08e+01]\n",
            "Batch 45, Epoch 86 [Loss: 1.08e+01]\n",
            "Batch 45, Epoch 87 [Loss: 1.08e+01]\n",
            "Batch 45, Epoch 88 [Loss: 1.08e+01]\n",
            "Batch 45, Epoch 89 [Loss: 1.08e+01]\n"
          ]
        },
        {
          "name": "stderr",
          "output_type": "stream",
          "text": [
            "\n",
            "Epochs:  95%|█████████▌| 95/100 [00:01<00:00, 67.04it/s]\u001b[A\n",
            "Batches:   2%|▏         | 46/2500 [01:10<59:40,  1.46s/it]"
          ]
        },
        {
          "name": "stdout",
          "output_type": "stream",
          "text": [
            "Batch 45, Epoch 90 [Loss: 1.08e+01]\n",
            "Batch 45, Epoch 91 [Loss: 1.08e+01]\n",
            "Batch 45, Epoch 92 [Loss: 1.08e+01]\n",
            "Batch 45, Epoch 93 [Loss: 1.08e+01]\n",
            "Batch 45, Epoch 94 [Loss: 1.08e+01]\n",
            "Batch 45, Epoch 95 [Loss: 1.08e+01]\n",
            "Batch 45, Epoch 96 [Loss: 1.08e+01]\n",
            "Batch 45, Epoch 97 [Loss: 1.08e+01]\n",
            "Batch 45, Epoch 98 [Loss: 1.08e+01]\n",
            "Batch 45, Epoch 99 [Loss: 1.08e+01]\n"
          ]
        },
        {
          "name": "stderr",
          "output_type": "stream",
          "text": [
            "\n",
            "Epochs:   0%|          | 0/100 [00:00<?, ?it/s]\u001b[A\n",
            "Epochs:   8%|▊         | 8/100 [00:00<00:01, 77.32it/s]\u001b[A\n",
            "Epochs:  16%|█▌        | 16/100 [00:00<00:01, 75.50it/s]\u001b[A\n",
            "Epochs:  24%|██▍       | 24/100 [00:00<00:01, 74.44it/s]\u001b[A\n",
            "Epochs:  32%|███▏      | 32/100 [00:00<00:00, 73.60it/s]\u001b[A\n",
            "Epochs:  40%|████      | 40/100 [00:00<00:00, 71.69it/s]\u001b[A\n",
            "Epochs:  48%|████▊     | 48/100 [00:00<00:00, 72.04it/s]\u001b[A\n",
            "Epochs:  56%|█████▌    | 56/100 [00:00<00:00, 73.03it/s]\u001b[A\n",
            "Epochs:  64%|██████▍   | 64/100 [00:00<00:00, 74.46it/s]\u001b[A\n",
            "Epochs:  72%|███████▏  | 72/100 [00:00<00:00, 74.60it/s]\u001b[A\n",
            "Epochs:  80%|████████  | 80/100 [00:01<00:00, 74.23it/s]\u001b[A\n",
            "Epochs:  88%|████████▊ | 88/100 [00:01<00:00, 75.19it/s]\u001b[A\n",
            "Epochs:  96%|█████████▌| 96/100 [00:01<00:00, 75.34it/s]\u001b[A\n",
            "Batches:   2%|▏         | 47/2500 [01:11<58:33,  1.43s/it]\n",
            "Epochs:   0%|          | 0/100 [00:00<?, ?it/s]\u001b[A\n",
            "Epochs:   8%|▊         | 8/100 [00:00<00:01, 77.85it/s]\u001b[A\n",
            "Epochs:  16%|█▌        | 16/100 [00:00<00:01, 77.65it/s]\u001b[A\n",
            "Epochs:  24%|██▍       | 24/100 [00:00<00:00, 76.41it/s]\u001b[A\n",
            "Epochs:  32%|███▏      | 32/100 [00:00<00:00, 76.69it/s]\u001b[A\n",
            "Epochs:  40%|████      | 40/100 [00:00<00:00, 76.88it/s]\u001b[A\n",
            "Epochs:  48%|████▊     | 48/100 [00:00<00:00, 76.26it/s]\u001b[A\n",
            "Epochs:  56%|█████▌    | 56/100 [00:00<00:00, 76.60it/s]\u001b[A\n",
            "Epochs:  64%|██████▍   | 64/100 [00:00<00:00, 76.68it/s]\u001b[A\n",
            "Epochs:  72%|███████▏  | 72/100 [00:00<00:00, 76.56it/s]\u001b[A\n",
            "Epochs:  80%|████████  | 80/100 [00:01<00:00, 73.63it/s]\u001b[A\n",
            "Epochs:  88%|████████▊ | 88/100 [00:01<00:00, 74.19it/s]\u001b[A\n",
            "Epochs:  96%|█████████▌| 96/100 [00:01<00:00, 74.96it/s]\u001b[A\n",
            "Batches:   2%|▏         | 48/2500 [01:13<57:26,  1.41s/it]\n",
            "Epochs:   0%|          | 0/100 [00:00<?, ?it/s]\u001b[A\n",
            "Epochs:   8%|▊         | 8/100 [00:00<00:01, 78.59it/s]\u001b[A\n",
            "Epochs:  16%|█▌        | 16/100 [00:00<00:01, 77.92it/s]\u001b[A\n",
            "Epochs:  24%|██▍       | 24/100 [00:00<00:00, 77.77it/s]\u001b[A\n",
            "Epochs:  32%|███▏      | 32/100 [00:00<00:00, 77.25it/s]\u001b[A\n",
            "Epochs:  40%|████      | 40/100 [00:00<00:00, 76.68it/s]\u001b[A\n",
            "Epochs:  48%|████▊     | 48/100 [00:00<00:00, 76.64it/s]\u001b[A\n",
            "Epochs:  56%|█████▌    | 56/100 [00:00<00:00, 76.86it/s]\u001b[A\n",
            "Epochs:  64%|██████▍   | 64/100 [00:00<00:00, 76.56it/s]\u001b[A\n",
            "Epochs:  72%|███████▏  | 72/100 [00:00<00:00, 76.66it/s]\u001b[A\n",
            "Epochs:  80%|████████  | 80/100 [00:01<00:00, 77.25it/s]\u001b[A\n",
            "Epochs:  88%|████████▊ | 88/100 [00:01<00:00, 77.55it/s]\u001b[A\n",
            "Epochs:  96%|█████████▌| 96/100 [00:01<00:00, 76.27it/s]\u001b[A\n",
            "Batches:   2%|▏         | 49/2500 [01:14<56:24,  1.38s/it]\n",
            "Epochs:   0%|          | 0/100 [00:00<?, ?it/s]\u001b[A\n",
            "Epochs:   8%|▊         | 8/100 [00:00<00:01, 78.64it/s]\u001b[A\n",
            "Epochs:  16%|█▌        | 16/100 [00:00<00:01, 77.72it/s]\u001b[A\n",
            "Epochs:  24%|██▍       | 24/100 [00:00<00:00, 77.56it/s]\u001b[A\n",
            "Epochs:  32%|███▏      | 32/100 [00:00<00:00, 76.50it/s]\u001b[A\n",
            "Epochs:  40%|████      | 40/100 [00:00<00:00, 76.76it/s]\u001b[A\n",
            "Epochs:  48%|████▊     | 48/100 [00:00<00:00, 76.82it/s]\u001b[A\n",
            "Epochs:  56%|█████▌    | 56/100 [00:00<00:00, 76.74it/s]\u001b[A\n",
            "Epochs:  64%|██████▍   | 64/100 [00:00<00:00, 76.82it/s]\u001b[A\n",
            "Epochs:  72%|███████▏  | 72/100 [00:00<00:00, 76.54it/s]\u001b[A\n",
            "Epochs:  80%|████████  | 80/100 [00:01<00:00, 76.38it/s]\u001b[A\n",
            "Epochs:  88%|████████▊ | 88/100 [00:01<00:00, 76.00it/s]\u001b[A\n",
            "Epochs:  96%|█████████▌| 96/100 [00:01<00:00, 75.74it/s]\u001b[A\n",
            "Batches:   2%|▏         | 50/2500 [01:15<55:50,  1.37s/it]\n",
            "Epochs:   0%|          | 0/100 [00:00<?, ?it/s]\u001b[A\n",
            "Epochs:   4%|▍         | 4/100 [00:00<00:02, 34.18it/s]\u001b[A"
          ]
        },
        {
          "name": "stdout",
          "output_type": "stream",
          "text": [
            "Batch 50, Epoch 0 [Loss: 7.84e+00]\n",
            "Batch 50, Epoch 1 [Loss: 7.84e+00]\n",
            "Batch 50, Epoch 2 [Loss: 7.84e+00]\n",
            "Batch 50, Epoch 3 [Loss: 7.84e+00]\n",
            "Batch 50, Epoch 4 [Loss: 7.84e+00]\n",
            "Batch 50, Epoch 5 [Loss: 7.84e+00]\n",
            "Batch 50, Epoch 6 [Loss: 7.84e+00]\n",
            "Batch 50, Epoch 7 [Loss: 7.84e+00]\n"
          ]
        },
        {
          "name": "stderr",
          "output_type": "stream",
          "text": [
            "\n",
            "Epochs:   8%|▊         | 8/100 [00:00<00:02, 35.81it/s]\u001b[A\n",
            "Epochs:  12%|█▏        | 12/100 [00:00<00:02, 35.95it/s]\u001b[A\n",
            "Epochs:  16%|█▌        | 16/100 [00:00<00:02, 36.88it/s]\u001b[A"
          ]
        },
        {
          "name": "stdout",
          "output_type": "stream",
          "text": [
            "Batch 50, Epoch 8 [Loss: 7.84e+00]\n",
            "Batch 50, Epoch 9 [Loss: 7.84e+00]\n",
            "Batch 50, Epoch 10 [Loss: 7.84e+00]\n",
            "Batch 50, Epoch 11 [Loss: 7.84e+00]\n",
            "Batch 50, Epoch 12 [Loss: 7.84e+00]\n",
            "Batch 50, Epoch 13 [Loss: 7.84e+00]\n",
            "Batch 50, Epoch 14 [Loss: 7.84e+00]\n",
            "Batch 50, Epoch 15 [Loss: 7.84e+00]\n"
          ]
        },
        {
          "name": "stderr",
          "output_type": "stream",
          "text": [
            "\n",
            "Epochs:  20%|██        | 20/100 [00:00<00:02, 37.19it/s]\u001b[A\n",
            "Epochs:  24%|██▍       | 24/100 [00:00<00:02, 37.22it/s]\u001b[A"
          ]
        },
        {
          "name": "stdout",
          "output_type": "stream",
          "text": [
            "Batch 50, Epoch 16 [Loss: 7.84e+00]\n",
            "Batch 50, Epoch 17 [Loss: 7.84e+00]\n",
            "Batch 50, Epoch 18 [Loss: 7.84e+00]\n",
            "Batch 50, Epoch 19 [Loss: 7.84e+00]\n",
            "Batch 50, Epoch 20 [Loss: 7.84e+00]\n",
            "Batch 50, Epoch 21 [Loss: 7.84e+00]\n",
            "Batch 50, Epoch 22 [Loss: 7.84e+00]\n",
            "Batch 50, Epoch 23 [Loss: 7.84e+00]\n"
          ]
        },
        {
          "name": "stderr",
          "output_type": "stream",
          "text": [
            "\n",
            "Epochs:  28%|██▊       | 28/100 [00:00<00:01, 37.45it/s]\u001b[A\n",
            "Epochs:  32%|███▏      | 32/100 [00:00<00:01, 37.66it/s]\u001b[A"
          ]
        },
        {
          "name": "stdout",
          "output_type": "stream",
          "text": [
            "Batch 50, Epoch 24 [Loss: 7.84e+00]\n",
            "Batch 50, Epoch 25 [Loss: 7.84e+00]\n",
            "Batch 50, Epoch 26 [Loss: 7.84e+00]\n",
            "Batch 50, Epoch 27 [Loss: 7.84e+00]\n",
            "Batch 50, Epoch 28 [Loss: 7.84e+00]\n",
            "Batch 50, Epoch 29 [Loss: 7.84e+00]\n",
            "Batch 50, Epoch 30 [Loss: 7.84e+00]\n",
            "Batch 50, Epoch 31 [Loss: 7.84e+00]\n"
          ]
        },
        {
          "name": "stderr",
          "output_type": "stream",
          "text": [
            "\n",
            "Epochs:  36%|███▌      | 36/100 [00:00<00:01, 37.38it/s]\u001b[A"
          ]
        },
        {
          "name": "stdout",
          "output_type": "stream",
          "text": [
            "Batch 50, Epoch 32 [Loss: 7.84e+00]\n",
            "Batch 50, Epoch 33 [Loss: 7.84e+00]\n",
            "Batch 50, Epoch 34 [Loss: 7.84e+00]\n",
            "Batch 50, Epoch 35 [Loss: 7.84e+00]\n",
            "Batch 50, Epoch 36 [Loss: 7.84e+00]\n",
            "Batch 50, Epoch 37 [Loss: 7.84e+00]\n",
            "Batch 50, Epoch 38 [Loss: 7.84e+00]\n",
            "Batch 50, Epoch 39 [Loss: 7.84e+00]\n"
          ]
        },
        {
          "name": "stderr",
          "output_type": "stream",
          "text": [
            "\n",
            "Epochs:  40%|████      | 40/100 [00:01<00:01, 36.73it/s]\u001b[A\n",
            "Epochs:  44%|████▍     | 44/100 [00:01<00:01, 37.10it/s]\u001b[A\n",
            "Epochs:  48%|████▊     | 48/100 [00:01<00:01, 37.57it/s]\u001b[A"
          ]
        },
        {
          "name": "stdout",
          "output_type": "stream",
          "text": [
            "Batch 50, Epoch 40 [Loss: 7.84e+00]\n",
            "Batch 50, Epoch 41 [Loss: 7.84e+00]\n",
            "Batch 50, Epoch 42 [Loss: 7.84e+00]\n",
            "Batch 50, Epoch 43 [Loss: 7.84e+00]\n",
            "Batch 50, Epoch 44 [Loss: 7.84e+00]\n",
            "Batch 50, Epoch 45 [Loss: 7.84e+00]\n",
            "Batch 50, Epoch 46 [Loss: 7.84e+00]\n",
            "Batch 50, Epoch 47 [Loss: 7.84e+00]\n"
          ]
        },
        {
          "name": "stderr",
          "output_type": "stream",
          "text": [
            "\n",
            "Epochs:  52%|█████▏    | 52/100 [00:01<00:01, 37.40it/s]\u001b[A\n",
            "Epochs:  56%|█████▌    | 56/100 [00:01<00:01, 37.41it/s]\u001b[A"
          ]
        },
        {
          "name": "stdout",
          "output_type": "stream",
          "text": [
            "Batch 50, Epoch 48 [Loss: 7.84e+00]\n",
            "Batch 50, Epoch 49 [Loss: 7.84e+00]\n",
            "Batch 50, Epoch 50 [Loss: 7.84e+00]\n",
            "Batch 50, Epoch 51 [Loss: 7.84e+00]\n",
            "Batch 50, Epoch 52 [Loss: 7.84e+00]\n",
            "Batch 50, Epoch 53 [Loss: 7.84e+00]\n",
            "Batch 50, Epoch 54 [Loss: 7.84e+00]\n",
            "Batch 50, Epoch 55 [Loss: 7.84e+00]\n"
          ]
        },
        {
          "name": "stderr",
          "output_type": "stream",
          "text": [
            "\n",
            "Epochs:  60%|██████    | 60/100 [00:01<00:01, 37.39it/s]\u001b[A\n",
            "Epochs:  64%|██████▍   | 64/100 [00:01<00:00, 37.14it/s]\u001b[A"
          ]
        },
        {
          "name": "stdout",
          "output_type": "stream",
          "text": [
            "Batch 50, Epoch 56 [Loss: 7.84e+00]\n",
            "Batch 50, Epoch 57 [Loss: 7.84e+00]\n",
            "Batch 50, Epoch 58 [Loss: 7.84e+00]\n",
            "Batch 50, Epoch 59 [Loss: 7.84e+00]\n",
            "Batch 50, Epoch 60 [Loss: 7.84e+00]\n",
            "Batch 50, Epoch 61 [Loss: 7.84e+00]\n",
            "Batch 50, Epoch 62 [Loss: 7.84e+00]\n",
            "Batch 50, Epoch 63 [Loss: 7.84e+00]\n"
          ]
        },
        {
          "name": "stderr",
          "output_type": "stream",
          "text": [
            "\n",
            "Epochs:  68%|██████▊   | 68/100 [00:01<00:00, 37.08it/s]\u001b[A\n",
            "Epochs:  72%|███████▏  | 72/100 [00:01<00:00, 37.55it/s]\u001b[A"
          ]
        },
        {
          "name": "stdout",
          "output_type": "stream",
          "text": [
            "Batch 50, Epoch 64 [Loss: 7.84e+00]\n",
            "Batch 50, Epoch 65 [Loss: 7.84e+00]\n",
            "Batch 50, Epoch 66 [Loss: 7.84e+00]\n",
            "Batch 50, Epoch 67 [Loss: 7.84e+00]\n",
            "Batch 50, Epoch 68 [Loss: 7.84e+00]\n",
            "Batch 50, Epoch 69 [Loss: 7.84e+00]\n",
            "Batch 50, Epoch 70 [Loss: 7.84e+00]\n",
            "Batch 50, Epoch 71 [Loss: 7.84e+00]\n"
          ]
        },
        {
          "name": "stderr",
          "output_type": "stream",
          "text": [
            "\n",
            "Epochs:  76%|███████▌  | 76/100 [00:02<00:00, 36.86it/s]\u001b[A"
          ]
        },
        {
          "name": "stdout",
          "output_type": "stream",
          "text": [
            "Batch 50, Epoch 72 [Loss: 7.84e+00]\n",
            "Batch 50, Epoch 73 [Loss: 7.84e+00]\n",
            "Batch 50, Epoch 74 [Loss: 7.84e+00]\n",
            "Batch 50, Epoch 75 [Loss: 7.84e+00]\n",
            "Batch 50, Epoch 76 [Loss: 7.84e+00]\n",
            "Batch 50, Epoch 77 [Loss: 7.84e+00]\n",
            "Batch 50, Epoch 78 [Loss: 7.84e+00]\n",
            "Batch 50, Epoch 79 [Loss: 7.84e+00]\n"
          ]
        },
        {
          "name": "stderr",
          "output_type": "stream",
          "text": [
            "\n",
            "Epochs:  80%|████████  | 80/100 [00:02<00:00, 36.25it/s]\u001b[A\n",
            "Epochs:  84%|████████▍ | 84/100 [00:02<00:00, 36.67it/s]\u001b[A\n",
            "Epochs:  88%|████████▊ | 88/100 [00:02<00:00, 37.25it/s]\u001b[A"
          ]
        },
        {
          "name": "stdout",
          "output_type": "stream",
          "text": [
            "Batch 50, Epoch 80 [Loss: 7.84e+00]\n",
            "Batch 50, Epoch 81 [Loss: 7.84e+00]\n",
            "Batch 50, Epoch 82 [Loss: 7.84e+00]\n",
            "Batch 50, Epoch 83 [Loss: 7.84e+00]\n",
            "Batch 50, Epoch 84 [Loss: 7.84e+00]\n",
            "Batch 50, Epoch 85 [Loss: 7.84e+00]\n",
            "Batch 50, Epoch 86 [Loss: 7.84e+00]\n",
            "Batch 50, Epoch 87 [Loss: 7.84e+00]\n"
          ]
        },
        {
          "name": "stderr",
          "output_type": "stream",
          "text": [
            "\n",
            "Epochs:  92%|█████████▏| 92/100 [00:02<00:00, 37.40it/s]\u001b[A\n",
            "Epochs:  96%|█████████▌| 96/100 [00:02<00:00, 37.39it/s]\u001b[A"
          ]
        },
        {
          "name": "stdout",
          "output_type": "stream",
          "text": [
            "Batch 50, Epoch 88 [Loss: 7.84e+00]\n",
            "Batch 50, Epoch 89 [Loss: 7.84e+00]\n",
            "Batch 50, Epoch 90 [Loss: 7.84e+00]\n",
            "Batch 50, Epoch 91 [Loss: 7.84e+00]\n",
            "Batch 50, Epoch 92 [Loss: 7.84e+00]\n",
            "Batch 50, Epoch 93 [Loss: 7.84e+00]\n",
            "Batch 50, Epoch 94 [Loss: 7.84e+00]\n",
            "Batch 50, Epoch 95 [Loss: 7.84e+00]\n"
          ]
        },
        {
          "name": "stderr",
          "output_type": "stream",
          "text": [
            "\n",
            "Epochs: 100%|██████████| 100/100 [00:02<00:00, 37.14it/s]\u001b[A\n",
            "Batches:   2%|▏         | 51/2500 [01:18<1:12:23,  1.77s/it]"
          ]
        },
        {
          "name": "stdout",
          "output_type": "stream",
          "text": [
            "Batch 50, Epoch 96 [Loss: 7.84e+00]\n",
            "Batch 50, Epoch 97 [Loss: 7.84e+00]\n",
            "Batch 50, Epoch 98 [Loss: 7.84e+00]\n",
            "Batch 50, Epoch 99 [Loss: 7.84e+00]\n"
          ]
        },
        {
          "name": "stderr",
          "output_type": "stream",
          "text": [
            "\n",
            "Epochs:   0%|          | 0/100 [00:00<?, ?it/s]\u001b[A\n",
            "Epochs:   8%|▊         | 8/100 [00:00<00:01, 75.32it/s]\u001b[A\n",
            "Epochs:  16%|█▌        | 16/100 [00:00<00:01, 75.12it/s]\u001b[A\n",
            "Epochs:  24%|██▍       | 24/100 [00:00<00:01, 75.62it/s]\u001b[A\n",
            "Epochs:  32%|███▏      | 32/100 [00:00<00:00, 75.17it/s]\u001b[A\n",
            "Epochs:  40%|████      | 40/100 [00:00<00:00, 74.83it/s]\u001b[A\n",
            "Epochs:  48%|████▊     | 48/100 [00:00<00:00, 75.30it/s]\u001b[A\n",
            "Epochs:  56%|█████▌    | 56/100 [00:00<00:00, 75.79it/s]\u001b[A\n",
            "Epochs:  64%|██████▍   | 64/100 [00:00<00:00, 76.15it/s]\u001b[A\n",
            "Epochs:  72%|███████▏  | 72/100 [00:00<00:00, 75.17it/s]\u001b[A\n",
            "Epochs:  80%|████████  | 80/100 [00:01<00:00, 75.50it/s]\u001b[A\n",
            "Epochs:  88%|████████▊ | 88/100 [00:01<00:00, 75.32it/s]\u001b[A\n",
            "Epochs:  96%|█████████▌| 96/100 [00:01<00:00, 74.48it/s]\u001b[A\n",
            "Batches:   2%|▏         | 52/2500 [01:19<1:07:21,  1.65s/it]\n",
            "Epochs:   0%|          | 0/100 [00:00<?, ?it/s]\u001b[A\n",
            "Epochs:   8%|▊         | 8/100 [00:00<00:01, 77.59it/s]\u001b[A\n",
            "Epochs:  16%|█▌        | 16/100 [00:00<00:01, 75.66it/s]\u001b[A\n",
            "Epochs:  24%|██▍       | 24/100 [00:00<00:00, 76.09it/s]\u001b[A\n",
            "Epochs:  32%|███▏      | 32/100 [00:00<00:00, 75.40it/s]\u001b[A\n",
            "Epochs:  40%|████      | 40/100 [00:00<00:00, 75.10it/s]\u001b[A\n",
            "Epochs:  48%|████▊     | 48/100 [00:00<00:00, 75.06it/s]\u001b[A\n",
            "Epochs:  56%|█████▌    | 56/100 [00:00<00:00, 75.05it/s]\u001b[A\n",
            "Epochs:  64%|██████▍   | 64/100 [00:00<00:00, 72.08it/s]\u001b[A\n",
            "Epochs:  72%|███████▏  | 72/100 [00:01<00:00, 66.01it/s]\u001b[A\n",
            "Epochs:  79%|███████▉  | 79/100 [00:01<00:00, 65.83it/s]\u001b[A\n",
            "Epochs:  87%|████████▋ | 87/100 [00:01<00:00, 68.29it/s]\u001b[A\n",
            "Epochs:  95%|█████████▌| 95/100 [00:01<00:00, 69.60it/s]\u001b[A\n",
            "Batches:   2%|▏         | 53/2500 [01:21<1:04:33,  1.58s/it]\n",
            "Epochs:   0%|          | 0/100 [00:00<?, ?it/s]\u001b[A\n",
            "Epochs:   8%|▊         | 8/100 [00:00<00:01, 76.06it/s]\u001b[A\n",
            "Epochs:  16%|█▌        | 16/100 [00:00<00:01, 74.89it/s]\u001b[A\n",
            "Epochs:  24%|██▍       | 24/100 [00:00<00:01, 65.56it/s]\u001b[A\n",
            "Epochs:  31%|███       | 31/100 [00:00<00:01, 61.82it/s]\u001b[A\n",
            "Epochs:  38%|███▊      | 38/100 [00:00<00:01, 59.88it/s]\u001b[A\n",
            "Epochs:  46%|████▌     | 46/100 [00:00<00:00, 64.02it/s]\u001b[A\n",
            "Epochs:  54%|█████▍    | 54/100 [00:00<00:00, 67.12it/s]\u001b[A\n",
            "Epochs:  62%|██████▏   | 62/100 [00:00<00:00, 68.33it/s]\u001b[A\n",
            "Epochs:  69%|██████▉   | 69/100 [00:01<00:00, 66.96it/s]\u001b[A\n",
            "Epochs:  77%|███████▋  | 77/100 [00:01<00:00, 68.86it/s]\u001b[A\n",
            "Epochs:  84%|████████▍ | 84/100 [00:01<00:00, 64.89it/s]\u001b[A\n",
            "Epochs:  91%|█████████ | 91/100 [00:01<00:00, 62.15it/s]\u001b[A\n",
            "Epochs:  98%|█████████▊| 98/100 [00:01<00:00, 62.78it/s]\u001b[A\n",
            "Batches:   2%|▏         | 54/2500 [01:22<1:04:16,  1.58s/it]\n",
            "Epochs:   0%|          | 0/100 [00:00<?, ?it/s]\u001b[A\n",
            "Epochs:   8%|▊         | 8/100 [00:00<00:01, 77.01it/s]\u001b[A\n",
            "Epochs:  16%|█▌        | 16/100 [00:00<00:01, 75.85it/s]\u001b[A\n",
            "Epochs:  24%|██▍       | 24/100 [00:00<00:01, 73.47it/s]\u001b[A\n",
            "Epochs:  32%|███▏      | 32/100 [00:00<00:00, 74.87it/s]\u001b[A\n",
            "Epochs:  40%|████      | 40/100 [00:00<00:00, 75.23it/s]\u001b[A\n",
            "Epochs:  48%|████▊     | 48/100 [00:00<00:00, 75.46it/s]\u001b[A\n",
            "Epochs:  56%|█████▌    | 56/100 [00:00<00:00, 75.30it/s]\u001b[A\n",
            "Epochs:  64%|██████▍   | 64/100 [00:00<00:00, 74.93it/s]\u001b[A\n",
            "Epochs:  72%|███████▏  | 72/100 [00:00<00:00, 74.84it/s]\u001b[A\n",
            "Epochs:  80%|████████  | 80/100 [00:01<00:00, 74.75it/s]\u001b[A\n",
            "Epochs:  88%|████████▊ | 88/100 [00:01<00:00, 74.75it/s]\u001b[A\n",
            "Epochs:  96%|█████████▌| 96/100 [00:01<00:00, 75.28it/s]\u001b[A\n",
            "Batches:   2%|▏         | 55/2500 [01:24<1:01:32,  1.51s/it]\n",
            "Epochs:   0%|          | 0/100 [00:00<?, ?it/s]\u001b[A\n",
            "Epochs:   8%|▊         | 8/100 [00:00<00:01, 74.95it/s]\u001b[A\n",
            "Epochs:  16%|█▌        | 16/100 [00:00<00:01, 75.23it/s]"
          ]
        },
        {
          "name": "stdout",
          "output_type": "stream",
          "text": [
            "Batch 55, Epoch 0 [Loss: 4.61e+02]\n",
            "Batch 55, Epoch 1 [Loss: 4.61e+02]\n",
            "Batch 55, Epoch 2 [Loss: 4.61e+02]\n",
            "Batch 55, Epoch 3 [Loss: 4.61e+02]\n",
            "Batch 55, Epoch 4 [Loss: 4.61e+02]\n",
            "Batch 55, Epoch 5 [Loss: 4.61e+02]\n",
            "Batch 55, Epoch 6 [Loss: 4.61e+02]\n",
            "Batch 55, Epoch 7 [Loss: 4.61e+02]\n",
            "Batch 55, Epoch 8 [Loss: 4.61e+02]\n",
            "Batch 55, Epoch 9 [Loss: 4.61e+02]\n",
            "Batch 55, Epoch 10 [Loss: 4.61e+02]\n",
            "Batch 55, Epoch 11 [Loss: 4.61e+02]\n",
            "Batch 55, Epoch 12 [Loss: 4.61e+02]\n",
            "Batch 55, Epoch 13 [Loss: 4.61e+02]\n",
            "Batch 55, Epoch 14 [Loss: 4.61e+02]\n",
            "Batch 55, Epoch 15 [Loss: 4.61e+02]\n"
          ]
        },
        {
          "name": "stderr",
          "output_type": "stream",
          "text": [
            "\u001b[A\n",
            "Epochs:  24%|██▍       | 24/100 [00:00<00:01, 74.62it/s]\u001b[A\n",
            "Epochs:  32%|███▏      | 32/100 [00:00<00:00, 74.52it/s]\u001b[A"
          ]
        },
        {
          "name": "stdout",
          "output_type": "stream",
          "text": [
            "Batch 55, Epoch 16 [Loss: 4.61e+02]\n",
            "Batch 55, Epoch 17 [Loss: 4.61e+02]\n",
            "Batch 55, Epoch 18 [Loss: 4.61e+02]\n",
            "Batch 55, Epoch 19 [Loss: 4.61e+02]\n",
            "Batch 55, Epoch 20 [Loss: 4.61e+02]\n",
            "Batch 55, Epoch 21 [Loss: 4.61e+02]\n",
            "Batch 55, Epoch 22 [Loss: 4.61e+02]\n",
            "Batch 55, Epoch 23 [Loss: 4.61e+02]\n",
            "Batch 55, Epoch 24 [Loss: 4.61e+02]\n",
            "Batch 55, Epoch 25 [Loss: 4.61e+02]\n",
            "Batch 55, Epoch 26 [Loss: 4.61e+02]\n",
            "Batch 55, Epoch 27 [Loss: 4.61e+02]\n",
            "Batch 55, Epoch 28 [Loss: 4.61e+02]\n",
            "Batch 55, Epoch 29 [Loss: 4.61e+02]\n",
            "Batch 55, Epoch 30 [Loss: 4.61e+02]\n",
            "Batch 55, Epoch 31 [Loss: 4.61e+02]\n"
          ]
        },
        {
          "name": "stderr",
          "output_type": "stream",
          "text": [
            "\n",
            "Epochs:  40%|████      | 40/100 [00:00<00:00, 74.54it/s]\u001b[A"
          ]
        },
        {
          "name": "stdout",
          "output_type": "stream",
          "text": [
            "Batch 55, Epoch 32 [Loss: 4.61e+02]\n",
            "Batch 55, Epoch 33 [Loss: 4.61e+02]\n",
            "Batch 55, Epoch 34 [Loss: 4.61e+02]\n",
            "Batch 55, Epoch 35 [Loss: 4.61e+02]\n",
            "Batch 55, Epoch 36 [Loss: 4.61e+02]\n",
            "Batch 55, Epoch 37 [Loss: 4.61e+02]\n",
            "Batch 55, Epoch 38 [Loss: 4.61e+02]\n",
            "Batch 55, Epoch 39 [Loss: 4.61e+02]\n",
            "Batch 55, Epoch 40 [Loss: 4.61e+02]\n",
            "Batch 55, Epoch 41 [Loss: 4.61e+02]\n",
            "Batch 55, Epoch 42 [Loss: 4.61e+02]\n",
            "Batch 55, Epoch 43 [Loss: 4.61e+02]\n",
            "Batch 55, Epoch 44 [Loss: 4.61e+02]\n",
            "Batch 55, Epoch 45 [Loss: 4.61e+02]\n",
            "Batch 55, Epoch 46 [Loss: 4.61e+02]\n"
          ]
        },
        {
          "name": "stderr",
          "output_type": "stream",
          "text": [
            "\n",
            "Epochs:  48%|████▊     | 48/100 [00:00<00:00, 73.14it/s]\u001b[A\n",
            "Epochs:  56%|█████▌    | 56/100 [00:00<00:00, 72.30it/s]\u001b[A"
          ]
        },
        {
          "name": "stdout",
          "output_type": "stream",
          "text": [
            "Batch 55, Epoch 47 [Loss: 4.61e+02]\n",
            "Batch 55, Epoch 48 [Loss: 4.61e+02]\n",
            "Batch 55, Epoch 49 [Loss: 4.61e+02]\n",
            "Batch 55, Epoch 50 [Loss: 4.61e+02]\n",
            "Batch 55, Epoch 51 [Loss: 4.61e+02]\n",
            "Batch 55, Epoch 52 [Loss: 4.61e+02]\n",
            "Batch 55, Epoch 53 [Loss: 4.61e+02]\n",
            "Batch 55, Epoch 54 [Loss: 4.61e+02]\n",
            "Batch 55, Epoch 55 [Loss: 4.61e+02]\n",
            "Batch 55, Epoch 56 [Loss: 4.61e+02]\n",
            "Batch 55, Epoch 57 [Loss: 4.61e+02]\n",
            "Batch 55, Epoch 58 [Loss: 4.61e+02]\n",
            "Batch 55, Epoch 59 [Loss: 4.61e+02]\n",
            "Batch 55, Epoch 60 [Loss: 4.61e+02]\n",
            "Batch 55, Epoch 61 [Loss: 4.61e+02]\n"
          ]
        },
        {
          "name": "stderr",
          "output_type": "stream",
          "text": [
            "\n",
            "Epochs:  64%|██████▍   | 64/100 [00:00<00:00, 72.77it/s]\u001b[A\n",
            "Epochs:  72%|███████▏  | 72/100 [00:00<00:00, 73.49it/s]\u001b[A"
          ]
        },
        {
          "name": "stdout",
          "output_type": "stream",
          "text": [
            "Batch 55, Epoch 62 [Loss: 4.61e+02]\n",
            "Batch 55, Epoch 63 [Loss: 4.61e+02]\n",
            "Batch 55, Epoch 64 [Loss: 4.61e+02]\n",
            "Batch 55, Epoch 65 [Loss: 4.61e+02]\n",
            "Batch 55, Epoch 66 [Loss: 4.61e+02]\n",
            "Batch 55, Epoch 67 [Loss: 4.61e+02]\n",
            "Batch 55, Epoch 68 [Loss: 4.61e+02]\n",
            "Batch 55, Epoch 69 [Loss: 4.61e+02]\n",
            "Batch 55, Epoch 70 [Loss: 4.61e+02]\n",
            "Batch 55, Epoch 71 [Loss: 4.61e+02]\n",
            "Batch 55, Epoch 72 [Loss: 4.61e+02]\n",
            "Batch 55, Epoch 73 [Loss: 4.61e+02]\n",
            "Batch 55, Epoch 74 [Loss: 4.61e+02]\n",
            "Batch 55, Epoch 75 [Loss: 4.61e+02]\n",
            "Batch 55, Epoch 76 [Loss: 4.61e+02]\n",
            "Batch 55, Epoch 77 [Loss: 4.61e+02]\n"
          ]
        },
        {
          "name": "stderr",
          "output_type": "stream",
          "text": [
            "\n",
            "Epochs:  80%|████████  | 80/100 [00:01<00:00, 73.97it/s]\u001b[A\n",
            "Epochs:  88%|████████▊ | 88/100 [00:01<00:00, 74.21it/s]\u001b[A"
          ]
        },
        {
          "name": "stdout",
          "output_type": "stream",
          "text": [
            "Batch 55, Epoch 78 [Loss: 4.61e+02]\n",
            "Batch 55, Epoch 79 [Loss: 4.61e+02]\n",
            "Batch 55, Epoch 80 [Loss: 4.61e+02]\n",
            "Batch 55, Epoch 81 [Loss: 4.61e+02]\n",
            "Batch 55, Epoch 82 [Loss: 4.61e+02]\n",
            "Batch 55, Epoch 83 [Loss: 4.61e+02]\n",
            "Batch 55, Epoch 84 [Loss: 4.61e+02]\n",
            "Batch 55, Epoch 85 [Loss: 4.61e+02]\n",
            "Batch 55, Epoch 86 [Loss: 4.61e+02]\n",
            "Batch 55, Epoch 87 [Loss: 4.61e+02]\n",
            "Batch 55, Epoch 88 [Loss: 4.61e+02]\n",
            "Batch 55, Epoch 89 [Loss: 4.61e+02]\n",
            "Batch 55, Epoch 90 [Loss: 4.61e+02]\n",
            "Batch 55, Epoch 91 [Loss: 4.61e+02]\n",
            "Batch 55, Epoch 92 [Loss: 4.61e+02]\n",
            "Batch 55, Epoch 93 [Loss: 4.61e+02]\n"
          ]
        },
        {
          "name": "stderr",
          "output_type": "stream",
          "text": [
            "\n",
            "Epochs:  96%|█████████▌| 96/100 [00:01<00:00, 74.18it/s]\u001b[A\n",
            "Batches:   2%|▏         | 56/2500 [01:25<59:53,  1.47s/it]  "
          ]
        },
        {
          "name": "stdout",
          "output_type": "stream",
          "text": [
            "Batch 55, Epoch 94 [Loss: 4.61e+02]\n",
            "Batch 55, Epoch 95 [Loss: 4.61e+02]\n",
            "Batch 55, Epoch 96 [Loss: 4.61e+02]\n",
            "Batch 55, Epoch 97 [Loss: 4.61e+02]\n",
            "Batch 55, Epoch 98 [Loss: 4.61e+02]\n",
            "Batch 55, Epoch 99 [Loss: 4.61e+02]\n"
          ]
        },
        {
          "name": "stderr",
          "output_type": "stream",
          "text": [
            "\n",
            "Epochs:   0%|          | 0/100 [00:00<?, ?it/s]\u001b[A\n",
            "Epochs:   8%|▊         | 8/100 [00:00<00:01, 78.63it/s]\u001b[A\n",
            "Epochs:  16%|█▌        | 16/100 [00:00<00:01, 78.04it/s]\u001b[A\n",
            "Epochs:  24%|██▍       | 24/100 [00:00<00:00, 77.05it/s]\u001b[A\n",
            "Epochs:  32%|███▏      | 32/100 [00:00<00:00, 76.72it/s]\u001b[A\n",
            "Epochs:  40%|████      | 40/100 [00:00<00:00, 76.95it/s]\u001b[A\n",
            "Epochs:  48%|████▊     | 48/100 [00:00<00:00, 76.36it/s]\u001b[A\n",
            "Epochs:  56%|█████▌    | 56/100 [00:00<00:00, 75.87it/s]\u001b[A\n",
            "Epochs:  64%|██████▍   | 64/100 [00:00<00:00, 75.87it/s]\u001b[A\n",
            "Epochs:  72%|███████▏  | 72/100 [00:00<00:00, 73.86it/s]\u001b[A\n",
            "Epochs:  80%|████████  | 80/100 [00:01<00:00, 72.36it/s]\u001b[A\n",
            "Epochs:  88%|████████▊ | 88/100 [00:01<00:00, 72.82it/s]\u001b[A\n",
            "Epochs:  96%|█████████▌| 96/100 [00:01<00:00, 73.81it/s]\u001b[A\n",
            "Batches:   2%|▏         | 57/2500 [01:26<58:30,  1.44s/it]\n",
            "Epochs:   0%|          | 0/100 [00:00<?, ?it/s]\u001b[A\n",
            "Epochs:   8%|▊         | 8/100 [00:00<00:01, 76.44it/s]\u001b[A\n",
            "Epochs:  16%|█▌        | 16/100 [00:00<00:01, 76.36it/s]\u001b[A\n",
            "Epochs:  24%|██▍       | 24/100 [00:00<00:00, 77.24it/s]\u001b[A\n",
            "Epochs:  32%|███▏      | 32/100 [00:00<00:00, 77.54it/s]\u001b[A\n",
            "Epochs:  40%|████      | 40/100 [00:00<00:00, 75.60it/s]\u001b[A\n",
            "Epochs:  48%|████▊     | 48/100 [00:00<00:00, 76.34it/s]\u001b[A\n",
            "Epochs:  56%|█████▌    | 56/100 [00:00<00:00, 77.11it/s]\u001b[A\n",
            "Epochs:  64%|██████▍   | 64/100 [00:00<00:00, 75.30it/s]\u001b[A\n",
            "Epochs:  72%|███████▏  | 72/100 [00:00<00:00, 76.07it/s]\u001b[A\n",
            "Epochs:  80%|████████  | 80/100 [00:01<00:00, 76.10it/s]\u001b[A\n",
            "Epochs:  88%|████████▊ | 88/100 [00:01<00:00, 76.37it/s]\u001b[A\n",
            "Epochs:  96%|█████████▌| 96/100 [00:01<00:00, 76.70it/s]\u001b[A\n",
            "Batches:   2%|▏         | 58/2500 [01:28<57:11,  1.41s/it]\n",
            "Epochs:   0%|          | 0/100 [00:00<?, ?it/s]\u001b[A\n",
            "Epochs:   8%|▊         | 8/100 [00:00<00:01, 77.59it/s]\u001b[A\n",
            "Epochs:  16%|█▌        | 16/100 [00:00<00:01, 77.45it/s]\u001b[A\n",
            "Epochs:  24%|██▍       | 24/100 [00:00<00:00, 77.37it/s]\u001b[A\n",
            "Epochs:  32%|███▏      | 32/100 [00:00<00:00, 76.33it/s]\u001b[A\n",
            "Epochs:  40%|████      | 40/100 [00:00<00:00, 76.23it/s]\u001b[A\n",
            "Epochs:  48%|████▊     | 48/100 [00:00<00:00, 75.70it/s]\u001b[A\n",
            "Epochs:  56%|█████▌    | 56/100 [00:00<00:00, 75.52it/s]\u001b[A\n",
            "Epochs:  64%|██████▍   | 64/100 [00:00<00:00, 75.72it/s]\u001b[A\n",
            "Epochs:  72%|███████▏  | 72/100 [00:00<00:00, 75.69it/s]\u001b[A\n",
            "Epochs:  80%|████████  | 80/100 [00:01<00:00, 74.99it/s]\u001b[A\n",
            "Epochs:  88%|████████▊ | 88/100 [00:01<00:00, 74.16it/s]\u001b[A\n",
            "Epochs:  96%|█████████▌| 96/100 [00:01<00:00, 74.31it/s]\u001b[A\n",
            "Batches:   2%|▏         | 59/2500 [01:29<56:30,  1.39s/it]\n",
            "Epochs:   0%|          | 0/100 [00:00<?, ?it/s]\u001b[A\n",
            "Epochs:   8%|▊         | 8/100 [00:00<00:01, 76.87it/s]\u001b[A\n",
            "Epochs:  16%|█▌        | 16/100 [00:00<00:01, 74.20it/s]\u001b[A\n",
            "Epochs:  24%|██▍       | 24/100 [00:00<00:01, 75.10it/s]\u001b[A\n",
            "Epochs:  32%|███▏      | 32/100 [00:00<00:00, 74.88it/s]\u001b[A\n",
            "Epochs:  40%|████      | 40/100 [00:00<00:00, 75.11it/s]\u001b[A\n",
            "Epochs:  48%|████▊     | 48/100 [00:00<00:00, 75.43it/s]\u001b[A\n",
            "Epochs:  56%|█████▌    | 56/100 [00:00<00:00, 75.48it/s]\u001b[A\n",
            "Epochs:  64%|██████▍   | 64/100 [00:00<00:00, 75.20it/s]\u001b[A\n",
            "Epochs:  72%|███████▏  | 72/100 [00:00<00:00, 75.65it/s]\u001b[A\n",
            "Epochs:  80%|████████  | 80/100 [00:01<00:00, 75.96it/s]\u001b[A\n",
            "Epochs:  88%|████████▊ | 88/100 [00:01<00:00, 75.59it/s]\u001b[A\n",
            "Epochs:  96%|█████████▌| 96/100 [00:01<00:00, 75.75it/s]\u001b[A\n",
            "Batches:   2%|▏         | 60/2500 [01:30<56:00,  1.38s/it]\n",
            "Epochs:   0%|          | 0/100 [00:00<?, ?it/s]\u001b[A\n",
            "Epochs:   4%|▍         | 4/100 [00:00<00:02, 36.86it/s]\u001b[A\n",
            "Epochs:   8%|▊         | 8/100 [00:00<00:02, 37.61it/s]\u001b[A"
          ]
        },
        {
          "name": "stdout",
          "output_type": "stream",
          "text": [
            "Batch 60, Epoch 0 [Loss: 2.62e+01]\n",
            "Batch 60, Epoch 1 [Loss: 2.62e+01]\n",
            "Batch 60, Epoch 2 [Loss: 2.62e+01]\n",
            "Batch 60, Epoch 3 [Loss: 2.62e+01]\n",
            "Batch 60, Epoch 4 [Loss: 2.62e+01]\n",
            "Batch 60, Epoch 5 [Loss: 2.62e+01]\n",
            "Batch 60, Epoch 6 [Loss: 2.62e+01]\n",
            "Batch 60, Epoch 7 [Loss: 2.62e+01]\n"
          ]
        },
        {
          "name": "stderr",
          "output_type": "stream",
          "text": [
            "\n",
            "Epochs:  12%|█▏        | 12/100 [00:00<00:02, 37.46it/s]\u001b[A\n",
            "Epochs:  16%|█▌        | 16/100 [00:00<00:02, 37.50it/s]\u001b[A"
          ]
        },
        {
          "name": "stdout",
          "output_type": "stream",
          "text": [
            "Batch 60, Epoch 8 [Loss: 2.62e+01]\n",
            "Batch 60, Epoch 9 [Loss: 2.62e+01]\n",
            "Batch 60, Epoch 10 [Loss: 2.62e+01]\n",
            "Batch 60, Epoch 11 [Loss: 2.62e+01]\n",
            "Batch 60, Epoch 12 [Loss: 2.62e+01]\n",
            "Batch 60, Epoch 13 [Loss: 2.62e+01]\n",
            "Batch 60, Epoch 14 [Loss: 2.62e+01]\n",
            "Batch 60, Epoch 15 [Loss: 2.62e+01]\n"
          ]
        },
        {
          "name": "stderr",
          "output_type": "stream",
          "text": [
            "\n",
            "Epochs:  20%|██        | 20/100 [00:00<00:02, 37.26it/s]\u001b[A\n",
            "Epochs:  24%|██▍       | 24/100 [00:00<00:02, 37.32it/s]\u001b[A"
          ]
        },
        {
          "name": "stdout",
          "output_type": "stream",
          "text": [
            "Batch 60, Epoch 16 [Loss: 2.62e+01]\n",
            "Batch 60, Epoch 17 [Loss: 2.62e+01]\n",
            "Batch 60, Epoch 18 [Loss: 2.62e+01]\n",
            "Batch 60, Epoch 19 [Loss: 2.62e+01]\n",
            "Batch 60, Epoch 20 [Loss: 2.62e+01]\n",
            "Batch 60, Epoch 21 [Loss: 2.62e+01]\n",
            "Batch 60, Epoch 22 [Loss: 2.62e+01]\n",
            "Batch 60, Epoch 23 [Loss: 2.62e+01]\n"
          ]
        },
        {
          "name": "stderr",
          "output_type": "stream",
          "text": [
            "\n",
            "Epochs:  28%|██▊       | 28/100 [00:00<00:01, 37.30it/s]\u001b[A\n",
            "Epochs:  32%|███▏      | 32/100 [00:00<00:01, 37.33it/s]\u001b[A"
          ]
        },
        {
          "name": "stdout",
          "output_type": "stream",
          "text": [
            "Batch 60, Epoch 24 [Loss: 2.62e+01]\n",
            "Batch 60, Epoch 25 [Loss: 2.62e+01]\n",
            "Batch 60, Epoch 26 [Loss: 2.62e+01]\n",
            "Batch 60, Epoch 27 [Loss: 2.62e+01]\n",
            "Batch 60, Epoch 28 [Loss: 2.62e+01]\n",
            "Batch 60, Epoch 29 [Loss: 2.62e+01]\n",
            "Batch 60, Epoch 30 [Loss: 2.62e+01]\n",
            "Batch 60, Epoch 31 [Loss: 2.62e+01]\n"
          ]
        },
        {
          "name": "stderr",
          "output_type": "stream",
          "text": [
            "\n",
            "Epochs:  36%|███▌      | 36/100 [00:00<00:01, 37.00it/s]\u001b[A\n",
            "Epochs:  40%|████      | 40/100 [00:01<00:01, 37.23it/s]\u001b[A"
          ]
        },
        {
          "name": "stdout",
          "output_type": "stream",
          "text": [
            "Batch 60, Epoch 32 [Loss: 2.62e+01]\n",
            "Batch 60, Epoch 33 [Loss: 2.62e+01]\n",
            "Batch 60, Epoch 34 [Loss: 2.62e+01]\n",
            "Batch 60, Epoch 35 [Loss: 2.62e+01]\n",
            "Batch 60, Epoch 36 [Loss: 2.62e+01]\n",
            "Batch 60, Epoch 37 [Loss: 2.62e+01]\n",
            "Batch 60, Epoch 38 [Loss: 2.62e+01]\n",
            "Batch 60, Epoch 39 [Loss: 2.62e+01]\n"
          ]
        },
        {
          "name": "stderr",
          "output_type": "stream",
          "text": [
            "\n",
            "Epochs:  44%|████▍     | 44/100 [00:01<00:01, 37.45it/s]\u001b[A\n",
            "Epochs:  48%|████▊     | 48/100 [00:01<00:01, 37.54it/s]\u001b[A"
          ]
        },
        {
          "name": "stdout",
          "output_type": "stream",
          "text": [
            "Batch 60, Epoch 40 [Loss: 2.62e+01]\n",
            "Batch 60, Epoch 41 [Loss: 2.62e+01]\n",
            "Batch 60, Epoch 42 [Loss: 2.62e+01]\n",
            "Batch 60, Epoch 43 [Loss: 2.62e+01]\n",
            "Batch 60, Epoch 44 [Loss: 2.62e+01]\n",
            "Batch 60, Epoch 45 [Loss: 2.62e+01]\n",
            "Batch 60, Epoch 46 [Loss: 2.62e+01]\n",
            "Batch 60, Epoch 47 [Loss: 2.62e+01]\n"
          ]
        },
        {
          "name": "stderr",
          "output_type": "stream",
          "text": [
            "\n",
            "Epochs:  52%|█████▏    | 52/100 [00:01<00:01, 37.46it/s]\u001b[A\n",
            "Epochs:  56%|█████▌    | 56/100 [00:01<00:01, 37.62it/s]\u001b[A"
          ]
        },
        {
          "name": "stdout",
          "output_type": "stream",
          "text": [
            "Batch 60, Epoch 48 [Loss: 2.62e+01]\n",
            "Batch 60, Epoch 49 [Loss: 2.62e+01]\n",
            "Batch 60, Epoch 50 [Loss: 2.62e+01]\n",
            "Batch 60, Epoch 51 [Loss: 2.62e+01]\n",
            "Batch 60, Epoch 52 [Loss: 2.62e+01]\n",
            "Batch 60, Epoch 53 [Loss: 2.62e+01]\n",
            "Batch 60, Epoch 54 [Loss: 2.62e+01]\n",
            "Batch 60, Epoch 55 [Loss: 2.62e+01]\n"
          ]
        },
        {
          "name": "stderr",
          "output_type": "stream",
          "text": [
            "\n",
            "Epochs:  60%|██████    | 60/100 [00:01<00:01, 37.17it/s]\u001b[A"
          ]
        },
        {
          "name": "stdout",
          "output_type": "stream",
          "text": [
            "Batch 60, Epoch 56 [Loss: 2.62e+01]\n",
            "Batch 60, Epoch 57 [Loss: 2.62e+01]\n",
            "Batch 60, Epoch 58 [Loss: 2.62e+01]\n",
            "Batch 60, Epoch 59 [Loss: 2.62e+01]\n",
            "Batch 60, Epoch 60 [Loss: 2.62e+01]\n",
            "Batch 60, Epoch 61 [Loss: 2.62e+01]\n",
            "Batch 60, Epoch 62 [Loss: 2.62e+01]\n",
            "Batch 60, Epoch 63 [Loss: 2.62e+01]\n"
          ]
        },
        {
          "name": "stderr",
          "output_type": "stream",
          "text": [
            "\n",
            "Epochs:  64%|██████▍   | 64/100 [00:01<00:00, 36.83it/s]\u001b[A\n",
            "Epochs:  68%|██████▊   | 68/100 [00:01<00:00, 37.22it/s]\u001b[A\n",
            "Epochs:  72%|███████▏  | 72/100 [00:01<00:00, 37.04it/s]\u001b[A"
          ]
        },
        {
          "name": "stdout",
          "output_type": "stream",
          "text": [
            "Batch 60, Epoch 64 [Loss: 2.62e+01]\n",
            "Batch 60, Epoch 65 [Loss: 2.62e+01]\n",
            "Batch 60, Epoch 66 [Loss: 2.62e+01]\n",
            "Batch 60, Epoch 67 [Loss: 2.62e+01]\n",
            "Batch 60, Epoch 68 [Loss: 2.62e+01]\n",
            "Batch 60, Epoch 69 [Loss: 2.62e+01]\n",
            "Batch 60, Epoch 70 [Loss: 2.62e+01]\n",
            "Batch 60, Epoch 71 [Loss: 2.62e+01]\n"
          ]
        },
        {
          "name": "stderr",
          "output_type": "stream",
          "text": [
            "\n",
            "Epochs:  76%|███████▌  | 76/100 [00:02<00:00, 36.23it/s]\u001b[A"
          ]
        },
        {
          "name": "stdout",
          "output_type": "stream",
          "text": [
            "Batch 60, Epoch 72 [Loss: 2.62e+01]\n",
            "Batch 60, Epoch 73 [Loss: 2.62e+01]\n",
            "Batch 60, Epoch 74 [Loss: 2.62e+01]\n",
            "Batch 60, Epoch 75 [Loss: 2.62e+01]\n",
            "Batch 60, Epoch 76 [Loss: 2.62e+01]\n",
            "Batch 60, Epoch 77 [Loss: 2.62e+01]\n",
            "Batch 60, Epoch 78 [Loss: 2.62e+01]\n"
          ]
        },
        {
          "name": "stderr",
          "output_type": "stream",
          "text": [
            "\n",
            "Epochs:  80%|████████  | 80/100 [00:02<00:00, 35.49it/s]\u001b[A\n",
            "Epochs:  84%|████████▍ | 84/100 [00:02<00:00, 35.34it/s]\u001b[A"
          ]
        },
        {
          "name": "stdout",
          "output_type": "stream",
          "text": [
            "Batch 60, Epoch 79 [Loss: 2.62e+01]\n",
            "Batch 60, Epoch 80 [Loss: 2.62e+01]\n",
            "Batch 60, Epoch 81 [Loss: 2.62e+01]\n",
            "Batch 60, Epoch 82 [Loss: 2.62e+01]\n",
            "Batch 60, Epoch 83 [Loss: 2.62e+01]\n",
            "Batch 60, Epoch 84 [Loss: 2.62e+01]\n",
            "Batch 60, Epoch 85 [Loss: 2.62e+01]\n"
          ]
        },
        {
          "name": "stderr",
          "output_type": "stream",
          "text": [
            "\n",
            "Epochs:  88%|████████▊ | 88/100 [00:02<00:00, 33.96it/s]\u001b[A\n",
            "Epochs:  92%|█████████▏| 92/100 [00:02<00:00, 33.93it/s]\u001b[A"
          ]
        },
        {
          "name": "stdout",
          "output_type": "stream",
          "text": [
            "Batch 60, Epoch 86 [Loss: 2.62e+01]\n",
            "Batch 60, Epoch 87 [Loss: 2.62e+01]\n",
            "Batch 60, Epoch 88 [Loss: 2.62e+01]\n",
            "Batch 60, Epoch 89 [Loss: 2.62e+01]\n",
            "Batch 60, Epoch 90 [Loss: 2.62e+01]\n",
            "Batch 60, Epoch 91 [Loss: 2.62e+01]\n",
            "Batch 60, Epoch 92 [Loss: 2.62e+01]\n"
          ]
        },
        {
          "name": "stderr",
          "output_type": "stream",
          "text": [
            "\n",
            "Epochs:  96%|█████████▌| 96/100 [00:02<00:00, 34.86it/s]\u001b[A\n",
            "Epochs: 100%|██████████| 100/100 [00:02<00:00, 35.81it/s]\u001b[A\n",
            "Batches:   2%|▏         | 61/2500 [01:33<1:12:54,  1.79s/it]"
          ]
        },
        {
          "name": "stdout",
          "output_type": "stream",
          "text": [
            "Batch 60, Epoch 93 [Loss: 2.62e+01]\n",
            "Batch 60, Epoch 94 [Loss: 2.62e+01]\n",
            "Batch 60, Epoch 95 [Loss: 2.62e+01]\n",
            "Batch 60, Epoch 96 [Loss: 2.62e+01]\n",
            "Batch 60, Epoch 97 [Loss: 2.62e+01]\n",
            "Batch 60, Epoch 98 [Loss: 2.62e+01]\n",
            "Batch 60, Epoch 99 [Loss: 2.62e+01]\n"
          ]
        },
        {
          "name": "stderr",
          "output_type": "stream",
          "text": [
            "\n",
            "Epochs:   0%|          | 0/100 [00:00<?, ?it/s]\u001b[A\n",
            "Epochs:   8%|▊         | 8/100 [00:00<00:01, 70.47it/s]\u001b[A\n",
            "Epochs:  16%|█▌        | 16/100 [00:00<00:01, 70.47it/s]\u001b[A\n",
            "Epochs:  24%|██▍       | 24/100 [00:00<00:01, 68.96it/s]\u001b[A\n",
            "Epochs:  32%|███▏      | 32/100 [00:00<00:00, 71.04it/s]\u001b[A\n",
            "Epochs:  40%|████      | 40/100 [00:00<00:00, 72.55it/s]\u001b[A\n",
            "Epochs:  48%|████▊     | 48/100 [00:00<00:00, 73.09it/s]\u001b[A\n",
            "Epochs:  56%|█████▌    | 56/100 [00:00<00:00, 74.03it/s]\u001b[A\n",
            "Epochs:  64%|██████▍   | 64/100 [00:00<00:00, 74.52it/s]\u001b[A\n",
            "Epochs:  72%|███████▏  | 72/100 [00:00<00:00, 75.04it/s]\u001b[A\n",
            "Epochs:  80%|████████  | 80/100 [00:01<00:00, 75.47it/s]\u001b[A\n",
            "Epochs:  88%|████████▊ | 88/100 [00:01<00:00, 76.10it/s]\u001b[A\n",
            "Epochs:  96%|█████████▌| 96/100 [00:01<00:00, 76.38it/s]\u001b[A\n",
            "Batches:   2%|▏         | 62/2500 [01:35<1:07:45,  1.67s/it]\n",
            "Epochs:   0%|          | 0/100 [00:00<?, ?it/s]\u001b[A\n",
            "Epochs:   8%|▊         | 8/100 [00:00<00:01, 79.26it/s]\u001b[A\n",
            "Epochs:  16%|█▌        | 16/100 [00:00<00:01, 75.23it/s]\u001b[A\n",
            "Epochs:  24%|██▍       | 24/100 [00:00<00:00, 76.23it/s]\u001b[A\n",
            "Epochs:  32%|███▏      | 32/100 [00:00<00:00, 74.58it/s]\u001b[A\n",
            "Epochs:  40%|████      | 40/100 [00:00<00:00, 75.25it/s]\u001b[A\n",
            "Epochs:  48%|████▊     | 48/100 [00:00<00:00, 75.73it/s]\u001b[A\n",
            "Epochs:  56%|█████▌    | 56/100 [00:00<00:00, 72.71it/s]\u001b[A\n",
            "Epochs:  64%|██████▍   | 64/100 [00:00<00:00, 74.13it/s]\u001b[A\n",
            "Epochs:  72%|███████▏  | 72/100 [00:00<00:00, 74.86it/s]\u001b[A\n",
            "Epochs:  80%|████████  | 80/100 [00:01<00:00, 75.65it/s]\u001b[A\n",
            "Epochs:  88%|████████▊ | 88/100 [00:01<00:00, 76.20it/s]\u001b[A\n",
            "Epochs:  96%|█████████▌| 96/100 [00:01<00:00, 75.96it/s]\u001b[A\n",
            "Batches:   3%|▎         | 63/2500 [01:36<1:03:52,  1.57s/it]\n",
            "Epochs:   0%|          | 0/100 [00:00<?, ?it/s]\u001b[A\n",
            "Epochs:   8%|▊         | 8/100 [00:00<00:01, 79.86it/s]\u001b[A\n",
            "Epochs:  16%|█▌        | 16/100 [00:00<00:01, 77.41it/s]\u001b[A\n",
            "Epochs:  24%|██▍       | 24/100 [00:00<00:01, 74.59it/s]\u001b[A\n",
            "Epochs:  32%|███▏      | 32/100 [00:00<00:00, 74.16it/s]\u001b[A\n",
            "Epochs:  40%|████      | 40/100 [00:00<00:00, 74.75it/s]\u001b[A\n",
            "Epochs:  48%|████▊     | 48/100 [00:00<00:00, 75.32it/s]\u001b[A\n",
            "Epochs:  56%|█████▌    | 56/100 [00:00<00:00, 73.98it/s]\u001b[A\n",
            "Epochs:  64%|██████▍   | 64/100 [00:00<00:00, 73.53it/s]\u001b[A\n",
            "Epochs:  72%|███████▏  | 72/100 [00:00<00:00, 74.29it/s]\u001b[A\n",
            "Epochs:  80%|████████  | 80/100 [00:01<00:00, 74.46it/s]\u001b[A\n",
            "Epochs:  88%|████████▊ | 88/100 [00:01<00:00, 75.22it/s]\u001b[A\n",
            "Epochs:  96%|█████████▌| 96/100 [00:01<00:00, 75.46it/s]\u001b[A\n",
            "Batches:   3%|▎         | 64/2500 [01:37<1:01:15,  1.51s/it]\n",
            "Epochs:   0%|          | 0/100 [00:00<?, ?it/s]\u001b[A\n",
            "Epochs:   8%|▊         | 8/100 [00:00<00:01, 76.99it/s]\u001b[A\n",
            "Epochs:  16%|█▌        | 16/100 [00:00<00:01, 76.42it/s]\u001b[A\n",
            "Epochs:  24%|██▍       | 24/100 [00:00<00:00, 77.14it/s]\u001b[A\n",
            "Epochs:  32%|███▏      | 32/100 [00:00<00:00, 77.32it/s]\u001b[A\n",
            "Epochs:  40%|████      | 40/100 [00:00<00:00, 75.37it/s]\u001b[A\n",
            "Epochs:  48%|████▊     | 48/100 [00:00<00:00, 75.44it/s]\u001b[A\n",
            "Epochs:  56%|█████▌    | 56/100 [00:00<00:00, 76.07it/s]\u001b[A\n",
            "Epochs:  64%|██████▍   | 64/100 [00:00<00:00, 75.11it/s]\u001b[A\n",
            "Epochs:  72%|███████▏  | 72/100 [00:00<00:00, 74.08it/s]\u001b[A\n",
            "Epochs:  80%|████████  | 80/100 [00:01<00:00, 73.51it/s]\u001b[A\n",
            "Epochs:  88%|████████▊ | 88/100 [00:01<00:00, 74.02it/s]\u001b[A\n",
            "Epochs:  96%|█████████▌| 96/100 [00:01<00:00, 73.89it/s]\u001b[A\n",
            "Batches:   3%|▎         | 65/2500 [01:39<59:24,  1.46s/it]  \n",
            "Epochs:   0%|          | 0/100 [00:00<?, ?it/s]\u001b[A\n",
            "Epochs:   8%|▊         | 8/100 [00:00<00:01, 75.43it/s]\u001b[A\n",
            "Epochs:  16%|█▌        | 16/100 [00:00<00:01, 74.55it/s]\u001b[A"
          ]
        },
        {
          "name": "stdout",
          "output_type": "stream",
          "text": [
            "Batch 65, Epoch 0 [Loss: 1.93e+01]\n",
            "Batch 65, Epoch 1 [Loss: 1.93e+01]\n",
            "Batch 65, Epoch 2 [Loss: 1.93e+01]\n",
            "Batch 65, Epoch 3 [Loss: 1.93e+01]\n",
            "Batch 65, Epoch 4 [Loss: 1.93e+01]\n",
            "Batch 65, Epoch 5 [Loss: 1.93e+01]\n",
            "Batch 65, Epoch 6 [Loss: 1.93e+01]\n",
            "Batch 65, Epoch 7 [Loss: 1.93e+01]\n",
            "Batch 65, Epoch 8 [Loss: 1.93e+01]\n",
            "Batch 65, Epoch 9 [Loss: 1.93e+01]\n",
            "Batch 65, Epoch 10 [Loss: 1.93e+01]\n",
            "Batch 65, Epoch 11 [Loss: 1.93e+01]\n",
            "Batch 65, Epoch 12 [Loss: 1.93e+01]\n",
            "Batch 65, Epoch 13 [Loss: 1.93e+01]\n",
            "Batch 65, Epoch 14 [Loss: 1.93e+01]\n",
            "Batch 65, Epoch 15 [Loss: 1.93e+01]\n"
          ]
        },
        {
          "name": "stderr",
          "output_type": "stream",
          "text": [
            "\n",
            "Epochs:  24%|██▍       | 24/100 [00:00<00:01, 74.02it/s]\u001b[A\n",
            "Epochs:  32%|███▏      | 32/100 [00:00<00:00, 74.31it/s]\u001b[A"
          ]
        },
        {
          "name": "stdout",
          "output_type": "stream",
          "text": [
            "Batch 65, Epoch 16 [Loss: 1.93e+01]\n",
            "Batch 65, Epoch 17 [Loss: 1.93e+01]\n",
            "Batch 65, Epoch 18 [Loss: 1.93e+01]\n",
            "Batch 65, Epoch 19 [Loss: 1.93e+01]\n",
            "Batch 65, Epoch 20 [Loss: 1.93e+01]\n",
            "Batch 65, Epoch 21 [Loss: 1.93e+01]\n",
            "Batch 65, Epoch 22 [Loss: 1.93e+01]\n",
            "Batch 65, Epoch 23 [Loss: 1.93e+01]\n",
            "Batch 65, Epoch 24 [Loss: 1.93e+01]\n",
            "Batch 65, Epoch 25 [Loss: 1.93e+01]\n",
            "Batch 65, Epoch 26 [Loss: 1.93e+01]\n",
            "Batch 65, Epoch 27 [Loss: 1.93e+01]\n",
            "Batch 65, Epoch 28 [Loss: 1.93e+01]\n",
            "Batch 65, Epoch 29 [Loss: 1.93e+01]\n",
            "Batch 65, Epoch 30 [Loss: 1.93e+01]\n",
            "Batch 65, Epoch 31 [Loss: 1.93e+01]\n"
          ]
        },
        {
          "name": "stderr",
          "output_type": "stream",
          "text": [
            "\n",
            "Epochs:  40%|████      | 40/100 [00:00<00:00, 74.48it/s]\u001b[A\n",
            "Epochs:  48%|████▊     | 48/100 [00:00<00:00, 73.91it/s]\u001b[A"
          ]
        },
        {
          "name": "stdout",
          "output_type": "stream",
          "text": [
            "Batch 65, Epoch 32 [Loss: 1.93e+01]\n",
            "Batch 65, Epoch 33 [Loss: 1.93e+01]\n",
            "Batch 65, Epoch 34 [Loss: 1.93e+01]\n",
            "Batch 65, Epoch 35 [Loss: 1.93e+01]\n",
            "Batch 65, Epoch 36 [Loss: 1.93e+01]\n",
            "Batch 65, Epoch 37 [Loss: 1.93e+01]\n",
            "Batch 65, Epoch 38 [Loss: 1.93e+01]\n",
            "Batch 65, Epoch 39 [Loss: 1.93e+01]\n",
            "Batch 65, Epoch 40 [Loss: 1.93e+01]\n",
            "Batch 65, Epoch 41 [Loss: 1.93e+01]\n",
            "Batch 65, Epoch 42 [Loss: 1.93e+01]\n",
            "Batch 65, Epoch 43 [Loss: 1.93e+01]\n",
            "Batch 65, Epoch 44 [Loss: 1.93e+01]\n",
            "Batch 65, Epoch 45 [Loss: 1.93e+01]\n",
            "Batch 65, Epoch 46 [Loss: 1.93e+01]\n",
            "Batch 65, Epoch 47 [Loss: 1.93e+01]\n"
          ]
        },
        {
          "name": "stderr",
          "output_type": "stream",
          "text": [
            "\n",
            "Epochs:  56%|█████▌    | 56/100 [00:00<00:00, 73.61it/s]\u001b[A\n",
            "Epochs:  64%|██████▍   | 64/100 [00:00<00:00, 73.94it/s]\u001b[A"
          ]
        },
        {
          "name": "stdout",
          "output_type": "stream",
          "text": [
            "Batch 65, Epoch 48 [Loss: 1.93e+01]\n",
            "Batch 65, Epoch 49 [Loss: 1.93e+01]\n",
            "Batch 65, Epoch 50 [Loss: 1.93e+01]\n",
            "Batch 65, Epoch 51 [Loss: 1.93e+01]\n",
            "Batch 65, Epoch 52 [Loss: 1.93e+01]\n",
            "Batch 65, Epoch 53 [Loss: 1.93e+01]\n",
            "Batch 65, Epoch 54 [Loss: 1.93e+01]\n",
            "Batch 65, Epoch 55 [Loss: 1.93e+01]\n",
            "Batch 65, Epoch 56 [Loss: 1.93e+01]\n",
            "Batch 65, Epoch 57 [Loss: 1.93e+01]\n",
            "Batch 65, Epoch 58 [Loss: 1.93e+01]\n",
            "Batch 65, Epoch 59 [Loss: 1.93e+01]\n",
            "Batch 65, Epoch 60 [Loss: 1.93e+01]\n",
            "Batch 65, Epoch 61 [Loss: 1.93e+01]\n",
            "Batch 65, Epoch 62 [Loss: 1.93e+01]\n",
            "Batch 65, Epoch 63 [Loss: 1.93e+01]\n"
          ]
        },
        {
          "name": "stderr",
          "output_type": "stream",
          "text": [
            "\n",
            "Epochs:  72%|███████▏  | 72/100 [00:00<00:00, 73.84it/s]\u001b[A\n"
          ]
        },
        {
          "name": "stdout",
          "output_type": "stream",
          "text": [
            "Batch 65, Epoch 64 [Loss: 1.93e+01]\n",
            "Batch 65, Epoch 65 [Loss: 1.93e+01]\n",
            "Batch 65, Epoch 66 [Loss: 1.93e+01]\n",
            "Batch 65, Epoch 67 [Loss: 1.93e+01]\n",
            "Batch 65, Epoch 68 [Loss: 1.93e+01]\n",
            "Batch 65, Epoch 69 [Loss: 1.93e+01]\n",
            "Batch 65, Epoch 70 [Loss: 1.93e+01]\n",
            "Batch 65, Epoch 71 [Loss: 1.93e+01]\n",
            "Batch 65, Epoch 72 [Loss: 1.93e+01]\n",
            "Batch 65, Epoch 73 [Loss: 1.93e+01]\n",
            "Batch 65, Epoch 74 [Loss: 1.93e+01]\n",
            "Batch 65, Epoch 75 [Loss: 1.93e+01]\n",
            "Batch 65, Epoch 76 [Loss: 1.93e+01]\n",
            "Batch 65, Epoch 77 [Loss: 1.93e+01]\n",
            "Batch 65, Epoch 78 [Loss: 1.93e+01]\n",
            "Batch 65, Epoch 79 [Loss: 1.93e+01]\n"
          ]
        },
        {
          "name": "stderr",
          "output_type": "stream",
          "text": [
            "Epochs:  80%|████████  | 80/100 [00:01<00:00, 73.35it/s]\u001b[A\n",
            "Epochs:  88%|████████▊ | 88/100 [00:01<00:00, 73.77it/s]\u001b[A\n",
            "Epochs:  96%|█████████▌| 96/100 [00:01<00:00, 73.63it/s]\u001b[A"
          ]
        },
        {
          "name": "stdout",
          "output_type": "stream",
          "text": [
            "Batch 65, Epoch 80 [Loss: 1.93e+01]\n",
            "Batch 65, Epoch 81 [Loss: 1.93e+01]\n",
            "Batch 65, Epoch 82 [Loss: 1.93e+01]\n",
            "Batch 65, Epoch 83 [Loss: 1.93e+01]\n",
            "Batch 65, Epoch 84 [Loss: 1.93e+01]\n",
            "Batch 65, Epoch 85 [Loss: 1.93e+01]\n",
            "Batch 65, Epoch 86 [Loss: 1.93e+01]\n",
            "Batch 65, Epoch 87 [Loss: 1.93e+01]\n",
            "Batch 65, Epoch 88 [Loss: 1.93e+01]\n",
            "Batch 65, Epoch 89 [Loss: 1.93e+01]\n",
            "Batch 65, Epoch 90 [Loss: 1.93e+01]\n",
            "Batch 65, Epoch 91 [Loss: 1.93e+01]\n",
            "Batch 65, Epoch 92 [Loss: 1.93e+01]\n",
            "Batch 65, Epoch 93 [Loss: 1.93e+01]\n",
            "Batch 65, Epoch 94 [Loss: 1.93e+01]\n",
            "Batch 65, Epoch 95 [Loss: 1.93e+01]\n"
          ]
        },
        {
          "name": "stderr",
          "output_type": "stream",
          "text": [
            "\n",
            "Batches:   3%|▎         | 66/2500 [01:40<58:22,  1.44s/it]"
          ]
        },
        {
          "name": "stdout",
          "output_type": "stream",
          "text": [
            "Batch 65, Epoch 96 [Loss: 1.93e+01]\n",
            "Batch 65, Epoch 97 [Loss: 1.93e+01]\n",
            "Batch 65, Epoch 98 [Loss: 1.93e+01]\n",
            "Batch 65, Epoch 99 [Loss: 1.93e+01]\n"
          ]
        },
        {
          "name": "stderr",
          "output_type": "stream",
          "text": [
            "\n",
            "Epochs:   0%|          | 0/100 [00:00<?, ?it/s]\u001b[A\n",
            "Epochs:   8%|▊         | 8/100 [00:00<00:01, 77.58it/s]\u001b[A\n",
            "Epochs:  16%|█▌        | 16/100 [00:00<00:01, 76.05it/s]\u001b[A\n",
            "Epochs:  24%|██▍       | 24/100 [00:00<00:01, 73.15it/s]\u001b[A\n",
            "Epochs:  32%|███▏      | 32/100 [00:00<00:00, 73.73it/s]\u001b[A\n",
            "Epochs:  40%|████      | 40/100 [00:00<00:00, 74.63it/s]\u001b[A\n",
            "Epochs:  48%|████▊     | 48/100 [00:00<00:00, 75.41it/s]\u001b[A\n",
            "Epochs:  56%|█████▌    | 56/100 [00:00<00:00, 74.40it/s]\u001b[A\n",
            "Epochs:  64%|██████▍   | 64/100 [00:00<00:00, 74.61it/s]\u001b[A\n",
            "Epochs:  72%|███████▏  | 72/100 [00:00<00:00, 74.14it/s]\u001b[A\n",
            "Epochs:  80%|████████  | 80/100 [00:01<00:00, 73.68it/s]\u001b[A\n",
            "Epochs:  88%|████████▊ | 88/100 [00:01<00:00, 74.57it/s]\u001b[A\n",
            "Epochs:  96%|█████████▌| 96/100 [00:01<00:00, 73.95it/s]\u001b[A\n",
            "Batches:   3%|▎         | 67/2500 [01:41<57:28,  1.42s/it]\n",
            "Epochs:   0%|          | 0/100 [00:00<?, ?it/s]\u001b[A\n",
            "Epochs:   8%|▊         | 8/100 [00:00<00:01, 78.93it/s]\u001b[A\n",
            "Epochs:  16%|█▌        | 16/100 [00:00<00:01, 78.02it/s]\u001b[A\n",
            "Epochs:  24%|██▍       | 24/100 [00:00<00:00, 76.15it/s]\u001b[A\n",
            "Epochs:  32%|███▏      | 32/100 [00:00<00:00, 75.70it/s]\u001b[A\n",
            "Epochs:  40%|████      | 40/100 [00:00<00:00, 75.69it/s]\u001b[A\n",
            "Epochs:  48%|████▊     | 48/100 [00:00<00:00, 75.62it/s]\u001b[A\n",
            "Epochs:  56%|█████▌    | 56/100 [00:00<00:00, 75.83it/s]\u001b[A\n",
            "Epochs:  64%|██████▍   | 64/100 [00:00<00:00, 75.59it/s]\u001b[A\n",
            "Epochs:  72%|███████▏  | 72/100 [00:00<00:00, 76.01it/s]\u001b[A\n",
            "Epochs:  80%|████████  | 80/100 [00:01<00:00, 76.01it/s]\u001b[A\n",
            "Epochs:  88%|████████▊ | 88/100 [00:01<00:00, 75.38it/s]\u001b[A\n",
            "Epochs:  96%|█████████▌| 96/100 [00:01<00:00, 75.99it/s]\u001b[A\n",
            "Batches:   3%|▎         | 68/2500 [01:43<56:28,  1.39s/it]\n",
            "Epochs:   0%|          | 0/100 [00:00<?, ?it/s]\u001b[A\n",
            "Epochs:   8%|▊         | 8/100 [00:00<00:01, 76.25it/s]\u001b[A\n",
            "Epochs:  16%|█▌        | 16/100 [00:00<00:01, 76.43it/s]\u001b[A\n",
            "Epochs:  24%|██▍       | 24/100 [00:00<00:00, 76.37it/s]\u001b[A\n",
            "Epochs:  32%|███▏      | 32/100 [00:00<00:00, 75.79it/s]\u001b[A\n",
            "Epochs:  40%|████      | 40/100 [00:00<00:00, 75.22it/s]\u001b[A\n",
            "Epochs:  48%|████▊     | 48/100 [00:00<00:00, 74.37it/s]\u001b[A\n",
            "Epochs:  56%|█████▌    | 56/100 [00:00<00:00, 74.65it/s]\u001b[A\n",
            "Epochs:  64%|██████▍   | 64/100 [00:00<00:00, 75.50it/s]\u001b[A\n",
            "Epochs:  72%|███████▏  | 72/100 [00:00<00:00, 75.82it/s]\u001b[A\n",
            "Epochs:  80%|████████  | 80/100 [00:01<00:00, 74.42it/s]\u001b[A\n",
            "Epochs:  88%|████████▊ | 88/100 [00:01<00:00, 74.40it/s]\u001b[A\n",
            "Epochs:  96%|█████████▌| 96/100 [00:01<00:00, 72.89it/s]\u001b[A\n",
            "Batches:   3%|▎         | 69/2500 [01:44<56:09,  1.39s/it]\n",
            "Epochs:   0%|          | 0/100 [00:00<?, ?it/s]\u001b[A\n",
            "Epochs:   8%|▊         | 8/100 [00:00<00:01, 72.53it/s]\u001b[A\n",
            "Epochs:  16%|█▌        | 16/100 [00:00<00:01, 69.41it/s]\u001b[A\n",
            "Epochs:  24%|██▍       | 24/100 [00:00<00:01, 71.65it/s]\u001b[A\n",
            "Epochs:  32%|███▏      | 32/100 [00:00<00:00, 73.41it/s]\u001b[A\n",
            "Epochs:  40%|████      | 40/100 [00:00<00:00, 74.28it/s]\u001b[A\n",
            "Epochs:  48%|████▊     | 48/100 [00:00<00:00, 74.29it/s]\u001b[A\n",
            "Epochs:  56%|█████▌    | 56/100 [00:00<00:00, 73.53it/s]\u001b[A\n",
            "Epochs:  64%|██████▍   | 64/100 [00:00<00:00, 73.74it/s]\u001b[A\n",
            "Epochs:  72%|███████▏  | 72/100 [00:00<00:00, 73.96it/s]\u001b[A\n",
            "Epochs:  80%|████████  | 80/100 [00:01<00:00, 73.93it/s]\u001b[A\n",
            "Epochs:  88%|████████▊ | 88/100 [00:01<00:00, 73.03it/s]\u001b[A\n",
            "Epochs:  96%|█████████▌| 96/100 [00:01<00:00, 73.10it/s]\u001b[A\n",
            "Batches:   3%|▎         | 70/2500 [01:45<56:11,  1.39s/it]\n",
            "Epochs:   0%|          | 0/100 [00:00<?, ?it/s]\u001b[A\n",
            "Epochs:   4%|▍         | 4/100 [00:00<00:02, 38.85it/s]\u001b[A\n",
            "Epochs:   8%|▊         | 8/100 [00:00<00:02, 38.10it/s]\u001b[A"
          ]
        },
        {
          "name": "stdout",
          "output_type": "stream",
          "text": [
            "Batch 70, Epoch 0 [Loss: 1.33e+02]\n",
            "Batch 70, Epoch 1 [Loss: 1.33e+02]\n",
            "Batch 70, Epoch 2 [Loss: 1.33e+02]\n",
            "Batch 70, Epoch 3 [Loss: 1.33e+02]\n",
            "Batch 70, Epoch 4 [Loss: 1.33e+02]\n",
            "Batch 70, Epoch 5 [Loss: 1.33e+02]\n",
            "Batch 70, Epoch 6 [Loss: 1.33e+02]\n",
            "Batch 70, Epoch 7 [Loss: 1.33e+02]\n"
          ]
        },
        {
          "name": "stderr",
          "output_type": "stream",
          "text": [
            "\n",
            "Epochs:  12%|█▏        | 12/100 [00:00<00:02, 36.76it/s]\u001b[A"
          ]
        },
        {
          "name": "stdout",
          "output_type": "stream",
          "text": [
            "Batch 70, Epoch 8 [Loss: 1.33e+02]\n",
            "Batch 70, Epoch 9 [Loss: 1.33e+02]\n",
            "Batch 70, Epoch 10 [Loss: 1.33e+02]\n",
            "Batch 70, Epoch 11 [Loss: 1.33e+02]\n",
            "Batch 70, Epoch 12 [Loss: 1.33e+02]\n",
            "Batch 70, Epoch 13 [Loss: 1.33e+02]\n",
            "Batch 70, Epoch 14 [Loss: 1.33e+02]\n",
            "Batch 70, Epoch 15 [Loss: 1.33e+02]\n"
          ]
        },
        {
          "name": "stderr",
          "output_type": "stream",
          "text": [
            "\n",
            "Epochs:  16%|█▌        | 16/100 [00:00<00:02, 36.88it/s]\u001b[A\n",
            "Epochs:  20%|██        | 20/100 [00:00<00:02, 37.11it/s]\u001b[A\n",
            "Epochs:  24%|██▍       | 24/100 [00:00<00:02, 37.23it/s]\u001b[A"
          ]
        },
        {
          "name": "stdout",
          "output_type": "stream",
          "text": [
            "Batch 70, Epoch 16 [Loss: 1.33e+02]\n",
            "Batch 70, Epoch 17 [Loss: 1.33e+02]\n",
            "Batch 70, Epoch 18 [Loss: 1.33e+02]\n",
            "Batch 70, Epoch 19 [Loss: 1.33e+02]\n",
            "Batch 70, Epoch 20 [Loss: 1.33e+02]\n",
            "Batch 70, Epoch 21 [Loss: 1.33e+02]\n",
            "Batch 70, Epoch 22 [Loss: 1.33e+02]\n",
            "Batch 70, Epoch 23 [Loss: 1.33e+02]\n"
          ]
        },
        {
          "name": "stderr",
          "output_type": "stream",
          "text": [
            "\n",
            "Epochs:  28%|██▊       | 28/100 [00:00<00:01, 36.60it/s]\u001b[A\n",
            "Batches:   3%|▎         | 70/2500 [01:46<1:01:47,  1.53s/it]"
          ]
        },
        {
          "name": "stdout",
          "output_type": "stream",
          "text": [
            "Batch 70, Epoch 24 [Loss: 1.33e+02]\n",
            "Batch 70, Epoch 25 [Loss: 1.33e+02]\n",
            "Batch 70, Epoch 26 [Loss: 1.33e+02]\n",
            "Batch 70, Epoch 27 [Loss: 1.33e+02]\n",
            "Batch 70, Epoch 28 [Loss: 1.33e+02]\n"
          ]
        },
        {
          "name": "stderr",
          "output_type": "stream",
          "text": [
            "\n"
          ]
        },
        {
          "ename": "KeyboardInterrupt",
          "evalue": "",
          "output_type": "error",
          "traceback": [
            "\u001b[0;31m---------------------------------------------------------------------------\u001b[0m",
            "\u001b[0;31mKeyboardInterrupt\u001b[0m                         Traceback (most recent call last)",
            "\u001b[0;32m<ipython-input-67-4c296637675a>\u001b[0m in \u001b[0;36m<cell line: 41>\u001b[0;34m()\u001b[0m\n\u001b[1;32m     39\u001b[0m \u001b[0mscheduler\u001b[0m \u001b[0;34m=\u001b[0m \u001b[0mStepLR\u001b[0m\u001b[0;34m(\u001b[0m\u001b[0moptimizer\u001b[0m\u001b[0;34m,\u001b[0m \u001b[0mstep_size\u001b[0m\u001b[0;34m=\u001b[0m\u001b[0;36m10\u001b[0m\u001b[0;34m,\u001b[0m \u001b[0mgamma\u001b[0m\u001b[0;34m=\u001b[0m\u001b[0;36m0.1\u001b[0m\u001b[0;34m)\u001b[0m\u001b[0;34m\u001b[0m\u001b[0;34m\u001b[0m\u001b[0m\n\u001b[1;32m     40\u001b[0m \u001b[0;34m\u001b[0m\u001b[0m\n\u001b[0;32m---> 41\u001b[0;31m \u001b[0mlosses_PDE\u001b[0m \u001b[0;34m=\u001b[0m \u001b[0mtrain_PDE\u001b[0m\u001b[0;34m(\u001b[0m\u001b[0mmodel\u001b[0m\u001b[0;34m,\u001b[0m \u001b[0mtrain_dataloader\u001b[0m\u001b[0;34m,\u001b[0m \u001b[0moptimizer\u001b[0m\u001b[0;34m,\u001b[0m \u001b[0mscheduler\u001b[0m\u001b[0;34m)\u001b[0m\u001b[0;34m\u001b[0m\u001b[0;34m\u001b[0m\u001b[0m\n\u001b[0m",
            "\u001b[0;32m<ipython-input-67-4c296637675a>\u001b[0m in \u001b[0;36mtrain_PDE\u001b[0;34m(model, dataloader, optimizer, scheduler, epochs, print_batch, save_batch)\u001b[0m\n\u001b[1;32m     18\u001b[0m \u001b[0;34m\u001b[0m\u001b[0m\n\u001b[1;32m     19\u001b[0m           \u001b[0moptimizer\u001b[0m\u001b[0;34m.\u001b[0m\u001b[0mzero_grad\u001b[0m\u001b[0;34m(\u001b[0m\u001b[0;34m)\u001b[0m\u001b[0;34m\u001b[0m\u001b[0;34m\u001b[0m\u001b[0m\n\u001b[0;32m---> 20\u001b[0;31m           \u001b[0mloss\u001b[0m\u001b[0;34m.\u001b[0m\u001b[0mbackward\u001b[0m\u001b[0;34m(\u001b[0m\u001b[0;34m)\u001b[0m\u001b[0;34m\u001b[0m\u001b[0;34m\u001b[0m\u001b[0m\n\u001b[0m\u001b[1;32m     21\u001b[0m           \u001b[0moptimizer\u001b[0m\u001b[0;34m.\u001b[0m\u001b[0mstep\u001b[0m\u001b[0;34m(\u001b[0m\u001b[0;34m)\u001b[0m\u001b[0;34m\u001b[0m\u001b[0;34m\u001b[0m\u001b[0m\n\u001b[1;32m     22\u001b[0m           \u001b[0;32mif\u001b[0m \u001b[0mscheduler\u001b[0m\u001b[0;34m:\u001b[0m\u001b[0;34m\u001b[0m\u001b[0;34m\u001b[0m\u001b[0m\n",
            "\u001b[0;32m/usr/local/lib/python3.10/dist-packages/torch/_tensor.py\u001b[0m in \u001b[0;36mbackward\u001b[0;34m(self, gradient, retain_graph, create_graph, inputs)\u001b[0m\n\u001b[1;32m    523\u001b[0m                 \u001b[0minputs\u001b[0m\u001b[0;34m=\u001b[0m\u001b[0minputs\u001b[0m\u001b[0;34m,\u001b[0m\u001b[0;34m\u001b[0m\u001b[0;34m\u001b[0m\u001b[0m\n\u001b[1;32m    524\u001b[0m             )\n\u001b[0;32m--> 525\u001b[0;31m         torch.autograd.backward(\n\u001b[0m\u001b[1;32m    526\u001b[0m             \u001b[0mself\u001b[0m\u001b[0;34m,\u001b[0m \u001b[0mgradient\u001b[0m\u001b[0;34m,\u001b[0m \u001b[0mretain_graph\u001b[0m\u001b[0;34m,\u001b[0m \u001b[0mcreate_graph\u001b[0m\u001b[0;34m,\u001b[0m \u001b[0minputs\u001b[0m\u001b[0;34m=\u001b[0m\u001b[0minputs\u001b[0m\u001b[0;34m\u001b[0m\u001b[0;34m\u001b[0m\u001b[0m\n\u001b[1;32m    527\u001b[0m         )\n",
            "\u001b[0;32m/usr/local/lib/python3.10/dist-packages/torch/autograd/__init__.py\u001b[0m in \u001b[0;36mbackward\u001b[0;34m(tensors, grad_tensors, retain_graph, create_graph, grad_variables, inputs)\u001b[0m\n\u001b[1;32m    265\u001b[0m     \u001b[0;31m# some Python versions print out the first line of a multi-line function\u001b[0m\u001b[0;34m\u001b[0m\u001b[0;34m\u001b[0m\u001b[0m\n\u001b[1;32m    266\u001b[0m     \u001b[0;31m# calls in the traceback and some print out the last line\u001b[0m\u001b[0;34m\u001b[0m\u001b[0;34m\u001b[0m\u001b[0m\n\u001b[0;32m--> 267\u001b[0;31m     _engine_run_backward(\n\u001b[0m\u001b[1;32m    268\u001b[0m         \u001b[0mtensors\u001b[0m\u001b[0;34m,\u001b[0m\u001b[0;34m\u001b[0m\u001b[0;34m\u001b[0m\u001b[0m\n\u001b[1;32m    269\u001b[0m         \u001b[0mgrad_tensors_\u001b[0m\u001b[0;34m,\u001b[0m\u001b[0;34m\u001b[0m\u001b[0;34m\u001b[0m\u001b[0m\n",
            "\u001b[0;32m/usr/local/lib/python3.10/dist-packages/torch/autograd/graph.py\u001b[0m in \u001b[0;36m_engine_run_backward\u001b[0;34m(t_outputs, *args, **kwargs)\u001b[0m\n\u001b[1;32m    742\u001b[0m         \u001b[0munregister_hooks\u001b[0m \u001b[0;34m=\u001b[0m \u001b[0m_register_logging_hooks_on_whole_graph\u001b[0m\u001b[0;34m(\u001b[0m\u001b[0mt_outputs\u001b[0m\u001b[0;34m)\u001b[0m\u001b[0;34m\u001b[0m\u001b[0;34m\u001b[0m\u001b[0m\n\u001b[1;32m    743\u001b[0m     \u001b[0;32mtry\u001b[0m\u001b[0;34m:\u001b[0m\u001b[0;34m\u001b[0m\u001b[0;34m\u001b[0m\u001b[0m\n\u001b[0;32m--> 744\u001b[0;31m         return Variable._execution_engine.run_backward(  # Calls into the C++ engine to run the backward pass\n\u001b[0m\u001b[1;32m    745\u001b[0m             \u001b[0mt_outputs\u001b[0m\u001b[0;34m,\u001b[0m \u001b[0;34m*\u001b[0m\u001b[0margs\u001b[0m\u001b[0;34m,\u001b[0m \u001b[0;34m**\u001b[0m\u001b[0mkwargs\u001b[0m\u001b[0;34m\u001b[0m\u001b[0;34m\u001b[0m\u001b[0m\n\u001b[1;32m    746\u001b[0m         )  # Calls into the C++ engine to run the backward pass\n",
            "\u001b[0;31mKeyboardInterrupt\u001b[0m: "
          ]
        }
      ],
      "source": [
        "import torch.nn.functional as F\n",
        "\n",
        "def train_PDE(model, dataloader, optimizer, scheduler=None, epochs=100, print_batch=5, save_batch=10):\n",
        "  model.to(device)\n",
        "  loss_list = []\n",
        "  for batch_index, graph in enumerate(tqdm.tqdm(dataloader, desc=\"Batches\")):\n",
        "      for epoch in tqdm.tqdm(range(epochs), desc=\"Epochs\", leave=False):\n",
        "          graph = graph.to(device)\n",
        "          model.train()  # Ensure the model is in training mode\n",
        "          pred, target = model(graph)\n",
        "          loss = F.mse_loss(pred, target)\n",
        "\n",
        "          loss_list.append(loss.item())\n",
        "\n",
        "          # Ensure loss is a scalar\n",
        "          if loss.dim() > 0:\n",
        "              loss = loss.mean()\n",
        "\n",
        "          optimizer.zero_grad()\n",
        "          loss.backward()\n",
        "          optimizer.step()\n",
        "          if scheduler:\n",
        "              scheduler.step()  # Update the learning rate if scheduler is provided\n",
        "\n",
        "          if batch_index % print_batch == 0:\n",
        "              print(f'Batch {batch_index}, Epoch {epoch} [Loss: {loss.item():.2e}]')\n",
        "\n",
        "          if batch_index % save_batch == 0:\n",
        "              model.save()\n",
        "              #print('Model saved')\n",
        "\n",
        "  return loss_list\n",
        "\n",
        "\n",
        "# Example usage with a learning rate scheduler\n",
        "from torch.optim.lr_scheduler import StepLR\n",
        "\n",
        "optimizer = torch.optim.Adam(model.parameters(), lr=1e-4)\n",
        "scheduler = StepLR(optimizer, step_size=10, gamma=0.1)\n",
        "\n",
        "losses_PDE = train_PDE(model, train_dataloader, optimizer, scheduler)\n"
      ]
    },
    {
      "cell_type": "code",
      "execution_count": 68,
      "metadata": {
        "colab": {
          "base_uri": "https://localhost:8080/",
          "height": 146
        },
        "id": "MhAVS0MJoz3C",
        "outputId": "3d85f20e-2089-4144-f514-9d44487593bd"
      },
      "outputs": [
        {
          "ename": "NameError",
          "evalue": "name 'losses_PDE' is not defined",
          "output_type": "error",
          "traceback": [
            "\u001b[0;31m---------------------------------------------------------------------------\u001b[0m",
            "\u001b[0;31mNameError\u001b[0m                                 Traceback (most recent call last)",
            "\u001b[0;32m<ipython-input-68-02f2ce592917>\u001b[0m in \u001b[0;36m<cell line: 1>\u001b[0;34m()\u001b[0m\n\u001b[0;32m----> 1\u001b[0;31m \u001b[0mplt\u001b[0m\u001b[0;34m.\u001b[0m\u001b[0mplot\u001b[0m\u001b[0;34m(\u001b[0m\u001b[0mlosses_PDE\u001b[0m\u001b[0;34m)\u001b[0m\u001b[0;34m\u001b[0m\u001b[0;34m\u001b[0m\u001b[0m\n\u001b[0m",
            "\u001b[0;31mNameError\u001b[0m: name 'losses_PDE' is not defined"
          ]
        }
      ],
      "source": [
        "plt.plot(losses_PDE)"
      ]
    },
    {
      "cell_type": "code",
      "execution_count": null,
      "metadata": {
        "colab": {
          "base_uri": "https://localhost:8080/",
          "height": 1000
        },
        "id": "-xmhiCEXIv0y",
        "outputId": "a2603bff-8f84-401e-f00d-d434f754f744"
      },
      "outputs": [
        {
          "name": "stderr",
          "output_type": "stream",
          "text": [
            "<ipython-input-163-ea0e44780a33>:8: UserWarning: Using a target size (torch.Size([100, 1])) that is different to the input size (torch.Size([100, 2])). This will likely lead to incorrect results due to broadcasting. Please ensure they have the same size.\n",
            "  loss += F.mse_loss(pred, target).item()\n"
          ]
        },
        {
          "data": {
            "image/png": "[encoded data removed]",
            "text/plain": [
              "<Figure size 640x480 with 1 Axes>"
            ]
          },
          "metadata": {},
          "output_type": "display_data"
        },
        {
          "data": {
            "image/png": "[encoded data removed]",
            "text/plain": [
              "<Figure size 640x480 with 1 Axes>"
            ]
          },
          "metadata": {},
          "output_type": "display_data"
        },
        {
          "data": {
            "image/png": "[encoded data removed]",
            "text/plain": [
              "<Figure size 640x480 with 1 Axes>"
            ]
          },
          "metadata": {},
          "output_type": "display_data"
        },
        {
          "data": {
            "image/png": "[encoded data removed]",
            "text/plain": [
              "<Figure size 640x480 with 1 Axes>"
            ]
          },
          "metadata": {},
          "output_type": "display_data"
        },
        {
          "data": {
            "image/png": "[encoded data removed]",
            "text/plain": [
              "<Figure size 640x480 with 1 Axes>"
            ]
          },
          "metadata": {},
          "output_type": "display_data"
        },
        {
          "data": {
            "image/png": "[encoded data removed]",
            "text/plain": [
              "<Figure size 640x480 with 1 Axes>"
            ]
          },
          "metadata": {},
          "output_type": "display_data"
        },
        {
          "data": {
            "image/png": "[encoded data removed]",
            "text/plain": [
              "<Figure size 640x480 with 1 Axes>"
            ]
          },
          "metadata": {},
          "output_type": "display_data"
        },
        {
          "data": {
            "image/png": "[encoded data removed]",
            "text/plain": [
              "<Figure size 640x480 with 1 Axes>"
            ]
          },
          "metadata": {},
          "output_type": "display_data"
        },
        {
          "data": {
            "image/png": "[encoded data removed]",
            "text/plain": [
              "<Figure size 640x480 with 1 Axes>"
            ]
          },
          "metadata": {},
          "output_type": "display_data"
        },
        {
          "data": {
            "image/png": "[encoded data removed]",
            "text/plain": [
              "<Figure size 640x480 with 1 Axes>"
            ]
          },
          "metadata": {},
          "output_type": "display_data"
        }
      ],
      "source": [
        "# Test the model\n",
        "def test_PDE(model, dataloader):\n",
        "    loss = 0\n",
        "    for batch_index, graph in enumerate(dataloader):\n",
        "        model.eval()\n",
        "        graph = graph.to(device)\n",
        "        pred, target = model(graph)\n",
        "        loss += F.mse_loss(pred, target).item()\n",
        "\n",
        "    return loss / len(dataloader)\n",
        "\n",
        "test_PDE(model, test_dataloader)\n",
        "\n",
        "# Plot the results\n",
        "plot_results(model, test_dataloader)"
      ]
    },
    {
      "cell_type": "code",
      "execution_count": null,
      "metadata": {
        "id": "pOBAEIR8Iv0y"
      },
      "outputs": [],
      "source": []
    }
  ],
  "metadata": {
    "accelerator": "GPU",
    "colab": {
      "gpuType": "A100",
      "provenance": []
    },
    "kernelspec": {
      "display_name": "Python 3",
      "name": "python3"
    },
    "language_info": {
      "codemirror_mode": {
        "name": "ipython",
        "version": 3
      },
      "file_extension": ".py",
      "mimetype": "text/x-python",
      "name": "python",
      "nbconvert_exporter": "python",
      "pygments_lexer": "ipython3",
      "version": "3.12.4"
    }
  },
  "nbformat": 4,
  "nbformat_minor": 0
}
