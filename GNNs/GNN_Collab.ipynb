{
 "cells": [
  {
   "cell_type": "code",
   "execution_count": 1,
   "metadata": {},
   "outputs": [],
   "source": [
    "import torch\n",
    "from torch_geometric.data import Data\n",
    "from torch_geometric.nn import MessagePassing\n",
    "from torch_geometric.utils import add_self_loops\n",
    "import numpy as np\n",
    "import pandas as pd\n",
    "import matplotlib.pyplot as plt\n",
    "import networkx as nx\n",
    "from torch_geometric.utils import to_networkx"
   ]
  },
  {
   "cell_type": "code",
   "execution_count": 84,
   "metadata": {},
   "outputs": [],
   "source": [
    "import math\n",
    "import torch_scatter\n",
    "\n",
    "class MLP(torch.nn.Module):\n",
    "    \"\"\"Multi-Layer perceptron\"\"\"\n",
    "    def __init__(self, input_size, hidden_size, output_size, layers, layernorm=True):\n",
    "        super().__init__()\n",
    "        self.layers = torch.nn.ModuleList()\n",
    "        for i in range(layers):\n",
    "            self.layers.append(torch.nn.Linear(\n",
    "                input_size if i == 0 else hidden_size,\n",
    "                output_size if i == layers - 1 else hidden_size,\n",
    "            ))\n",
    "            if i != layers - 1:\n",
    "                self.layers.append(torch.nn.ReLU())\n",
    "        if layernorm:\n",
    "            self.layers.append(torch.nn.LayerNorm(output_size))\n",
    "        self.reset_parameters()\n",
    "\n",
    "    def reset_parameters(self):\n",
    "        for layer in self.layers:\n",
    "            if isinstance(layer, torch.nn.Linear):\n",
    "                layer.weight.data.normal_(0, 1 / math.sqrt(layer.in_features))\n",
    "                layer.bias.data.fill_(0)\n",
    "\n",
    "    def forward(self, x):\n",
    "        for layer in self.layers:\n",
    "            x = layer(x)\n",
    "        return x\n"
   ]
  },
  {
   "cell_type": "code",
   "execution_count": 85,
   "metadata": {},
   "outputs": [
    {
     "data": {
      "image/png": "[encoded data removed]",
      "text/plain": [
       "<Figure size 640x480 with 1 Axes>"
      ]
     },
     "metadata": {},
     "output_type": "display_data"
    },
    {
     "name": "stdout",
     "output_type": "stream",
     "text": [
      "tensor([[1.0000, 3.6298],\n",
      "        [1.0000, 0.3542],\n",
      "        [1.0000, 8.3808],\n",
      "        [1.0000, 2.0601],\n",
      "        [1.0000, 4.6864],\n",
      "        [1.0000, 0.6447],\n",
      "        [1.0000, 6.9904],\n",
      "        [1.0000, 0.5986]])\n"
     ]
    }
   ],
   "source": [
    "import torch\n",
    "from torch_geometric.data import Data\n",
    "from torch_geometric.nn import radius_graph\n",
    "\n",
    "def create_gnn_graph(coordinates, E_initial, metadata):\n",
    "    \"\"\"\n",
    "    Create a graph data object for a GNN model.\n",
    "\n",
    "    Args:\n",
    "    - coordinates (list of tuples): A list of 2D coordinates for each node.\n",
    "    - E_initial (float): The initial value for the edge attribute.\n",
    "\n",
    "    Returns:\n",
    "    - data (Data): A PyG Data object representing the graph.\n",
    "    \"\"\"\n",
    "\n",
    "    # Convert coordinates to tensor\n",
    "    node_features = torch.tensor(coordinates, dtype=torch.float)\n",
    "    \n",
    "    # Create edges\n",
    "    num_nodes = len(coordinates)\n",
    "    edge_index = radius_graph(node_features, r=metadata[\"radius\"], loop=False)\n",
    "    \n",
    "    # Calculate edge attributes (e.g., Euclidean distance)\n",
    "    distance = torch.norm(node_features[edge_index[0]] - node_features[edge_index[1]], dim=1).unsqueeze(1)\n",
    "    # Ensure E_edge is a 2-dimensional tensor by unsqueezing\n",
    "    # Convert E_initial to a PyTorch tensor\n",
    "    E_initial = torch.tensor(E_initial, dtype=torch.float)\n",
    "    # Correctly generate a tensor with random values uniformly distributed between 0 and 1, then scale by E_initial\n",
    "    E_edge = torch.rand(edge_index.size(1), 1) * E_initial\n",
    "\n",
    "    # Now, both tensors have shape [number_of_edges, 1] and can be concatenated\n",
    "    edge_attr = torch.cat([distance, E_edge], dim=1)\n",
    "    \n",
    "    # Create a graph data object\n",
    "    data = Data(x=node_features, edge_index=edge_index, edge_attr=edge_attr)\n",
    "    \n",
    "    return data\n",
    "\n",
    "# Example usage\n",
    "metadata = {\"radius\": 1.1}\n",
    "coordinates = [(0, 0), (1, 0), (2, 0), (3, 0), (4, 0)]\n",
    "E_initial = np.random.rand(1) * 10\n",
    "graph_data = create_gnn_graph(coordinates, E_initial, metadata)\n",
    "\n",
    "graph = to_networkx(graph_data)\n",
    "nx.draw(graph, with_labels=True)\n",
    "plt.show()\n",
    "\n",
    "print(graph_data.edge_attr)"
   ]
  },
  {
   "cell_type": "code",
   "execution_count": 90,
   "metadata": {},
   "outputs": [],
   "source": [
    "class InteractionNetwork(MessagePassing):\n",
    "    \"\"\"Interaction Network as proposed in this paper:\n",
    "    https://proceedings.neurips.cc/paper/2016/hash/3147da8ab4a0437c15ef51a5cc7f2dc4-Abstract.html\"\"\"\n",
    "    def __init__(self, hidden_size, layers):\n",
    "        super().__init__()\n",
    "        self.lin_edge = MLP(hidden_size, hidden_size, hidden_size, layers)\n",
    "        self.lin_node = MLP(hidden_size, hidden_size, hidden_size, layers)\n",
    "\n",
    "    def forward(self, x, edge_index, edge_feature):\n",
    "        edge_out, aggr = self.propagate(edge_index, x=(x, x), edge_feature=edge_feature)\n",
    "        node_out = self.lin_node(torch.cat((x, aggr), dim=-1))\n",
    "        edge_out = edge_feature + edge_out\n",
    "        node_out = x + node_out\n",
    "        return node_out, edge_out\n",
    "\n",
    "    def message(self, x_i, x_j, edge_feature):\n",
    "        x = torch.cat((x_i, x_j, edge_feature), dim=-1)\n",
    "        print(x.shape)\n",
    "        x = self.lin_edge(x)\n",
    "        return x\n",
    "\n",
    "    def aggregate(self, inputs, index, dim_size=None):\n",
    "        out = torch_scatter.scatter(inputs, index, dim=self.node_dim, dim_size=dim_size, reduce=\"sum\")\n",
    "        return (inputs, out)"
   ]
  },
  {
   "cell_type": "code",
   "execution_count": 106,
   "metadata": {},
   "outputs": [],
   "source": [
    "class LearnedSimulator(torch.nn.Module):\n",
    "    \"\"\"Graph Network-based Simulators(GNS)\"\"\"\n",
    "    def __init__(\n",
    "        self,\n",
    "        hidden_size=128,\n",
    "        n_mp_layers=10,  # number of GNN layers\n",
    "        node_feature_dim=2,  # Adjusted to match graph_data node features\n",
    "        edge_feature_dim=2,  # Adjusted to match graph_data edge features\n",
    "        output_dim=2,  # Adjusted to match desired output dimension\n",
    "    ):\n",
    "        super().__init__()\n",
    "        self.node_in = MLP(node_feature_dim, hidden_size, hidden_size, 3)\n",
    "        self.edge_in = MLP(edge_feature_dim, hidden_size, hidden_size, 3)\n",
    "        self.node_out = MLP(hidden_size, hidden_size, output_dim, 3, layernorm=False)\n",
    "        self.n_mp_layers = n_mp_layers\n",
    "        self.layers = torch.nn.ModuleList([InteractionNetwork(\n",
    "            hidden_size, 3\n",
    "        ) for _ in range(n_mp_layers)])\n",
    "\n",
    "    def forward(self, data):\n",
    "        # pre-processing\n",
    "        # node feature: just data.x\n",
    "        node_feature = self.node_in(data.x)\n",
    "        edge_feature = self.edge_in(data.edge_attr)\n",
    "        # stack of GNN layers\n",
    "        for i in range(self.n_mp_layers):\n",
    "            node_feature, edge_feature = self.layers[i](node_feature, data.edge_index, edge_feature=edge_feature)\n",
    "        # post-processing\n",
    "        out = self.node_out(node_feature)\n",
    "        return out"
   ]
  },
  {
   "cell_type": "code",
   "execution_count": 118,
   "metadata": {},
   "outputs": [
    {
     "name": "stdout",
     "output_type": "stream",
     "text": [
      "torch.Size([5, 2])\n",
      "torch.Size([5, 128])\n"
     ]
    }
   ],
   "source": [
    "node_in = MLP(2, 128, 128, 3)\n",
    "print(graph_data.x.shape)\n",
    "print(node_in(graph_data.x).shape)"
   ]
  },
  {
   "cell_type": "code",
   "execution_count": 127,
   "metadata": {},
   "outputs": [
    {
     "data": {
      "text/plain": [
       "torch.Size([8, 128])"
      ]
     },
     "execution_count": 127,
     "metadata": {},
     "output_type": "execute_result"
    }
   ],
   "source": [
    "edge_in = MLP(2, 128, 128, 3)\n",
    "edge_in(graph_data.edge_attr).shape"
   ]
  },
  {
   "cell_type": "code",
   "execution_count": 129,
   "metadata": {},
   "outputs": [],
   "source": [
    "n_mp_layers = 1\n",
    "layers = torch.nn.ModuleList([InteractionNetwork(\n",
    "            hidden_size, 3\n",
    "        ) for _ in range(n_mp_layers)])"
   ]
  },
  {
   "cell_type": "code",
   "execution_count": 130,
   "metadata": {},
   "outputs": [
    {
     "data": {
      "text/plain": [
       "ModuleList(\n",
       "  (0): InteractionNetwork()\n",
       ")"
      ]
     },
     "execution_count": 130,
     "metadata": {},
     "output_type": "execute_result"
    }
   ],
   "source": []
  }
 ],
 "metadata": {
  "kernelspec": {
   "display_name": "ML",
   "language": "python",
   "name": "python3"
  },
  "language_info": {
   "codemirror_mode": {
    "name": "ipython",
    "version": 3
   },
   "file_extension": ".py",
   "mimetype": "text/x-python",
   "name": "python",
   "nbconvert_exporter": "python",
   "pygments_lexer": "ipython3",
   "version": "3.12.4"
  }
 },
 "nbformat": 4,
 "nbformat_minor": 2
}
