{
 "cells": [
  {
   "cell_type": "markdown",
   "metadata": {},
   "source": [
    "# Importing packages"
   ]
  },
  {
   "cell_type": "code",
   "execution_count": 155,
   "metadata": {},
   "outputs": [],
   "source": [
    "import torch\n",
    "from torch_geometric.data import Data\n",
    "from torch_geometric.loader import DataLoader\n",
    "from torch_geometric.nn import radius_graph\n",
    "import enum\n",
    "import torch\n",
    "import torch.nn as nn\n",
    "import torch.nn.functional as F\n",
    "from torch_scatter import scatter_add\n",
    "from torch_geometric.utils import to_networkx\n",
    "import networkx as nx\n",
    "import matplotlib.pyplot as plt\n",
    "import numpy as np\n",
    "import os"
   ]
  },
  {
   "cell_type": "markdown",
   "metadata": {},
   "source": [
    "## Helper Functions"
   ]
  },
  {
   "cell_type": "code",
   "execution_count": 156,
   "metadata": {},
   "outputs": [],
   "source": [
    "def decompose_graph(graph):\n",
    "    # graph: torch_geometric.data.data.Data\n",
    "    # TODO: make it more robust\n",
    "    x, edge_index, edge_attr, global_attr = None, None, None, None\n",
    "    for key in graph.keys():\n",
    "        if key==\"x\":\n",
    "            x = graph.x\n",
    "        elif key==\"edge_index\":\n",
    "            edge_index = graph.edge_index\n",
    "        elif key==\"edge_attr\":\n",
    "            edge_attr = graph.edge_attr\n",
    "        elif key==\"global_attr\":\n",
    "            global_attr = graph.global_attr\n",
    "        else:\n",
    "            pass\n",
    "    return (x, edge_index, edge_attr, global_attr)\n",
    "\n",
    "def copy_geometric_data(graph):\n",
    "    \"\"\"return a copy of torch_geometric.data.data.Data\n",
    "    This function should be carefully used based on\n",
    "    which keys in a given graph.\n",
    "    \"\"\"\n",
    "    node_attr, edge_index, edge_attr, global_attr = decompose_graph(graph)\n",
    "    \n",
    "    ret = Data(x=node_attr, edge_index=edge_index, edge_attr=edge_attr)\n",
    "    ret.global_attr = global_attr\n",
    "    \n",
    "    return ret"
   ]
  },
  {
   "cell_type": "code",
   "execution_count": 157,
   "metadata": {},
   "outputs": [],
   "source": [
    "def build_mlp(in_size, hidden_size, out_size, lay_norm=True):\n",
    "\n",
    "    module = nn.Sequential(nn.Linear(in_size, hidden_size), nn.ReLU(), nn.Linear(hidden_size, hidden_size), nn.ReLU(), nn.Linear(hidden_size, hidden_size), nn.ReLU(), nn.Linear(hidden_size, out_size))\n",
    "    if lay_norm: return nn.Sequential(module,  nn.LayerNorm(normalized_shape=out_size))\n",
    "    return module"
   ]
  },
  {
   "cell_type": "markdown",
   "metadata": {},
   "source": [
    "# Blocks"
   ]
  },
  {
   "cell_type": "code",
   "execution_count": 158,
   "metadata": {},
   "outputs": [],
   "source": [
    "class EdgeBlock(nn.Module):\n",
    "    \"\"\" EdgeBlock, a block that updates edge attributes\n",
    "\n",
    "    Args:\n",
    "        custom_func: nn.Module, a custom function that updates edge attributes\n",
    "    \"\"\"\n",
    "\n",
    "    def __init__(self, custom_func=None):\n",
    "        super(EdgeBlock, self).__init__()\n",
    "        self.net = custom_func\n",
    "\n",
    "    def forward(self, graph):\n",
    "        node_attr, edge_index, edge_attr, _ = decompose_graph(graph)\n",
    "        senders_idx, receivers_idx = edge_index\n",
    "        edges_to_collect = []\n",
    "\n",
    "        senders_attr = node_attr[senders_idx]\n",
    "        receivers_attr = node_attr[receivers_idx]\n",
    "\n",
    "        edges_to_collect.append(senders_attr)\n",
    "        edges_to_collect.append(receivers_attr)\n",
    "        edges_to_collect.append(edge_attr)\n",
    "\n",
    "        collected_edges = torch.cat(edges_to_collect, dim=1)\n",
    "        \n",
    "        edge_attr_ = self.net(collected_edges)   # Update\n",
    "\n",
    "        return Data(x=node_attr, edge_attr=edge_attr_, edge_index=edge_index)\n",
    "\n",
    "class NodeBlock(nn.Module):\n",
    "    \"\"\" NodeBlock, a block that updates node attributes\n",
    "    \n",
    "    Args:\n",
    "        custom_func: nn.Module, a custom function that updates node attributes\n",
    "    \"\"\"\n",
    "\n",
    "    def __init__(self, custom_func=None):\n",
    "        super(NodeBlock, self).__init__()\n",
    "        self.net = custom_func\n",
    "\n",
    "    def forward(self, graph):\n",
    "        # Decompose graph\n",
    "        edge_attr = graph.edge_attr\n",
    "        nodes_to_collect = []\n",
    "        \n",
    "        _, receivers_idx = graph.edge_index\n",
    "        num_nodes = graph.num_nodes\n",
    "        agg_received_edges = scatter_add(edge_attr, receivers_idx, dim=0, dim_size=num_nodes)\n",
    "\n",
    "        nodes_to_collect.append(graph.x)\n",
    "        nodes_to_collect.append(agg_received_edges)\n",
    "        collected_nodes = torch.cat(nodes_to_collect, dim=-1)\n",
    "        x = self.net(collected_nodes)\n",
    "        return Data(x=x, edge_attr=edge_attr, edge_index=graph.edge_index)"
   ]
  },
  {
   "cell_type": "markdown",
   "metadata": {},
   "source": [
    "# Data"
   ]
  },
  {
   "cell_type": "code",
   "execution_count": 159,
   "metadata": {},
   "outputs": [],
   "source": [
    "def create_gnn_graph(coordinates, displacement_vector, metadata):\n",
    "    \"\"\"\n",
    "    Create a graph data object for a GNN model.\n",
    "\n",
    "    Args:\n",
    "    - coordinates (list of tuples): A list of 2D coordinates for each node.\n",
    "    - target (list of floats): A list of target values for each node.\n",
    "\n",
    "    Returns:\n",
    "    - data (Data): A PyG Data object representing the graph.\n",
    "    \"\"\"\n",
    "\n",
    "    # Convert coordinates to tensor\n",
    "    pos = torch.tensor(coordinates, dtype=torch.float)\n",
    "    displacement_vector = torch.tensor(displacement_vector, dtype=torch.float).unsqueeze(1)\n",
    "    \n",
    "    # Add the load as a node attribute\n",
    "    load = torch.rand(pos.size(0), 1) * metadata[\"P_initial\"]\n",
    "\n",
    "    # Create edges\n",
    "    num_nodes = len(coordinates)\n",
    "    edge_index = radius_graph(pos, r=metadata[\"default_connectivity_radius\"], loop=False)\n",
    "\n",
    "    # Calculate edge attributes (e.g., Euclidean distance)\n",
    "    distance = torch.norm(pos[edge_index[0]] - pos[edge_index[1]], dim=1).unsqueeze(1)\n",
    "    # Calculate displacement as vector at each edge\n",
    "    displacement = (pos[edge_index[1]] - pos[edge_index[0]])   \n",
    "    \n",
    "    # Convert E_initial to a PyTorch tensor\n",
    "    E_initial = torch.tensor(metadata[\"E_initial\"], dtype=torch.float)\n",
    "    # Correctly generate a tensor with random values uniformly distributed between 0 and 1, then scale by E_initial\n",
    "    E_edge = torch.rand(edge_index.size(1), 1) * E_initial\n",
    "\n",
    "    # Now, both tensors have shape [number_of_edges, 1] and can be concatenated\n",
    "    edge_attr = torch.cat([distance, displacement, E_edge], dim=1)\n",
    "\n",
    "    # Concat node features and load\n",
    "    node_features = torch.cat([pos], dim=1)\n",
    "    \n",
    "    # Create a graph data object\n",
    "    data = Data(x=node_features, edge_index=edge_index, edge_attr=edge_attr, y=displacement_vector)\n",
    "    \n",
    "    return data"
   ]
  },
  {
   "cell_type": "code",
   "execution_count": 160,
   "metadata": {},
   "outputs": [
    {
     "data": {
      "image/png": "[encoded data removed]",
      "text/plain": [
       "<Figure size 640x480 with 1 Axes>"
      ]
     },
     "metadata": {},
     "output_type": "display_data"
    }
   ],
   "source": [
    "# Example usage\n",
    "metadata = {\"default_connectivity_radius\": 1.6, \"E_initial\": 10, \"P_initial\": 0.5,\n",
    "\"node_features\": [\"x\", \"y\", \"load\"], \"edge_features\": [\"distance\", \"displacement\", \"E_edge\"],\n",
    "\"node_input_size\": 2, \"edge_input_size\": 4}\n",
    "coordinates = [(0.5, 0), (1.5, 0), (2.5, 0), (3.5, 0), (4.5, 0)]\n",
    "displacement = [0, 0.4, 0.5, 0.1]\n",
    "graph_data = create_gnn_graph(coordinates, displacement_vector=displacement, metadata=metadata)\n",
    "\n",
    "graph = to_networkx(graph_data)\n",
    "nx.draw(graph, with_labels=True)\n",
    "plt.show()\n"
   ]
  },
  {
   "cell_type": "markdown",
   "metadata": {},
   "source": [
    "# Encoder"
   ]
  },
  {
   "cell_type": "code",
   "execution_count": 161,
   "metadata": {},
   "outputs": [],
   "source": [
    "class Encoder(nn.Module):\n",
    "    \"\"\" Encoder for the graph neural network. \"\"\"\n",
    "\n",
    "    def __init__(self,\n",
    "                edge_input_size=4,\n",
    "                node_input_size=2,\n",
    "                hidden_size=128):\n",
    "        super(Encoder, self).__init__()\n",
    "\n",
    "        self.nb_encoder = build_mlp(node_input_size, hidden_size, hidden_size)\n",
    "        self.eb_encoder = build_mlp(edge_input_size, hidden_size, hidden_size)\n",
    "    \n",
    "    def forward(self, graph):\n",
    "\n",
    "        node_attr, _, edge_attr, _ = decompose_graph(graph)\n",
    "        node_ = self.nb_encoder(node_attr)\n",
    "        edge_ = self.eb_encoder(edge_attr)\n",
    "        \n",
    "        return Data(x=node_, edge_attr=edge_, edge_index=graph.edge_index)"
   ]
  },
  {
   "cell_type": "code",
   "execution_count": 162,
   "metadata": {},
   "outputs": [
    {
     "data": {
      "text/plain": [
       "(tensor([[0.5000, 0.0000],\n",
       "         [1.5000, 0.0000],\n",
       "         [2.5000, 0.0000],\n",
       "         [3.5000, 0.0000],\n",
       "         [4.5000, 0.0000]]),\n",
       " tensor([[1, 0, 2, 1, 3, 2, 4, 3],\n",
       "         [0, 1, 1, 2, 2, 3, 3, 4]]),\n",
       " tensor([[ 1.0000, -1.0000,  0.0000,  2.8367],\n",
       "         [ 1.0000,  1.0000,  0.0000,  8.9578],\n",
       "         [ 1.0000, -1.0000,  0.0000,  0.7869],\n",
       "         [ 1.0000,  1.0000,  0.0000,  7.5947],\n",
       "         [ 1.0000, -1.0000,  0.0000,  6.7181],\n",
       "         [ 1.0000,  1.0000,  0.0000,  9.5244],\n",
       "         [ 1.0000, -1.0000,  0.0000,  7.0410],\n",
       "         [ 1.0000,  1.0000,  0.0000,  7.3800]]),\n",
       " None)"
      ]
     },
     "execution_count": 162,
     "metadata": {},
     "output_type": "execute_result"
    }
   ],
   "source": [
    "decompose_graph(graph_data)"
   ]
  },
  {
   "cell_type": "code",
   "execution_count": 163,
   "metadata": {},
   "outputs": [],
   "source": [
    "model = Encoder(edge_input_size=4, node_input_size=2, hidden_size=128)\n",
    "out1 = model(graph_data)"
   ]
  },
  {
   "cell_type": "markdown",
   "metadata": {},
   "source": [
    "# Decode"
   ]
  },
  {
   "cell_type": "code",
   "execution_count": 164,
   "metadata": {},
   "outputs": [],
   "source": [
    "class Decoder(nn.Module):\n",
    "    \"\"\" Decoder for the GNN model. \"\"\"\n",
    "\n",
    "    def __init__(self, hidden_size=128, output_size=2):\n",
    "        super(Decoder, self).__init__()\n",
    "        self.decode_module = build_mlp(hidden_size, hidden_size, output_size, lay_norm=False)\n",
    "\n",
    "    def forward(self, graph):\n",
    "        return self.decode_module(graph.x)"
   ]
  },
  {
   "cell_type": "code",
   "execution_count": 165,
   "metadata": {},
   "outputs": [
    {
     "data": {
      "text/plain": [
       "tensor([[0.0911],\n",
       "        [0.0852],\n",
       "        [0.0762],\n",
       "        [0.0717],\n",
       "        [0.0729]], grad_fn=<AddmmBackward0>)"
      ]
     },
     "execution_count": 165,
     "metadata": {},
     "output_type": "execute_result"
    }
   ],
   "source": [
    "model = Decoder(hidden_size=128, output_size=1)\n",
    "model(out1)"
   ]
  },
  {
   "cell_type": "markdown",
   "metadata": {},
   "source": [
    "# GN Block"
   ]
  },
  {
   "cell_type": "code",
   "execution_count": 166,
   "metadata": {},
   "outputs": [],
   "source": [
    "class GnBlock(nn.Module):\n",
    "    \"\"\" Graph Neural Network Block \"\"\"\n",
    "\n",
    "    def __init__(self, hidden_size=128):\n",
    "\n",
    "        super(GnBlock, self).__init__()\n",
    "        eb_input_dim = 3 * hidden_size\n",
    "        nb_input_dim = 2 * hidden_size\n",
    "        nb_custom_func = build_mlp(nb_input_dim, hidden_size, hidden_size)\n",
    "        eb_custom_func = build_mlp(eb_input_dim, hidden_size, hidden_size)\n",
    "        \n",
    "        self.eb_module = EdgeBlock(custom_func=eb_custom_func)\n",
    "        self.nb_module = NodeBlock(custom_func=nb_custom_func)\n",
    "\n",
    "    def forward(self, graph):\n",
    "    \n",
    "        graph_last = copy_geometric_data(graph)\n",
    "        graph = self.eb_module(graph)\n",
    "        graph = self.nb_module(graph)\n",
    "        edge_attr = graph_last.edge_attr + graph.edge_attr\n",
    "        x = graph_last.x + graph.x\n",
    "        return Data(x=x, edge_attr=edge_attr, edge_index=graph.edge_index)"
   ]
  },
  {
   "cell_type": "code",
   "execution_count": 167,
   "metadata": {},
   "outputs": [
    {
     "data": {
      "text/plain": [
       "Data(x=[5, 128], edge_index=[2, 8], edge_attr=[8, 128])"
      ]
     },
     "execution_count": 167,
     "metadata": {},
     "output_type": "execute_result"
    }
   ],
   "source": [
    "model = GnBlock(hidden_size=128)\n",
    "model(out1)"
   ]
  },
  {
   "cell_type": "markdown",
   "metadata": {},
   "source": [
    "# Model"
   ]
  },
  {
   "cell_type": "code",
   "execution_count": 168,
   "metadata": {},
   "outputs": [],
   "source": [
    "class EncoderProcesserDecoder(nn.Module):\n",
    "    \"\"\" Encoder-Processer-Decoder model for GNN\n",
    "    \"\"\"\n",
    "\n",
    "    def __init__(self, message_passing_num, node_input_size, edge_input_size, hidden_size=128):\n",
    "        super(EncoderProcesserDecoder, self).__init__()\n",
    "        self.encoder = Encoder(edge_input_size=edge_input_size, node_input_size=node_input_size, hidden_size=hidden_size)\n",
    "        processer_list = []\n",
    "        for _ in range(message_passing_num):\n",
    "            processer_list.append(GnBlock(hidden_size=hidden_size))\n",
    "        self.processer_list = nn.ModuleList(processer_list)\n",
    "        \n",
    "        self.decoder = Decoder(hidden_size=hidden_size, output_size=1)\n",
    "\n",
    "    def forward(self, graph):\n",
    "\n",
    "        graph= self.encoder(graph)\n",
    "        for model in self.processer_list:\n",
    "            graph = model(graph)\n",
    "        decoded = self.decoder(graph)\n",
    "\n",
    "        return decoded"
   ]
  },
  {
   "cell_type": "code",
   "execution_count": 169,
   "metadata": {},
   "outputs": [
    {
     "data": {
      "text/plain": [
       "tensor([[-0.1552],\n",
       "        [-0.1471],\n",
       "        [-0.1682],\n",
       "        [-0.1741],\n",
       "        [-0.1918]], grad_fn=<AddmmBackward0>)"
      ]
     },
     "execution_count": 169,
     "metadata": {},
     "output_type": "execute_result"
    }
   ],
   "source": [
    "model = EncoderProcesserDecoder(message_passing_num=3, node_input_size=2, edge_input_size=4, hidden_size=128)\n",
    "model(graph_data)"
   ]
  },
  {
   "cell_type": "markdown",
   "metadata": {},
   "source": [
    "# Simulator"
   ]
  },
  {
   "cell_type": "code",
   "execution_count": 181,
   "metadata": {},
   "outputs": [],
   "source": [
    "class Simulator(nn.Module):\n",
    "    \"\"\" Simulator model for the GNN\n",
    "\n",
    "    Args:\n",
    "        message_passing_num: int, number of message passing iterations\n",
    "        node_input_size: int, size of the node input\n",
    "        edge_input_size: int, size of the edge input\n",
    "        device: torch.device, device to run the model\n",
    "        model_dir: str, path to the model checkpoint\n",
    "    \"\"\"\n",
    "\n",
    "    def __init__(self, message_passing_num, node_input_size, edge_input_size, device, model_dir='checkpoint/simulator.pth') -> None:\n",
    "        super(Simulator, self).__init__()\n",
    "\n",
    "        self.node_input_size =  node_input_size\n",
    "        self.edge_input_size = edge_input_size\n",
    "        self.model_dir = model_dir\n",
    "        self.model = EncoderProcesserDecoder(message_passing_num=message_passing_num, node_input_size=node_input_size, edge_input_size=edge_input_size).to(device)\n",
    "\n",
    "        print('Simulator model initialized')\n",
    "\n",
    "\n",
    "    def forward(self, graph:Data):\n",
    "        \n",
    "        predicted = self.model(graph)\n",
    "        target = graph.y\n",
    "\n",
    "        return predicted, target\n",
    "\n",
    "    def save(self):\n",
    "        if self.model_dir is not None:\n",
    "            os.makedirs(os.path.dirname(self.model_dir), exist_ok=True)\n",
    "        \n",
    "        torch.save(self.model.state_dict(), self.model_dir)\n",
    "\n",
    "    def load(self):\n",
    "        if self.model_dir is not None:\n",
    "            self.model.load_state_dict(torch.load(self.model_dir))\n"
   ]
  },
  {
   "cell_type": "code",
   "execution_count": 171,
   "metadata": {},
   "outputs": [
    {
     "name": "stdout",
     "output_type": "stream",
     "text": [
      "Simulator model initialized\n"
     ]
    },
    {
     "data": {
      "text/plain": [
       "(tensor([[0.0238],\n",
       "         [0.0474],\n",
       "         [0.0568],\n",
       "         [0.0751],\n",
       "         [0.0810]], grad_fn=<AddmmBackward0>),\n",
       " tensor([[0.0000],\n",
       "         [0.4000],\n",
       "         [0.5000],\n",
       "         [0.1000]]))"
      ]
     },
     "execution_count": 171,
     "metadata": {},
     "output_type": "execute_result"
    }
   ],
   "source": [
    "model = Simulator(message_passing_num=3, node_input_size=2, edge_input_size=4, device=torch.device('cpu'))\n",
    "model.forward(graph_data)"
   ]
  },
  {
   "cell_type": "markdown",
   "metadata": {},
   "source": [
    "# Training"
   ]
  },
  {
   "cell_type": "code",
   "execution_count": 172,
   "metadata": {},
   "outputs": [
    {
     "name": "stdout",
     "output_type": "stream",
     "text": [
      "Simulator model initialized\n",
      "Optimizer initialized\n"
     ]
    }
   ],
   "source": [
    "dataset_dir = 'dataset' \n",
    "batch_size = 20\n",
    "noise_std=2e-2\n",
    "\n",
    "print_batch = 10\n",
    "save_batch = 200\n",
    "\n",
    "\n",
    "device = torch.device('cuda' if torch.cuda.is_available() else 'cpu')\n",
    "simulator = Simulator(message_passing_num=3, node_input_size=2, edge_input_size=4, device=device)\n",
    "optimizer = torch.optim.Adam(simulator.model.parameters(), lr=1e-3)\n",
    "scheduler = StepLR(optimizer, step_size=10, gamma=0.1)\n",
    "\n",
    "print('Optimizer initialized')"
   ]
  },
  {
   "cell_type": "code",
   "execution_count": 173,
   "metadata": {},
   "outputs": [],
   "source": [
    "import torch_geometric.transforms as T\n",
    "transformer = T.Compose([T.FaceToEdge(), T.Cartesian(norm=False), T.Distance(norm=False)])"
   ]
  },
  {
   "cell_type": "code",
   "execution_count": 272,
   "metadata": {},
   "outputs": [],
   "source": [
    "import tqdm\n",
    "from torch.optim.lr_scheduler import StepLR\n",
    "scheduler = StepLR(optimizer, step_size=10, gamma=0.1)\n",
    "\n",
    "def train(model: Simulator, dataloader, optimizer, scheduler, epochs=100, print_epoch=5, save_batch=10):\n",
    "    for epoch in tqdm.tqdm(range(epochs), desc=\"Epochs\", leave=False):\n",
    "        for batch_index, graph in enumerate(tqdm.tqdm(dataloader, desc=\"Batches\")):\n",
    "            graph = graph.to(device)\n",
    "            model.train()  # Ensure the model is in training mode\n",
    "            pred, target = model(graph)\n",
    "            loss = F.mse_loss(pred, target)\n",
    "\n",
    "            optimizer.zero_grad()\n",
    "            loss.backward()\n",
    "            optimizer.step()\n",
    "            scheduler.step()  # Update the learning rate\n",
    "\n",
    "        if batch_index % print_batch == 0:\n",
    "            print(f'Batch {batch_index}, Epoch {epoch} [Loss: {loss.item():.2e}]')\n",
    "\n",
    "            if batch_index % save_batch == 0:\n",
    "                model.save()\n",
    "                print('Model saved')\n",
    "\n",
    "            # Debugging information\n",
    "            if epoch % 10 == 0:\n",
    "                print(f'Epoch {epoch}, Loss: {loss.item():.4f}')\n",
    "\n",
    "            # Stop training if the loss is not decreasing\n",
    "            if loss.item() < 1e-5:\n",
    "                break\n",
    "\n",
    "            \n",
    "\n",
    "        \n"
   ]
  },
  {
   "cell_type": "markdown",
   "metadata": {},
   "source": [
    "# Dataloader"
   ]
  },
  {
   "cell_type": "code",
   "execution_count": 273,
   "metadata": {},
   "outputs": [],
   "source": [
    "import pandas as pd\n",
    "\n",
    "dataset_dir = r'..\\data\\JSON_Data_Updated\\n=100_p=1_varying_l_vectors.json'\n"
   ]
  },
  {
   "cell_type": "code",
   "execution_count": 312,
   "metadata": {},
   "outputs": [],
   "source": [
    "# Create a class that reads the dataset_dir and creates a DataLoader object\n",
    "\n",
    "class GraphDataset(torch.utils.data.Dataset):\n",
    "    def __init__(self, dataset_dir, metadata):\n",
    "        self.df = pd.read_json(dataset_dir)\n",
    "        self.df = self.df.map(lambda x: np.array(x))\n",
    "        self.df.columns = [\"Displacement\", \"Coord\", \"EI\"]\n",
    "        self.dataset = []\n",
    "        for i in range(len(self.df)):\n",
    "            displacement_y = self.df[\"Displacement\"][i]\n",
    "            coordinates = self.df[\"Coord\"][i]\n",
    "            EI = self.df[\"EI\"][i]\n",
    "            graph_data = create_gnn_graph(coordinates, displacement_y, metadata)\n",
    "            self.dataset.append(graph_data)\n",
    "\n",
    "    def __len__(self):\n",
    "        return len(self.dataset)\n",
    "\n",
    "    def __getitem__(self, idx):\n",
    "        return self.dataset[idx]"
   ]
  },
  {
   "cell_type": "code",
   "execution_count": 313,
   "metadata": {},
   "outputs": [],
   "source": [
    "train_dataloader = GraphDataset(dataset_dir, metadata)\n",
    "test_dataloader = GraphDataset(dataset_dir, metadata)"
   ]
  },
  {
   "cell_type": "code",
   "execution_count": 316,
   "metadata": {},
   "outputs": [
    {
     "data": {
      "text/plain": [
       "[<matplotlib.lines.Line2D at 0x1535e0140e0>]"
      ]
     },
     "execution_count": 316,
     "metadata": {},
     "output_type": "execute_result"
    },
    {
     "data": {
      "image/png": "[encoded data removed]",
      "text/plain": [
       "<Figure size 640x480 with 1 Axes>"
      ]
     },
     "metadata": {},
     "output_type": "display_data"
    }
   ],
   "source": [
    "idx = 0\n",
    "plt.plot(train_dataloader[idx].y)"
   ]
  },
  {
   "cell_type": "markdown",
   "metadata": {},
   "source": [
    "# Train test"
   ]
  },
  {
   "cell_type": "code",
   "execution_count": 276,
   "metadata": {},
   "outputs": [
    {
     "name": "stdout",
     "output_type": "stream",
     "text": [
      "Simulator model initialized\n"
     ]
    }
   ],
   "source": [
    "device = torch.device('cuda' if torch.cuda.is_available() else 'cpu')\n",
    "simulator = Simulator(message_passing_num=3, node_input_size=2, edge_input_size=4, device=device)\n",
    "optimizer = torch.optim.Adam(simulator.model.parameters(), lr=1e-4)\n",
    "scheduler = StepLR(optimizer, step_size=10, gamma=0.1)"
   ]
  },
  {
   "cell_type": "code",
   "execution_count": 277,
   "metadata": {},
   "outputs": [
    {
     "name": "stderr",
     "output_type": "stream",
     "text": [
      "Epochs:   0%|          | 0/100 [00:00<?, ?it/s]"
     ]
    },
    {
     "name": "stdout",
     "output_type": "stream",
     "text": [
      "Batch 0, Epoch 0 [Loss: 1.55e-02]\n",
      "Model saved\n",
      "Epoch 0, Loss: 0.0155\n",
      "Epoch 0, Loss: 0.0062\n"
     ]
    },
    {
     "name": "stderr",
     "output_type": "stream",
     "text": []
    },
    {
     "name": "stdout",
     "output_type": "stream",
     "text": [
      "Epoch 0, Loss: 0.0004\n",
      "Epoch 0, Loss: 0.0001\n",
      "Epoch 0, Loss: 0.0003\n"
     ]
    },
    {
     "name": "stderr",
     "output_type": "stream",
     "text": []
    },
    {
     "name": "stdout",
     "output_type": "stream",
     "text": [
      "Batch 5, Epoch 0 [Loss: 1.63e-04]\n",
      "Epoch 0, Loss: 0.0002\n",
      "Epoch 0, Loss: 0.0000\n"
     ]
    },
    {
     "name": "stderr",
     "output_type": "stream",
     "text": []
    },
    {
     "name": "stdout",
     "output_type": "stream",
     "text": [
      "Epoch 0, Loss: 0.0001\n",
      "Epoch 0, Loss: 0.0001\n"
     ]
    },
    {
     "name": "stderr",
     "output_type": "stream",
     "text": [
      "Batches: 100%|██████████| 10/10 [00:01<00:00,  9.76it/s]\n",
      "Epochs:   1%|          | 1/100 [00:01<01:42,  1.03s/it]"
     ]
    },
    {
     "name": "stdout",
     "output_type": "stream",
     "text": [
      "Epoch 0, Loss: 0.0000\n"
     ]
    },
    {
     "name": "stderr",
     "output_type": "stream",
     "text": []
    },
    {
     "name": "stdout",
     "output_type": "stream",
     "text": [
      "Batch 0, Epoch 1 [Loss: 6.09e-05]\n",
      "Model saved\n"
     ]
    },
    {
     "name": "stderr",
     "output_type": "stream",
     "text": [
      "Batches:  30%|███       | 3/10 [00:00<00:01,  6.12it/s]\n",
      "Batches:  10%|█         | 1/10 [00:00<00:02,  4.42it/s]\n",
      "Epochs:   3%|▎         | 3/100 [00:01<00:48,  2.01it/s]"
     ]
    },
    {
     "name": "stdout",
     "output_type": "stream",
     "text": [
      "Batch 0, Epoch 2 [Loss: 5.09e-05]\n",
      "Model saved\n"
     ]
    },
    {
     "name": "stderr",
     "output_type": "stream",
     "text": [
      "Batches:  10%|█         | 1/10 [00:00<00:02,  4.39it/s]\n",
      "Epochs:   4%|▍         | 4/100 [00:02<00:37,  2.53it/s]"
     ]
    },
    {
     "name": "stdout",
     "output_type": "stream",
     "text": [
      "Batch 0, Epoch 3 [Loss: 4.00e-05]\n",
      "Model saved\n"
     ]
    },
    {
     "name": "stderr",
     "output_type": "stream",
     "text": [
      "Batches:  10%|█         | 1/10 [00:00<00:01,  4.67it/s]\n",
      "Epochs:   5%|▌         | 5/100 [00:02<00:31,  3.02it/s]"
     ]
    },
    {
     "name": "stdout",
     "output_type": "stream",
     "text": [
      "Batch 0, Epoch 4 [Loss: 2.88e-05]\n",
      "Model saved\n"
     ]
    },
    {
     "name": "stderr",
     "output_type": "stream",
     "text": [
      "Batches:  10%|█         | 1/10 [00:00<00:01,  4.64it/s]\n",
      "Epochs:   6%|▌         | 6/100 [00:02<00:28,  3.35it/s]"
     ]
    },
    {
     "name": "stdout",
     "output_type": "stream",
     "text": [
      "Batch 0, Epoch 5 [Loss: 2.05e-05]\n",
      "Model saved\n"
     ]
    },
    {
     "name": "stderr",
     "output_type": "stream",
     "text": [
      "Batches:  10%|█         | 1/10 [00:00<00:01,  4.51it/s]\n",
      "Epochs:   7%|▋         | 7/100 [00:02<00:25,  3.63it/s]"
     ]
    },
    {
     "name": "stdout",
     "output_type": "stream",
     "text": [
      "Batch 0, Epoch 6 [Loss: 1.99e-05]\n",
      "Model saved\n"
     ]
    },
    {
     "name": "stderr",
     "output_type": "stream",
     "text": [
      "Batches:  10%|█         | 1/10 [00:00<00:01,  4.69it/s]\n",
      "Epochs:   8%|▊         | 8/100 [00:02<00:23,  3.88it/s]"
     ]
    },
    {
     "name": "stdout",
     "output_type": "stream",
     "text": [
      "Batch 0, Epoch 7 [Loss: 1.94e-05]\n",
      "Model saved\n"
     ]
    },
    {
     "name": "stderr",
     "output_type": "stream",
     "text": [
      "Batches:  10%|█         | 1/10 [00:00<00:01,  4.65it/s]\n",
      "Epochs:   9%|▉         | 9/100 [00:03<00:22,  4.03it/s]"
     ]
    },
    {
     "name": "stdout",
     "output_type": "stream",
     "text": [
      "Batch 0, Epoch 8 [Loss: 1.88e-05]\n",
      "Model saved\n"
     ]
    },
    {
     "name": "stderr",
     "output_type": "stream",
     "text": [
      "Batches:  10%|█         | 1/10 [00:00<00:01,  4.60it/s]\n",
      "Epochs:  10%|█         | 10/100 [00:03<00:21,  4.15it/s]"
     ]
    },
    {
     "name": "stdout",
     "output_type": "stream",
     "text": [
      "Batch 0, Epoch 9 [Loss: 1.84e-05]\n",
      "Model saved\n"
     ]
    },
    {
     "name": "stderr",
     "output_type": "stream",
     "text": [
      "Batches:  10%|█         | 1/10 [00:00<00:01,  4.69it/s]\n",
      "Epochs:  11%|█         | 11/100 [00:03<00:21,  4.24it/s]"
     ]
    },
    {
     "name": "stdout",
     "output_type": "stream",
     "text": [
      "Batch 0, Epoch 10 [Loss: 1.79e-05]\n",
      "Model saved\n",
      "Epoch 10, Loss: 0.0000\n",
      "Epoch 10, Loss: 0.0000\n"
     ]
    },
    {
     "name": "stderr",
     "output_type": "stream",
     "text": [
      "Batches:  10%|█         | 1/10 [00:00<00:01,  4.67it/s]\n",
      "Epochs:  12%|█▏        | 12/100 [00:03<00:20,  4.30it/s]"
     ]
    },
    {
     "name": "stdout",
     "output_type": "stream",
     "text": [
      "Batch 0, Epoch 11 [Loss: 1.79e-05]\n",
      "Model saved\n"
     ]
    },
    {
     "name": "stderr",
     "output_type": "stream",
     "text": [
      "Batches:  10%|█         | 1/10 [00:00<00:01,  4.54it/s]\n",
      "Epochs:  13%|█▎        | 13/100 [00:04<00:20,  4.29it/s]"
     ]
    },
    {
     "name": "stdout",
     "output_type": "stream",
     "text": [
      "Batch 0, Epoch 12 [Loss: 1.78e-05]\n",
      "Model saved\n"
     ]
    },
    {
     "name": "stderr",
     "output_type": "stream",
     "text": [
      "Batches:  10%|█         | 1/10 [00:00<00:01,  4.77it/s]\n",
      "Epochs:  14%|█▍        | 14/100 [00:04<00:19,  4.39it/s]"
     ]
    },
    {
     "name": "stdout",
     "output_type": "stream",
     "text": [
      "Batch 0, Epoch 13 [Loss: 1.78e-05]\n",
      "Model saved\n"
     ]
    },
    {
     "name": "stderr",
     "output_type": "stream",
     "text": []
    },
    {
     "name": "stdout",
     "output_type": "stream",
     "text": [
      "Batch 0, Epoch 14 [Loss: 1.77e-05]\n"
     ]
    },
    {
     "name": "stderr",
     "output_type": "stream",
     "text": [
      "Batches:  10%|█         | 1/10 [00:00<00:02,  4.43it/s]\n",
      "Epochs:  15%|█▌        | 15/100 [00:04<00:19,  4.38it/s]"
     ]
    },
    {
     "name": "stdout",
     "output_type": "stream",
     "text": [
      "Model saved\n"
     ]
    },
    {
     "name": "stderr",
     "output_type": "stream",
     "text": [
      "Batches:  10%|█         | 1/10 [00:00<00:01,  5.04it/s]\n",
      "Epochs:  16%|█▌        | 16/100 [00:04<00:18,  4.45it/s]"
     ]
    },
    {
     "name": "stdout",
     "output_type": "stream",
     "text": [
      "Batch 0, Epoch 15 [Loss: 1.77e-05]\n",
      "Model saved\n"
     ]
    },
    {
     "name": "stderr",
     "output_type": "stream",
     "text": [
      "Batches:  10%|█         | 1/10 [00:00<00:01,  4.73it/s]\n",
      "Epochs:  17%|█▋        | 17/100 [00:04<00:18,  4.53it/s]"
     ]
    },
    {
     "name": "stdout",
     "output_type": "stream",
     "text": [
      "Batch 0, Epoch 16 [Loss: 1.77e-05]\n",
      "Model saved\n"
     ]
    },
    {
     "name": "stderr",
     "output_type": "stream",
     "text": [
      "Batches:  10%|█         | 1/10 [00:00<00:02,  4.38it/s]\n",
      "Epochs:  18%|█▊        | 18/100 [00:05<00:18,  4.39it/s]"
     ]
    },
    {
     "name": "stdout",
     "output_type": "stream",
     "text": [
      "Batch 0, Epoch 17 [Loss: 1.77e-05]\n",
      "Model saved\n"
     ]
    },
    {
     "name": "stderr",
     "output_type": "stream",
     "text": [
      "Batches:  10%|█         | 1/10 [00:00<00:01,  4.63it/s]\n",
      "Epochs:  19%|█▉        | 19/100 [00:05<00:18,  4.38it/s]"
     ]
    },
    {
     "name": "stdout",
     "output_type": "stream",
     "text": [
      "Batch 0, Epoch 18 [Loss: 1.77e-05]\n",
      "Model saved\n"
     ]
    },
    {
     "name": "stderr",
     "output_type": "stream",
     "text": [
      "Batches:  10%|█         | 1/10 [00:00<00:02,  3.63it/s]\n",
      "Epochs:  20%|██        | 20/100 [00:05<00:19,  4.07it/s]"
     ]
    },
    {
     "name": "stdout",
     "output_type": "stream",
     "text": [
      "Batch 0, Epoch 19 [Loss: 1.77e-05]\n",
      "Model saved\n"
     ]
    },
    {
     "name": "stderr",
     "output_type": "stream",
     "text": [
      "Batches:  10%|█         | 1/10 [00:00<00:02,  4.45it/s]\n",
      "Epochs:  21%|██        | 21/100 [00:05<00:19,  4.14it/s]"
     ]
    },
    {
     "name": "stdout",
     "output_type": "stream",
     "text": [
      "Batch 0, Epoch 20 [Loss: 1.77e-05]\n",
      "Model saved\n",
      "Epoch 20, Loss: 0.0000\n",
      "Epoch 20, Loss: 0.0000\n"
     ]
    },
    {
     "name": "stderr",
     "output_type": "stream",
     "text": [
      "Batches:  10%|█         | 1/10 [00:00<00:01,  4.59it/s]\n",
      "Epochs:  22%|██▏       | 22/100 [00:06<00:18,  4.25it/s]"
     ]
    },
    {
     "name": "stdout",
     "output_type": "stream",
     "text": [
      "Batch 0, Epoch 21 [Loss: 1.77e-05]\n",
      "Model saved\n"
     ]
    },
    {
     "name": "stderr",
     "output_type": "stream",
     "text": [
      "Batches:  10%|█         | 1/10 [00:00<00:02,  4.29it/s]\n",
      "Epochs:  23%|██▎       | 23/100 [00:06<00:18,  4.23it/s]"
     ]
    },
    {
     "name": "stdout",
     "output_type": "stream",
     "text": [
      "Batch 0, Epoch 22 [Loss: 1.77e-05]\n",
      "Model saved\n"
     ]
    },
    {
     "name": "stderr",
     "output_type": "stream",
     "text": [
      "Batches:  10%|█         | 1/10 [00:00<00:01,  4.84it/s]\n",
      "Epochs:  24%|██▍       | 24/100 [00:06<00:17,  4.37it/s]"
     ]
    },
    {
     "name": "stdout",
     "output_type": "stream",
     "text": [
      "Batch 0, Epoch 23 [Loss: 1.77e-05]\n",
      "Model saved\n"
     ]
    },
    {
     "name": "stderr",
     "output_type": "stream",
     "text": [
      "Batches:  10%|█         | 1/10 [00:00<00:02,  4.37it/s]\n",
      "Epochs:  25%|██▌       | 25/100 [00:06<00:17,  4.37it/s]"
     ]
    },
    {
     "name": "stdout",
     "output_type": "stream",
     "text": [
      "Batch 0, Epoch 24 [Loss: 1.77e-05]\n",
      "Model saved\n"
     ]
    },
    {
     "name": "stderr",
     "output_type": "stream",
     "text": [
      "Batches:  10%|█         | 1/10 [00:00<00:01,  4.74it/s]\n",
      "Epochs:  26%|██▌       | 26/100 [00:07<00:16,  4.42it/s]"
     ]
    },
    {
     "name": "stdout",
     "output_type": "stream",
     "text": [
      "Batch 0, Epoch 25 [Loss: 1.77e-05]\n",
      "Model saved\n"
     ]
    },
    {
     "name": "stderr",
     "output_type": "stream",
     "text": [
      "Batches:  10%|█         | 1/10 [00:00<00:02,  4.31it/s]\n",
      "Epochs:  27%|██▋       | 27/100 [00:07<00:16,  4.39it/s]"
     ]
    },
    {
     "name": "stdout",
     "output_type": "stream",
     "text": [
      "Batch 0, Epoch 26 [Loss: 1.77e-05]\n",
      "Model saved\n"
     ]
    },
    {
     "name": "stderr",
     "output_type": "stream",
     "text": [
      "Batches:  10%|█         | 1/10 [00:00<00:01,  5.19it/s]\n",
      "Epochs:  28%|██▊       | 28/100 [00:07<00:15,  4.60it/s]"
     ]
    },
    {
     "name": "stdout",
     "output_type": "stream",
     "text": [
      "Batch 0, Epoch 27 [Loss: 1.77e-05]\n",
      "Model saved\n"
     ]
    },
    {
     "name": "stderr",
     "output_type": "stream",
     "text": []
    },
    {
     "name": "stdout",
     "output_type": "stream",
     "text": [
      "Batch 0, Epoch 28 [Loss: 1.77e-05]\n"
     ]
    },
    {
     "name": "stderr",
     "output_type": "stream",
     "text": [
      "Batches:  10%|█         | 1/10 [00:00<00:01,  4.91it/s]\n",
      "Epochs:  29%|██▉       | 29/100 [00:07<00:15,  4.48it/s]"
     ]
    },
    {
     "name": "stdout",
     "output_type": "stream",
     "text": [
      "Model saved\n"
     ]
    },
    {
     "name": "stderr",
     "output_type": "stream",
     "text": [
      "Batches:  10%|█         | 1/10 [00:00<00:01,  4.55it/s]\n",
      "Epochs:  30%|███       | 30/100 [00:07<00:15,  4.48it/s]"
     ]
    },
    {
     "name": "stdout",
     "output_type": "stream",
     "text": [
      "Batch 0, Epoch 29 [Loss: 1.77e-05]\n",
      "Model saved\n"
     ]
    },
    {
     "name": "stderr",
     "output_type": "stream",
     "text": [
      "Batches:  10%|█         | 1/10 [00:00<00:01,  4.77it/s]\n",
      "Epochs:  31%|███       | 31/100 [00:08<00:15,  4.54it/s]"
     ]
    },
    {
     "name": "stdout",
     "output_type": "stream",
     "text": [
      "Batch 0, Epoch 30 [Loss: 1.77e-05]\n",
      "Model saved\n",
      "Epoch 30, Loss: 0.0000\n",
      "Epoch 30, Loss: 0.0000\n"
     ]
    },
    {
     "name": "stderr",
     "output_type": "stream",
     "text": [
      "Batches:  10%|█         | 1/10 [00:00<00:01,  4.62it/s]\n",
      "Epochs:  32%|███▏      | 32/100 [00:08<00:15,  4.52it/s]"
     ]
    },
    {
     "name": "stdout",
     "output_type": "stream",
     "text": [
      "Batch 0, Epoch 31 [Loss: 1.77e-05]\n",
      "Model saved\n"
     ]
    },
    {
     "name": "stderr",
     "output_type": "stream",
     "text": [
      "Batches:  10%|█         | 1/10 [00:00<00:02,  3.66it/s]\n",
      "Epochs:  33%|███▎      | 33/100 [00:08<00:16,  4.19it/s]"
     ]
    },
    {
     "name": "stdout",
     "output_type": "stream",
     "text": [
      "Batch 0, Epoch 32 [Loss: 1.77e-05]\n",
      "Model saved\n"
     ]
    },
    {
     "name": "stderr",
     "output_type": "stream",
     "text": [
      "Batches:  10%|█         | 1/10 [00:00<00:02,  4.35it/s]\n",
      "Epochs:  34%|███▍      | 34/100 [00:08<00:15,  4.23it/s]"
     ]
    },
    {
     "name": "stdout",
     "output_type": "stream",
     "text": [
      "Batch 0, Epoch 33 [Loss: 1.77e-05]\n",
      "Model saved\n"
     ]
    },
    {
     "name": "stderr",
     "output_type": "stream",
     "text": [
      "Batches:  10%|█         | 1/10 [00:00<00:02,  4.44it/s]\n",
      "Epochs:  35%|███▌      | 35/100 [00:09<00:15,  4.25it/s]"
     ]
    },
    {
     "name": "stdout",
     "output_type": "stream",
     "text": [
      "Batch 0, Epoch 34 [Loss: 1.77e-05]\n",
      "Model saved\n"
     ]
    },
    {
     "name": "stderr",
     "output_type": "stream",
     "text": [
      "Batches:  10%|█         | 1/10 [00:00<00:01,  4.62it/s]\n",
      "Epochs:  36%|███▌      | 36/100 [00:09<00:14,  4.30it/s]"
     ]
    },
    {
     "name": "stdout",
     "output_type": "stream",
     "text": [
      "Batch 0, Epoch 35 [Loss: 1.77e-05]\n",
      "Model saved\n"
     ]
    },
    {
     "name": "stderr",
     "output_type": "stream",
     "text": [
      "Batches:  10%|█         | 1/10 [00:00<00:01,  4.59it/s]\n",
      "Epochs:  37%|███▋      | 37/100 [00:09<00:14,  4.33it/s]"
     ]
    },
    {
     "name": "stdout",
     "output_type": "stream",
     "text": [
      "Batch 0, Epoch 36 [Loss: 1.77e-05]\n",
      "Model saved\n"
     ]
    },
    {
     "name": "stderr",
     "output_type": "stream",
     "text": [
      "Batches:  10%|█         | 1/10 [00:00<00:01,  5.05it/s]\n",
      "Epochs:  38%|███▊      | 38/100 [00:09<00:13,  4.49it/s]"
     ]
    },
    {
     "name": "stdout",
     "output_type": "stream",
     "text": [
      "Batch 0, Epoch 37 [Loss: 1.77e-05]\n",
      "Model saved\n"
     ]
    },
    {
     "name": "stderr",
     "output_type": "stream",
     "text": [
      "Batches:  10%|█         | 1/10 [00:00<00:02,  4.40it/s]\n",
      "Epochs:  39%|███▉      | 39/100 [00:09<00:13,  4.42it/s]"
     ]
    },
    {
     "name": "stdout",
     "output_type": "stream",
     "text": [
      "Batch 0, Epoch 38 [Loss: 1.77e-05]\n",
      "Model saved\n"
     ]
    },
    {
     "name": "stderr",
     "output_type": "stream",
     "text": [
      "Batches:  10%|█         | 1/10 [00:00<00:01,  4.68it/s]\n",
      "Epochs:  40%|████      | 40/100 [00:10<00:13,  4.50it/s]"
     ]
    },
    {
     "name": "stdout",
     "output_type": "stream",
     "text": [
      "Batch 0, Epoch 39 [Loss: 1.77e-05]\n",
      "Model saved\n"
     ]
    },
    {
     "name": "stderr",
     "output_type": "stream",
     "text": [
      "Batches:  10%|█         | 1/10 [00:00<00:02,  4.46it/s]\n",
      "Epochs:  41%|████      | 41/100 [00:10<00:13,  4.42it/s]"
     ]
    },
    {
     "name": "stdout",
     "output_type": "stream",
     "text": [
      "Batch 0, Epoch 40 [Loss: 1.77e-05]\n",
      "Model saved\n",
      "Epoch 40, Loss: 0.0000\n",
      "Epoch 40, Loss: 0.0000\n"
     ]
    },
    {
     "name": "stderr",
     "output_type": "stream",
     "text": [
      "Batches:  10%|█         | 1/10 [00:00<00:01,  4.68it/s]\n",
      "Epochs:  42%|████▏     | 42/100 [00:10<00:12,  4.47it/s]"
     ]
    },
    {
     "name": "stdout",
     "output_type": "stream",
     "text": [
      "Batch 0, Epoch 41 [Loss: 1.77e-05]\n",
      "Model saved\n"
     ]
    },
    {
     "name": "stderr",
     "output_type": "stream",
     "text": [
      "Batches:  10%|█         | 1/10 [00:00<00:01,  4.77it/s]\n",
      "Epochs:  43%|████▎     | 43/100 [00:10<00:12,  4.51it/s]"
     ]
    },
    {
     "name": "stdout",
     "output_type": "stream",
     "text": [
      "Batch 0, Epoch 42 [Loss: 1.77e-05]\n",
      "Model saved\n"
     ]
    },
    {
     "name": "stderr",
     "output_type": "stream",
     "text": [
      "Batches:  10%|█         | 1/10 [00:00<00:02,  4.10it/s]\n",
      "Epochs:  44%|████▍     | 44/100 [00:11<00:12,  4.33it/s]"
     ]
    },
    {
     "name": "stdout",
     "output_type": "stream",
     "text": [
      "Batch 0, Epoch 43 [Loss: 1.77e-05]\n",
      "Model saved\n"
     ]
    },
    {
     "name": "stderr",
     "output_type": "stream",
     "text": [
      "Batches:  10%|█         | 1/10 [00:00<00:02,  4.11it/s]\n",
      "Epochs:  45%|████▌     | 45/100 [00:11<00:13,  4.22it/s]"
     ]
    },
    {
     "name": "stdout",
     "output_type": "stream",
     "text": [
      "Batch 0, Epoch 44 [Loss: 1.77e-05]\n",
      "Model saved\n"
     ]
    },
    {
     "name": "stderr",
     "output_type": "stream",
     "text": [
      "Batches:  10%|█         | 1/10 [00:00<00:01,  4.77it/s]\n",
      "Epochs:  46%|████▌     | 46/100 [00:11<00:12,  4.31it/s]"
     ]
    },
    {
     "name": "stdout",
     "output_type": "stream",
     "text": [
      "Batch 0, Epoch 45 [Loss: 1.77e-05]\n",
      "Model saved\n"
     ]
    },
    {
     "name": "stderr",
     "output_type": "stream",
     "text": [
      "Batches:  10%|█         | 1/10 [00:00<00:01,  4.64it/s]\n",
      "Epochs:  47%|████▋     | 47/100 [00:11<00:12,  4.40it/s]"
     ]
    },
    {
     "name": "stdout",
     "output_type": "stream",
     "text": [
      "Batch 0, Epoch 46 [Loss: 1.77e-05]\n",
      "Model saved\n"
     ]
    },
    {
     "name": "stderr",
     "output_type": "stream",
     "text": [
      "Batches:  10%|█         | 1/10 [00:00<00:02,  4.21it/s]\n",
      "Epochs:  48%|████▊     | 48/100 [00:12<00:12,  4.27it/s]"
     ]
    },
    {
     "name": "stdout",
     "output_type": "stream",
     "text": [
      "Batch 0, Epoch 47 [Loss: 1.77e-05]\n",
      "Model saved\n"
     ]
    },
    {
     "name": "stderr",
     "output_type": "stream",
     "text": [
      "Batches:  10%|█         | 1/10 [00:00<00:01,  4.52it/s]\n",
      "Epochs:  49%|████▉     | 49/100 [00:12<00:11,  4.32it/s]"
     ]
    },
    {
     "name": "stdout",
     "output_type": "stream",
     "text": [
      "Batch 0, Epoch 48 [Loss: 1.77e-05]\n",
      "Model saved\n"
     ]
    },
    {
     "name": "stderr",
     "output_type": "stream",
     "text": [
      "Batches:  10%|█         | 1/10 [00:00<00:02,  4.30it/s]\n",
      "Epochs:  50%|█████     | 50/100 [00:12<00:11,  4.29it/s]"
     ]
    },
    {
     "name": "stdout",
     "output_type": "stream",
     "text": [
      "Batch 0, Epoch 49 [Loss: 1.77e-05]\n",
      "Model saved\n"
     ]
    },
    {
     "name": "stderr",
     "output_type": "stream",
     "text": [
      "Batches:  10%|█         | 1/10 [00:00<00:02,  4.47it/s]\n",
      "Epochs:  51%|█████     | 51/100 [00:12<00:11,  4.31it/s]"
     ]
    },
    {
     "name": "stdout",
     "output_type": "stream",
     "text": [
      "Batch 0, Epoch 50 [Loss: 1.77e-05]\n",
      "Model saved\n",
      "Epoch 50, Loss: 0.0000\n",
      "Epoch 50, Loss: 0.0000\n"
     ]
    },
    {
     "name": "stderr",
     "output_type": "stream",
     "text": [
      "Batches:  10%|█         | 1/10 [00:00<00:01,  4.58it/s]\n",
      "Epochs:  52%|█████▏    | 52/100 [00:12<00:11,  4.34it/s]"
     ]
    },
    {
     "name": "stdout",
     "output_type": "stream",
     "text": [
      "Batch 0, Epoch 51 [Loss: 1.77e-05]\n",
      "Model saved\n"
     ]
    },
    {
     "name": "stderr",
     "output_type": "stream",
     "text": [
      "Batches:  10%|█         | 1/10 [00:00<00:01,  4.60it/s]\n",
      "Epochs:  53%|█████▎    | 53/100 [00:13<00:10,  4.38it/s]"
     ]
    },
    {
     "name": "stdout",
     "output_type": "stream",
     "text": [
      "Batch 0, Epoch 52 [Loss: 1.77e-05]\n",
      "Model saved\n"
     ]
    },
    {
     "name": "stderr",
     "output_type": "stream",
     "text": []
    },
    {
     "name": "stdout",
     "output_type": "stream",
     "text": [
      "Batch 0, Epoch 53 [Loss: 1.77e-05]\n"
     ]
    },
    {
     "name": "stderr",
     "output_type": "stream",
     "text": [
      "Batches:  10%|█         | 1/10 [00:00<00:01,  4.87it/s]\n",
      "Epochs:  54%|█████▍    | 54/100 [00:13<00:10,  4.49it/s]"
     ]
    },
    {
     "name": "stdout",
     "output_type": "stream",
     "text": [
      "Model saved\n"
     ]
    },
    {
     "name": "stderr",
     "output_type": "stream",
     "text": [
      "Batches:  10%|█         | 1/10 [00:00<00:02,  4.29it/s]\n",
      "Epochs:  55%|█████▌    | 55/100 [00:13<00:10,  4.37it/s]"
     ]
    },
    {
     "name": "stdout",
     "output_type": "stream",
     "text": [
      "Batch 0, Epoch 54 [Loss: 1.77e-05]\n",
      "Model saved\n"
     ]
    },
    {
     "name": "stderr",
     "output_type": "stream",
     "text": [
      "Batches:  10%|█         | 1/10 [00:00<00:01,  4.57it/s]\n",
      "Epochs:  56%|█████▌    | 56/100 [00:13<00:09,  4.43it/s]"
     ]
    },
    {
     "name": "stdout",
     "output_type": "stream",
     "text": [
      "Batch 0, Epoch 55 [Loss: 1.77e-05]\n",
      "Model saved\n"
     ]
    },
    {
     "name": "stderr",
     "output_type": "stream",
     "text": [
      "Batches:  10%|█         | 1/10 [00:00<00:01,  4.52it/s]\n",
      "Epochs:  57%|█████▋    | 57/100 [00:14<00:09,  4.42it/s]"
     ]
    },
    {
     "name": "stdout",
     "output_type": "stream",
     "text": [
      "Batch 0, Epoch 56 [Loss: 1.77e-05]\n",
      "Model saved\n"
     ]
    },
    {
     "name": "stderr",
     "output_type": "stream",
     "text": [
      "Batches:  10%|█         | 1/10 [00:00<00:01,  4.78it/s]\n",
      "Epochs:  58%|█████▊    | 58/100 [00:14<00:09,  4.51it/s]"
     ]
    },
    {
     "name": "stdout",
     "output_type": "stream",
     "text": [
      "Batch 0, Epoch 57 [Loss: 1.77e-05]\n",
      "Model saved\n"
     ]
    },
    {
     "name": "stderr",
     "output_type": "stream",
     "text": [
      "Batches:  10%|█         | 1/10 [00:00<00:01,  4.78it/s]\n",
      "Epochs:  59%|█████▉    | 59/100 [00:14<00:09,  4.54it/s]"
     ]
    },
    {
     "name": "stdout",
     "output_type": "stream",
     "text": [
      "Batch 0, Epoch 58 [Loss: 1.77e-05]\n",
      "Model saved\n"
     ]
    },
    {
     "name": "stderr",
     "output_type": "stream",
     "text": [
      "Batches:  10%|█         | 1/10 [00:00<00:01,  4.61it/s]\n",
      "Epochs:  60%|██████    | 60/100 [00:14<00:08,  4.56it/s]"
     ]
    },
    {
     "name": "stdout",
     "output_type": "stream",
     "text": [
      "Batch 0, Epoch 59 [Loss: 1.77e-05]\n",
      "Model saved\n"
     ]
    },
    {
     "name": "stderr",
     "output_type": "stream",
     "text": [
      "Batches:  10%|█         | 1/10 [00:00<00:01,  4.99it/s]\n",
      "Epochs:  61%|██████    | 61/100 [00:14<00:08,  4.63it/s]"
     ]
    },
    {
     "name": "stdout",
     "output_type": "stream",
     "text": [
      "Batch 0, Epoch 60 [Loss: 1.77e-05]\n",
      "Model saved\n",
      "Epoch 60, Loss: 0.0000\n",
      "Epoch 60, Loss: 0.0000\n"
     ]
    },
    {
     "name": "stderr",
     "output_type": "stream",
     "text": [
      "Batches:  10%|█         | 1/10 [00:00<00:02,  4.27it/s]\n",
      "Epochs:  62%|██████▏   | 62/100 [00:15<00:08,  4.51it/s]"
     ]
    },
    {
     "name": "stdout",
     "output_type": "stream",
     "text": [
      "Batch 0, Epoch 61 [Loss: 1.77e-05]\n",
      "Model saved\n"
     ]
    },
    {
     "name": "stderr",
     "output_type": "stream",
     "text": [
      "Batches:  10%|█         | 1/10 [00:00<00:02,  3.79it/s]\n",
      "Epochs:  63%|██████▎   | 63/100 [00:15<00:08,  4.23it/s]"
     ]
    },
    {
     "name": "stdout",
     "output_type": "stream",
     "text": [
      "Batch 0, Epoch 62 [Loss: 1.77e-05]\n",
      "Model saved\n"
     ]
    },
    {
     "name": "stderr",
     "output_type": "stream",
     "text": [
      "Batches:  10%|█         | 1/10 [00:00<00:01,  4.51it/s]\n",
      "Epochs:  64%|██████▍   | 64/100 [00:15<00:08,  4.31it/s]"
     ]
    },
    {
     "name": "stdout",
     "output_type": "stream",
     "text": [
      "Batch 0, Epoch 63 [Loss: 1.77e-05]\n",
      "Model saved\n"
     ]
    },
    {
     "name": "stderr",
     "output_type": "stream",
     "text": [
      "Batches:  10%|█         | 1/10 [00:00<00:02,  4.43it/s]\n",
      "Epochs:  65%|██████▌   | 65/100 [00:15<00:08,  4.27it/s]"
     ]
    },
    {
     "name": "stdout",
     "output_type": "stream",
     "text": [
      "Batch 0, Epoch 64 [Loss: 1.77e-05]\n",
      "Model saved\n"
     ]
    },
    {
     "name": "stderr",
     "output_type": "stream",
     "text": [
      "Batches:  10%|█         | 1/10 [00:00<00:01,  4.78it/s]\n",
      "Epochs:  66%|██████▌   | 66/100 [00:16<00:07,  4.40it/s]"
     ]
    },
    {
     "name": "stdout",
     "output_type": "stream",
     "text": [
      "Batch 0, Epoch 65 [Loss: 1.77e-05]\n",
      "Model saved\n"
     ]
    },
    {
     "name": "stderr",
     "output_type": "stream",
     "text": [
      "Batches:  10%|█         | 1/10 [00:00<00:02,  4.39it/s]\n",
      "Epochs:  67%|██████▋   | 67/100 [00:16<00:07,  4.40it/s]"
     ]
    },
    {
     "name": "stdout",
     "output_type": "stream",
     "text": [
      "Batch 0, Epoch 66 [Loss: 1.77e-05]\n",
      "Model saved\n"
     ]
    },
    {
     "name": "stderr",
     "output_type": "stream",
     "text": [
      "Batches:  10%|█         | 1/10 [00:00<00:02,  4.47it/s]\n",
      "Epochs:  68%|██████▊   | 68/100 [00:16<00:07,  4.34it/s]"
     ]
    },
    {
     "name": "stdout",
     "output_type": "stream",
     "text": [
      "Batch 0, Epoch 67 [Loss: 1.77e-05]\n",
      "Model saved\n"
     ]
    },
    {
     "name": "stderr",
     "output_type": "stream",
     "text": [
      "Batches:  10%|█         | 1/10 [00:00<00:01,  4.75it/s]\n",
      "Epochs:  69%|██████▉   | 69/100 [00:16<00:07,  4.38it/s]"
     ]
    },
    {
     "name": "stdout",
     "output_type": "stream",
     "text": [
      "Batch 0, Epoch 68 [Loss: 1.77e-05]\n",
      "Model saved\n"
     ]
    },
    {
     "name": "stderr",
     "output_type": "stream",
     "text": [
      "Batches:  10%|█         | 1/10 [00:00<00:01,  4.79it/s]\n",
      "Epochs:  70%|███████   | 70/100 [00:17<00:06,  4.49it/s]"
     ]
    },
    {
     "name": "stdout",
     "output_type": "stream",
     "text": [
      "Batch 0, Epoch 69 [Loss: 1.77e-05]\n",
      "Model saved\n"
     ]
    },
    {
     "name": "stderr",
     "output_type": "stream",
     "text": [
      "Batches:  10%|█         | 1/10 [00:00<00:01,  4.58it/s]\n",
      "Epochs:  71%|███████   | 71/100 [00:17<00:06,  4.47it/s]"
     ]
    },
    {
     "name": "stdout",
     "output_type": "stream",
     "text": [
      "Batch 0, Epoch 70 [Loss: 1.77e-05]\n",
      "Model saved\n",
      "Epoch 70, Loss: 0.0000\n",
      "Epoch 70, Loss: 0.0000\n"
     ]
    },
    {
     "name": "stderr",
     "output_type": "stream",
     "text": [
      "Batches:  10%|█         | 1/10 [00:00<00:01,  4.67it/s]\n",
      "Epochs:  72%|███████▏  | 72/100 [00:17<00:06,  4.45it/s]"
     ]
    },
    {
     "name": "stdout",
     "output_type": "stream",
     "text": [
      "Batch 0, Epoch 71 [Loss: 1.77e-05]\n",
      "Model saved\n"
     ]
    },
    {
     "name": "stderr",
     "output_type": "stream",
     "text": [
      "Batches:  10%|█         | 1/10 [00:00<00:01,  4.58it/s]\n",
      "Epochs:  73%|███████▎  | 73/100 [00:17<00:06,  4.49it/s]"
     ]
    },
    {
     "name": "stdout",
     "output_type": "stream",
     "text": [
      "Batch 0, Epoch 72 [Loss: 1.77e-05]\n",
      "Model saved\n"
     ]
    },
    {
     "name": "stderr",
     "output_type": "stream",
     "text": [
      "Batches:  10%|█         | 1/10 [00:00<00:01,  4.68it/s]\n",
      "Epochs:  74%|███████▍  | 74/100 [00:17<00:05,  4.51it/s]"
     ]
    },
    {
     "name": "stdout",
     "output_type": "stream",
     "text": [
      "Batch 0, Epoch 73 [Loss: 1.77e-05]\n",
      "Model saved\n"
     ]
    },
    {
     "name": "stderr",
     "output_type": "stream",
     "text": [
      "Batches:  10%|█         | 1/10 [00:00<00:01,  4.60it/s]\n",
      "Epochs:  75%|███████▌  | 75/100 [00:18<00:05,  4.45it/s]"
     ]
    },
    {
     "name": "stdout",
     "output_type": "stream",
     "text": [
      "Batch 0, Epoch 74 [Loss: 1.77e-05]\n",
      "Model saved\n"
     ]
    },
    {
     "name": "stderr",
     "output_type": "stream",
     "text": [
      "Batches:  10%|█         | 1/10 [00:00<00:02,  4.45it/s]\n",
      "Epochs:  76%|███████▌  | 76/100 [00:18<00:05,  4.43it/s]"
     ]
    },
    {
     "name": "stdout",
     "output_type": "stream",
     "text": [
      "Batch 0, Epoch 75 [Loss: 1.77e-05]\n",
      "Model saved\n"
     ]
    },
    {
     "name": "stderr",
     "output_type": "stream",
     "text": [
      "Batches:  10%|█         | 1/10 [00:00<00:01,  4.74it/s]\n",
      "Epochs:  77%|███████▋  | 77/100 [00:18<00:05,  4.49it/s]"
     ]
    },
    {
     "name": "stdout",
     "output_type": "stream",
     "text": [
      "Batch 0, Epoch 76 [Loss: 1.77e-05]\n",
      "Model saved\n"
     ]
    },
    {
     "name": "stderr",
     "output_type": "stream",
     "text": [
      "Batches:  10%|█         | 1/10 [00:00<00:01,  4.79it/s]\n",
      "Epochs:  78%|███████▊  | 78/100 [00:18<00:04,  4.55it/s]"
     ]
    },
    {
     "name": "stdout",
     "output_type": "stream",
     "text": [
      "Batch 0, Epoch 77 [Loss: 1.77e-05]\n",
      "Model saved\n"
     ]
    },
    {
     "name": "stderr",
     "output_type": "stream",
     "text": [
      "Batches:  10%|█         | 1/10 [00:00<00:02,  4.41it/s]\n",
      "Epochs:  79%|███████▉  | 79/100 [00:19<00:04,  4.41it/s]"
     ]
    },
    {
     "name": "stdout",
     "output_type": "stream",
     "text": [
      "Batch 0, Epoch 78 [Loss: 1.77e-05]\n",
      "Model saved\n"
     ]
    },
    {
     "name": "stderr",
     "output_type": "stream",
     "text": [
      "Batches:  10%|█         | 1/10 [00:00<00:02,  4.41it/s]\n",
      "Epochs:  80%|████████  | 80/100 [00:19<00:04,  4.37it/s]"
     ]
    },
    {
     "name": "stdout",
     "output_type": "stream",
     "text": [
      "Batch 0, Epoch 79 [Loss: 1.77e-05]\n",
      "Model saved\n"
     ]
    },
    {
     "name": "stderr",
     "output_type": "stream",
     "text": [
      "Batches:  10%|█         | 1/10 [00:00<00:01,  4.52it/s]\n",
      "Epochs:  81%|████████  | 81/100 [00:19<00:04,  4.39it/s]"
     ]
    },
    {
     "name": "stdout",
     "output_type": "stream",
     "text": [
      "Batch 0, Epoch 80 [Loss: 1.77e-05]\n",
      "Model saved\n",
      "Epoch 80, Loss: 0.0000\n",
      "Epoch 80, Loss: 0.0000\n"
     ]
    },
    {
     "name": "stderr",
     "output_type": "stream",
     "text": [
      "Batches:  10%|█         | 1/10 [00:00<00:01,  5.05it/s]\n",
      "Epochs:  82%|████████▏ | 82/100 [00:19<00:03,  4.52it/s]"
     ]
    },
    {
     "name": "stdout",
     "output_type": "stream",
     "text": [
      "Batch 0, Epoch 81 [Loss: 1.77e-05]\n",
      "Model saved\n"
     ]
    },
    {
     "name": "stderr",
     "output_type": "stream",
     "text": [
      "Batches:  10%|█         | 1/10 [00:00<00:01,  4.55it/s]\n",
      "Epochs:  83%|████████▎ | 83/100 [00:19<00:03,  4.52it/s]"
     ]
    },
    {
     "name": "stdout",
     "output_type": "stream",
     "text": [
      "Batch 0, Epoch 82 [Loss: 1.77e-05]\n",
      "Model saved\n"
     ]
    },
    {
     "name": "stderr",
     "output_type": "stream",
     "text": [
      "Batches:  10%|█         | 1/10 [00:00<00:01,  4.68it/s]\n",
      "Epochs:  84%|████████▍ | 84/100 [00:20<00:03,  4.54it/s]"
     ]
    },
    {
     "name": "stdout",
     "output_type": "stream",
     "text": [
      "Batch 0, Epoch 83 [Loss: 1.77e-05]\n",
      "Model saved\n"
     ]
    },
    {
     "name": "stderr",
     "output_type": "stream",
     "text": [
      "Batches:  10%|█         | 1/10 [00:00<00:01,  5.20it/s]\n",
      "Epochs:  85%|████████▌ | 85/100 [00:20<00:03,  4.69it/s]"
     ]
    },
    {
     "name": "stdout",
     "output_type": "stream",
     "text": [
      "Batch 0, Epoch 84 [Loss: 1.77e-05]\n",
      "Model saved\n"
     ]
    },
    {
     "name": "stderr",
     "output_type": "stream",
     "text": []
    },
    {
     "name": "stdout",
     "output_type": "stream",
     "text": [
      "Batch 0, Epoch 85 [Loss: 1.77e-05]\n"
     ]
    },
    {
     "name": "stderr",
     "output_type": "stream",
     "text": [
      "Batches:  10%|█         | 1/10 [00:00<00:01,  4.85it/s]\n",
      "Epochs:  86%|████████▌ | 86/100 [00:20<00:02,  4.70it/s]"
     ]
    },
    {
     "name": "stdout",
     "output_type": "stream",
     "text": [
      "Model saved\n"
     ]
    },
    {
     "name": "stderr",
     "output_type": "stream",
     "text": [
      "Batches:  10%|█         | 1/10 [00:00<00:01,  4.67it/s]\n",
      "Epochs:  87%|████████▋ | 87/100 [00:20<00:02,  4.58it/s]"
     ]
    },
    {
     "name": "stdout",
     "output_type": "stream",
     "text": [
      "Batch 0, Epoch 86 [Loss: 1.77e-05]\n",
      "Model saved\n"
     ]
    },
    {
     "name": "stderr",
     "output_type": "stream",
     "text": []
    },
    {
     "name": "stdout",
     "output_type": "stream",
     "text": [
      "Batch 0, Epoch 87 [Loss: 1.77e-05]\n"
     ]
    },
    {
     "name": "stderr",
     "output_type": "stream",
     "text": [
      "Batches:  10%|█         | 1/10 [00:00<00:01,  5.07it/s]\n",
      "Epochs:  88%|████████▊ | 88/100 [00:20<00:02,  4.67it/s]"
     ]
    },
    {
     "name": "stdout",
     "output_type": "stream",
     "text": [
      "Model saved\n"
     ]
    },
    {
     "name": "stderr",
     "output_type": "stream",
     "text": [
      "Batches:  10%|█         | 1/10 [00:00<00:02,  4.21it/s]\n",
      "Epochs:  89%|████████▉ | 89/100 [00:21<00:02,  4.53it/s]"
     ]
    },
    {
     "name": "stdout",
     "output_type": "stream",
     "text": [
      "Batch 0, Epoch 88 [Loss: 1.77e-05]\n",
      "Model saved\n"
     ]
    },
    {
     "name": "stderr",
     "output_type": "stream",
     "text": [
      "Batches:  10%|█         | 1/10 [00:00<00:01,  4.55it/s]\n",
      "Epochs:  90%|█████████ | 90/100 [00:21<00:02,  4.42it/s]"
     ]
    },
    {
     "name": "stdout",
     "output_type": "stream",
     "text": [
      "Batch 0, Epoch 89 [Loss: 1.77e-05]\n",
      "Model saved\n"
     ]
    },
    {
     "name": "stderr",
     "output_type": "stream",
     "text": [
      "Batches:  10%|█         | 1/10 [00:00<00:02,  4.49it/s]\n",
      "Epochs:  91%|█████████ | 91/100 [00:21<00:02,  4.41it/s]"
     ]
    },
    {
     "name": "stdout",
     "output_type": "stream",
     "text": [
      "Batch 0, Epoch 90 [Loss: 1.77e-05]\n",
      "Model saved\n",
      "Epoch 90, Loss: 0.0000\n",
      "Epoch 90, Loss: 0.0000\n"
     ]
    },
    {
     "name": "stderr",
     "output_type": "stream",
     "text": [
      "Batches:  10%|█         | 1/10 [00:00<00:01,  4.84it/s]\n",
      "Epochs:  92%|█████████▏| 92/100 [00:21<00:01,  4.48it/s]"
     ]
    },
    {
     "name": "stdout",
     "output_type": "stream",
     "text": [
      "Batch 0, Epoch 91 [Loss: 1.77e-05]\n",
      "Model saved\n"
     ]
    },
    {
     "name": "stderr",
     "output_type": "stream",
     "text": [
      "Batches:  10%|█         | 1/10 [00:00<00:02,  3.71it/s]\n",
      "Epochs:  93%|█████████▎| 93/100 [00:22<00:01,  4.18it/s]"
     ]
    },
    {
     "name": "stdout",
     "output_type": "stream",
     "text": [
      "Batch 0, Epoch 92 [Loss: 1.77e-05]\n",
      "Model saved\n"
     ]
    },
    {
     "name": "stderr",
     "output_type": "stream",
     "text": [
      "Batches:  10%|█         | 1/10 [00:00<00:01,  4.66it/s]\n",
      "Epochs:  94%|█████████▍| 94/100 [00:22<00:01,  4.27it/s]"
     ]
    },
    {
     "name": "stdout",
     "output_type": "stream",
     "text": [
      "Batch 0, Epoch 93 [Loss: 1.77e-05]\n",
      "Model saved\n"
     ]
    },
    {
     "name": "stderr",
     "output_type": "stream",
     "text": [
      "Batches:  10%|█         | 1/10 [00:00<00:02,  4.41it/s]\n",
      "Epochs:  95%|█████████▌| 95/100 [00:22<00:01,  4.31it/s]"
     ]
    },
    {
     "name": "stdout",
     "output_type": "stream",
     "text": [
      "Batch 0, Epoch 94 [Loss: 1.77e-05]\n",
      "Model saved\n"
     ]
    },
    {
     "name": "stderr",
     "output_type": "stream",
     "text": []
    },
    {
     "name": "stdout",
     "output_type": "stream",
     "text": [
      "Batch 0, Epoch 95 [Loss: 1.77e-05]\n"
     ]
    },
    {
     "name": "stderr",
     "output_type": "stream",
     "text": [
      "Batches:  10%|█         | 1/10 [00:00<00:01,  4.85it/s]\n",
      "Epochs:  96%|█████████▌| 96/100 [00:22<00:00,  4.41it/s]"
     ]
    },
    {
     "name": "stdout",
     "output_type": "stream",
     "text": [
      "Model saved\n"
     ]
    },
    {
     "name": "stderr",
     "output_type": "stream",
     "text": [
      "Batches:  10%|█         | 1/10 [00:00<00:01,  5.14it/s]\n",
      "Epochs:  97%|█████████▋| 97/100 [00:23<00:00,  4.55it/s]"
     ]
    },
    {
     "name": "stdout",
     "output_type": "stream",
     "text": [
      "Batch 0, Epoch 96 [Loss: 1.77e-05]\n",
      "Model saved\n"
     ]
    },
    {
     "name": "stderr",
     "output_type": "stream",
     "text": [
      "Batches:  10%|█         | 1/10 [00:00<00:01,  4.75it/s]\n",
      "Epochs:  98%|█████████▊| 98/100 [00:23<00:00,  4.56it/s]"
     ]
    },
    {
     "name": "stdout",
     "output_type": "stream",
     "text": [
      "Batch 0, Epoch 97 [Loss: 1.77e-05]\n",
      "Model saved\n"
     ]
    },
    {
     "name": "stderr",
     "output_type": "stream",
     "text": [
      "Batches:  10%|█         | 1/10 [00:00<00:02,  4.28it/s]\n",
      "Epochs:  99%|█████████▉| 99/100 [00:23<00:00,  4.43it/s]"
     ]
    },
    {
     "name": "stdout",
     "output_type": "stream",
     "text": [
      "Batch 0, Epoch 98 [Loss: 1.77e-05]\n",
      "Model saved\n"
     ]
    },
    {
     "name": "stderr",
     "output_type": "stream",
     "text": [
      "Batches:  10%|█         | 1/10 [00:00<00:02,  4.27it/s]\n",
      "                                                         "
     ]
    },
    {
     "name": "stdout",
     "output_type": "stream",
     "text": [
      "Batch 0, Epoch 99 [Loss: 1.77e-05]\n",
      "Model saved\n"
     ]
    },
    {
     "name": "stderr",
     "output_type": "stream",
     "text": [
      "\r"
     ]
    }
   ],
   "source": [
    "train(simulator, train_dataloader, optimizer, scheduler)"
   ]
  },
  {
   "cell_type": "code",
   "execution_count": 317,
   "metadata": {},
   "outputs": [
    {
     "data": {
      "text/plain": [
       "8.257946183221065e-06"
      ]
     },
     "execution_count": 317,
     "metadata": {},
     "output_type": "execute_result"
    }
   ],
   "source": [
    "def test(model:Simulator, dataloader):\n",
    "    loss = 0\n",
    "    for batch_index, graph in enumerate(dataloader):\n",
    "        model.eval()\n",
    "        graph = graph.to(device)\n",
    "        target = graph.y\n",
    "        pred, target = model(graph)\n",
    "        loss += F.mse_loss(pred, target).item()\n",
    "\n",
    "    return loss / len(dataloader)\n",
    "\n",
    "test(simulator, test_dataloader)"
   ]
  },
  {
   "cell_type": "markdown",
   "metadata": {},
   "source": [
    "# Result"
   ]
  },
  {
   "cell_type": "code",
   "execution_count": 318,
   "metadata": {},
   "outputs": [
    {
     "data": {
      "text/plain": [
       "tensor([[-1.0144e-02],\n",
       "        [-8.5751e-03],\n",
       "        [-6.1995e-03],\n",
       "        [-5.8134e-03],\n",
       "        [-3.8590e-03],\n",
       "        [-2.0597e-03],\n",
       "        [-1.5457e-03],\n",
       "        [-4.8388e-04],\n",
       "        [-6.9837e-04],\n",
       "        [-5.2739e-04],\n",
       "        [-4.9936e-04],\n",
       "        [ 1.4867e-04],\n",
       "        [ 5.3463e-04],\n",
       "        [ 8.8864e-04],\n",
       "        [ 8.9825e-04],\n",
       "        [ 2.8630e-04],\n",
       "        [ 2.2591e-04],\n",
       "        [-2.0614e-04],\n",
       "        [-1.5553e-04],\n",
       "        [ 1.3494e-04],\n",
       "        [ 8.0362e-05],\n",
       "        [-6.3915e-04],\n",
       "        [-9.9355e-04],\n",
       "        [-1.4357e-03],\n",
       "        [-1.6898e-03],\n",
       "        [-2.3237e-03],\n",
       "        [-2.8044e-03],\n",
       "        [-3.0708e-03],\n",
       "        [-3.7647e-03],\n",
       "        [-3.5369e-03],\n",
       "        [-4.1458e-03],\n",
       "        [-3.3218e-03],\n",
       "        [-3.4572e-03],\n",
       "        [-3.6033e-03],\n",
       "        [-3.4647e-03],\n",
       "        [-3.5005e-03],\n",
       "        [-3.5808e-03],\n",
       "        [-3.3361e-03],\n",
       "        [-3.3799e-03],\n",
       "        [-3.6351e-03],\n",
       "        [-2.7644e-03],\n",
       "        [-2.7340e-03],\n",
       "        [-2.6776e-03],\n",
       "        [-1.9274e-03],\n",
       "        [-2.2077e-03],\n",
       "        [-2.2056e-03],\n",
       "        [-2.2139e-03],\n",
       "        [-1.9609e-03],\n",
       "        [-9.6602e-04],\n",
       "        [-1.9421e-03],\n",
       "        [-7.1006e-04],\n",
       "        [-1.5728e-03],\n",
       "        [-3.6886e-04],\n",
       "        [-5.7448e-04],\n",
       "        [-1.2568e-04],\n",
       "        [ 2.2625e-04],\n",
       "        [ 5.5015e-05],\n",
       "        [ 1.4747e-04],\n",
       "        [-2.8681e-04],\n",
       "        [ 1.7515e-03],\n",
       "        [ 1.1231e-03],\n",
       "        [ 1.1040e-03],\n",
       "        [ 1.0766e-03],\n",
       "        [ 1.3070e-03],\n",
       "        [ 1.6323e-03],\n",
       "        [ 1.1455e-03],\n",
       "        [ 1.5381e-03],\n",
       "        [ 3.0454e-03],\n",
       "        [ 3.1524e-03],\n",
       "        [ 3.4411e-03],\n",
       "        [ 2.8967e-03],\n",
       "        [ 2.9615e-03],\n",
       "        [ 4.6306e-03],\n",
       "        [ 3.5433e-03],\n",
       "        [ 3.5359e-03],\n",
       "        [ 3.8202e-03],\n",
       "        [ 3.7380e-03],\n",
       "        [ 4.4582e-03],\n",
       "        [ 4.5691e-03],\n",
       "        [ 4.2397e-03],\n",
       "        [ 4.7968e-03],\n",
       "        [ 5.1676e-03],\n",
       "        [ 5.1855e-03],\n",
       "        [ 4.4857e-03],\n",
       "        [ 4.1599e-03],\n",
       "        [ 4.5617e-03],\n",
       "        [ 4.2695e-03],\n",
       "        [ 6.2037e-03],\n",
       "        [ 7.7192e-03],\n",
       "        [ 6.1274e-03],\n",
       "        [ 7.6085e-03],\n",
       "        [ 6.1841e-03],\n",
       "        [ 7.8738e-03],\n",
       "        [ 8.8253e-03],\n",
       "        [ 8.6420e-03],\n",
       "        [ 9.7799e-03],\n",
       "        [ 9.5126e-03],\n",
       "        [ 9.1862e-03],\n",
       "        [ 1.0348e-02],\n",
       "        [ 9.1100e-03]], grad_fn=<AddmmBackward0>)"
      ]
     },
     "execution_count": 318,
     "metadata": {},
     "output_type": "execute_result"
    }
   ],
   "source": [
    "simulator.model(test_dataloader[0])"
   ]
  },
  {
   "cell_type": "code",
   "execution_count": 324,
   "metadata": {},
   "outputs": [],
   "source": [
    "# Create a function to plot the graph.x vs graph.y\n",
    "def plot_results(model, dataloader):\n",
    "    for batch_index, graph in enumerate(dataloader):\n",
    "        graph = graph.to(device)\n",
    "        pred, target = model(graph)\n",
    "        pred = pred.detach().cpu().numpy()\n",
    "        target = target.detach().cpu().numpy()\n",
    "        plt.plot(graph.x[:,0], target, label='target', marker='x')\n",
    "        plt.plot(graph.x[:,0], pred, label='predicted', marker='o') \n",
    "        plt.legend()\n",
    "        plt.show()\n"
   ]
  },
  {
   "cell_type": "code",
   "execution_count": 325,
   "metadata": {},
   "outputs": [
    {
     "data": {
      "image/png": "[encoded data removed]",
      "text/plain": [
       "<Figure size 640x480 with 1 Axes>"
      ]
     },
     "metadata": {},
     "output_type": "display_data"
    },
    {
     "data": {
      "image/png": "[encoded data removed]",
      "text/plain": [
       "<Figure size 640x480 with 1 Axes>"
      ]
     },
     "metadata": {},
     "output_type": "display_data"
    },
    {
     "data": {
      "image/png": "[encoded data removed]",
      "text/plain": [
       "<Figure size 640x480 with 1 Axes>"
      ]
     },
     "metadata": {},
     "output_type": "display_data"
    },
    {
     "data": {
      "image/png": "[encoded data removed]",
      "text/plain": [
       "<Figure size 640x480 with 1 Axes>"
      ]
     },
     "metadata": {},
     "output_type": "display_data"
    },
    {
     "data": {
      "image/png": "[encoded data removed]",
      "text/plain": [
       "<Figure size 640x480 with 1 Axes>"
      ]
     },
     "metadata": {},
     "output_type": "display_data"
    },
    {
     "data": {
      "image/png": "[encoded data removed]",
      "text/plain": [
       "<Figure size 640x480 with 1 Axes>"
      ]
     },
     "metadata": {},
     "output_type": "display_data"
    },
    {
     "data": {
      "image/png": "[encoded data removed]",
      "text/plain": [
       "<Figure size 640x480 with 1 Axes>"
      ]
     },
     "metadata": {},
     "output_type": "display_data"
    },
    {
     "data": {
      "image/png": "[encoded data removed]",
      "text/plain": [
       "<Figure size 640x480 with 1 Axes>"
      ]
     },
     "metadata": {},
     "output_type": "display_data"
    },
    {
     "data": {
      "image/png": "[encoded data removed]",
      "text/plain": [
       "<Figure size 640x480 with 1 Axes>"
      ]
     },
     "metadata": {},
     "output_type": "display_data"
    },
    {
     "data": {
      "image/png": "[encoded data removed]",
      "text/plain": [
       "<Figure size 640x480 with 1 Axes>"
      ]
     },
     "metadata": {},
     "output_type": "display_data"
    }
   ],
   "source": [
    "plot_results(simulator, test_dataloader)"
   ]
  },
  {
   "cell_type": "code",
   "execution_count": null,
   "metadata": {},
   "outputs": [],
   "source": []
  }
 ],
 "metadata": {
  "kernelspec": {
   "display_name": "ML",
   "language": "python",
   "name": "python3"
  },
  "language_info": {
   "codemirror_mode": {
    "name": "ipython",
    "version": 3
   },
   "file_extension": ".py",
   "mimetype": "text/x-python",
   "name": "python",
   "nbconvert_exporter": "python",
   "pygments_lexer": "ipython3",
   "version": "3.12.4"
  }
 },
 "nbformat": 4,
 "nbformat_minor": 2
}
