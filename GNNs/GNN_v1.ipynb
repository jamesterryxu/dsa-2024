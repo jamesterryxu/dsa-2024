{
 "cells": [
  {
   "cell_type": "code",
   "execution_count": 2,
   "metadata": {},
   "outputs": [],
   "source": [
    "# Create a GNN model for 1D data\n",
    "#pip install torch_geometric --user --quiet\n",
    "#pip install torch --user --quiet"
   ]
  },
  {
   "cell_type": "code",
   "execution_count": 3,
   "metadata": {},
   "outputs": [],
   "source": [
    "# Importing libraries\n",
    "import torch\n",
    "import torch.nn.functional as F\n",
    "import torch_geometric as pyg\n",
    "import pandas as pd\n",
    "import numpy as np\n",
    "import matplotlib.pyplot as plt"
   ]
  },
  {
   "cell_type": "code",
   "execution_count": 4,
   "metadata": {},
   "outputs": [],
   "source": [
    "# Create GNN model\n",
    "\n",
    "class InteractionNetwork(pyg.nn.MessagePassing):\n",
    "   def __init__(self, hidden_size, layers=3):\n",
    "       super().__init__()\n",
    "       self.lin_edge = MLP(hidden_size * 3, hidden_size, layers)\n",
    "       self.lin_node = MLP(hidden_size * 2, hidden_size, layers)"
   ]
  },
  {
   "cell_type": "code",
   "execution_count": 5,
   "metadata": {},
   "outputs": [],
   "source": [
    "def message(self, x_i, x_j, edge_feature):\n",
    "    x = torch.cat((x_i, x_j, edge_feature), dim=-1)\n",
    "    x = self.lin_edge(x)\n",
    "    return x"
   ]
  },
  {
   "cell_type": "code",
   "execution_count": 6,
   "metadata": {},
   "outputs": [],
   "source": [
    "def aggregate(self, inputs, index):\n",
    "    out = torch_scatter.scatter(inputs, index, dim=self.node_dim, reduce=\"sum\")\n",
    "    return (inputs, out)"
   ]
  },
  {
   "cell_type": "code",
   "execution_count": 7,
   "metadata": {},
   "outputs": [],
   "source": [
    "def forward(self, x, edge_index, edge_feature):\n",
    "    edge_out, aggr = self.propagate(edge_index, x=(x, x), edge_feature=edge_feature)\n",
    "    node_out = self.lin_node(torch.cat((x, aggr), dim=-1))\n",
    "    edge_out = edge_feature + edge_out\n",
    "    node_out = x + node_out\n",
    "    return node_out, edge_out"
   ]
  },
  {
   "cell_type": "code",
   "execution_count": 8,
   "metadata": {},
   "outputs": [],
   "source": [
    "class LearnedSimulator(torch.nn.Module):\n",
    "   \"\"\"Graph Network-based Simulators(GNS)\"\"\"\n",
    "   def __init__(\n",
    "       self,\n",
    "       hidden_size=128,\n",
    "       n_mp_layers=2, # number of GNN layers\n",
    "       node_feature_dim=30,\n",
    "       edge_feature_dim=3,\n",
    "       dim=1, # dimension of the world, typically 2D or 3D\n",
    "   ):\n",
    "       super().__init__()\n",
    "       self.node_in = MLP(node_feature_dim, hidden_size, 3)\n",
    "       self.edge_in = MLP(edge_feature_dim, hidden_size, 3)\n",
    "       self.node_out = MLP(hidden_size, dim, 3)\n",
    "       self.layers = torch.nn.ModuleList([InteractionNetwork(hidden_size, 3) for _ in range(n_mp_layers)])\n",
    " \n",
    "   def forward(self, edge_index, node_feature, edge_feature):\n",
    "       # encoder\n",
    "       node_feature = self.node_in(node_feature)\n",
    "       edge_feature = self.edge_in(edge_feature)\n",
    "       # processor\n",
    "       for layer in self.layers:\n",
    "           node_feature, edge_feature = layer(node_feature, edge_index, edge_feature=edge_feature)\n",
    "       # decoder\n",
    "       out = self.node_out(node_feature)\n",
    "       return out"
   ]
  },
  {
   "cell_type": "code",
   "execution_count": 10,
   "metadata": {},
   "outputs": [],
   "source": [
    "class MLP(torch.nn.Module):\n",
    "    \"\"\"Multi-Layer perceptron\"\"\"\n",
    "    def __init__(self, input_size, hidden_size, output_size, layers, layernorm=True):\n",
    "        super().__init__()\n",
    "        self.layers = torch.nn.ModuleList()\n",
    "        for i in range(layers):\n",
    "            self.layers.append(torch.nn.Linear(\n",
    "                input_size if i == 0 else hidden_size,\n",
    "                output_size if i == layers - 1 else hidden_size,\n",
    "            ))\n",
    "            if i != layers - 1:\n",
    "                self.layers.append(torch.nn.ReLU())\n",
    "        if layernorm:\n",
    "            self.layers.append(torch.nn.LayerNorm(output_size))\n",
    "        self.reset_parameters()\n",
    "\n",
    "    def reset_parameters(self):\n",
    "        for layer in self.layers:\n",
    "            if isinstance(layer, torch.nn.Linear):\n",
    "                layer.weight.data.normal_(0, 1 / math.sqrt(layer.in_features))\n",
    "                layer.bias.data.fill_(0)\n",
    "\n",
    "    def forward(self, x):\n",
    "        for layer in self.layers:\n",
    "            x = layer(x)\n",
    "        return x"
   ]
  },
  {
   "cell_type": "code",
   "execution_count": 12,
   "metadata": {},
   "outputs": [],
   "source": [
    "class InteractionNetwork(pyg.nn.MessagePassing):\n",
    "    \"\"\"Interaction Network as proposed in this paper:\n",
    "    https://proceedings.neurips.cc/paper/2016/hash/3147da8ab4a0437c15ef51a5cc7f2dc4-Abstract.html\"\"\"\n",
    "    def __init__(self, hidden_size, layers):\n",
    "        super().__init__()\n",
    "        self.lin_edge = MLP(hidden_size * 3, hidden_size, hidden_size, layers)\n",
    "        self.lin_node = MLP(hidden_size * 2, hidden_size, hidden_size, layers)\n",
    "\n",
    "    def forward(self, x, edge_index, edge_feature):\n",
    "        edge_out, aggr = self.propagate(edge_index, x=(x, x), edge_feature=edge_feature)\n",
    "        node_out = self.lin_node(torch.cat((x, aggr), dim=-1))\n",
    "        edge_out = edge_feature + edge_out\n",
    "        node_out = x + node_out\n",
    "        return node_out, edge_out\n",
    "\n",
    "    def message(self, x_i, x_j, edge_feature):\n",
    "        x = torch.cat((x_i, x_j, edge_feature), dim=-1)\n",
    "        x = self.lin_edge(x)\n",
    "        return x\n",
    "\n",
    "    def aggregate(self, inputs, index, dim_size=None):\n",
    "        out = torch_scatter.scatter(inputs, index, dim=self.node_dim, dim_size=dim_size, reduce=\"sum\")\n",
    "        return (inputs, out)"
   ]
  },
  {
   "cell_type": "code",
   "execution_count": null,
   "metadata": {},
   "outputs": [],
   "source": []
  }
 ],
 "metadata": {
  "kernelspec": {
   "display_name": "ML",
   "language": "python",
   "name": "python3"
  },
  "language_info": {
   "codemirror_mode": {
    "name": "ipython",
    "version": 3
   },
   "file_extension": ".py",
   "mimetype": "text/x-python",
   "name": "python",
   "nbconvert_exporter": "python",
   "pygments_lexer": "ipython3",
   "version": "3.12.4"
  }
 },
 "nbformat": 4,
 "nbformat_minor": 2
}
