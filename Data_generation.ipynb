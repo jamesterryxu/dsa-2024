{
 "cells": [
  {
   "cell_type": "markdown",
   "metadata": {},
   "source": [
    "# Create Data"
   ]
  },
  {
   "cell_type": "code",
   "execution_count": 1,
   "metadata": {},
   "outputs": [],
   "source": [
    "import numpy as np\n",
    "import matplotlib.pyplot as plt\n",
    "import pandas as pd\n",
    "import os"
   ]
  },
  {
   "cell_type": "code",
   "execution_count": 43,
   "metadata": {},
   "outputs": [],
   "source": [
    "# Create range\n",
    "EI = np.random.uniform(0, 1, 100) * 100\n",
    "L = np.random.uniform(0, 1, 100) * 15\n",
    "P = 1 # Load\n",
    "n_elem = 50"
   ]
  },
  {
   "cell_type": "code",
   "execution_count": 44,
   "metadata": {},
   "outputs": [],
   "source": [
    "EI,L = np.meshgrid(EI, L)"
   ]
  },
  {
   "cell_type": "code",
   "execution_count": 45,
   "metadata": {},
   "outputs": [],
   "source": [
    "import numpy as np\n",
    "import pandas as pd\n",
    "\n",
    "def cantilever_beam(EI, L, P, n_elem):\n",
    "    x = np.linspace(0, L, n_elem)\n",
    "    w = -P * x**2 / 6 / EI * (3 * L - x)\n",
    "    return w\n",
    "\n",
    "def add_noise(data, noise_level):\n",
    "    noise = np.random.normal(0, noise_level, data.shape)\n",
    "    return data + noise\n",
    "\n",
    "# Create a list to store DataFrames\n",
    "coord_list = []\n",
    "w_list = []\n",
    "EI_list = []\n",
    "\n",
    "noise_data_n = 5\n",
    "noise_level = 0.05\n",
    "\n",
    "for i, _ in enumerate(EI.flatten()):\n",
    "    w = cantilever_beam(EI.flatten()[i], L.flatten()[i], P, n_elem)\n",
    "    x = np.linspace(0, L.flatten()[i], n_elem)\n",
    "    for _ in range(noise_data_n):\n",
    "        w_noise = add_noise(w, noise_level)\n",
    "        coord = [(d,0) for d in x]\n",
    "        coord_list.append(coord)\n",
    "        w_list.append(w_noise)\n",
    "        EI_list.append([EI.flatten()[i]])\n",
    "\n",
    "\n",
    "    \n"
   ]
  },
  {
   "cell_type": "code",
   "execution_count": 47,
   "metadata": {},
   "outputs": [],
   "source": [
    "# Export to JSON\n",
    "\n",
    "data = {\n",
    "    \"coord\": coord_list,\n",
    "    \"w\": w_list,\n",
    "    \"EI\": EI_list\n",
    "}\n",
    "\n",
    "df = pd.DataFrame(data)\n",
    "df.to_json(\"data.json\", orient=\"records\")"
   ]
  },
  {
   "cell_type": "code",
   "execution_count": null,
   "metadata": {},
   "outputs": [],
   "source": []
  }
 ],
 "metadata": {
  "kernelspec": {
   "display_name": "base",
   "language": "python",
   "name": "python3"
  },
  "language_info": {
   "codemirror_mode": {
    "name": "ipython",
    "version": 3
   },
   "file_extension": ".py",
   "mimetype": "text/x-python",
   "name": "python",
   "nbconvert_exporter": "python",
   "pygments_lexer": "ipython3",
   "version": "3.12.2"
  }
 },
 "nbformat": 4,
 "nbformat_minor": 2
}
