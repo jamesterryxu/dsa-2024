{
  "cells": [
    {
      "cell_type": "markdown",
      "metadata": {
        "id": "JGjDeztzhw0n"
      },
      "source": [
        "# Graph Network-based Simulator (GNS)\n",
        "\n",
        "Gonzalez et al. first introduced the concept and architecture of the GNS in 2020 in their now classic [paper](https://proceedings.mlr.press/v119/sanchez-gonzalez20a.html). Since then, several fields have implemented the architecture for particle simulations due to certain favorable inductive biases of the architecture and implementation. We explore the question if the GNS architecture is also useful for FEM based simulations in the *inverse* problem with *output-only* data. Determining the parameters of a physical system with output-only measurements of a proxy of the true state is still an open problem. To begin this feasibility study, we start with a toy example, starting with a static loading problem and a simple Euler-Bernoulli cantilever beam. We also build the necessary code to solve more complicated problems in the future"
      ]
    },
    {
      "cell_type": "markdown",
      "metadata": {
        "id": "1OqXlrOWh2ka"
      },
      "source": [
        "## Installing packages"
      ]
    },
    {
      "cell_type": "code",
      "execution_count": 1,
      "metadata": {
        "colab": {
          "base_uri": "https://localhost:8080/"
        },
        "id": "Y0EtE29uWUv2",
        "outputId": "f5417896-a352-4a98-fce5-b68cd70d45b4"
      },
      "outputs": [
        {
          "output_type": "stream",
          "name": "stdout",
          "text": [
            "PyTorch has version 2.3.1+cu121 with cuda 12.1\n"
          ]
        }
      ],
      "source": [
        "import os\n",
        "import torch\n",
        "import math\n",
        "print(f\"PyTorch has version {torch.__version__} with cuda {torch.version.cuda}\")"
      ]
    },
    {
      "cell_type": "code",
      "execution_count": 2,
      "metadata": {
        "colab": {
          "base_uri": "https://localhost:8080/"
        },
        "collapsed": true,
        "id": "EGdduR5yDsAO",
        "outputId": "f4b6db2d-6b61-4732-d6c0-9451ccfa4282"
      },
      "outputs": [
        {
          "output_type": "stream",
          "name": "stdout",
          "text": [
            "Collecting torch_geometric\n",
            "  Downloading torch_geometric-2.5.3-py3-none-any.whl.metadata (64 kB)\n",
            "\u001b[?25l     \u001b[90m━━━━━━━━━━━━━━━━━━━━━━━━━━━━━━━━━━━━━━━━\u001b[0m \u001b[32m0.0/64.2 kB\u001b[0m \u001b[31m?\u001b[0m eta \u001b[36m-:--:--\u001b[0m\r\u001b[2K     \u001b[90m━━━━━━━━━━━━━━━━━━━━━━━━━━━━━━━━━━━━━━━━\u001b[0m \u001b[32m64.2/64.2 kB\u001b[0m \u001b[31m1.7 MB/s\u001b[0m eta \u001b[36m0:00:00\u001b[0m\n",
            "\u001b[?25hRequirement already satisfied: tqdm in /usr/local/lib/python3.10/dist-packages (from torch_geometric) (4.66.4)\n",
            "Requirement already satisfied: numpy in /usr/local/lib/python3.10/dist-packages (from torch_geometric) (1.25.2)\n",
            "Requirement already satisfied: scipy in /usr/local/lib/python3.10/dist-packages (from torch_geometric) (1.11.4)\n",
            "Requirement already satisfied: fsspec in /usr/local/lib/python3.10/dist-packages (from torch_geometric) (2023.6.0)\n",
            "Requirement already satisfied: jinja2 in /usr/local/lib/python3.10/dist-packages (from torch_geometric) (3.1.4)\n",
            "Requirement already satisfied: aiohttp in /usr/local/lib/python3.10/dist-packages (from torch_geometric) (3.9.5)\n",
            "Requirement already satisfied: requests in /usr/local/lib/python3.10/dist-packages (from torch_geometric) (2.31.0)\n",
            "Requirement already satisfied: pyparsing in /usr/local/lib/python3.10/dist-packages (from torch_geometric) (3.1.2)\n",
            "Requirement already satisfied: scikit-learn in /usr/local/lib/python3.10/dist-packages (from torch_geometric) (1.2.2)\n",
            "Requirement already satisfied: psutil>=5.8.0 in /usr/local/lib/python3.10/dist-packages (from torch_geometric) (5.9.5)\n",
            "Requirement already satisfied: aiosignal>=1.1.2 in /usr/local/lib/python3.10/dist-packages (from aiohttp->torch_geometric) (1.3.1)\n",
            "Requirement already satisfied: attrs>=17.3.0 in /usr/local/lib/python3.10/dist-packages (from aiohttp->torch_geometric) (23.2.0)\n",
            "Requirement already satisfied: frozenlist>=1.1.1 in /usr/local/lib/python3.10/dist-packages (from aiohttp->torch_geometric) (1.4.1)\n",
            "Requirement already satisfied: multidict<7.0,>=4.5 in /usr/local/lib/python3.10/dist-packages (from aiohttp->torch_geometric) (6.0.5)\n",
            "Requirement already satisfied: yarl<2.0,>=1.0 in /usr/local/lib/python3.10/dist-packages (from aiohttp->torch_geometric) (1.9.4)\n",
            "Requirement already satisfied: async-timeout<5.0,>=4.0 in /usr/local/lib/python3.10/dist-packages (from aiohttp->torch_geometric) (4.0.3)\n",
            "Requirement already satisfied: MarkupSafe>=2.0 in /usr/local/lib/python3.10/dist-packages (from jinja2->torch_geometric) (2.1.5)\n",
            "Requirement already satisfied: charset-normalizer<4,>=2 in /usr/local/lib/python3.10/dist-packages (from requests->torch_geometric) (3.3.2)\n",
            "Requirement already satisfied: idna<4,>=2.5 in /usr/local/lib/python3.10/dist-packages (from requests->torch_geometric) (3.7)\n",
            "Requirement already satisfied: urllib3<3,>=1.21.1 in /usr/local/lib/python3.10/dist-packages (from requests->torch_geometric) (2.0.7)\n",
            "Requirement already satisfied: certifi>=2017.4.17 in /usr/local/lib/python3.10/dist-packages (from requests->torch_geometric) (2024.7.4)\n",
            "Requirement already satisfied: joblib>=1.1.1 in /usr/local/lib/python3.10/dist-packages (from scikit-learn->torch_geometric) (1.4.2)\n",
            "Requirement already satisfied: threadpoolctl>=2.0.0 in /usr/local/lib/python3.10/dist-packages (from scikit-learn->torch_geometric) (3.5.0)\n",
            "Downloading torch_geometric-2.5.3-py3-none-any.whl (1.1 MB)\n",
            "\u001b[2K   \u001b[90m━━━━━━━━━━━━━━━━━━━━━━━━━━━━━━━━━━━━━━━━\u001b[0m \u001b[32m1.1/1.1 MB\u001b[0m \u001b[31m7.0 MB/s\u001b[0m eta \u001b[36m0:00:00\u001b[0m\n",
            "\u001b[?25hInstalling collected packages: torch_geometric\n",
            "Successfully installed torch_geometric-2.5.3\n",
            "Looking in links: https://data.pyg.org/whl/torch-2.3.0+cu121.html\n",
            "Collecting pyg_lib\n",
            "  Downloading https://data.pyg.org/whl/torch-2.3.0%2Bcu121/pyg_lib-0.4.0%2Bpt23cu121-cp310-cp310-linux_x86_64.whl (2.5 MB)\n",
            "\u001b[2K     \u001b[90m━━━━━━━━━━━━━━━━━━━━━━━━━━━━━━━━━━━━━━━━\u001b[0m \u001b[32m2.5/2.5 MB\u001b[0m \u001b[31m13.8 MB/s\u001b[0m eta \u001b[36m0:00:00\u001b[0m\n",
            "\u001b[?25hCollecting torch_scatter\n",
            "  Downloading https://data.pyg.org/whl/torch-2.3.0%2Bcu121/torch_scatter-2.1.2%2Bpt23cu121-cp310-cp310-linux_x86_64.whl (10.9 MB)\n",
            "\u001b[2K     \u001b[90m━━━━━━━━━━━━━━━━━━━━━━━━━━━━━━━━━━━━━━━━\u001b[0m \u001b[32m10.9/10.9 MB\u001b[0m \u001b[31m17.9 MB/s\u001b[0m eta \u001b[36m0:00:00\u001b[0m\n",
            "\u001b[?25hCollecting torch_sparse\n",
            "  Downloading https://data.pyg.org/whl/torch-2.3.0%2Bcu121/torch_sparse-0.6.18%2Bpt23cu121-cp310-cp310-linux_x86_64.whl (5.1 MB)\n",
            "\u001b[2K     \u001b[90m━━━━━━━━━━━━━━━━━━━━━━━━━━━━━━━━━━━━━━━━\u001b[0m \u001b[32m5.1/5.1 MB\u001b[0m \u001b[31m17.6 MB/s\u001b[0m eta \u001b[36m0:00:00\u001b[0m\n",
            "\u001b[?25hCollecting torch_cluster\n",
            "  Downloading https://data.pyg.org/whl/torch-2.3.0%2Bcu121/torch_cluster-1.6.3%2Bpt23cu121-cp310-cp310-linux_x86_64.whl (3.4 MB)\n",
            "\u001b[2K     \u001b[90m━━━━━━━━━━━━━━━━━━━━━━━━━━━━━━━━━━━━━━━━\u001b[0m \u001b[32m3.4/3.4 MB\u001b[0m \u001b[31m23.4 MB/s\u001b[0m eta \u001b[36m0:00:00\u001b[0m\n",
            "\u001b[?25hCollecting torch_spline_conv\n",
            "  Downloading https://data.pyg.org/whl/torch-2.3.0%2Bcu121/torch_spline_conv-1.2.2%2Bpt23cu121-cp310-cp310-linux_x86_64.whl (947 kB)\n",
            "\u001b[2K     \u001b[90m━━━━━━━━━━━━━━━━━━━━━━━━━━━━━━━━━━━━━━━━\u001b[0m \u001b[32m947.1/947.1 kB\u001b[0m \u001b[31m16.3 MB/s\u001b[0m eta \u001b[36m0:00:00\u001b[0m\n",
            "\u001b[?25hRequirement already satisfied: scipy in /usr/local/lib/python3.10/dist-packages (from torch_sparse) (1.11.4)\n",
            "Requirement already satisfied: numpy<1.28.0,>=1.21.6 in /usr/local/lib/python3.10/dist-packages (from scipy->torch_sparse) (1.25.2)\n",
            "Installing collected packages: torch_spline_conv, torch_scatter, pyg_lib, torch_sparse, torch_cluster\n",
            "Successfully installed pyg_lib-0.4.0+pt23cu121 torch_cluster-1.6.3+pt23cu121 torch_scatter-2.1.2+pt23cu121 torch_sparse-0.6.18+pt23cu121 torch_spline_conv-1.2.2+pt23cu121\n"
          ]
        }
      ],
      "source": [
        "!pip install torch_geometric\n",
        "\n",
        "# Optional dependencies:\n",
        "#\n",
        "!pip install pyg_lib torch_scatter torch_sparse torch_cluster torch_spline_conv -f https://data.pyg.org/whl/torch-2.3.0+cu121.html"
      ]
    },
    {
      "cell_type": "code",
      "execution_count": 3,
      "metadata": {
        "colab": {
          "base_uri": "https://localhost:8080/"
        },
        "id": "-sYTZtP6DoL7",
        "outputId": "12c3e585-35ad-4162-e9b1-e8d66134983a"
      },
      "outputs": [
        {
          "output_type": "stream",
          "name": "stdout",
          "text": [
            "PyTorch has version 2.3.1+cu121 with cuda 12.1\n"
          ]
        }
      ],
      "source": [
        "from torch_geometric.data import Data\n",
        "from torch_geometric.nn import MessagePassing, radius_graph\n",
        "from torch_geometric.utils import add_self_loops\n",
        "import torch_cluster\n",
        "import torch_scatter\n",
        "print(f\"PyTorch has version {torch.__version__} with cuda {torch.version.cuda}\")\n",
        "\n",
        "\n",
        "import numpy as np\n",
        "import pandas as pd\n",
        "import matplotlib.pyplot as plt\n",
        "import torch.nn as nn"
      ]
    },
    {
      "cell_type": "code",
      "execution_count": null,
      "metadata": {
        "id": "EWoR2idfY7bd"
      },
      "outputs": [],
      "source": [
        "# import tree\n",
        "# from tqdm import tqdm"
      ]
    },
    {
      "cell_type": "markdown",
      "metadata": {
        "id": "7gVjWusQiHV1"
      },
      "source": [
        "## Building the GNS"
      ]
    },
    {
      "cell_type": "markdown",
      "metadata": {
        "id": "hI8AR8DCiEOI"
      },
      "source": [
        "The rough workflow is as follows:\n",
        "\n",
        "$$ x \\rightarrow G \\rightarrow Encoder \\rightarrow Processor \\rightarrow Decoder \\rightarrow y$$"
      ]
    },
    {
      "cell_type": "markdown",
      "metadata": {
        "id": "LSLBKX1KBYxW"
      },
      "source": [
        "First, create a function to generate a graph from raw data."
      ]
    },
    {
      "cell_type": "code",
      "execution_count": 4,
      "metadata": {
        "colab": {
          "base_uri": "https://localhost:8080/",
          "height": 659
        },
        "id": "o3j7BB9KBPX3",
        "outputId": "d1f79686-780e-46d0-f290-ab3e5653f02d"
      },
      "outputs": [
        {
          "output_type": "display_data",
          "data": {
            "text/plain": [
              "<Figure size 640x480 with 1 Axes>"
            ],
            "image/png": "[encoded data removed]"
          },
          "metadata": {}
        },
        {
          "output_type": "stream",
          "name": "stdout",
          "text": [
            "tensor([[ 1.0000, -1.0000,  0.0000,  0.2381],\n",
            "        [ 1.0000,  1.0000,  0.0000,  9.3448],\n",
            "        [ 1.0000, -1.0000,  0.0000,  8.2983],\n",
            "        [ 1.0000,  1.0000,  0.0000,  3.6964],\n",
            "        [ 1.0000, -1.0000,  0.0000,  5.6253],\n",
            "        [ 1.0000,  1.0000,  0.0000,  1.2209],\n",
            "        [ 1.0000, -1.0000,  0.0000,  1.3027],\n",
            "        [ 1.0000,  1.0000,  0.0000,  2.6589]])\n"
          ]
        }
      ],
      "source": [
        "from torch_geometric.data import Data\n",
        "from torch_geometric.nn import radius_graph\n",
        "from torch_geometric.utils import to_networkx\n",
        "import networkx as nx\n",
        "\n",
        "def create_gnn_graph(coordinates, metadata):\n",
        "    \"\"\"\n",
        "    Create a graph data object for a GNN model.\n",
        "\n",
        "    Args:\n",
        "    - coordinates (list of tuples): A list of 2D coordinates for each node.\n",
        "    - E_initial (float): The initial value for the edge attribute.\n",
        "\n",
        "    Returns:\n",
        "    - data (Data): A PyG Data object representing the graph.\n",
        "    \"\"\"\n",
        "\n",
        "    # Convert coordinates to tensor\n",
        "    node_features = torch.tensor(coordinates, dtype=torch.float)\n",
        "\n",
        "    # Add the load as a node attribute\n",
        "    load = torch.rand(node_features.size(0), 1) * metadata[\"P_initial\"]\n",
        "    dist_boundary = torch.norm(node_features - torch.tensor([[0, 0]], dtype=torch.float), dim=1).unsqueeze(1)\n",
        "\n",
        "    # Create edges\n",
        "    num_nodes = len(coordinates)\n",
        "    edge_index = radius_graph(node_features, r=metadata[\"default_connectivity_radius\"], loop=False)\n",
        "\n",
        "    # Calculate edge attributes (e.g., Euclidean distance)\n",
        "    distance = torch.norm(node_features[edge_index[0]] - node_features[edge_index[1]], dim=1).unsqueeze(1)\n",
        "    # Calculate displacement as vector at each edge\n",
        "    displacement = (node_features[edge_index[1]] - node_features[edge_index[0]])\n",
        "\n",
        "    # Convert E_initial to a PyTorch tensor\n",
        "    E_initial = torch.tensor(metadata[\"E_initial\"], dtype=torch.float)\n",
        "    # Correctly generate a tensor with random values uniformly distributed between 0 and 1, then scale by E_initial\n",
        "    E_edge = torch.rand(edge_index.size(1), 1) * E_initial\n",
        "\n",
        "    # Now, both tensors have shape [number_of_edges, 1] and can be concatenated\n",
        "    edge_attr = torch.cat([distance, displacement, E_edge], dim=1)\n",
        "\n",
        "    # Create a graph data object\n",
        "    graph_data = Data(pos=node_features, edge_index=edge_index, edge_attr=edge_attr, node_attr=load)\n",
        "\n",
        "    return graph_data\n",
        "\n",
        "# Example usage\n",
        "metadata = {\"default_connectivity_radius\": 1.6, \"E_initial\": 10, \"P_initial\": 0}\n",
        "coordinates = [(0.5, 0), (1.5, 0), (2.5, 0), (3.5, 0), (4.5, 0)]\n",
        "graph_data = create_gnn_graph(coordinates, metadata)\n",
        "\n",
        "graph = to_networkx(graph_data)\n",
        "nx.draw(graph, with_labels=True)\n",
        "plt.show()\n",
        "\n",
        "print(graph_data.edge_attr)"
      ]
    },
    {
      "cell_type": "markdown",
      "metadata": {
        "id": "1VM7XVk9Fohd"
      },
      "source": [
        "We can then code up a simple MLP helper class to use in our architecture."
      ]
    },
    {
      "cell_type": "code",
      "execution_count": 5,
      "metadata": {
        "id": "FIFg__aOhuyX"
      },
      "outputs": [],
      "source": [
        "class MLP(nn.Module):\n",
        "    \"\"\"\n",
        "    Create a simple MLP\n",
        "    \"\"\"\n",
        "    def __init__(\n",
        "        self,\n",
        "        input_size,\n",
        "        layer_sizes,\n",
        "        output_size=None,\n",
        "        output_activation=torch.nn.Identity,\n",
        "        activation=torch.nn.ReLU\n",
        "    ):\n",
        "        super(MLP, self).__init__()\n",
        "        sizes = [input_size] + layer_sizes\n",
        "        if output_size is not None:\n",
        "            sizes.append(output_size)\n",
        "        layers = []\n",
        "        for i in range(len(sizes) - 1):\n",
        "            if (i < len(sizes) - 2):\n",
        "                act = activation\n",
        "            else:\n",
        "                act = output_activation\n",
        "            layers += [torch.nn.Linear(sizes[i], sizes[i + 1]), act()]\n",
        "        self.model = torch.nn.Sequential(*layers)\n",
        "\n",
        "    def forward(self, x):\n",
        "        return self.model(x)"
      ]
    },
    {
      "cell_type": "markdown",
      "metadata": {
        "id": "Vv1aF3njFqhb"
      },
      "source": [
        "### Encoder and Decoder"
      ]
    },
    {
      "cell_type": "markdown",
      "metadata": {
        "id": "aT8pNoN0ia9B"
      },
      "source": [
        "We then can create our encoder and decoder classes."
      ]
    },
    {
      "cell_type": "code",
      "execution_count": 6,
      "metadata": {
        "id": "iM-Fa5kC_Vtq"
      },
      "outputs": [],
      "source": [
        "class Encoder(nn.Module):\n",
        "    def __init__(\n",
        "        self,\n",
        "        node_in, # same shape as the data vertices (nodes) WARNING\n",
        "        node_out, # shape for the processor block\n",
        "        edge_in, # same shape as the data edges (elements)\n",
        "        edge_out, # shape for the processor block\n",
        "        mlp_num_layers,\n",
        "        mlp_hidden_dim,\n",
        "    ):\n",
        "        super(Encoder, self).__init__()\n",
        "\n",
        "        ############################################################################\n",
        "        # TODO: Implement the encoder.\n",
        "        # Hint: The node_fn and edge_fn are of the same structure, which is a MLP layer followed by a layer norm\n",
        "        ############################################################################\n",
        "        self.node_fn = nn.Sequential(*[MLP(node_in, [mlp_hidden_dim for _ in range(mlp_num_layers)], node_out),\n",
        "            nn.LayerNorm(node_out)])\n",
        "        self.edge_fn = nn.Sequential(*[MLP(edge_in, [mlp_hidden_dim for _ in range(mlp_num_layers)], edge_out),\n",
        "            nn.LayerNorm(edge_out)])\n",
        "        ############################################################################\n",
        "\n",
        "    def forward(self, x, e_features): # global_features\n",
        "        '''\n",
        "        x: (E, node_in)\n",
        "        edge_index: (2, E)\n",
        "        e_features: (E, edge_in)\n",
        "        '''\n",
        "        return self.node_fn(x), self.edge_fn(e_features)\n",
        "\n",
        "class Decoder(nn.Module):\n",
        "    def __init__(\n",
        "        self,\n",
        "        node_in, # directly from the processor\n",
        "        node_out, # this shape needs to be (num_nodes of real problem x 2). The first column should be u, the second should be p.\n",
        "        edge_in, # directly from the processor\n",
        "        edge_out, # this shape needs to be (num_elements of real problem x 1). The first column should be ei.\n",
        "        mlp_num_layers,\n",
        "        mlp_hidden_dim,\n",
        "    ):\n",
        "        super(Decoder, self).__init__()\n",
        "        ############################################################################\n",
        "        # Implement the decoder.\n",
        "        # The decoder outputs both node and edge information.\n",
        "        ############################################################################\n",
        "        self.node_fn = MLP(node_in, [mlp_hidden_dim for _ in range(mlp_num_layers)], node_out)\n",
        "        self.edge_fn = MLP(edge_in, [mlp_hidden_dim for _ in range(mlp_num_layers)], edge_out)\n",
        "        ############################################################################\n",
        "\n",
        "    def forward(self, x, e_features):\n",
        "        '''\n",
        "        x: (E, node_in)\n",
        "        e_features: (E, edge_in)\n",
        "        '''\n",
        "        ############################################################################\n",
        "        # Implement the forward pass.\n",
        "        ############################################################################\n",
        "        return self.node_fn(x), self.edge_fn(e_features)\n",
        "        ############################################################################\n",
        "\n"
      ]
    },
    {
      "cell_type": "markdown",
      "metadata": {
        "id": "4qy55GmEF-Hh"
      },
      "source": [
        "### Message passing"
      ]
    },
    {
      "cell_type": "markdown",
      "metadata": {
        "id": "ZWf0taBSigqS"
      },
      "source": [
        "We now can create the message passing to be used in the Processor."
      ]
    },
    {
      "cell_type": "code",
      "execution_count": 7,
      "metadata": {
        "id": "1s865OW1F9qX"
      },
      "outputs": [],
      "source": [
        "class InteractionNetwork(MessagePassing):\n",
        "    def __init__(\n",
        "        self,\n",
        "        node_fn,\n",
        "        edge_fn,\n",
        "    ):\n",
        "        super().__init__()\n",
        "        self.node_fn = node_fn\n",
        "        self.edge_fn = edge_fn\n",
        "\n",
        "    def forward(self, x, edge_index, e_features):\n",
        "        x_updated, e_updated = self.propagate(edge_index=edge_index, x=x, e_features=e_features)\n",
        "        return x_updated, e_updated\n",
        "\n",
        "    def message(self, edge_index, x_i, x_j, e_features):\n",
        "        message = torch.cat([x_i, x_j, e_features], dim=-1)\n",
        "        message = self.edge_fn(message)\n",
        "        return message\n",
        "\n",
        "    def aggregate(self, messages, index, dim_size=None):\n",
        "        out = torch_scatter.scatter(messages, index, dim=self.node_dim, dim_size=dim_size, reduce=\"sum\")\n",
        "        return (messages, out)\n",
        "\n",
        "    def update(self, aggr_out, x, e_features):\n",
        "        message, aggr = aggr_out\n",
        "        x_updated = torch.cat([aggr, x], dim=-1)\n",
        "        x_updated = self.node_fn(x_updated)\n",
        "        return x_updated+x, e_features+message"
      ]
    },
    {
      "cell_type": "markdown",
      "metadata": {
        "id": "b85V9iW7ikqG"
      },
      "source": [
        "### Processor"
      ]
    },
    {
      "cell_type": "markdown",
      "metadata": {
        "id": "ssnOxwogZx73"
      },
      "source": [
        "The processer has $M$ layers of InteractionNetworks"
      ]
    },
    {
      "cell_type": "code",
      "execution_count": 8,
      "metadata": {
        "id": "8lQlVqBlT8G2"
      },
      "outputs": [],
      "source": [
        "class Processor(MessagePassing):\n",
        "    def __init__(\n",
        "        self,\n",
        "        node_in,\n",
        "        node_out,\n",
        "        edge_in,\n",
        "        edge_out,\n",
        "        num_message_passing_steps,\n",
        "        mlp_num_layers,\n",
        "        mlp_hidden_dim,\n",
        "    ):\n",
        "        super(Processor, self).__init__(aggr='max')\n",
        "        self.gnn_stacks = nn.ModuleList([\n",
        "            InteractionNetwork(\n",
        "                node_fn = nn.Sequential(*[MLP(node_in+edge_out, [mlp_hidden_dim for _ in range(mlp_num_layers)], node_out),\n",
        "                nn.LayerNorm(node_out)]),\n",
        "                edge_fn = nn.Sequential(*[MLP(node_in+node_in+edge_in, [mlp_hidden_dim for _ in range(mlp_num_layers)], edge_out),\n",
        "                nn.LayerNorm(edge_out)])\n",
        "            ) for _ in range(num_message_passing_steps)])\n",
        "\n",
        "    def forward(self, x, edge_index, e_features):\n",
        "        for gnn in self.gnn_stacks:\n",
        "            x, e_features = gnn(x, edge_index, e_features)\n",
        "        return x, e_features"
      ]
    },
    {
      "cell_type": "markdown",
      "metadata": {
        "id": "6dG5XLWUZ4Wr"
      },
      "source": [
        "Combining the encoder, processor, and decoder into a single network."
      ]
    },
    {
      "cell_type": "code",
      "execution_count": 9,
      "metadata": {
        "id": "nbmwx-L_Z2-Z"
      },
      "outputs": [],
      "source": [
        "class EncodeProcessDecode(nn.Module):\n",
        "    def __init__(\n",
        "        self,\n",
        "        node_in,\n",
        "        node_out,\n",
        "        edge_in,\n",
        "        edge_out,\n",
        "        latent_dim,\n",
        "        num_message_passing_steps,\n",
        "        mlp_num_layers,\n",
        "        mlp_hidden_dim,\n",
        "    ):\n",
        "        super(EncodeProcessDecode, self).__init__()\n",
        "        ############################################################################\n",
        "        # Implementation of the encoder, processor, and decoder\n",
        "        ############################################################################\n",
        "        self._encoder = Encoder(\n",
        "            node_in=node_in,\n",
        "            node_out=latent_dim,\n",
        "            edge_in=edge_in,\n",
        "            edge_out=latent_dim,\n",
        "            mlp_num_layers=mlp_num_layers,\n",
        "            mlp_hidden_dim=mlp_hidden_dim,\n",
        "        )\n",
        "\n",
        "        self._processor = Processor(\n",
        "            node_in=latent_dim,\n",
        "            node_out=latent_dim,\n",
        "            edge_in=latent_dim,\n",
        "            edge_out=latent_dim,\n",
        "            num_message_passing_steps=num_message_passing_steps,\n",
        "            mlp_num_layers=mlp_num_layers,\n",
        "            mlp_hidden_dim=mlp_hidden_dim,\n",
        "        )\n",
        "\n",
        "        self._decoder = Decoder(\n",
        "            node_in=latent_dim,\n",
        "            node_out=node_out,\n",
        "            edge_in=latent_dim,\n",
        "            edge_out=edge_out,\n",
        "            mlp_num_layers=mlp_num_layers,\n",
        "            mlp_hidden_dim=mlp_hidden_dim,\n",
        "        )\n",
        "        ############################################################################\n",
        "\n",
        "    def forward(self, x, edge_index, e_features):\n",
        "        ''' forward pass of the architecture\n",
        "          x: (E, node_in) -> e.g., (5, 3) if there are 5 nodes each with 3 features\n",
        "          edge_index: (2, num_edges) -> e.g., (2, 4) if there are 4 edges\n",
        "          e_features: (E, edge_in) -> e.g., (5, 4) if there are 5 edges each with 4 features\n",
        "        '''\n",
        "        ############################################################################\n",
        "        # TODO: implementation of making a forward pass through the encoder,\n",
        "        # processor, and decoder blocks\n",
        "        ############################################################################\n",
        "        x, e_features = self._encoder(x, e_features)\n",
        "        x, e_features = self._processor(x, edge_index, e_features)\n",
        "        node_decoded, edge_decoded = self._decoder(x, e_features)\n",
        "        return node_decoded, edge_decoded\n",
        "        ############################################################################\n"
      ]
    },
    {
      "cell_type": "markdown",
      "metadata": {
        "id": "qXSUG_peZ_eB"
      },
      "source": [
        "The simulator puts it all together, from raw data to prediction. For the static case, the input is just a single 1-D array of values position values."
      ]
    },
    {
      "cell_type": "code",
      "execution_count": 10,
      "metadata": {
        "id": "Hh-PA6PxaL5a"
      },
      "outputs": [],
      "source": [
        "class Simulator(nn.Module):\n",
        "    def __init__(\n",
        "        self,\n",
        "        num_nodes,\n",
        "        num_edges,\n",
        "        node_dimension,\n",
        "        edge_dimension,\n",
        "        node_in,\n",
        "        edge_in,\n",
        "        latent_dim, # this is what we choose for the size of the network\n",
        "        num_message_passing_steps, # this is M\n",
        "        mlp_num_layers,\n",
        "        mlp_hidden_dim,\n",
        "        connectivity_radius,\n",
        "        # device='cpu',\n",
        "    ):\n",
        "        super(Simulator, self).__init__()\n",
        "        self._connectivity_radius = connectivity_radius\n",
        "\n",
        "        self._encode_process_decode = EncodeProcessDecode(\n",
        "            node_in=node_in,\n",
        "            node_out=node_dimension,\n",
        "            edge_in=edge_in,\n",
        "            edge_out=edge_dimension,\n",
        "            latent_dim=latent_dim,\n",
        "            num_message_passing_steps=num_message_passing_steps,\n",
        "            mlp_num_layers=mlp_num_layers,\n",
        "            mlp_hidden_dim=mlp_hidden_dim,\n",
        "        )\n",
        "\n",
        "        # self._device = device\n",
        "\n",
        "    # def _create_gnn_graph(self, coordinates):\n",
        "    #     \"\"\"\n",
        "    #     Create a graph data object for a GNN model.\n",
        "\n",
        "    #     Args:\n",
        "    #     - coordinates (list of tuples): A list of 2D coordinates for each node.\n",
        "\n",
        "    #     Returns:\n",
        "    #     - data (Data): A PyG Data object representing the graph, with edge and node features purley from the coordinates\n",
        "    #     \"\"\"\n",
        "\n",
        "    #     # Convert coordinates to tensor\n",
        "    #     pos = torch.tensor(coordinates, dtype=torch.float)\n",
        "\n",
        "    #     # Concat node features and load\n",
        "    #     node_features = torch.cat([pos], dim=1)\n",
        "    #     # Create edges\n",
        "    #     num_nodes = len(coordinates)\n",
        "    #     edge_index = radius_graph(pos, r=self._connectivity_radius, loop=False)\n",
        "    #     # Calculate edge attributes (e.g., Euclidean distance)\n",
        "    #     distance = torch.norm(pos[edge_index[0]] - pos[edge_index[1]], dim=1).unsqueeze(1)\n",
        "    #     # Calculate displacement as vector at each edge\n",
        "    #     displacement = (pos[edge_index[1]] - pos[edge_index[0]])\n",
        "\n",
        "    #     edge_attr = torch.cat([distance, displacement], dim=1)\n",
        "    #     return node_features,edge_index, edge_attr\n",
        "\n",
        "    def _create_gnn_graph(self, coordinates):\n",
        "      pos = coordinates  # Use coordinates directly\n",
        "      node_features = pos\n",
        "      edge_index = radius_graph(pos, r=self._connectivity_radius, loop=False)\n",
        "      distance = torch.norm(pos[edge_index[0]] - pos[edge_index[1]], dim=1).unsqueeze(1)\n",
        "      displacement = pos[edge_index[1]] - pos[edge_index[0]]\n",
        "      edge_attr = torch.cat([distance, displacement], dim=1)\n",
        "      return node_features, edge_index, edge_attr\n",
        "\n",
        "    def _decoder_post_processor(self, node_decoded, edge_decoded):\n",
        "      ''' TODO: We want to use the decoded edges and features to feed into the next iteration of gradient step\n",
        "      '''\n",
        "      #         edge_decoded = edge_attr = torch.cat([distance, displacement, E_edge], dim=1)\n",
        "      #         node_decoded = node_features = torch.cat([pos, load], dim=1)\n",
        "      # extract the nodal information\n",
        "\n",
        "      # deflection at each node, (num_nodes x 1), one deflection value in meters for each node\n",
        "      u = node_decoded[:,0]\n",
        "      EI, p = node_decoded[:,1], node_decoded[:,2]\n",
        "\n",
        "      p = p[-1]\n",
        "\n",
        "      # force applied at each node, (num_nodes x 1), one force magnitude value in meters for each node\n",
        "      # p = node_decoded\n",
        "\n",
        "      # flexural rigidity for each edge, (num_edges x 1), one value for flexural rigidity\n",
        "      # ei = edge_decoded\n",
        "\n",
        "      return u, p, EI\n",
        "\n",
        "    def forward(self, coordinates):\n",
        "      ''' TODO: Change this to predict the new features of u, EI, and p\n",
        "\n",
        "      '''\n",
        "      node_features, edge_index, e_features = self._create_gnn_graph(coordinates)\n",
        "      node_decoded, edge_decoded = self._encode_process_decode(node_features, edge_index, e_features)\n",
        "      u, p, EI = self._decoder_post_processor(node_decoded, edge_decoded)\n",
        "\n",
        "      # u,p,ei = self._decoder_post_processor(node_decoded, edge_decoded)\n",
        "      return u, p, EI  # to be used in loss calculation\n",
        "\n"
      ]
    },
    {
      "cell_type": "markdown",
      "metadata": {
        "id": "qu4-Iynmtu0d"
      },
      "source": [
        "### Training function implementation"
      ]
    },
    {
      "cell_type": "markdown",
      "metadata": {
        "id": "vHB5xSrF26LC"
      },
      "source": [
        "We have the non-trivial task of computing the pde loss, $\\mathbf{L}_{pde}$. We'll be formulating the loss by minimizing the residual of the Euler-Bernoulli beam differential equation. This is the main way of how we enforce our (soft) physics constraint."
      ]
    },
    {
      "cell_type": "code",
      "execution_count": 11,
      "metadata": {
        "id": "7rByIGfl25Y8"
      },
      "outputs": [],
      "source": [
        "# def residual_r(x, u):\n",
        "#   ''' pde residual computation function\n",
        "#     Args:\n",
        "#       x is the position of the beam\n",
        "#       u is the displacement of the beam (output of the GNS)\n",
        "#   '''\n",
        "#   u_x = torch.autograd.grad(outputs=u, inputs=x, grad_outputs=torch.ones_like(u), create_graph=True)[0]\n",
        "#   if u_x is None:\n",
        "#       raise RuntimeError(\"Gradient computation failed for u_x\")\n",
        "#   u_xx = torch.autograd.grad(outputs=u_x, inputs=x, grad_outputs=torch.ones_like(u_x), create_graph=True)[0]\n",
        "#   if u_xx is None:\n",
        "#       raise RuntimeError(\"Gradient computation failed for u_xx\")\n",
        "#   e = 2e11  # Young's modulus\n",
        "#   r = 1 * x[-1] - u_xx * e\n",
        "#   return torch.mean(torch.square(r))\n",
        "\n",
        "def residual_r(x, u, ei, p):\n",
        "  ''' pde residual computation function\n",
        "    Args:\n",
        "      x is the position of the beam\n",
        "      u is the displacement of the beam at each node (output of the GNS)\n",
        "      ei is the flexural rigidity of the beam at each node (output of the GNS)\n",
        "      p is the force applied to the beam at each node (output of the GNS)\n",
        "  '''\n",
        "  u_x = torch.autograd.grad(outputs=u, inputs=x, grad_outputs=torch.ones_like(u), create_graph=True)[0]\n",
        "  if u_x is None:\n",
        "      raise RuntimeError(\"Gradient computation failed for u_x\")\n",
        "  u_xx = torch.autograd.grad(outputs=u_x, inputs=x, grad_outputs=torch.ones_like(u_x), create_graph=True)[0]\n",
        "  if u_xx is None:\n",
        "      raise RuntimeError(\"Gradient computation failed for u_xx\")\n",
        "  # e = 2e11  # Young's modulus\n",
        "  r = p * x[-1] - u_xx * ei\n",
        "  return torch.mean(torch.square(r))\n",
        "\n",
        "\n",
        "def residual_r_bc_1(x, u):\n",
        "  ''' boundary condition computation function for the displacement at the fixed boundary = 0 condition\n",
        "    Args:\n",
        "      x is the position of the beam\n",
        "      u is the displacement of the beam (output of the GNS)\n",
        "  '''\n",
        "  return torch.square(u[0])\n",
        "\n",
        "def residual_r_bc_2(x, u):\n",
        "  ''' boundary condition computation function for the slope at the fixed boundary = 0 condition\n",
        "    Args:\n",
        "      x is the position of the beam\n",
        "      u is the displacement of the beam (output of the GNS)\n",
        "  '''\n",
        "  u_x = torch.autograd.grad(outputs=u, inputs=x, grad_outputs=torch.ones_like(u), create_graph=True)[0]\n",
        "  if u_x is None:\n",
        "      raise RuntimeError(\"Gradient computation failed for u_x\")\n",
        "  return torch.square(u_x[0])\n",
        "\n"
      ]
    },
    {
      "cell_type": "markdown",
      "metadata": {
        "id": "LvF0DWfTjWOV"
      },
      "source": [
        "We can now write our main training function to loop through a specified number of epochs."
      ]
    },
    {
      "cell_type": "code",
      "execution_count": 36,
      "metadata": {
        "id": "9UBjHWyMupqm"
      },
      "outputs": [],
      "source": [
        "def train(lr, lambda_pde, epochs, simulator, x_data, y_data, printouts=10):\n",
        "  ''' TODO: Implement the training loop.\n",
        "    Args:\n",
        "      simulator: the simulator model\n",
        "      x_data: our features (only positions)\n",
        "      y_data: our labels (only displacement)\n",
        "  '''\n",
        "  loss_fn = torch.nn.MSELoss() # pure data loss\n",
        "  optimizer = torch.optim.Adam(simulator.parameters(), lr=lr)\n",
        "  scheduler = torch.optim.lr_scheduler.ExponentialLR(optimizer, gamma=0.1 ** (1 / 5e2))\n",
        "\n",
        "  # recording loss curve\n",
        "  train_loss_data_list = []\n",
        "  train_loss_pde_list = []\n",
        "  pred_history_list = []\n",
        "\n",
        "\n",
        "  for epoch in range(epochs):\n",
        "      simulator.train()\n",
        "      total_loss = 0\n",
        "      batch_count = 0\n",
        "      # data = x_data.clone().detach().requires_grad_(True)\n",
        "      data = x_data.requires_grad_(True)\n",
        "      optimizer.zero_grad()\n",
        "      u, P, EI = simulator.forward(data)\n",
        "      loss_pde = residual_r(data, u, EI, P) + residual_r_bc_1(data, u) + residual_r_bc_2(data, u)\n",
        "      # print('pred shape',pred.shape)\n",
        "      # print('y_data shape',y_data.shape)\n",
        "      loss_data = loss_fn(u, y_data)\n",
        "\n",
        "      loss = lambda_pde * loss_pde + loss_data\n",
        "      loss.backward()\n",
        "      optimizer.step()\n",
        "      scheduler.step()\n",
        "\n",
        "      # Calculate the interval for printing the loss\n",
        "      print_interval = max(1, epochs // printouts)\n",
        "      if epoch % print_interval == 0 or epoch == epochs - 1:\n",
        "        print({\"epoch\": epoch, \"data loss\": loss_data.item(),\"pde loss\": loss_pde.item(), \"lr\": optimizer.param_groups[0][\"lr\"]})\n",
        "\n",
        "      # append losses and predictions\n",
        "      train_loss_data_list.append((epoch, loss_data.item()))\n",
        "      train_loss_pde_list.append((epoch, loss_pde.item()))\n",
        "      pred_history_list.append(u)\n",
        "\n",
        "  return train_loss_data_list, train_loss_pde_list, pred_history_list # return loss and prediction history"
      ]
    },
    {
      "cell_type": "markdown",
      "metadata": {
        "id": "_8VUdp9_wxCa"
      },
      "source": [
        "\"Training\" only one set of data at a time. What we're $\\textbf{really}$ doing is optimization with soft constraints using a nonlinear model (the GNS) as the mapping from $x \\rightarrow y$ i.e.  $\\phi_{\\theta}(x) = y$.\n",
        "\n",
        "\n",
        "Let's start with this data file: \"node-disp_l=10_n=100_p=10000.csv\""
      ]
    },
    {
      "cell_type": "code",
      "execution_count": 37,
      "metadata": {
        "colab": {
          "base_uri": "https://localhost:8080/"
        },
        "id": "WXMp0TwLw5sp",
        "outputId": "8830043e-aeb0-491d-ddcc-76cec4b433d9"
      },
      "outputs": [
        {
          "output_type": "stream",
          "name": "stdout",
          "text": [
            "torch.Size([100, 1])\n",
            "torch.Size([100, 1])\n"
          ]
        }
      ],
      "source": [
        "# load dataset\n",
        "data_df = pd.read_csv(r\"node-disp_l=100_n=100_p=100000.csv\")\n",
        "\n",
        "data_df.head()\n",
        "data_x = torch.tensor(data_df['position'].values).view(100, 1).float()\n",
        "\n",
        "print(data_x.shape)\n",
        "data_y_np = data_df['displacement'].values\n",
        "data_y = torch.tensor(data_df['displacement']).view(100, 1).float()\n",
        "print(data_y.shape)\n"
      ]
    },
    {
      "cell_type": "code",
      "execution_count": 38,
      "metadata": {
        "id": "4DTMaPB_b2-X"
      },
      "outputs": [],
      "source": [
        "# build model\n",
        "simulator = Simulator(\n",
        "    num_nodes=100,\n",
        "    num_edges=99,\n",
        "    node_dimension=3,\n",
        "    edge_dimension=2,\n",
        "    node_in=1,\n",
        "    edge_in=2,\n",
        "    latent_dim=3,\n",
        "    num_message_passing_steps=2,\n",
        "    mlp_num_layers=3,\n",
        "    mlp_hidden_dim=5,\n",
        "    connectivity_radius=1.011,\n",
        ")\n"
      ]
    },
    {
      "cell_type": "code",
      "execution_count": 42,
      "metadata": {
        "colab": {
          "base_uri": "https://localhost:8080/"
        },
        "collapsed": true,
        "id": "pYkjH1Puf5MD",
        "outputId": "39d2d7e9-13fc-431b-ea4a-260ad053761a"
      },
      "outputs": [
        {
          "output_type": "stream",
          "name": "stdout",
          "text": [
            "{'epoch': 0, 'data loss': 5253.07763671875, 'pde loss': 1.2883296012878418, 'lr': 0.00995405417351527}\n",
            "{'epoch': 100, 'data loss': 5164.943359375, 'pde loss': 3.745908260345459, 'lr': 0.006280583588133195}\n",
            "{'epoch': 200, 'data loss': 5110.2734375, 'pde loss': 5.94619607925415, 'lr': 0.003962780342554415}\n",
            "{'epoch': 300, 'data loss': 5076.12255859375, 'pde loss': 7.5905866622924805, 'lr': 0.0025003453616964507}\n",
            "{'epoch': 400, 'data loss': 5054.6953125, 'pde loss': 8.730380058288574, 'lr': 0.0015776112696993664}\n",
            "{'epoch': 500, 'data loss': 5041.21533203125, 'pde loss': 9.490665435791016, 'lr': 0.0009954054173515407}\n",
            "{'epoch': 600, 'data loss': 5032.72021484375, 'pde loss': 9.987024307250977, 'lr': 0.0006280583588133281}\n",
            "{'epoch': 700, 'data loss': 5027.36279296875, 'pde loss': 10.306990623474121, 'lr': 0.0003962780342554468}\n",
            "{'epoch': 800, 'data loss': 5023.98095703125, 'pde loss': 10.5116605758667, 'lr': 0.0002500345361696487}\n",
            "{'epoch': 900, 'data loss': 5021.84619140625, 'pde loss': 10.641949653625488, 'lr': 0.00015776112696993876}\n",
            "{'epoch': 999, 'data loss': 5020.509765625, 'pde loss': 10.723989486694336, 'lr': 0.00010000000000000274}\n"
          ]
        }
      ],
      "source": [
        "# train the model\n",
        "train_loss_data_list, train_loss_pde_list, pred_history_list = train(lr = 1e-2,\n",
        "      epochs = 1000,\n",
        "      lambda_pde = 0.0001,\n",
        "      simulator = simulator,\n",
        "      x_data = data_x,\n",
        "      y_data = data_y,\n",
        "      printouts=10\n",
        "      );"
      ]
    },
    {
      "cell_type": "markdown",
      "metadata": {
        "id": "dcwOfCcQjivK"
      },
      "source": [
        "We now have the history of our training/optimization stored in the two lists: train_loss_list, pred_history_list"
      ]
    },
    {
      "cell_type": "markdown",
      "metadata": {
        "id": "ULvua4sR2u1u"
      },
      "source": [
        "### Some visualization functions"
      ]
    },
    {
      "cell_type": "code",
      "execution_count": 40,
      "metadata": {
        "id": "mDxbvtUVe3NZ"
      },
      "outputs": [],
      "source": [
        "def plot_loss_curves(loss_tuple):\n",
        "  ''' function to plot the loss curve\n",
        "    Args:\n",
        "      loss_tuple: the tuple that comes directly out of the training function\n",
        "  '''\n",
        "  # extract the default tuple\n",
        "  epochs = [item[0] for item in loss_tuple]\n",
        "  loss = [item[1] for item in loss_tuple]\n",
        "  # Creating the plot\n",
        "  fig, ax = plt.subplots(figsize=(10,5))\n",
        "\n",
        "  # Plotting the loss curve\n",
        "  ax.plot(epochs, loss, linestyle='-',label='Data loss')\n",
        "\n",
        "  # Adding title and labels\n",
        "  ax.set_title('Loss Curve')\n",
        "  ax.set_xlabel('Epoch')\n",
        "  ax.set_ylabel('Loss')\n",
        "\n",
        "  # Adding a legend\n",
        "  ax.legend()\n",
        "\n",
        "  # Displaying the plot\n",
        "  plt.show()"
      ]
    },
    {
      "cell_type": "code",
      "execution_count": 41,
      "metadata": {
        "colab": {
          "base_uri": "https://localhost:8080/",
          "height": 487
        },
        "id": "e8iJMbBsnoqC",
        "outputId": "282270b1-3911-443d-c78d-3c50773a90b2"
      },
      "outputs": [
        {
          "output_type": "display_data",
          "data": {
            "text/plain": [
              "<Figure size 1000x500 with 1 Axes>"
            ],
            "image/png": "[encoded data removed]"
          },
          "metadata": {}
        }
      ],
      "source": [
        "plot_loss_curves(loss_tuple=train_loss_data_list)"
      ]
    },
    {
      "cell_type": "code",
      "execution_count": 32,
      "metadata": {
        "id": "FbCqNKuuqRPx"
      },
      "outputs": [],
      "source": [
        "def plot_prediction(prediction, data_y_np, title='Prediction comparison',length=1, num_nodes=100):\n",
        "  ''' function to plot the prediction curve\n",
        "  '''\n",
        "  # Creating the plot\n",
        "  fig, ax = plt.subplots(figsize=(10,5))\n",
        "\n",
        "  beam_length = np.linspace(0, length, num_nodes)\n",
        "\n",
        "  # Plotting the prediction curve\n",
        "  ax.plot(beam_length, prediction, linestyle='-', label='Prediction')\n",
        "  # Plotting true curve\n",
        "  ax.plot(beam_length, data_y_np, linestyle='-', label='True')\n",
        "\n",
        "\n",
        "  # Adding title and labels\n",
        "  ax.set_title('Prediction comparison')\n",
        "  ax.set_xlabel('Length')\n",
        "  ax.set_ylabel('Deflection')\n",
        "\n",
        "  # Adding a legend\n",
        "  ax.legend()\n",
        "\n",
        "  # Displaying the plot\n",
        "  plt.show()"
      ]
    },
    {
      "cell_type": "code",
      "execution_count": 33,
      "metadata": {
        "colab": {
          "base_uri": "https://localhost:8080/",
          "height": 487
        },
        "id": "u0Y0QZYUrftQ",
        "outputId": "484e774f-6e26-4bae-cad9-5c3fcbe5f547"
      },
      "outputs": [
        {
          "output_type": "display_data",
          "data": {
            "text/plain": [
              "<Figure size 1000x500 with 1 Axes>"
            ],
            "image/png": "[encoded data removed]"
          },
          "metadata": {}
        }
      ],
      "source": [
        "plot_prediction(prediction=pred_history_list[-1].cpu().detach().numpy(),\n",
        "                data_y_np=data_y_np,\n",
        "                title='Prediction comparison (only data loss)',\n",
        "                length=10)"
      ]
    },
    {
      "cell_type": "markdown",
      "metadata": {
        "id": "qEdyZvGTY33G"
      },
      "source": [
        "Animation code."
      ]
    },
    {
      "cell_type": "code",
      "execution_count": null,
      "metadata": {
        "id": "XmB0vytnY6C0"
      },
      "outputs": [],
      "source": [
        "import matplotlib.animation as animation"
      ]
    },
    {
      "cell_type": "code",
      "execution_count": null,
      "metadata": {
        "id": "q56NKPduY6MX"
      },
      "outputs": [],
      "source": [
        "import numpy as np\n",
        "import matplotlib.pyplot as plt\n",
        "import matplotlib.animation as animation\n",
        "\n",
        "# Function to plot prediction for a given epoch\n",
        "def plot_prediction_ani(beam_length, prediction, true_curve, epoch, ax,length,y_min, y_max):\n",
        "    ax.clear()\n",
        "    ax.plot(beam_length, prediction, linestyle='-', label='Prediction')\n",
        "    ax.plot(beam_length, true_curve, linestyle='-', label='True')\n",
        "    ax.set_title(f'Prediction comparison - Epoch {epoch + 1}')\n",
        "    ax.set_xlabel('Length')\n",
        "    ax.set_ylabel('Deflection')\n",
        "    ax.set_xlim(0, length*1.1)\n",
        "    ax.set_ylim(y_min,y_max)\n",
        "    ax.legend()\n",
        "\n",
        "# Function to create animation\n",
        "def create_animation(predictions, true_curve, length=1, num_nodes=100, interval=100):\n",
        "    fig, ax = plt.subplots(figsize=(10, 5))\n",
        "    beam_length = np.linspace(0, length, num_nodes)\n",
        "    y_min = np.min(true_curve)*1.1\n",
        "    y_max = np.max(true_curve)*1.1\n",
        "    def update(epoch):\n",
        "      # print(predictions[epoch])\n",
        "      plot_prediction_ani(beam_length, predictions[epoch], true_curve, epoch, ax,length,y_min,y_max)\n",
        "\n",
        "    ani = animation.FuncAnimation(fig, update, frames=len(predictions), interval=interval, repeat=True)\n",
        "\n",
        "    # Save animation as gif (uncomment to save)\n",
        "    ani.save('predictions.gif', writer='imagemagick')\n",
        "\n",
        "    plt.show()\n",
        "    return ani\n",
        "\n"
      ]
    },
    {
      "cell_type": "code",
      "execution_count": null,
      "metadata": {
        "colab": {
          "base_uri": "https://localhost:8080/"
        },
        "id": "R7ByfwBBacJ-",
        "outputId": "687b787f-62dd-4e6a-a35b-9c86ae05d7ab"
      },
      "outputs": [
        {
          "name": "stderr",
          "output_type": "stream",
          "text": [
            "WARNING:matplotlib.animation:MovieWriter imagemagick unavailable; using Pillow instead.\n"
          ]
        }
      ],
      "source": [
        "# Example data preparation\n",
        "num_epochs = len(pred_history_list)  # Number of epochs based on your data\n",
        "num_nodes = 100  # Adjust as needed\n",
        "length = 100  # Your specific length\n",
        "\n",
        "# Extract predictions from your history list\n",
        "predictions = [pred.cpu().detach().numpy() for pred in pred_history_list]\n",
        "\n",
        "# Example true curve (adjust based on your specific data)\n",
        "true_curve = data_y_np\n",
        "\n",
        "# Create animation\n",
        "create_animation(predictions, true_curve, length, num_nodes)"
      ]
    },
    {
      "cell_type": "code",
      "execution_count": null,
      "metadata": {
        "id": "ySnf8aFQacUX"
      },
      "outputs": [],
      "source": []
    },
    {
      "cell_type": "markdown",
      "metadata": {
        "id": "pPulRhn77PPn"
      },
      "source": [
        "### Some space to debug snippets of code"
      ]
    },
    {
      "cell_type": "code",
      "execution_count": null,
      "metadata": {
        "id": "LonNh2l5aX0Y"
      },
      "outputs": [],
      "source": []
    },
    {
      "cell_type": "code",
      "execution_count": null,
      "metadata": {
        "id": "w3hMXfeXroDc"
      },
      "outputs": [],
      "source": [
        "\n",
        "#PDE Differentiation by MA\n",
        "\n",
        "def net_f(x, u):\n",
        "    x.requires_grad = True\n",
        "    u_x = torch.autograd.grad(u, x, create_graph=True, grad_outputs=torch.ones_like(u), allow_unused=True)[0]\n",
        "    u_xx = torch.autograd.grad(u_x, x, create_graph=True, grad_outputs=torch.ones_like(u), allow_unused=True)[0]\n",
        "\n",
        "    f = 1*(x(-1)) - u_xx * E\n",
        "    return f\n",
        "\n",
        "\n",
        "\n",
        "def train_step( X_u_train_t, u_train_t, X_f_train_t, opt, nu):\n",
        "    x_u = X_u_train_t[:,0:1]\n",
        "\n",
        "    x_f = X_f_train_t[:,0:1]\n",
        "\n",
        "    opt.zero_grad()\n",
        "    u_nn = net_u(torch.cat([x_u, t_u],1))\n",
        "    f_nn = net_f(x_f,t_f, nu)\n",
        "    loss =  torch.mean(torch.square(u_nn - u_train_t)) + torch.mean(torch.square(f_nn))\n",
        "    loss.backward()\n",
        "    opt.step()\n",
        "    return loss"
      ]
    },
    {
      "cell_type": "code",
      "execution_count": null,
      "metadata": {
        "colab": {
          "base_uri": "https://localhost:8080/"
        },
        "id": "ntHd6zlgJ6Rl",
        "outputId": "9ea52b28-3809-47a7-b4b6-7a9e5733a109"
      },
      "outputs": [
        {
          "name": "stdout",
          "output_type": "stream",
          "text": [
            "<class 'torch.Tensor'> torch.Size([100, 1])\n",
            "<class 'torch.Tensor'> torch.Size([100, 1])\n",
            "<class 'torch.Tensor'> torch.Size([100])\n"
          ]
        }
      ],
      "source": [
        "print(type(data_x), data_x.shape)\n",
        "print(type(data_y), data_y.shape)\n",
        "print(type(pred_history_list[-1]), pred_history_list[-1].shape)"
      ]
    },
    {
      "cell_type": "code",
      "execution_count": null,
      "metadata": {
        "colab": {
          "base_uri": "https://localhost:8080/",
          "height": 311
        },
        "id": "hYTVLiLW7UFx",
        "outputId": "28e95ab0-18d4-419e-c964-d8d1471ae650"
      },
      "outputs": [
        {
          "ename": "TypeError",
          "evalue": "'NoneType' object is not iterable",
          "output_type": "error",
          "traceback": [
            "\u001b[0;31m---------------------------------------------------------------------------\u001b[0m",
            "\u001b[0;31mTypeError\u001b[0m                                 Traceback (most recent call last)",
            "\u001b[0;32m<ipython-input-28-b6f0e3e359d6>\u001b[0m in \u001b[0;36m<cell line: 1>\u001b[0;34m()\u001b[0m\n\u001b[0;32m----> 1\u001b[0;31m \u001b[0mtest_residual\u001b[0m \u001b[0;34m=\u001b[0m \u001b[0mnet_f\u001b[0m\u001b[0;34m(\u001b[0m\u001b[0mdata_x\u001b[0m\u001b[0;34m,\u001b[0m\u001b[0mpred_history_list\u001b[0m\u001b[0;34m[\u001b[0m\u001b[0;34m-\u001b[0m\u001b[0;36m1\u001b[0m\u001b[0;34m]\u001b[0m\u001b[0;34m)\u001b[0m\u001b[0;34m\u001b[0m\u001b[0;34m\u001b[0m\u001b[0m\n\u001b[0m",
            "\u001b[0;32m<ipython-input-26-7aca5503acff>\u001b[0m in \u001b[0;36mnet_f\u001b[0;34m(x, u)\u001b[0m\n\u001b[1;32m      4\u001b[0m     \u001b[0mx\u001b[0m\u001b[0;34m.\u001b[0m\u001b[0mrequires_grad\u001b[0m \u001b[0;34m=\u001b[0m \u001b[0;32mTrue\u001b[0m\u001b[0;34m\u001b[0m\u001b[0;34m\u001b[0m\u001b[0m\n\u001b[1;32m      5\u001b[0m     \u001b[0mu_x\u001b[0m \u001b[0;34m=\u001b[0m \u001b[0mtorch\u001b[0m\u001b[0;34m.\u001b[0m\u001b[0mautograd\u001b[0m\u001b[0;34m.\u001b[0m\u001b[0mgrad\u001b[0m\u001b[0;34m(\u001b[0m\u001b[0mu\u001b[0m\u001b[0;34m,\u001b[0m \u001b[0mx\u001b[0m\u001b[0;34m,\u001b[0m \u001b[0mcreate_graph\u001b[0m\u001b[0;34m=\u001b[0m\u001b[0;32mTrue\u001b[0m\u001b[0;34m,\u001b[0m \u001b[0mgrad_outputs\u001b[0m\u001b[0;34m=\u001b[0m\u001b[0mtorch\u001b[0m\u001b[0;34m.\u001b[0m\u001b[0mones_like\u001b[0m\u001b[0;34m(\u001b[0m\u001b[0mu\u001b[0m\u001b[0;34m)\u001b[0m\u001b[0;34m,\u001b[0m \u001b[0mallow_unused\u001b[0m\u001b[0;34m=\u001b[0m\u001b[0;32mTrue\u001b[0m\u001b[0;34m)\u001b[0m\u001b[0;34m[\u001b[0m\u001b[0;36m0\u001b[0m\u001b[0;34m]\u001b[0m\u001b[0;34m\u001b[0m\u001b[0;34m\u001b[0m\u001b[0m\n\u001b[0;32m----> 6\u001b[0;31m     \u001b[0mu_xx\u001b[0m \u001b[0;34m=\u001b[0m \u001b[0mtorch\u001b[0m\u001b[0;34m.\u001b[0m\u001b[0mautograd\u001b[0m\u001b[0;34m.\u001b[0m\u001b[0mgrad\u001b[0m\u001b[0;34m(\u001b[0m\u001b[0mu_x\u001b[0m\u001b[0;34m,\u001b[0m \u001b[0mx\u001b[0m\u001b[0;34m,\u001b[0m \u001b[0mcreate_graph\u001b[0m\u001b[0;34m=\u001b[0m\u001b[0;32mTrue\u001b[0m\u001b[0;34m,\u001b[0m \u001b[0mgrad_outputs\u001b[0m\u001b[0;34m=\u001b[0m\u001b[0mtorch\u001b[0m\u001b[0;34m.\u001b[0m\u001b[0mones_like\u001b[0m\u001b[0;34m(\u001b[0m\u001b[0mu\u001b[0m\u001b[0;34m)\u001b[0m\u001b[0;34m,\u001b[0m \u001b[0mallow_unused\u001b[0m\u001b[0;34m=\u001b[0m\u001b[0;32mTrue\u001b[0m\u001b[0;34m)\u001b[0m\u001b[0;34m[\u001b[0m\u001b[0;36m0\u001b[0m\u001b[0;34m]\u001b[0m\u001b[0;34m\u001b[0m\u001b[0;34m\u001b[0m\u001b[0m\n\u001b[0m\u001b[1;32m      7\u001b[0m \u001b[0;34m\u001b[0m\u001b[0m\n\u001b[1;32m      8\u001b[0m     \u001b[0mf\u001b[0m \u001b[0;34m=\u001b[0m \u001b[0;36m1\u001b[0m\u001b[0;34m*\u001b[0m\u001b[0;34m(\u001b[0m\u001b[0mx\u001b[0m\u001b[0;34m(\u001b[0m\u001b[0;34m-\u001b[0m\u001b[0;36m1\u001b[0m\u001b[0;34m)\u001b[0m\u001b[0;34m)\u001b[0m \u001b[0;34m-\u001b[0m \u001b[0mu_xx\u001b[0m \u001b[0;34m*\u001b[0m \u001b[0mE\u001b[0m\u001b[0;34m\u001b[0m\u001b[0;34m\u001b[0m\u001b[0m\n",
            "\u001b[0;32m/usr/local/lib/python3.10/dist-packages/torch/autograd/__init__.py\u001b[0m in \u001b[0;36mgrad\u001b[0;34m(outputs, inputs, grad_outputs, retain_graph, create_graph, only_inputs, allow_unused, is_grads_batched, materialize_grads)\u001b[0m\n\u001b[1;32m    352\u001b[0m     t_outputs = cast(\n\u001b[1;32m    353\u001b[0m         \u001b[0mTuple\u001b[0m\u001b[0;34m[\u001b[0m\u001b[0mtorch\u001b[0m\u001b[0;34m.\u001b[0m\u001b[0mTensor\u001b[0m\u001b[0;34m,\u001b[0m \u001b[0;34m...\u001b[0m\u001b[0;34m]\u001b[0m\u001b[0;34m,\u001b[0m\u001b[0;34m\u001b[0m\u001b[0;34m\u001b[0m\u001b[0m\n\u001b[0;32m--> 354\u001b[0;31m         \u001b[0;34m(\u001b[0m\u001b[0moutputs\u001b[0m\u001b[0;34m,\u001b[0m\u001b[0;34m)\u001b[0m \u001b[0;32mif\u001b[0m \u001b[0mis_tensor_like\u001b[0m\u001b[0;34m(\u001b[0m\u001b[0moutputs\u001b[0m\u001b[0;34m)\u001b[0m \u001b[0;32melse\u001b[0m \u001b[0mtuple\u001b[0m\u001b[0;34m(\u001b[0m\u001b[0moutputs\u001b[0m\u001b[0;34m)\u001b[0m\u001b[0;34m,\u001b[0m\u001b[0;34m\u001b[0m\u001b[0;34m\u001b[0m\u001b[0m\n\u001b[0m\u001b[1;32m    355\u001b[0m     )\n\u001b[1;32m    356\u001b[0m     \u001b[0;32mif\u001b[0m \u001b[0mis_tensor_like\u001b[0m\u001b[0;34m(\u001b[0m\u001b[0minputs\u001b[0m\u001b[0;34m)\u001b[0m \u001b[0;32mor\u001b[0m \u001b[0misinstance\u001b[0m\u001b[0;34m(\u001b[0m\u001b[0minputs\u001b[0m\u001b[0;34m,\u001b[0m \u001b[0mgraph\u001b[0m\u001b[0;34m.\u001b[0m\u001b[0mGradientEdge\u001b[0m\u001b[0;34m)\u001b[0m\u001b[0;34m:\u001b[0m\u001b[0;34m\u001b[0m\u001b[0;34m\u001b[0m\u001b[0m\n",
            "\u001b[0;31mTypeError\u001b[0m: 'NoneType' object is not iterable"
          ]
        }
      ],
      "source": [
        "test_residual = net_f(data_x,pred_history_list[-1])"
      ]
    }
  ],
  "metadata": {
    "accelerator": "GPU",
    "colab": {
      "gpuType": "T4",
      "provenance": []
    },
    "kernelspec": {
      "display_name": "Python 3",
      "name": "python3"
    },
    "language_info": {
      "name": "python"
    }
  },
  "nbformat": 4,
  "nbformat_minor": 0
}