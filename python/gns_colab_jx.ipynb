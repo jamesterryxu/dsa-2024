{
  "cells": [
    {
      "cell_type": "markdown",
      "metadata": {
        "id": "JGjDeztzhw0n"
      },
      "source": [
        "# Graph Network-based Simulator (GNS)\n",
        "\n",
        "Gonzalez et al. first introduced the concept and architecture of the GNS in 2020 in their now classic [paper](https://proceedings.mlr.press/v119/sanchez-gonzalez20a.html). Since then, several fields have implemented the architecture for particle simulations due to certain favorable inductive biases of the architecture and implementation. We explore the question if the GNS architecture is also useful for FEM based simulations in the *inverse* problem with *output-only* data. Determining the parameters of a physical system with output-only measurements of a proxy of the true state is still an open problem. To begin this feasibility study, we start with a toy example, starting with a static loading problem and a simple Euler-Bernoulli cantilever beam. We also build the necessary code to solve more complicated problems in the future"
      ]
    },
    {
      "cell_type": "markdown",
      "metadata": {
        "id": "1OqXlrOWh2ka"
      },
      "source": [
        "## Installing packages"
      ]
    },
    {
      "cell_type": "code",
      "execution_count": 1,
      "metadata": {
        "colab": {
          "base_uri": "https://localhost:8080/"
        },
        "id": "Y0EtE29uWUv2",
        "outputId": "f5417896-a352-4a98-fce5-b68cd70d45b4"
      },
      "outputs": [
        {
          "name": "stdout",
          "output_type": "stream",
          "text": [
            "PyTorch has version 2.3.1+cu121 with cuda 12.1\n"
          ]
        }
      ],
      "source": [
        "import os\n",
        "import torch\n",
        "import math\n",
        "print(f\"PyTorch has version {torch.__version__} with cuda {torch.version.cuda}\")"
      ]
    },
    {
      "cell_type": "code",
      "execution_count": 2,
      "metadata": {
        "colab": {
          "base_uri": "https://localhost:8080/"
        },
        "collapsed": true,
        "id": "EGdduR5yDsAO",
        "outputId": "f4b6db2d-6b61-4732-d6c0-9451ccfa4282"
      },
      "outputs": [
        {
          "name": "stdout",
          "output_type": "stream",
          "text": [
            "Collecting torch_geometric\n",
            "  Downloading torch_geometric-2.5.3-py3-none-any.whl.metadata (64 kB)\n",
            "\u001b[?25l     \u001b[90m━━━━━━━━━━━━━━━━━━━━━━━━━━━━━━━━━━━━━━━━\u001b[0m \u001b[32m0.0/64.2 kB\u001b[0m \u001b[31m?\u001b[0m eta \u001b[36m-:--:--\u001b[0m\r\u001b[2K     \u001b[90m━━━━━━━━━━━━━━━━━━━━━━━━━━━━━━━━━━━━━━━━\u001b[0m \u001b[32m64.2/64.2 kB\u001b[0m \u001b[31m1.7 MB/s\u001b[0m eta \u001b[36m0:00:00\u001b[0m\n",
            "\u001b[?25hRequirement already satisfied: tqdm in /usr/local/lib/python3.10/dist-packages (from torch_geometric) (4.66.4)\n",
            "Requirement already satisfied: numpy in /usr/local/lib/python3.10/dist-packages (from torch_geometric) (1.25.2)\n",
            "Requirement already satisfied: scipy in /usr/local/lib/python3.10/dist-packages (from torch_geometric) (1.11.4)\n",
            "Requirement already satisfied: fsspec in /usr/local/lib/python3.10/dist-packages (from torch_geometric) (2023.6.0)\n",
            "Requirement already satisfied: jinja2 in /usr/local/lib/python3.10/dist-packages (from torch_geometric) (3.1.4)\n",
            "Requirement already satisfied: aiohttp in /usr/local/lib/python3.10/dist-packages (from torch_geometric) (3.9.5)\n",
            "Requirement already satisfied: requests in /usr/local/lib/python3.10/dist-packages (from torch_geometric) (2.31.0)\n",
            "Requirement already satisfied: pyparsing in /usr/local/lib/python3.10/dist-packages (from torch_geometric) (3.1.2)\n",
            "Requirement already satisfied: scikit-learn in /usr/local/lib/python3.10/dist-packages (from torch_geometric) (1.2.2)\n",
            "Requirement already satisfied: psutil>=5.8.0 in /usr/local/lib/python3.10/dist-packages (from torch_geometric) (5.9.5)\n",
            "Requirement already satisfied: aiosignal>=1.1.2 in /usr/local/lib/python3.10/dist-packages (from aiohttp->torch_geometric) (1.3.1)\n",
            "Requirement already satisfied: attrs>=17.3.0 in /usr/local/lib/python3.10/dist-packages (from aiohttp->torch_geometric) (23.2.0)\n",
            "Requirement already satisfied: frozenlist>=1.1.1 in /usr/local/lib/python3.10/dist-packages (from aiohttp->torch_geometric) (1.4.1)\n",
            "Requirement already satisfied: multidict<7.0,>=4.5 in /usr/local/lib/python3.10/dist-packages (from aiohttp->torch_geometric) (6.0.5)\n",
            "Requirement already satisfied: yarl<2.0,>=1.0 in /usr/local/lib/python3.10/dist-packages (from aiohttp->torch_geometric) (1.9.4)\n",
            "Requirement already satisfied: async-timeout<5.0,>=4.0 in /usr/local/lib/python3.10/dist-packages (from aiohttp->torch_geometric) (4.0.3)\n",
            "Requirement already satisfied: MarkupSafe>=2.0 in /usr/local/lib/python3.10/dist-packages (from jinja2->torch_geometric) (2.1.5)\n",
            "Requirement already satisfied: charset-normalizer<4,>=2 in /usr/local/lib/python3.10/dist-packages (from requests->torch_geometric) (3.3.2)\n",
            "Requirement already satisfied: idna<4,>=2.5 in /usr/local/lib/python3.10/dist-packages (from requests->torch_geometric) (3.7)\n",
            "Requirement already satisfied: urllib3<3,>=1.21.1 in /usr/local/lib/python3.10/dist-packages (from requests->torch_geometric) (2.0.7)\n",
            "Requirement already satisfied: certifi>=2017.4.17 in /usr/local/lib/python3.10/dist-packages (from requests->torch_geometric) (2024.7.4)\n",
            "Requirement already satisfied: joblib>=1.1.1 in /usr/local/lib/python3.10/dist-packages (from scikit-learn->torch_geometric) (1.4.2)\n",
            "Requirement already satisfied: threadpoolctl>=2.0.0 in /usr/local/lib/python3.10/dist-packages (from scikit-learn->torch_geometric) (3.5.0)\n",
            "Downloading torch_geometric-2.5.3-py3-none-any.whl (1.1 MB)\n",
            "\u001b[2K   \u001b[90m━━━━━━━━━━━━━━━━━━━━━━━━━━━━━━━━━━━━━━━━\u001b[0m \u001b[32m1.1/1.1 MB\u001b[0m \u001b[31m7.0 MB/s\u001b[0m eta \u001b[36m0:00:00\u001b[0m\n",
            "\u001b[?25hInstalling collected packages: torch_geometric\n",
            "Successfully installed torch_geometric-2.5.3\n",
            "Looking in links: https://data.pyg.org/whl/torch-2.3.0+cu121.html\n",
            "Collecting pyg_lib\n",
            "  Downloading https://data.pyg.org/whl/torch-2.3.0%2Bcu121/pyg_lib-0.4.0%2Bpt23cu121-cp310-cp310-linux_x86_64.whl (2.5 MB)\n",
            "\u001b[2K     \u001b[90m━━━━━━━━━━━━━━━━━━━━━━━━━━━━━━━━━━━━━━━━\u001b[0m \u001b[32m2.5/2.5 MB\u001b[0m \u001b[31m13.8 MB/s\u001b[0m eta \u001b[36m0:00:00\u001b[0m\n",
            "\u001b[?25hCollecting torch_scatter\n",
            "  Downloading https://data.pyg.org/whl/torch-2.3.0%2Bcu121/torch_scatter-2.1.2%2Bpt23cu121-cp310-cp310-linux_x86_64.whl (10.9 MB)\n",
            "\u001b[2K     \u001b[90m━━━━━━━━━━━━━━━━━━━━━━━━━━━━━━━━━━━━━━━━\u001b[0m \u001b[32m10.9/10.9 MB\u001b[0m \u001b[31m17.9 MB/s\u001b[0m eta \u001b[36m0:00:00\u001b[0m\n",
            "\u001b[?25hCollecting torch_sparse\n",
            "  Downloading https://data.pyg.org/whl/torch-2.3.0%2Bcu121/torch_sparse-0.6.18%2Bpt23cu121-cp310-cp310-linux_x86_64.whl (5.1 MB)\n",
            "\u001b[2K     \u001b[90m━━━━━━━━━━━━━━━━━━━━━━━━━━━━━━━━━━━━━━━━\u001b[0m \u001b[32m5.1/5.1 MB\u001b[0m \u001b[31m17.6 MB/s\u001b[0m eta \u001b[36m0:00:00\u001b[0m\n",
            "\u001b[?25hCollecting torch_cluster\n",
            "  Downloading https://data.pyg.org/whl/torch-2.3.0%2Bcu121/torch_cluster-1.6.3%2Bpt23cu121-cp310-cp310-linux_x86_64.whl (3.4 MB)\n",
            "\u001b[2K     \u001b[90m━━━━━━━━━━━━━━━━━━━━━━━━━━━━━━━━━━━━━━━━\u001b[0m \u001b[32m3.4/3.4 MB\u001b[0m \u001b[31m23.4 MB/s\u001b[0m eta \u001b[36m0:00:00\u001b[0m\n",
            "\u001b[?25hCollecting torch_spline_conv\n",
            "  Downloading https://data.pyg.org/whl/torch-2.3.0%2Bcu121/torch_spline_conv-1.2.2%2Bpt23cu121-cp310-cp310-linux_x86_64.whl (947 kB)\n",
            "\u001b[2K     \u001b[90m━━━━━━━━━━━━━━━━━━━━━━━━━━━━━━━━━━━━━━━━\u001b[0m \u001b[32m947.1/947.1 kB\u001b[0m \u001b[31m16.3 MB/s\u001b[0m eta \u001b[36m0:00:00\u001b[0m\n",
            "\u001b[?25hRequirement already satisfied: scipy in /usr/local/lib/python3.10/dist-packages (from torch_sparse) (1.11.4)\n",
            "Requirement already satisfied: numpy<1.28.0,>=1.21.6 in /usr/local/lib/python3.10/dist-packages (from scipy->torch_sparse) (1.25.2)\n",
            "Installing collected packages: torch_spline_conv, torch_scatter, pyg_lib, torch_sparse, torch_cluster\n",
            "Successfully installed pyg_lib-0.4.0+pt23cu121 torch_cluster-1.6.3+pt23cu121 torch_scatter-2.1.2+pt23cu121 torch_sparse-0.6.18+pt23cu121 torch_spline_conv-1.2.2+pt23cu121\n"
          ]
        }
      ],
      "source": [
        "# Installation of depedencies\n",
        "\n",
        "!pip install torch_geometric\n",
        "\n",
        "# Optional dependencies:\n",
        "#\n",
        "!pip install pyg_lib torch_scatter torch_sparse torch_cluster torch_spline_conv -f https://data.pyg.org/whl/torch-2.3.0+cu121.html"
      ]
    },
    {
      "cell_type": "code",
      "execution_count": 3,
      "metadata": {
        "colab": {
          "base_uri": "https://localhost:8080/"
        },
        "id": "-sYTZtP6DoL7",
        "outputId": "12c3e585-35ad-4162-e9b1-e8d66134983a"
      },
      "outputs": [
        {
          "name": "stdout",
          "output_type": "stream",
          "text": [
            "PyTorch has version 2.3.1+cu121 with cuda 12.1\n"
          ]
        }
      ],
      "source": [
        "# Import of libraries\n",
        "from torch_geometric.data import Data\n",
        "from torch_geometric.nn import MessagePassing, radius_graph\n",
        "from torch_geometric.utils import add_self_loops\n",
        "import torch_cluster\n",
        "import torch_scatter\n",
        "print(f\"PyTorch has version {torch.__version__} with cuda {torch.version.cuda}\")\n",
        "\n",
        "import numpy as np\n",
        "import pandas as pd\n",
        "import matplotlib.pyplot as plt\n",
        "import torch.nn as nn"
      ]
    },
    {
      "cell_type": "markdown",
      "metadata": {
        "id": "7gVjWusQiHV1"
      },
      "source": [
        "## Building the GNS"
      ]
    },
    {
      "cell_type": "markdown",
      "metadata": {
        "id": "hI8AR8DCiEOI"
      },
      "source": [
        "The rough workflow is as follows:\n",
        "\n",
        "$$ x \\rightarrow G \\rightarrow Encoder \\rightarrow Processor \\rightarrow Decoder \\rightarrow y$$"
      ]
    },
    {
      "cell_type": "markdown",
      "metadata": {
        "id": "LSLBKX1KBYxW"
      },
      "source": [
        "First, create a function to generate a graph from raw data."
      ]
    },
    {
      "cell_type": "markdown",
      "metadata": {},
      "source": [
        "In the following function, we create a graphic representation of the physical data, by using the coordinates and the displacement from FEM analysis"
      ]
    },
    {
      "cell_type": "code",
      "execution_count": 4,
      "metadata": {
        "colab": {
          "base_uri": "https://localhost:8080/",
          "height": 659
        },
        "id": "o3j7BB9KBPX3",
        "outputId": "d1f79686-780e-46d0-f290-ab3e5653f02d"
      },
      "outputs": [
        {
          "data": {
            "image/png": "[encoded data removed]",
            "text/plain": [
              "<Figure size 640x480 with 1 Axes>"
            ]
          },
          "metadata": {},
          "output_type": "display_data"
        },
        {
          "name": "stdout",
          "output_type": "stream",
          "text": [
            "tensor([[ 1.0000, -1.0000,  0.0000,  0.2381],\n",
            "        [ 1.0000,  1.0000,  0.0000,  9.3448],\n",
            "        [ 1.0000, -1.0000,  0.0000,  8.2983],\n",
            "        [ 1.0000,  1.0000,  0.0000,  3.6964],\n",
            "        [ 1.0000, -1.0000,  0.0000,  5.6253],\n",
            "        [ 1.0000,  1.0000,  0.0000,  1.2209],\n",
            "        [ 1.0000, -1.0000,  0.0000,  1.3027],\n",
            "        [ 1.0000,  1.0000,  0.0000,  2.6589]])\n"
          ]
        }
      ],
      "source": [
        "from torch_geometric.data import Data\n",
        "from torch_geometric.nn import radius_graph\n",
        "from torch_geometric.utils import to_networkx\n",
        "import networkx as nx\n",
        "\n",
        "def create_gnn_graph(coordinates, metadata):\n",
        "    \"\"\"\n",
        "    Create a graph data object for a GNN model.\n",
        "\n",
        "    Args:\n",
        "    - coordinates (list of tuples): A list of 2D coordinates for each node.\n",
        "    - E_initial (float): The initial value for the edge attribute.\n",
        "\n",
        "    Returns:\n",
        "    - data (Data): A PyG Data object representing the graph.\n",
        "    \"\"\"\n",
        "\n",
        "    # Convert coordinates to tensor\n",
        "    node_features = torch.tensor(coordinates, dtype=torch.float)\n",
        "\n",
        "    # Add the load as a node attribute\n",
        "    load = torch.rand(node_features.size(0), 1) * metadata[\"P_initial\"]\n",
        "    dist_boundary = torch.norm(node_features - torch.tensor([[0, 0]], dtype=torch.float), dim=1).unsqueeze(1)\n",
        "\n",
        "    # Create edges\n",
        "    num_nodes = len(coordinates)\n",
        "    edge_index = radius_graph(node_features, r=metadata[\"default_connectivity_radius\"], loop=False)\n",
        "\n",
        "    # Calculate edge attributes (e.g., Euclidean distance)\n",
        "    distance = torch.norm(node_features[edge_index[0]] - node_features[edge_index[1]], dim=1).unsqueeze(1)\n",
        "    # Calculate displacement as vector at each edge\n",
        "    displacement = (node_features[edge_index[1]] - node_features[edge_index[0]])\n",
        "\n",
        "    # Convert E_initial to a PyTorch tensor\n",
        "    E_initial = torch.tensor(metadata[\"E_initial\"], dtype=torch.float)\n",
        "    # Correctly generate a tensor with random values uniformly distributed between 0 and 1, then scale by E_initial\n",
        "    E_edge = torch.rand(edge_index.size(1), 1) * E_initial\n",
        "\n",
        "    # Now, both tensors have shape [number_of_edges, 1] and can be concatenated\n",
        "    edge_attr = torch.cat([distance, displacement, E_edge], dim=1)\n",
        "\n",
        "    # Create a graph data object\n",
        "    graph_data = Data(pos=node_features, edge_index=edge_index, edge_attr=edge_attr, node_attr=load)\n",
        "\n",
        "    return graph_data\n",
        "\n",
        "# Example usage\n",
        "metadata = {\"default_connectivity_radius\": 1.6, \"E_initial\": 10, \"P_initial\": 0}\n",
        "coordinates = [(0.5, 0), (1.5, 0), (2.5, 0), (3.5, 0), (4.5, 0)]\n",
        "graph_data = create_gnn_graph(coordinates, metadata)\n",
        "\n",
        "graph = to_networkx(graph_data)\n",
        "nx.draw(graph, with_labels=True)\n",
        "plt.show()\n",
        "\n",
        "print(graph_data.edge_attr)"
      ]
    },
    {
      "cell_type": "markdown",
      "metadata": {
        "id": "1VM7XVk9Fohd"
      },
      "source": [
        "We can then code up a simple MLP helper class to use in our architecture."
      ]
    },
    {
      "cell_type": "code",
      "execution_count": 5,
      "metadata": {
        "id": "FIFg__aOhuyX"
      },
      "outputs": [],
      "source": [
        "class MLP(nn.Module):\n",
        "    \"\"\"\n",
        "    Create a simple MLP class for future help in the creation of the GNN network.\n",
        "    \"\"\"\n",
        "    def __init__(\n",
        "        self,\n",
        "        input_size,\n",
        "        layer_sizes,\n",
        "        output_size=None,\n",
        "        output_activation=torch.nn.Identity,\n",
        "        activation=torch.nn.ReLU\n",
        "    ):\n",
        "        super(MLP, self).__init__()\n",
        "        sizes = [input_size] + layer_sizes\n",
        "        if output_size is not None:\n",
        "            sizes.append(output_size)\n",
        "        layers = []\n",
        "        for i in range(len(sizes) - 1):\n",
        "            if (i < len(sizes) - 2):\n",
        "                act = activation\n",
        "            else:\n",
        "                act = output_activation\n",
        "            layers += [torch.nn.Linear(sizes[i], sizes[i + 1]), act()]\n",
        "        self.model = torch.nn.Sequential(*layers)\n",
        "\n",
        "    def forward(self, x):\n",
        "        return self.model(x)"
      ]
    },
    {
      "cell_type": "markdown",
      "metadata": {
        "id": "Vv1aF3njFqhb"
      },
      "source": [
        "### Encoder and Decoder"
      ]
    },
    {
      "cell_type": "markdown",
      "metadata": {
        "id": "aT8pNoN0ia9B"
      },
      "source": [
        "We then can create our encoder and decoder classes."
      ]
    },
    {
      "cell_type": "code",
      "execution_count": 1,
      "metadata": {
        "id": "iM-Fa5kC_Vtq"
      },
      "outputs": [
        {
          "ename": "NameError",
          "evalue": "name 'nn' is not defined",
          "output_type": "error",
          "traceback": [
            "\u001b[1;31m---------------------------------------------------------------------------\u001b[0m",
            "\u001b[1;31mNameError\u001b[0m                                 Traceback (most recent call last)",
            "Cell \u001b[1;32mIn[1], line 1\u001b[0m\n\u001b[1;32m----> 1\u001b[0m \u001b[38;5;28;01mclass\u001b[39;00m \u001b[38;5;21;01mEncoder\u001b[39;00m(\u001b[43mnn\u001b[49m\u001b[38;5;241m.\u001b[39mModule):\n\u001b[0;32m      2\u001b[0m \u001b[38;5;250m    \u001b[39m\u001b[38;5;124;03m\"\"\" Encoder class for the GNN model. \u001b[39;00m\n\u001b[0;32m      3\u001b[0m \u001b[38;5;124;03m    \u001b[39;00m\n\u001b[0;32m      4\u001b[0m \u001b[38;5;124;03m    The encoder is responsible for processing the input data (node and edge features) and\u001b[39;00m\n\u001b[1;32m   (...)\u001b[0m\n\u001b[0;32m     22\u001b[0m \u001b[38;5;124;03m    \u001b[39;00m\n\u001b[0;32m     23\u001b[0m \u001b[38;5;124;03m    \"\"\"\u001b[39;00m\n\u001b[0;32m     24\u001b[0m     \u001b[38;5;28;01mdef\u001b[39;00m \u001b[38;5;21m__init__\u001b[39m(\n\u001b[0;32m     25\u001b[0m         \u001b[38;5;28mself\u001b[39m,\n\u001b[0;32m     26\u001b[0m         node_in, \u001b[38;5;66;03m# same shape as the data vertices (nodes) WARNING\u001b[39;00m\n\u001b[1;32m   (...)\u001b[0m\n\u001b[0;32m     31\u001b[0m         mlp_hidden_dim,\n\u001b[0;32m     32\u001b[0m     ):\n",
            "\u001b[1;31mNameError\u001b[0m: name 'nn' is not defined"
          ]
        }
      ],
      "source": [
        "class Encoder(nn.Module):\n",
        "    \"\"\" Encoder class for the GNN model. \n",
        "    \n",
        "    The encoder is responsible for processing the input data (node and edge features) and\n",
        "    transforming it into a form that can be used by the processor block.\n",
        "\n",
        "    Args:\n",
        "    - node_in (int): The number of input features for each node.\n",
        "    - node_out (int): The number of output features for each node.\n",
        "    - edge_in (int): The number of input features for each edge.\n",
        "    - edge_out (int): The number of output features for each edge.\n",
        "    - mlp_num_layers (int): The number of layers in the MLP.\n",
        "    - mlp_hidden_dim (int): The number of hidden units in each layer of the MLP.\n",
        "\n",
        "    Attributes:\n",
        "    - node_fn (nn.Module): The node feature transformation function.\n",
        "    - edge_fn (nn.Module): The edge feature transformation function.\n",
        "\n",
        "    Returns:\n",
        "    - node_out (int): The number of output features for each node.\n",
        "    - edge_out (int): The number of output features for each edge.\n",
        "    \n",
        "    \"\"\"\n",
        "    def __init__(\n",
        "        self,\n",
        "        node_in, # same shape as the data vertices (nodes) WARNING\n",
        "        node_out, # shape for the processor block\n",
        "        edge_in, # same shape as the data edges (elements)\n",
        "        edge_out, # shape for the processor block\n",
        "        mlp_num_layers,\n",
        "        mlp_hidden_dim,\n",
        "    ):\n",
        "        super(Encoder, self).__init__()\n",
        "\n",
        "        ############################################################################\n",
        "        # TODO: Implement the encoder.\n",
        "        # Hint: The node_fn and edge_fn are of the same structure, which is a MLP layer followed by a layer norm\n",
        "        ############################################################################\n",
        "        self.node_fn = nn.Sequential(*[MLP(node_in, [mlp_hidden_dim for _ in range(mlp_num_layers)], node_out),\n",
        "            nn.LayerNorm(node_out)])\n",
        "        self.edge_fn = nn.Sequential(*[MLP(edge_in, [mlp_hidden_dim for _ in range(mlp_num_layers)], edge_out),\n",
        "            nn.LayerNorm(edge_out)])\n",
        "        ############################################################################\n",
        "\n",
        "    def forward(self, x, e_features): # global_features\n",
        "        '''\n",
        "        x: (E, node_in)\n",
        "        edge_index: (2, E)\n",
        "        e_features: (E, edge_in)\n",
        "        '''\n",
        "        return self.node_fn(x), self.edge_fn(e_features)\n",
        "\n",
        "class Decoder(nn.Module):\n",
        "    def __init__(\n",
        "        self,\n",
        "        node_in, # directly from the processor\n",
        "        node_out, # this shape needs to be (num_nodes of real problem x 2). The first column should be u, the second should be p.\n",
        "        edge_in, # directly from the processor\n",
        "        edge_out, # this shape needs to be (num_elements of real problem x 1). The first column should be ei.\n",
        "        mlp_num_layers,\n",
        "        mlp_hidden_dim,\n",
        "    ):\n",
        "        super(Decoder, self).__init__()\n",
        "        ############################################################################\n",
        "        # Implement the decoder.\n",
        "        # The decoder outputs both node and edge information.\n",
        "        ############################################################################\n",
        "        self.node_fn = MLP(node_in, [mlp_hidden_dim for _ in range(mlp_num_layers)], node_out)\n",
        "        self.edge_fn = MLP(edge_in, [mlp_hidden_dim for _ in range(mlp_num_layers)], edge_out)\n",
        "        ############################################################################\n",
        "\n",
        "    def forward(self, x, e_features):\n",
        "        '''\n",
        "        x: (E, node_in)\n",
        "        e_features: (E, edge_in)\n",
        "        '''\n",
        "        ############################################################################\n",
        "        # Implement the forward pass.\n",
        "        ############################################################################\n",
        "        return self.node_fn(x), self.edge_fn(e_features)\n",
        "        ############################################################################\n",
        "\n"
      ]
    },
    {
      "cell_type": "markdown",
      "metadata": {
        "id": "4qy55GmEF-Hh"
      },
      "source": [
        "### Message passing"
      ]
    },
    {
      "cell_type": "markdown",
      "metadata": {
        "id": "ZWf0taBSigqS"
      },
      "source": [
        "We now can create the message passing to be used in the Processor."
      ]
    },
    {
      "cell_type": "code",
      "execution_count": 2,
      "metadata": {
        "id": "1s865OW1F9qX"
      },
      "outputs": [
        {
          "ename": "NameError",
          "evalue": "name 'MessagePassing' is not defined",
          "output_type": "error",
          "traceback": [
            "\u001b[1;31m---------------------------------------------------------------------------\u001b[0m",
            "\u001b[1;31mNameError\u001b[0m                                 Traceback (most recent call last)",
            "Cell \u001b[1;32mIn[2], line 1\u001b[0m\n\u001b[1;32m----> 1\u001b[0m \u001b[38;5;28;01mclass\u001b[39;00m \u001b[38;5;21;01mInteractionNetwork\u001b[39;00m(\u001b[43mMessagePassing\u001b[49m):\n\u001b[0;32m      2\u001b[0m \u001b[38;5;250m    \u001b[39m\u001b[38;5;124;03m\"\"\" Interaction Network class for the GNN model.\u001b[39;00m\n\u001b[0;32m      3\u001b[0m \n\u001b[0;32m      4\u001b[0m \u001b[38;5;124;03m    The Interaction Network is a message-passing neural network that can be used to model\u001b[39;00m\n\u001b[1;32m   (...)\u001b[0m\n\u001b[0;32m     19\u001b[0m \n\u001b[0;32m     20\u001b[0m \u001b[38;5;124;03m    \"\"\"\u001b[39;00m\n\u001b[0;32m     21\u001b[0m     \u001b[38;5;28;01mdef\u001b[39;00m \u001b[38;5;21m__init__\u001b[39m(\n\u001b[0;32m     22\u001b[0m         \u001b[38;5;28mself\u001b[39m,\n\u001b[0;32m     23\u001b[0m         node_fn,\n\u001b[0;32m     24\u001b[0m         edge_fn,\n\u001b[0;32m     25\u001b[0m     ):\n",
            "\u001b[1;31mNameError\u001b[0m: name 'MessagePassing' is not defined"
          ]
        }
      ],
      "source": [
        "class InteractionNetwork(MessagePassing):\n",
        "    \"\"\" Interaction Network class for the GNN model.\n",
        "\n",
        "    The Interaction Network is a message-passing neural network that can be used to model\n",
        "    interactions between nodes in a graph. It is based on the MessagePassing class from PyTorch\n",
        "    Geometric.\n",
        "\n",
        "    Args:\n",
        "    - node_fn (nn.Module): The node feature transformation function.\n",
        "    - edge_fn (nn.Module): The edge feature transformation function.\n",
        "\n",
        "    Attributes:\n",
        "    - node_fn (nn.Module): The node feature transformation function.\n",
        "    - edge_fn (nn.Module): The edge feature transformation function.\n",
        "\n",
        "    Returns:\n",
        "    - x_updated (torch.Tensor): The updated node features.\n",
        "    - e_updated (torch.Tensor): The updated edge features.\n",
        "\n",
        "    \"\"\"\n",
        "    def __init__(\n",
        "        self,\n",
        "        node_fn,\n",
        "        edge_fn,\n",
        "    ):\n",
        "        super().__init__()\n",
        "        self.node_fn = node_fn\n",
        "        self.edge_fn = edge_fn\n",
        "\n",
        "    def forward(self, x, edge_index, e_features):\n",
        "        x_updated, e_updated = self.propagate(edge_index=edge_index, x=x, e_features=e_features)\n",
        "        return x_updated, e_updated\n",
        "\n",
        "    def message(self, edge_index, x_i, x_j, e_features):\n",
        "        message = torch.cat([x_i, x_j, e_features], dim=-1)\n",
        "        message = self.edge_fn(message)\n",
        "        return message\n",
        "\n",
        "    def aggregate(self, messages, index, dim_size=None):\n",
        "        out = torch_scatter.scatter(messages, index, dim=self.node_dim, dim_size=dim_size, reduce=\"sum\")\n",
        "        return (messages, out)\n",
        "\n",
        "    def update(self, aggr_out, x, e_features):\n",
        "        message, aggr = aggr_out\n",
        "        x_updated = torch.cat([aggr, x], dim=-1)\n",
        "        x_updated = self.node_fn(x_updated)\n",
        "        return x_updated+x, e_features+message"
      ]
    },
    {
      "cell_type": "markdown",
      "metadata": {
        "id": "b85V9iW7ikqG"
      },
      "source": [
        "### Processor"
      ]
    },
    {
      "cell_type": "markdown",
      "metadata": {
        "id": "ssnOxwogZx73"
      },
      "source": [
        "The processer has $M$ layers of InteractionNetworks"
      ]
    },
    {
      "cell_type": "code",
      "execution_count": 8,
      "metadata": {
        "id": "8lQlVqBlT8G2"
      },
      "outputs": [],
      "source": [
        "class Processor(MessagePassing):\n",
        "\n",
        "    \"\"\" Processor class for the GNN model.\n",
        "\n",
        "    The Processor is a message-passing neural network that can be used to process node and edge\n",
        "    features in a graph. It is based on the MessagePassing class from PyTorch Geometric.\n",
        "\n",
        "    Args:\n",
        "    - node_in (int): The number of input features for each node.\n",
        "    - node_out (int): The number of output features for each node.\n",
        "    - edge_in (int): The number of input features for each edge.\n",
        "    - edge_out (int): The number of output features for each edge.\n",
        "\n",
        "    Attributes:\n",
        "    - gnn_stacks (nn.ModuleList): A list of InteractionNetwork layers.\n",
        "\n",
        "    Returns:\n",
        "    - x (torch.Tensor): The updated node features.\n",
        "    - e_features (torch.Tensor): The updated edge features.\n",
        "\n",
        "    \"\"\"\n",
        "    \n",
        "    def __init__(\n",
        "        self,\n",
        "        node_in,\n",
        "        node_out,\n",
        "        edge_in,\n",
        "        edge_out,\n",
        "        num_message_passing_steps,\n",
        "        mlp_num_layers,\n",
        "        mlp_hidden_dim,\n",
        "    ):\n",
        "        super(Processor, self).__init__(aggr='max')\n",
        "        self.gnn_stacks = nn.ModuleList([\n",
        "            InteractionNetwork(\n",
        "                node_fn = nn.Sequential(*[MLP(node_in+edge_out, [mlp_hidden_dim for _ in range(mlp_num_layers)], node_out),\n",
        "                nn.LayerNorm(node_out)]),\n",
        "                edge_fn = nn.Sequential(*[MLP(node_in+node_in+edge_in, [mlp_hidden_dim for _ in range(mlp_num_layers)], edge_out),\n",
        "                nn.LayerNorm(edge_out)])\n",
        "            ) for _ in range(num_message_passing_steps)])\n",
        "\n",
        "    def forward(self, x, edge_index, e_features):\n",
        "        for gnn in self.gnn_stacks:\n",
        "            x, e_features = gnn(x, edge_index, e_features)\n",
        "        return x, e_features"
      ]
    },
    {
      "cell_type": "markdown",
      "metadata": {
        "id": "6dG5XLWUZ4Wr"
      },
      "source": [
        "Combining the encoder, processor, and decoder into a single network."
      ]
    },
    {
      "cell_type": "code",
      "execution_count": 9,
      "metadata": {
        "id": "nbmwx-L_Z2-Z"
      },
      "outputs": [],
      "source": [
        "class EncodeProcessDecode(nn.Module):\n",
        "    \"\"\" Encode-Process-Decode class for the GNN model.\n",
        "\n",
        "    The Encode-Process-Decode model is a graph neural network that consists of three main\n",
        "    components: an encoder, a processor, and a decoder. The encoder is responsible for processing\n",
        "    the input data (node and edge features) and transforming it into a form that can be used by the\n",
        "    processor block. The processor block is a message-passing neural network that can be used to\n",
        "    process node and edge features in a graph. The decoder is responsible for decoding the processed\n",
        "    data and generating the final output.\n",
        "\n",
        "    Args:\n",
        "    - node_in (int): The number of input features for each node.\n",
        "    - node_out (int): The number of output features for each node.\n",
        "    - edge_in (int): The number of input features for each edge.\n",
        "    - edge_out (int): The number of output features for each edge.\n",
        "    - latent_dim (int): The dimension of the latent space.\n",
        "    - num_message_passing_steps (int): The number of message passing steps in the processor block.\n",
        "    - mlp_num_layers (int): The number of layers in the MLP.\n",
        "    - mlp_hidden_dim (int): The number of hidden units in each layer of the MLP.\n",
        "\n",
        "    Attributes:\n",
        "    - encoder (Encoder): The encoder block.\n",
        "    - processor (Processor): The processor block.\n",
        "    - decoder (Decoder): The decoder block.\n",
        "\n",
        "    Returns:\n",
        "    - node_decoded (torch.Tensor): The decoded node features.\n",
        "    - edge_decoded (torch.Tensor): The decoded edge features.\n",
        "\n",
        "    \"\"\"\n",
        "\n",
        "    def __init__(\n",
        "        self,\n",
        "        node_in,\n",
        "        node_out,\n",
        "        edge_in,\n",
        "        edge_out,\n",
        "        latent_dim,\n",
        "        num_message_passing_steps,\n",
        "        mlp_num_layers,\n",
        "        mlp_hidden_dim,\n",
        "    ):\n",
        "        super(EncodeProcessDecode, self).__init__()\n",
        "        \n",
        "        self._encoder = Encoder(\n",
        "            node_in=node_in,\n",
        "            node_out=latent_dim,\n",
        "            edge_in=edge_in,\n",
        "            edge_out=latent_dim,\n",
        "            mlp_num_layers=mlp_num_layers,\n",
        "            mlp_hidden_dim=mlp_hidden_dim,\n",
        "        )\n",
        "\n",
        "        self._processor = Processor(\n",
        "            node_in=latent_dim,\n",
        "            node_out=latent_dim,\n",
        "            edge_in=latent_dim,\n",
        "            edge_out=latent_dim,\n",
        "            num_message_passing_steps=num_message_passing_steps,\n",
        "            mlp_num_layers=mlp_num_layers,\n",
        "            mlp_hidden_dim=mlp_hidden_dim,\n",
        "        )\n",
        "\n",
        "        self._decoder = Decoder(\n",
        "            node_in=latent_dim,\n",
        "            node_out=node_out,\n",
        "            edge_in=latent_dim,\n",
        "            edge_out=edge_out,\n",
        "            mlp_num_layers=mlp_num_layers,\n",
        "            mlp_hidden_dim=mlp_hidden_dim,\n",
        "        )\n",
        "\n",
        "    def forward(self, x, edge_index, e_features):\n",
        "        \"\"\" Forward pass through the GNN model.\n",
        "\n",
        "        Args:\n",
        "        - x (torch.Tensor): The input node features.\n",
        "        - edge_index (torch.Tensor): The edge index tensor.\n",
        "        - e_features (torch.Tensor): The input edge features.\n",
        "\n",
        "        Returns:\n",
        "        - node_decoded (torch.Tensor): The decoded node features.\n",
        "        - edge_decoded (torch.Tensor): The decoded edge features.\n",
        "\n",
        "        \"\"\"\n",
        "        x, e_features = self._encoder(x, e_features)\n",
        "        x, e_features = self._processor(x, edge_index, e_features)\n",
        "        node_decoded, edge_decoded = self._decoder(x, e_features)\n",
        "        return node_decoded, edge_decoded\n",
        "\n"
      ]
    },
    {
      "cell_type": "markdown",
      "metadata": {
        "id": "qXSUG_peZ_eB"
      },
      "source": [
        "The simulator puts it all together, from raw data to prediction. For the static case, the input is just a single 1-D array of values position values."
      ]
    },
    {
      "cell_type": "code",
      "execution_count": 138,
      "metadata": {
        "id": "Hh-PA6PxaL5a"
      },
      "outputs": [],
      "source": [
        "class Simulator(nn.Module):\n",
        "  \"\"\" Simulator class for the GNN model.\n",
        "\n",
        "  The Simulator is a graph neural network that can be used to model the behavior of a physical\n",
        "  system. It is based on the Encode-Process-Decode model.\n",
        "\n",
        "  Args:\n",
        "  - num_nodes (int): The number of nodes in the graph.\n",
        "  - num_edges (int): The number of edges in the graph.\n",
        "  - node_dimension (int): The dimension of the node features.\n",
        "  - edge_dimension (int): The dimension of the edge features.\n",
        "  - node_in (int): The number of input features for each node.\n",
        "  - edge_in (int): The number of input features for each edge.\n",
        "  - latent_dim (int): The dimension of the latent space.\n",
        "  - num_message_passing_steps (int): The number of message passing steps in the processor block.\n",
        "  - mlp_num_layers (int): The number of layers in the MLP.\n",
        "  - mlp_hidden_dim (int): The number of hidden units in each layer of the MLP.\n",
        "  - connectivity_radius (float): The radius for the connectivity graph.\n",
        "\n",
        "  Attributes:\n",
        "  - encode_process_decode (EncodeProcessDecode): The Encode-Process-Decode model.\n",
        "\n",
        "  Returns:\n",
        "  - node_decoded (torch.Tensor): The decoded node features.\n",
        "  - edge_decoded (torch.Tensor): The decoded edge features.\n",
        "\n",
        "  \"\"\"\n",
        "    def __init__(\n",
        "        self,\n",
        "        num_nodes,\n",
        "        num_edges,\n",
        "        node_dimension,\n",
        "        edge_dimension,\n",
        "        node_in,\n",
        "        edge_in,\n",
        "        latent_dim, # this is what we choose for the size of the network\n",
        "        num_message_passing_steps, # this is M\n",
        "        mlp_num_layers,\n",
        "        mlp_hidden_dim,\n",
        "        connectivity_radius,\n",
        "    ):\n",
        "        super(Simulator, self).__init__()\n",
        "        self._connectivity_radius = connectivity_radius\n",
        "\n",
        "        self._encode_process_decode = EncodeProcessDecode(\n",
        "            node_in=node_in,\n",
        "            node_out=node_dimension,\n",
        "            edge_in=edge_in,\n",
        "            edge_out=edge_dimension,\n",
        "            latent_dim=latent_dim,\n",
        "            num_message_passing_steps=num_message_passing_steps,\n",
        "            mlp_num_layers=mlp_num_layers,\n",
        "            mlp_hidden_dim=mlp_hidden_dim,\n",
        "        )\n",
        "\n",
        "    def _create_gnn_graph(self, coordinates):\n",
        "      pos = coordinates  # Use coordinates directly\n",
        "      node_features = pos\n",
        "      edge_index = radius_graph(pos, r=self._connectivity_radius, loop=False)\n",
        "      distance = torch.norm(pos[edge_index[0]] - pos[edge_index[1]], dim=1).unsqueeze(1)\n",
        "      displacement = pos[edge_index[1]] - pos[edge_index[0]]\n",
        "      edge_attr = torch.cat([distance, displacement], dim=1)\n",
        "      return node_features, edge_index, edge_attr\n",
        "\n",
        "    def _decoder_post_processor(self, node_decoded, edge_decoded):\n",
        "      \"\"\" Post-process the decoded node and edge features.\"\"\"\n",
        "\n",
        "      # Deflection at each node, (num_nodes x 1), one deflection value in meters for each node\n",
        "      u = node_decoded[:,0]\n",
        "      EI, p = node_decoded[:,1], node_decoded[:,2]\n",
        "\n",
        "      p = torch.mean(p)\n",
        "      EI = torch.mean(EI)\n",
        "\n",
        "      return u, p, EI\n",
        "\n",
        "    def forward(self, coordinates):\n",
        "      \"\"\" Forward pass through the GNN model.\n",
        "      \"\"\"\n",
        "      node_features, edge_index, e_features = self._create_gnn_graph(coordinates)\n",
        "      node_decoded, edge_decoded = self._encode_process_decode(node_features, edge_index, e_features)\n",
        "      u, p, EI = self._decoder_post_processor(node_decoded, edge_decoded)\n",
        "\n",
        "      return u, p, EI  # to be used in loss calculation\n",
        "\n"
      ]
    },
    {
      "cell_type": "markdown",
      "metadata": {
        "id": "qu4-Iynmtu0d"
      },
      "source": [
        "### Training function implementation"
      ]
    },
    {
      "cell_type": "markdown",
      "metadata": {
        "id": "vHB5xSrF26LC"
      },
      "source": [
        "We have the non-trivial task of computing the pde loss, $\\mathbf{L}_{pde}$. We'll be formulating the loss by minimizing the residual of the Euler-Bernoulli beam differential equation. This is the main way of how we enforce our (soft) physics constraint."
      ]
    },
    {
      "cell_type": "code",
      "execution_count": 140,
      "metadata": {
        "id": "7rByIGfl25Y8"
      },
      "outputs": [],
      "source": [
        "def residual_r(x, u, ei, p):\n",
        "  \"\"\" Residual function for the GNS model. PDE residual function for the beam bending problem.\n",
        "\n",
        "  Args:\n",
        "  - x (torch.Tensor): The input node features.\n",
        "  - u (torch.Tensor): The output node features.\n",
        "  - ei (torch.Tensor): The Young's modulus.\n",
        "  - p (torch.Tensor): The external load.\n",
        "\n",
        "  Returns:\n",
        "  - r (torch.Tensor): The residual tensor.\n",
        "\n",
        "  \"\"\"\n",
        "\n",
        "  u_x = torch.autograd.grad(outputs=u, inputs=x, grad_outputs=torch.ones_like(u), create_graph=True)[0]\n",
        "  if u_x is None:\n",
        "      raise RuntimeError(\"Gradient computation failed for u_x\")\n",
        "  u_xx = torch.autograd.grad(outputs=u_x, inputs=x, grad_outputs=torch.ones_like(u_x), create_graph=True)[0]\n",
        "  if u_xx is None:\n",
        "      raise RuntimeError(\"Gradient computation failed for u_xx\")\n",
        "  # e = 2e11  # Young's modulus\n",
        "  r = p * x[-1] - u_xx * ei\n",
        "  return torch.mean(torch.square(r))\n",
        "\n",
        "\n",
        "def residual_r_bc_1(x, u):\n",
        "  \"\"\" Boundary condition computation function for the fixed boundary condition.\n",
        "\n",
        "  Args:\n",
        "  - x (torch.Tensor): The input node features.\n",
        "  - u (torch.Tensor): The output node features.\n",
        "\n",
        "  Returns:\n",
        "  - r (torch.Tensor): The residual tensor.\n",
        "\n",
        "  \"\"\"\n",
        "  return torch.square(u[0])\n",
        "\n",
        "def residual_r_bc_2(x, u):\n",
        "  \"\"\" Boundary condition computation function for the fixed boundary condition.\n",
        "\n",
        "  Args:\n",
        "  - x (torch.Tensor): The input node features.\n",
        "  - u (torch.Tensor): The output node features.\n",
        "\n",
        "  Returns:\n",
        "  - r (torch.Tensor): The residual tensor.\n",
        "\n",
        "  \"\"\"\n",
        "  u_x = torch.autograd.grad(outputs=u, inputs=x, grad_outputs=torch.ones_like(u), create_graph=True)[0]\n",
        "  if u_x is None:\n",
        "      raise RuntimeError(\"Gradient computation failed for u_x\")\n",
        "  return torch.square(u_x[0])"
      ]
    },
    {
      "cell_type": "markdown",
      "metadata": {
        "id": "LvF0DWfTjWOV"
      },
      "source": [
        "We can now write our main training function to loop through a specified number of epochs."
      ]
    },
    {
      "cell_type": "code",
      "execution_count": 141,
      "metadata": {
        "id": "9UBjHWyMupqm"
      },
      "outputs": [],
      "source": [
        "def train(lr, lambda_pde,  epochs, simulator, x_data, y_data, lambda_data = 1, printouts=10):\n",
        "  \"\"\" Train the GNN model.\n",
        "\n",
        "  Args:\n",
        "  - lr (float): The learning rate.\n",
        "  - lambda_pde (float): The weight for the PDE loss.\n",
        "  - epochs (int): The number of training epochs.\n",
        "  - simulator (Simulator): The GNN model.\n",
        "  - x_data (torch.Tensor): The input data.\n",
        "  - y_data (torch.Tensor): The output data.\n",
        "  - lambda_data (float): The weight for the data loss.\n",
        "  - printouts (int): The number of printouts during training.\n",
        "\n",
        "  Returns:\n",
        "  - train_loss_data_list (list): The data loss list.\n",
        "\n",
        "  \"\"\"\n",
        "\n",
        "  loss_fn = torch.nn.MSELoss() # pure data loss\n",
        "  optimizer = torch.optim.Adam(simulator.parameters(), lr=lr)\n",
        "  scheduler = torch.optim.lr_scheduler.ExponentialLR(optimizer, gamma=0.1 ** (1 / 5e3))\n",
        "\n",
        "  # recording loss curve\n",
        "  train_loss_data_list = []\n",
        "  train_loss_pde_list = []\n",
        "  pred_history_list = []\n",
        "\n",
        "\n",
        "  for epoch in range(epochs):\n",
        "      simulator.train()\n",
        "      total_loss = 0\n",
        "      batch_count = 0\n",
        "      data = x_data.requires_grad_(True)\n",
        "      optimizer.zero_grad()\n",
        "      u, P, EI = simulator.forward(data)\n",
        "      loss_pde = residual_r(data, u, EI, P) \n",
        "\n",
        "      loss_data = loss_fn(u, y_data)*lambda_data\n",
        "\n",
        "      loss = lambda_pde * loss_pde + loss_data\n",
        "      loss.backward()\n",
        "      optimizer.step()\n",
        "      scheduler.step()\n",
        "\n",
        "      # Calculate the interval for printing the loss\n",
        "      print_interval = max(1, epochs // printouts)\n",
        "      if epoch % print_interval == 0 or epoch == epochs - 1:\n",
        "        print({\"epoch\": epoch, \"data loss\": loss_data.item(),\"pde loss\": lambda_pde*loss_pde.item(), \"lr\": optimizer.param_groups[0][\"lr\"]})\n",
        "\n",
        "      # Append losses and predictions\n",
        "      train_loss_data_list.append((epoch, loss_data.item()*lambda_data))\n",
        "      train_loss_pde_list.append((epoch, loss_pde.item()*lambda_pde))\n",
        "      u_history = u.clone().detach().cpu()\n",
        "      pred_history_list.append(u)\n",
        "\n",
        "  return train_loss_data_list, train_loss_pde_list, pred_history_list # to be used in plotting"
      ]
    },
    {
      "cell_type": "markdown",
      "metadata": {
        "id": "_8VUdp9_wxCa"
      },
      "source": [
        "\"Training\" only one set of data at a time. What we're $\\textbf{really}$ doing is optimization with soft constraints using a nonlinear model (the GNS) as the mapping from $x \\rightarrow y$ i.e.  $\\phi_{\\theta}(x) = y$.\n",
        "\n",
        "\n",
        "Let's start with this data file: \"node-disp_l=10_n=100_p=10000.csv\""
      ]
    },
    {
      "cell_type": "code",
      "execution_count": 142,
      "metadata": {
        "colab": {
          "base_uri": "https://localhost:8080/"
        },
        "id": "WXMp0TwLw5sp",
        "outputId": "734efa23-bc46-4a5e-d253-461444818d3c"
      },
      "outputs": [
        {
          "name": "stdout",
          "output_type": "stream",
          "text": [
            "torch.Size([100, 1])\n",
            "torch.Size([100, 1])\n"
          ]
        }
      ],
      "source": [
        "# Load the data\n",
        "data_df = pd.read_csv(r\"node-disp_l=100_n=100_p=100000.csv\")\n",
        "\n",
        "data_df.head()\n",
        "data_x = torch.tensor(data_df['position'].values).view(100, 1).float()\n",
        "\n",
        "print(data_x.shape)\n",
        "data_y_np = data_df['displacement'].values\n",
        "data_y = torch.tensor(data_df['displacement']).view(100, 1).float()\n",
        "print(data_y.shape)\n"
      ]
    },
    {
      "cell_type": "code",
      "execution_count": 147,
      "metadata": {
        "id": "4DTMaPB_b2-X"
      },
      "outputs": [],
      "source": [
        "# build model\n",
        "simulator = Simulator(\n",
        "    num_nodes=100,\n",
        "    num_edges=99,\n",
        "    node_dimension=3,\n",
        "    edge_dimension=2,\n",
        "    node_in=1,\n",
        "    edge_in=2,\n",
        "    latent_dim=3,\n",
        "    num_message_passing_steps=2,\n",
        "    mlp_num_layers=3,\n",
        "    mlp_hidden_dim=5,\n",
        "    connectivity_radius=1.011,\n",
        ")"
      ]
    },
    {
      "cell_type": "code",
      "execution_count": 148,
      "metadata": {
        "colab": {
          "base_uri": "https://localhost:8080/"
        },
        "collapsed": true,
        "id": "pYkjH1Puf5MD",
        "outputId": "9a0597d4-597a-429d-9020-acfdec849679"
      },
      "outputs": [
        {
          "name": "stdout",
          "output_type": "stream",
          "text": [
            "{'epoch': 0, 'data loss': 0.0, 'pde loss': 191416.5802001953, 'lr': 0.009995395890030878}\n",
            "{'epoch': 10, 'data loss': 0.0, 'pde loss': 8617.720603942871, 'lr': 0.009949471217509921}\n",
            "{'epoch': 20, 'data loss': 0.0, 'pde loss': 2430.410146713257, 'lr': 0.009903757549692468}\n",
            "{'epoch': 30, 'data loss': 0.0, 'pde loss': 3330.038547515869, 'lr': 0.009858253917099965}\n",
            "{'epoch': 40, 'data loss': 0.0, 'pde loss': 232.7713817358017, 'lr': 0.009812959354708217}\n",
            "{'epoch': 50, 'data loss': 0.0, 'pde loss': 81.14834874868393, 'lr': 0.009767872901926903}\n",
            "{'epoch': 60, 'data loss': 0.0, 'pde loss': 146.12914621829987, 'lr': 0.009722993602579218}\n",
            "{'epoch': 70, 'data loss': 0.0, 'pde loss': 51.71038210391998, 'lr': 0.00967832050488159}\n",
            "{'epoch': 80, 'data loss': 0.0, 'pde loss': 6.777804344892502, 'lr': 0.009633852661423498}\n",
            "{'epoch': 90, 'data loss': 0.0, 'pde loss': 0.03476741403574124, 'lr': 0.009589589129147372}\n",
            "{'epoch': 99, 'data loss': 0.0, 'pde loss': 1.138937775976956, 'lr': 0.009549925860214343}\n"
          ]
        }
      ],
      "source": [
        "# train the model\n",
        "train_loss_data_list, train_loss_pde_list, pred_history_list = train(lr = 1e-2,\n",
        "      epochs = 100,\n",
        "      lambda_pde = 1000,\n",
        "      lambda_data = 0,\n",
        "      simulator = simulator,\n",
        "      x_data = data_x,\n",
        "      y_data = data_y,\n",
        "      printouts=10\n",
        "      );"
      ]
    },
    {
      "cell_type": "code",
      "execution_count": 133,
      "metadata": {
        "colab": {
          "base_uri": "https://localhost:8080/"
        },
        "id": "wXYT-ckJ8fjH",
        "outputId": "f9594cdc-8aaa-4e3e-998d-c7cc12cb2b57"
      },
      "outputs": [
        {
          "name": "stdout",
          "output_type": "stream",
          "text": [
            "{'epoch': 0, 'data loss': 0.0, 'pde loss': 8.255190216004848, 'lr': 0.009995395890030878}\n",
            "{'epoch': 10, 'data loss': 0.0, 'pde loss': 9450.716018676758, 'lr': 0.009949471217509921}\n",
            "{'epoch': 20, 'data loss': 0.0, 'pde loss': 5392.145156860352, 'lr': 0.009903757549692468}\n",
            "{'epoch': 30, 'data loss': 0.0, 'pde loss': 776.5357494354248, 'lr': 0.009858253917099965}\n",
            "{'epoch': 40, 'data loss': 0.0, 'pde loss': 1.1288869427517056, 'lr': 0.009812959354708217}\n",
            "{'epoch': 50, 'data loss': 0.0, 'pde loss': 28.63355167210102, 'lr': 0.009767872901926903}\n",
            "{'epoch': 60, 'data loss': 0.0, 'pde loss': 17.826449126005173, 'lr': 0.009722993602579218}\n",
            "{'epoch': 70, 'data loss': 0.0, 'pde loss': 3.1677905935794115, 'lr': 0.00967832050488159}\n",
            "{'epoch': 80, 'data loss': 0.0, 'pde loss': 0.04661008279072121, 'lr': 0.009633852661423498}\n",
            "{'epoch': 90, 'data loss': 0.0, 'pde loss': 1.601972384378314, 'lr': 0.009589589129147372}\n",
            "{'epoch': 99, 'data loss': 0.0, 'pde loss': 0.7349454681389034, 'lr': 0.009549925860214343}\n"
          ]
        }
      ],
      "source": [
        "# train the model\n",
        "train_loss_data_list_2, train_loss_pde_list_2, pred_history_list_2 = train(lr = 1e-2,\n",
        "      epochs = 100,\n",
        "      lambda_pde = 1000,\n",
        "      lambda_data = 0,\n",
        "      simulator = simulator,\n",
        "      x_data = data_x,\n",
        "      y_data = data_y,\n",
        "      printouts=10\n",
        "      );"
      ]
    },
    {
      "cell_type": "markdown",
      "metadata": {
        "id": "dcwOfCcQjivK"
      },
      "source": [
        "We now have the history of our training/optimization stored in the two lists: train_loss_list, pred_history_list"
      ]
    },
    {
      "cell_type": "markdown",
      "metadata": {
        "id": "ULvua4sR2u1u"
      },
      "source": [
        "### Some visualization functions"
      ]
    },
    {
      "cell_type": "code",
      "execution_count": 134,
      "metadata": {
        "id": "mDxbvtUVe3NZ"
      },
      "outputs": [],
      "source": [
        "def plot_loss_curves(loss_tuple):\n",
        "  \"\"\" Plot the loss curves.\n",
        "\n",
        "  Args:\n",
        "  - loss_tuple (list): The loss tuple.\n",
        "\n",
        "  \"\"\"\n",
        "  \n",
        "  # extract the default tuple\n",
        "  epochs = [item[0] for item in loss_tuple]\n",
        "  loss = [item[1] for item in loss_tuple]\n",
        "  # Creating the plot\n",
        "  fig, ax = plt.subplots(figsize=(10,5))\n",
        "\n",
        "  # Plotting the loss curve\n",
        "  ax.semilogy(epochs, loss, linestyle='-',label='Data loss')\n",
        "\n",
        "  # Adding title and labels\n",
        "  ax.set_title('Loss Curve')\n",
        "  ax.set_xlabel('Epoch')\n",
        "  ax.set_ylabel('Loss')\n",
        "\n",
        "  # Adding a legend\n",
        "  ax.legend()\n",
        "\n",
        "  # Displaying the plot\n",
        "  plt.show()"
      ]
    },
    {
      "cell_type": "code",
      "execution_count": 135,
      "metadata": {
        "colab": {
          "base_uri": "https://localhost:8080/",
          "height": 487
        },
        "id": "e8iJMbBsnoqC",
        "outputId": "4fb79e22-613a-4324-d7a0-9fd770703e4f"
      },
      "outputs": [
        {
          "data": {
            "image/png": "[encoded data removed]",
            "text/plain": [
              "<Figure size 1000x500 with 1 Axes>"
            ]
          },
          "metadata": {},
          "output_type": "display_data"
        }
      ],
      "source": [
        "# Plot the loss curves\n",
        "plot_loss_curves(loss_tuple=train_loss_pde_list)"
      ]
    },
    {
      "cell_type": "code",
      "execution_count": 149,
      "metadata": {
        "colab": {
          "base_uri": "https://localhost:8080/",
          "height": 487
        },
        "id": "Vkd9ary4E0kR",
        "outputId": "fb243a67-8207-4496-90ed-67c678174243"
      },
      "outputs": [
        {
          "data": {
            "image/png": "[encoded data removed]",
            "text/plain": [
              "<Figure size 1000x500 with 1 Axes>"
            ]
          },
          "metadata": {},
          "output_type": "display_data"
        }
      ],
      "source": [
        "# Plot the loss curves\n",
        "plot_loss_curves(loss_tuple=train_loss_pde_list)"
      ]
    },
    {
      "cell_type": "code",
      "execution_count": 136,
      "metadata": {
        "id": "FbCqNKuuqRPx"
      },
      "outputs": [],
      "source": [
        "def plot_prediction(prediction, data_y_np, title='Prediction comparison',length=1, num_nodes=100):\n",
        "  \"\"\" Plot the prediction comparison.\n",
        "\n",
        "  Args:\n",
        "  - prediction (torch.Tensor): The prediction tensor.\n",
        "  - data_y_np (np.array): The true data.\n",
        "  - title (str): The title of the plot.\n",
        "  - length (int): The length of the beam.\n",
        "\n",
        "  \"\"\"\n",
        "  # Creating the plot\n",
        "  fig, ax = plt.subplots(figsize=(10,5))\n",
        "  beam_length = np.linspace(0, length, num_nodes)\n",
        "\n",
        "  # Plotting the prediction curve\n",
        "  ax.plot(beam_length, prediction, linestyle='-', label='Prediction')\n",
        "  # Plotting true curve\n",
        "  ax.plot(beam_length, data_y_np, linestyle='-', label='True')\n",
        "\n",
        "  # Adding title and labels\n",
        "  ax.set_title(title)\n",
        "  ax.set_xlabel('Length')\n",
        "  ax.set_ylabel('Deflection')\n",
        "\n",
        "  # Adding a legend\n",
        "  ax.legend()\n",
        "\n",
        "  # Displaying the plot\n",
        "  plt.show()"
      ]
    },
    {
      "cell_type": "code",
      "execution_count": 137,
      "metadata": {
        "colab": {
          "base_uri": "https://localhost:8080/",
          "height": 487
        },
        "id": "u0Y0QZYUrftQ",
        "outputId": "5de72533-1385-4b20-dac2-78b61b7733c7"
      },
      "outputs": [
        {
          "data": {
            "image/png": "[encoded data removed]",
            "text/plain": [
              "<Figure size 1000x500 with 1 Axes>"
            ]
          },
          "metadata": {},
          "output_type": "display_data"
        }
      ],
      "source": [
        "plot_prediction(prediction=pred_history_list[-1].cpu().detach().numpy(),\n",
        "                data_y_np=data_y_np,\n",
        "                title='Prediction comparison (only data loss)',\n",
        "                length=10)"
      ]
    },
    {
      "cell_type": "code",
      "execution_count": 150,
      "metadata": {
        "colab": {
          "base_uri": "https://localhost:8080/",
          "height": 487
        },
        "id": "9NDcOmfhE4tp",
        "outputId": "98bd0ff6-317b-4ec4-f636-c92ed4de93e7"
      },
      "outputs": [
        {
          "data": {
            "image/png": "[encoded data removed]",
            "text/plain": [
              "<Figure size 1000x500 with 1 Axes>"
            ]
          },
          "metadata": {},
          "output_type": "display_data"
        }
      ],
      "source": [
        "plot_prediction(prediction=pred_history_list[-1].cpu().detach().numpy(),\n",
        "                data_y_np=data_y_np,\n",
        "                title='Prediction comparison',\n",
        "                length=10)"
      ]
    },
    {
      "cell_type": "markdown",
      "metadata": {
        "id": "qEdyZvGTY33G"
      },
      "source": [
        "Animation code."
      ]
    },
    {
      "cell_type": "code",
      "execution_count": null,
      "metadata": {
        "id": "XmB0vytnY6C0"
      },
      "outputs": [],
      "source": [
        "import matplotlib.animation as animation"
      ]
    },
    {
      "cell_type": "code",
      "execution_count": null,
      "metadata": {
        "id": "q56NKPduY6MX"
      },
      "outputs": [],
      "source": [
        "import numpy as np\n",
        "import matplotlib.pyplot as plt\n",
        "import matplotlib.animation as animation\n",
        "\n",
        "# Function to plot prediction for a given epoch\n",
        "def plot_prediction_ani(beam_length, prediction, true_curve, epoch, ax,length,y_min, y_max):\n",
        "    ax.clear()\n",
        "    ax.plot(beam_length, prediction, linestyle='-', label='Prediction')\n",
        "    ax.plot(beam_length, true_curve, linestyle='-', label='True')\n",
        "    ax.set_title(f'Prediction comparison - Epoch {epoch + 1}')\n",
        "    ax.set_xlabel('Length')\n",
        "    ax.set_ylabel('Deflection')\n",
        "    ax.set_xlim(0, length*1.1)\n",
        "    ax.set_ylim(y_min,y_max)\n",
        "    ax.legend()\n",
        "\n",
        "# Function to create animation\n",
        "def create_animation(predictions, true_curve, length=1, num_nodes=100, interval=100):\n",
        "    fig, ax = plt.subplots(figsize=(10, 5))\n",
        "    beam_length = np.linspace(0, length, num_nodes)\n",
        "    y_min = np.min(true_curve)*1.1\n",
        "    y_max = np.max(true_curve)*1.1\n",
        "    def update(epoch):\n",
        "      # print(predictions[epoch])\n",
        "      plot_prediction_ani(beam_length, predictions[epoch], true_curve, epoch, ax,length,y_min,y_max)\n",
        "\n",
        "    ani = animation.FuncAnimation(fig, update, frames=len(predictions), interval=interval, repeat=True)\n",
        "\n",
        "    # Save animation as gif (uncomment to save)\n",
        "    ani.save('predictions.gif', writer='imagemagick')\n",
        "\n",
        "    plt.show()\n",
        "    return ani # to be used in displaying the animation\n"
      ]
    },
    {
      "cell_type": "code",
      "execution_count": null,
      "metadata": {
        "colab": {
          "base_uri": "https://localhost:8080/"
        },
        "id": "R7ByfwBBacJ-",
        "outputId": "687b787f-62dd-4e6a-a35b-9c86ae05d7ab"
      },
      "outputs": [
        {
          "name": "stderr",
          "output_type": "stream",
          "text": [
            "WARNING:matplotlib.animation:MovieWriter imagemagick unavailable; using Pillow instead.\n"
          ]
        }
      ],
      "source": [
        "# Example data preparation\n",
        "num_epochs = len(pred_history_list)  # Number of epochs based on your data\n",
        "num_nodes = 100  # Adjust as needed\n",
        "length = 100  # Your specific length\n",
        "\n",
        "# Extract predictions from your history list\n",
        "predictions = [pred.cpu().detach().numpy() for pred in pred_history_list]\n",
        "\n",
        "# Example true curve (adjust based on your specific data)\n",
        "true_curve = data_y_np\n",
        "\n",
        "# Create animation\n",
        "create_animation(predictions, true_curve, length, num_nodes)"
      ]
    }
  ],
  "metadata": {
    "accelerator": "GPU",
    "colab": {
      "gpuType": "T4",
      "provenance": []
    },
    "kernelspec": {
      "display_name": "Python 3",
      "name": "python3"
    },
    "language_info": {
      "codemirror_mode": {
        "name": "ipython",
        "version": 3
      },
      "file_extension": ".py",
      "mimetype": "text/x-python",
      "name": "python",
      "nbconvert_exporter": "python",
      "pygments_lexer": "ipython3",
      "version": "3.12.4"
    }
  },
  "nbformat": 4,
  "nbformat_minor": 0
}
