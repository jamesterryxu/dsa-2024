{
 "cells": [
  {
   "cell_type": "code",
   "execution_count": 10,
   "id": "9ee49b8c",
   "metadata": {},
   "outputs": [],
   "source": [
    "import pandas as pd\n",
    "import numpy as np\n",
    "import os\n",
    "import json"
   ]
  },
  {
   "cell_type": "code",
   "execution_count": 2,
   "id": "b4bd4803",
   "metadata": {},
   "outputs": [],
   "source": [
    "# Define the function to append the column\n",
    "def append_column_to_files(folder, column_name, value):\n",
    "    # Iterate over all CSV files in the folder\n",
    "    for file_name in os.listdir(folder):\n",
    "        if file_name.endswith(\".csv\"):\n",
    "            file_path = os.path.join(folder, file_name)\n",
    "            try:\n",
    "                # Load the CSV file\n",
    "                df = pd.read_csv(file_path)\n",
    "                \n",
    "                # Append the new column with the specified value\n",
    "                df[column_name] = value\n",
    "                \n",
    "                # Save the updated DataFrame back to the same file\n",
    "                df.to_csv(file_path, index=False)\n",
    "                print(f\"Appended column to {file_path}\")\n",
    "            except Exception as e:\n",
    "                print(f\"Failed to append column to {file_path}: {e}\")\n"
   ]
  },
  {
   "cell_type": "code",
   "execution_count": 4,
   "id": "17eb0729",
   "metadata": {},
   "outputs": [
    {
     "name": "stdout",
     "output_type": "stream",
     "text": [
      "Appended column to C:\\Users\\yomid\\Downloads\\dsa-2024-main (1)\\dsa-2024-main\\data\\n=100_l=5_varying_p\\node-disp_l=5_n=100_p=1.csv\n",
      "Appended column to C:\\Users\\yomid\\Downloads\\dsa-2024-main (1)\\dsa-2024-main\\data\\n=100_l=5_varying_p\\node-disp_l=5_n=100_p=10.csv\n",
      "Appended column to C:\\Users\\yomid\\Downloads\\dsa-2024-main (1)\\dsa-2024-main\\data\\n=100_l=5_varying_p\\node-disp_l=5_n=100_p=2.csv\n",
      "Appended column to C:\\Users\\yomid\\Downloads\\dsa-2024-main (1)\\dsa-2024-main\\data\\n=100_l=5_varying_p\\node-disp_l=5_n=100_p=3.csv\n",
      "Appended column to C:\\Users\\yomid\\Downloads\\dsa-2024-main (1)\\dsa-2024-main\\data\\n=100_l=5_varying_p\\node-disp_l=5_n=100_p=4.csv\n",
      "Appended column to C:\\Users\\yomid\\Downloads\\dsa-2024-main (1)\\dsa-2024-main\\data\\n=100_l=5_varying_p\\node-disp_l=5_n=100_p=5.csv\n",
      "Appended column to C:\\Users\\yomid\\Downloads\\dsa-2024-main (1)\\dsa-2024-main\\data\\n=100_l=5_varying_p\\node-disp_l=5_n=100_p=6.csv\n",
      "Appended column to C:\\Users\\yomid\\Downloads\\dsa-2024-main (1)\\dsa-2024-main\\data\\n=100_l=5_varying_p\\node-disp_l=5_n=100_p=7.csv\n",
      "Appended column to C:\\Users\\yomid\\Downloads\\dsa-2024-main (1)\\dsa-2024-main\\data\\n=100_l=5_varying_p\\node-disp_l=5_n=100_p=8.csv\n",
      "Appended column to C:\\Users\\yomid\\Downloads\\dsa-2024-main (1)\\dsa-2024-main\\data\\n=100_l=5_varying_p\\node-disp_l=5_n=100_p=9.csv\n"
     ]
    }
   ],
   "source": [
    "# Varying P\n",
    "# Specify the folder and parameters\n",
    "column_folder = r\"C:\\Users\\yomid\\Downloads\\dsa-2024-main (1)\\dsa-2024-main\\data\\n=100_l=5_varying_p\"\n",
    "column_name = 'Modulus of Elasticity'  # Replace with the desired column name\n",
    "value = '300'  # Replace with the desired value\n",
    "\n",
    "# Call the function\n",
    "append_column_to_files(column_folder, column_name, value)"
   ]
  },
  {
   "cell_type": "code",
   "execution_count": 5,
   "id": "51e1e878",
   "metadata": {},
   "outputs": [
    {
     "name": "stdout",
     "output_type": "stream",
     "text": [
      "Appended column to C:\\Users\\yomid\\Downloads\\dsa-2024-main (1)\\dsa-2024-main\\data\\n=100_p=1_varying_l\\node-disp_l=10_n=100_p=1.csv\n",
      "Appended column to C:\\Users\\yomid\\Downloads\\dsa-2024-main (1)\\dsa-2024-main\\data\\n=100_p=1_varying_l\\node-disp_l=1_n=100_p=1.csv\n",
      "Appended column to C:\\Users\\yomid\\Downloads\\dsa-2024-main (1)\\dsa-2024-main\\data\\n=100_p=1_varying_l\\node-disp_l=2_n=100_p=1.csv\n",
      "Appended column to C:\\Users\\yomid\\Downloads\\dsa-2024-main (1)\\dsa-2024-main\\data\\n=100_p=1_varying_l\\node-disp_l=3_n=100_p=1.csv\n",
      "Appended column to C:\\Users\\yomid\\Downloads\\dsa-2024-main (1)\\dsa-2024-main\\data\\n=100_p=1_varying_l\\node-disp_l=4_n=100_p=1.csv\n",
      "Appended column to C:\\Users\\yomid\\Downloads\\dsa-2024-main (1)\\dsa-2024-main\\data\\n=100_p=1_varying_l\\node-disp_l=5_n=100_p=1.csv\n",
      "Appended column to C:\\Users\\yomid\\Downloads\\dsa-2024-main (1)\\dsa-2024-main\\data\\n=100_p=1_varying_l\\node-disp_l=6_n=100_p=1.csv\n",
      "Appended column to C:\\Users\\yomid\\Downloads\\dsa-2024-main (1)\\dsa-2024-main\\data\\n=100_p=1_varying_l\\node-disp_l=7_n=100_p=1.csv\n",
      "Appended column to C:\\Users\\yomid\\Downloads\\dsa-2024-main (1)\\dsa-2024-main\\data\\n=100_p=1_varying_l\\node-disp_l=8_n=100_p=1.csv\n",
      "Appended column to C:\\Users\\yomid\\Downloads\\dsa-2024-main (1)\\dsa-2024-main\\data\\n=100_p=1_varying_l\\node-disp_l=9_n=100_p=1.csv\n"
     ]
    }
   ],
   "source": [
    "# Varying L-1, P=1\n",
    "column_folder = r\"C:\\Users\\yomid\\Downloads\\dsa-2024-main (1)\\dsa-2024-main\\data\\n=100_p=1_varying_l\"\n",
    "column_name = 'Modulus of Elasticity'  # Replace with the desired column name\n",
    "value = '300'  # Replace with the desired value\n",
    "\n",
    "# Call the function\n",
    "append_column_to_files(column_folder, column_name, value)"
   ]
  },
  {
   "cell_type": "code",
   "execution_count": 6,
   "id": "74e35f4a",
   "metadata": {},
   "outputs": [
    {
     "name": "stdout",
     "output_type": "stream",
     "text": [
      "Appended column to C:\\Users\\yomid\\Downloads\\dsa-2024-main (1)\\dsa-2024-main\\data\\n=100_p=2_varying_l\\node-disp_l=10_n=100_p=2.csv\n",
      "Appended column to C:\\Users\\yomid\\Downloads\\dsa-2024-main (1)\\dsa-2024-main\\data\\n=100_p=2_varying_l\\node-disp_l=1_n=100_p=2.csv\n",
      "Appended column to C:\\Users\\yomid\\Downloads\\dsa-2024-main (1)\\dsa-2024-main\\data\\n=100_p=2_varying_l\\node-disp_l=2_n=100_p=2.csv\n",
      "Appended column to C:\\Users\\yomid\\Downloads\\dsa-2024-main (1)\\dsa-2024-main\\data\\n=100_p=2_varying_l\\node-disp_l=3_n=100_p=2.csv\n",
      "Appended column to C:\\Users\\yomid\\Downloads\\dsa-2024-main (1)\\dsa-2024-main\\data\\n=100_p=2_varying_l\\node-disp_l=4_n=100_p=2.csv\n",
      "Appended column to C:\\Users\\yomid\\Downloads\\dsa-2024-main (1)\\dsa-2024-main\\data\\n=100_p=2_varying_l\\node-disp_l=5_n=100_p=2.csv\n",
      "Appended column to C:\\Users\\yomid\\Downloads\\dsa-2024-main (1)\\dsa-2024-main\\data\\n=100_p=2_varying_l\\node-disp_l=6_n=100_p=2.csv\n",
      "Appended column to C:\\Users\\yomid\\Downloads\\dsa-2024-main (1)\\dsa-2024-main\\data\\n=100_p=2_varying_l\\node-disp_l=7_n=100_p=2.csv\n",
      "Appended column to C:\\Users\\yomid\\Downloads\\dsa-2024-main (1)\\dsa-2024-main\\data\\n=100_p=2_varying_l\\node-disp_l=8_n=100_p=2.csv\n",
      "Appended column to C:\\Users\\yomid\\Downloads\\dsa-2024-main (1)\\dsa-2024-main\\data\\n=100_p=2_varying_l\\node-disp_l=9_n=100_p=2.csv\n"
     ]
    }
   ],
   "source": [
    "# Varying L_2, P= 2\n",
    "column_folder = r\"C:\\Users\\yomid\\Downloads\\dsa-2024-main (1)\\dsa-2024-main\\data\\n=100_p=2_varying_l\"\n",
    "column_name = 'Modulus of Elasticity'  # Replace with the desired column name\n",
    "value = '300'  # Replace with the desired value\n",
    "\n",
    "# Call the function\n",
    "append_column_to_files(column_folder, column_name, value)"
   ]
  },
  {
   "cell_type": "code",
   "execution_count": 14,
   "id": "fc3e24b3",
   "metadata": {},
   "outputs": [],
   "source": [
    "# # Define the function to process files and store columns as vectors and last column as a single value in JSON format\n",
    "# def files_to_json(folder, output_file_path):\n",
    "#     all_vectors = []\n",
    "    \n",
    "#     # Iterate over all CSV files in the folder\n",
    "#     for file_name in os.listdir(folder):\n",
    "#         if file_name.endswith(\".csv\"):\n",
    "#             file_path = os.path.join(folder, file_name)\n",
    "#             try:\n",
    "#                 # Load the CSV file\n",
    "#                 df = pd.read_csv(file_path)\n",
    "                \n",
    "#                 # Convert DataFrame columns to lists, ensuring all values are Python-native\n",
    "#                 vectors = [df[col].astype(float).tolist() for col in df.columns[:-1]]\n",
    "#                 last_value = float(df[df.columns[-1]].iloc[0])  # Assuming the last column has the same value for all rows\n",
    "                \n",
    "#                 # Append the list of column vectors and last column value to all_vectors\n",
    "#                 all_vectors.append(vectors + [[last_value]])\n",
    "#                 print(f\"Processed {file_path}\")\n",
    "#             except Exception as e:\n",
    "#                 print(f\"Failed to process {file_path}: {e}\")\n",
    "    \n",
    "#     # Save the vectors to a JSON file\n",
    "#     try:\n",
    "#         with open(output_file_path, 'w') as f:\n",
    "#             json.dump(all_vectors, f, indent=4)  # 'indent=4' for pretty-printing\n",
    "#         print(f\"Vectors saved to {output_file_path}\")\n",
    "#     except Exception as e:\n",
    "#         print(f\"Failed to save JSON file: {e}\")\n"
   ]
  },
  {
   "cell_type": "code",
   "execution_count": 20,
   "id": "33296bbf",
   "metadata": {},
   "outputs": [],
   "source": [
    "import os\n",
    "import pandas as pd\n",
    "import json\n",
    "\n",
    "# Define the function to process files and store columns as vectors with specific formatting\n",
    "def files_to_json(folder, output_file_path):\n",
    "    all_vectors = []\n",
    "    \n",
    "    # Iterate over all CSV files in the folder\n",
    "    for file_name in os.listdir(folder):\n",
    "        if file_name.endswith(\".csv\"):\n",
    "            file_path = os.path.join(folder, file_name)\n",
    "            try:\n",
    "                # Load the CSV file\n",
    "                df = pd.read_csv(file_path)\n",
    "                \n",
    "                # Convert the second column to the desired format: [value, 0]\n",
    "                if df.shape[1] > 1:  # Ensure there is at least a second column\n",
    "                    second_column_formatted = [[float(value), 0.0] for value in df.iloc[:, 1]]\n",
    "                else:\n",
    "                    second_column_formatted = []\n",
    "\n",
    "                # Convert other DataFrame columns to lists of floats\n",
    "                vectors = [df[col].astype(float).tolist() for col in df.columns[:-1]]\n",
    "                \n",
    "                # Ensure that the last column is a single value (same for all rows)\n",
    "                last_value = float(df[df.columns[-1]].iloc[0])\n",
    "                \n",
    "                # Append the formatted second column, other column vectors, and last column value to all_vectors\n",
    "                all_vectors.append([second_column_formatted] + vectors + [[last_value]])\n",
    "                print(f\"Processed {file_path}\")\n",
    "            except Exception as e:\n",
    "                print(f\"Failed to process {file_path}: {e}\")\n",
    "    \n",
    "    # Save the vectors to a JSON file\n",
    "    try:\n",
    "        with open(output_file_path, 'w') as f:\n",
    "            json.dump(all_vectors, f, indent=4)  # 'indent=4' for pretty-printing\n",
    "        print(f\"Vectors saved to {output_file_path}\")\n",
    "    except Exception as e:\n",
    "        print(f\"Failed to save JSON file: {e}\")"
   ]
  },
  {
   "cell_type": "code",
   "execution_count": 26,
   "id": "22fbe50c",
   "metadata": {},
   "outputs": [],
   "source": [
    "import os\n",
    "import pandas as pd\n",
    "import json\n",
    "\n",
    "# Define the function to process files and store columns as vectors with specific formatting\n",
    "def files_to_json(folder, output_file_path):\n",
    "    all_vectors = []\n",
    "    \n",
    "    # Iterate over all CSV files in the folder\n",
    "    for file_name in os.listdir(folder):\n",
    "        if file_name.endswith(\".csv\"):\n",
    "            file_path = os.path.join(folder, file_name)\n",
    "            try:\n",
    "                # Load the CSV file\n",
    "                df = pd.read_csv(file_path)\n",
    "                \n",
    "                # Ensure there are at least three columns\n",
    "                if df.shape[1] >= 3:\n",
    "                    # Convert columns to lists of floats\n",
    "                    first_column = df.iloc[:, 0].astype(float).tolist()\n",
    "                    second_column_formatted = [[float(value), 0.0] for value in df.iloc[:, 1]]\n",
    "                    third_column = df.iloc[:, 2].astype(float).tolist()\n",
    "                    \n",
    "                    # Ensure that the last column is a single value (same for all rows)\n",
    "                    last_value = float(df[df.columns[-1]].iloc[0])\n",
    "                    \n",
    "                    # Append the columns in the desired order\n",
    "                    all_vectors.append([first_column, second_column_formatted, [last_value]])\n",
    "                    print(f\"Processed {file_path}\")\n",
    "                else:\n",
    "                    print(f\"{file_path} does not have enough columns.\")\n",
    "            except Exception as e:\n",
    "                print(f\"Failed to process {file_path}: {e}\")\n",
    "    \n",
    "    # Save the vectors to a JSON file\n",
    "    try:\n",
    "        with open(output_file_path, 'w') as f:\n",
    "            json.dump(all_vectors, f, indent=4)  # 'indent=4' for pretty-printing\n",
    "        print(f\"Vectors saved to {output_file_path}\")\n",
    "    except Exception as e:\n",
    "        print(f\"Failed to save JSON file: {e}\")\n"
   ]
  },
  {
   "cell_type": "code",
   "execution_count": 27,
   "id": "f3dfcc8c",
   "metadata": {},
   "outputs": [
    {
     "name": "stdout",
     "output_type": "stream",
     "text": [
      "Processed C:\\Users\\yomid\\Downloads\\dsa-2024-main (1)\\dsa-2024-main\\data\\n=100_l=5_varying_p\\node-disp_l=5_n=100_p=1.csv\n",
      "Processed C:\\Users\\yomid\\Downloads\\dsa-2024-main (1)\\dsa-2024-main\\data\\n=100_l=5_varying_p\\node-disp_l=5_n=100_p=10.csv\n",
      "Processed C:\\Users\\yomid\\Downloads\\dsa-2024-main (1)\\dsa-2024-main\\data\\n=100_l=5_varying_p\\node-disp_l=5_n=100_p=2.csv\n",
      "Processed C:\\Users\\yomid\\Downloads\\dsa-2024-main (1)\\dsa-2024-main\\data\\n=100_l=5_varying_p\\node-disp_l=5_n=100_p=3.csv\n",
      "Processed C:\\Users\\yomid\\Downloads\\dsa-2024-main (1)\\dsa-2024-main\\data\\n=100_l=5_varying_p\\node-disp_l=5_n=100_p=4.csv\n",
      "Processed C:\\Users\\yomid\\Downloads\\dsa-2024-main (1)\\dsa-2024-main\\data\\n=100_l=5_varying_p\\node-disp_l=5_n=100_p=5.csv\n",
      "Processed C:\\Users\\yomid\\Downloads\\dsa-2024-main (1)\\dsa-2024-main\\data\\n=100_l=5_varying_p\\node-disp_l=5_n=100_p=6.csv\n",
      "Processed C:\\Users\\yomid\\Downloads\\dsa-2024-main (1)\\dsa-2024-main\\data\\n=100_l=5_varying_p\\node-disp_l=5_n=100_p=7.csv\n",
      "Processed C:\\Users\\yomid\\Downloads\\dsa-2024-main (1)\\dsa-2024-main\\data\\n=100_l=5_varying_p\\node-disp_l=5_n=100_p=8.csv\n",
      "Processed C:\\Users\\yomid\\Downloads\\dsa-2024-main (1)\\dsa-2024-main\\data\\n=100_l=5_varying_p\\node-disp_l=5_n=100_p=9.csv\n",
      "Vectors saved to C:\\Users\\yomid\\Downloads\\dsa-2024-main (1)\\dsa-2024-main\\data\\n=100_l=5_varying_p\\vectors.json\n"
     ]
    }
   ],
   "source": [
    "# Specify the folder and output file path\n",
    "data_folder = r\"C:\\Users\\yomid\\Downloads\\dsa-2024-main (1)\\dsa-2024-main\\data\\n=100_l=5_varying_p\"\n",
    "json_output_file_path = os.path.join(data_folder, 'vectors.json')\n",
    "\n",
    "# Call the function and save as JSON\n",
    "files_to_json(data_folder, json_output_file_path)"
   ]
  },
  {
   "cell_type": "code",
   "execution_count": 28,
   "id": "25d0aad0",
   "metadata": {},
   "outputs": [
    {
     "name": "stdout",
     "output_type": "stream",
     "text": [
      "Processed C:\\Users\\yomid\\Downloads\\dsa-2024-main (1)\\dsa-2024-main\\data\\n=100_p=1_varying_l\\node-disp_l=10_n=100_p=1.csv\n",
      "Processed C:\\Users\\yomid\\Downloads\\dsa-2024-main (1)\\dsa-2024-main\\data\\n=100_p=1_varying_l\\node-disp_l=1_n=100_p=1.csv\n",
      "Processed C:\\Users\\yomid\\Downloads\\dsa-2024-main (1)\\dsa-2024-main\\data\\n=100_p=1_varying_l\\node-disp_l=2_n=100_p=1.csv\n",
      "Processed C:\\Users\\yomid\\Downloads\\dsa-2024-main (1)\\dsa-2024-main\\data\\n=100_p=1_varying_l\\node-disp_l=3_n=100_p=1.csv\n",
      "Processed C:\\Users\\yomid\\Downloads\\dsa-2024-main (1)\\dsa-2024-main\\data\\n=100_p=1_varying_l\\node-disp_l=4_n=100_p=1.csv\n",
      "Processed C:\\Users\\yomid\\Downloads\\dsa-2024-main (1)\\dsa-2024-main\\data\\n=100_p=1_varying_l\\node-disp_l=5_n=100_p=1.csv\n",
      "Processed C:\\Users\\yomid\\Downloads\\dsa-2024-main (1)\\dsa-2024-main\\data\\n=100_p=1_varying_l\\node-disp_l=6_n=100_p=1.csv\n",
      "Processed C:\\Users\\yomid\\Downloads\\dsa-2024-main (1)\\dsa-2024-main\\data\\n=100_p=1_varying_l\\node-disp_l=7_n=100_p=1.csv\n",
      "Processed C:\\Users\\yomid\\Downloads\\dsa-2024-main (1)\\dsa-2024-main\\data\\n=100_p=1_varying_l\\node-disp_l=8_n=100_p=1.csv\n",
      "Processed C:\\Users\\yomid\\Downloads\\dsa-2024-main (1)\\dsa-2024-main\\data\\n=100_p=1_varying_l\\node-disp_l=9_n=100_p=1.csv\n",
      "Vectors saved to C:\\Users\\yomid\\Downloads\\dsa-2024-main (1)\\dsa-2024-main\\data\\n=100_p=1_varying_l\\vectors.json\n"
     ]
    }
   ],
   "source": [
    "# Specify the folder and output file path\n",
    "data_folder = r\"C:\\Users\\yomid\\Downloads\\dsa-2024-main (1)\\dsa-2024-main\\data\\n=100_p=1_varying_l\"\n",
    "json_output_file_path = os.path.join(data_folder, 'vectors.json')\n",
    "\n",
    "# Call the function and save as JSON\n",
    "files_to_json(data_folder, json_output_file_path)"
   ]
  },
  {
   "cell_type": "code",
   "execution_count": 29,
   "id": "9a573fec",
   "metadata": {},
   "outputs": [
    {
     "name": "stdout",
     "output_type": "stream",
     "text": [
      "Processed C:\\Users\\yomid\\Downloads\\dsa-2024-main (1)\\dsa-2024-main\\data\\n=100_p=2_varying_l\\node-disp_l=10_n=100_p=2.csv\n",
      "Processed C:\\Users\\yomid\\Downloads\\dsa-2024-main (1)\\dsa-2024-main\\data\\n=100_p=2_varying_l\\node-disp_l=1_n=100_p=2.csv\n",
      "Processed C:\\Users\\yomid\\Downloads\\dsa-2024-main (1)\\dsa-2024-main\\data\\n=100_p=2_varying_l\\node-disp_l=2_n=100_p=2.csv\n",
      "Processed C:\\Users\\yomid\\Downloads\\dsa-2024-main (1)\\dsa-2024-main\\data\\n=100_p=2_varying_l\\node-disp_l=3_n=100_p=2.csv\n",
      "Processed C:\\Users\\yomid\\Downloads\\dsa-2024-main (1)\\dsa-2024-main\\data\\n=100_p=2_varying_l\\node-disp_l=4_n=100_p=2.csv\n",
      "Processed C:\\Users\\yomid\\Downloads\\dsa-2024-main (1)\\dsa-2024-main\\data\\n=100_p=2_varying_l\\node-disp_l=5_n=100_p=2.csv\n",
      "Processed C:\\Users\\yomid\\Downloads\\dsa-2024-main (1)\\dsa-2024-main\\data\\n=100_p=2_varying_l\\node-disp_l=6_n=100_p=2.csv\n",
      "Processed C:\\Users\\yomid\\Downloads\\dsa-2024-main (1)\\dsa-2024-main\\data\\n=100_p=2_varying_l\\node-disp_l=7_n=100_p=2.csv\n",
      "Processed C:\\Users\\yomid\\Downloads\\dsa-2024-main (1)\\dsa-2024-main\\data\\n=100_p=2_varying_l\\node-disp_l=8_n=100_p=2.csv\n",
      "Processed C:\\Users\\yomid\\Downloads\\dsa-2024-main (1)\\dsa-2024-main\\data\\n=100_p=2_varying_l\\node-disp_l=9_n=100_p=2.csv\n",
      "Vectors saved to C:\\Users\\yomid\\Downloads\\dsa-2024-main (1)\\dsa-2024-main\\data\\n=100_p=2_varying_l\\vectors.json\n"
     ]
    }
   ],
   "source": [
    "# Specify the folder and output file path\n",
    "data_folder = r\"C:\\Users\\yomid\\Downloads\\dsa-2024-main (1)\\dsa-2024-main\\data\\n=100_p=2_varying_l\"\n",
    "json_output_file_path = os.path.join(data_folder, 'vectors.json')\n",
    "\n",
    "# Call the function and save as JSON\n",
    "files_to_json(data_folder, json_output_file_path)"
   ]
  },
  {
   "cell_type": "code",
   "execution_count": null,
   "id": "88652422",
   "metadata": {},
   "outputs": [],
   "source": [
    "# import os\n",
    "# import pandas as pd\n",
    "\n",
    "# # Define the function to process files and store each column as a separate vector in a text file\n",
    "# def files_to_text(folder, output_file_path):\n",
    "#     all_vectors = []\n",
    "    \n",
    "#     # Iterate over all CSV files in the folder\n",
    "#     for file_name in os.listdir(folder):\n",
    "#         if file_name.endswith(\".csv\"):\n",
    "#             file_path = os.path.join(folder, file_name)\n",
    "#             try:\n",
    "#                 # Load the CSV file\n",
    "#                 df = pd.read_csv(file_path)\n",
    "                \n",
    "#                 # Extract each column as a vector\n",
    "#                 vectors = [df[col].tolist() for col in df.columns]\n",
    "                \n",
    "#                 # Append the list of column vectors to all_vectors\n",
    "#                 all_vectors.append(vectors)\n",
    "#                 print(f\"Processed {file_path}\")\n",
    "#             except Exception as e:\n",
    "#                 print(f\"Failed to process {file_path}: {e}\")\n",
    "    \n",
    "#     # Save the vectors to a text file in vector format\n",
    "#     with open(output_file_path, 'w') as f:\n",
    "#         f.write(str(all_vectors).replace('], [', ']\\n[').replace('][', ']\\n['))  # Formatting to match the desired output\n",
    "\n",
    "# # Specify the folder and output file path\n",
    "# data_folder = r\"C:\\Users\\yomid\\Downloads\\dsa-2024-main (1)\\dsa-2024-main\\data\\data\\output_fold_disp\"\n",
    "# text_output_file_path = os.path.join(data_folder, 'vectors.txt')\n",
    "\n",
    "# # Call the function and save as text\n",
    "# files_to_text(data_folder, text_output_file_path)\n",
    "# print(f\"Vectors saved to {text_output_file_path}\")\n"
   ]
  },
  {
   "cell_type": "code",
   "execution_count": null,
   "id": "109e8e79",
   "metadata": {},
   "outputs": [],
   "source": []
  }
 ],
 "metadata": {
  "kernelspec": {
   "display_name": "Python 3 (ipykernel)",
   "language": "python",
   "name": "python3"
  },
  "language_info": {
   "codemirror_mode": {
    "name": "ipython",
    "version": 3
   },
   "file_extension": ".py",
   "mimetype": "text/x-python",
   "name": "python",
   "nbconvert_exporter": "python",
   "pygments_lexer": "ipython3",
   "version": "3.11.5"
  }
 },
 "nbformat": 4,
 "nbformat_minor": 5
}
